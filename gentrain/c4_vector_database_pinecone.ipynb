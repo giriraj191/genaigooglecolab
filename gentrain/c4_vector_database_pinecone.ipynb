{
  "cells": [
    {
      "cell_type": "markdown",
      "source": [
        "# Vector Database | PineconeDB"
      ],
      "metadata": {
        "id": "97Xpe3hFNlhE"
      }
    },
    {
      "cell_type": "markdown",
      "source": [
        "Installations"
      ],
      "metadata": {
        "id": "AfZrih6aOJ7B"
      }
    },
    {
      "cell_type": "code",
      "source": [
        "!pip install pinecone"
      ],
      "metadata": {
        "id": "EOj_yzm3PfYR"
      },
      "execution_count": 56,
      "outputs": []
    },
    {
      "cell_type": "code",
      "source": [
        "!pip install pypdf"
      ],
      "metadata": {
        "id": "ie9L2_nzTJQV"
      },
      "execution_count": null,
      "outputs": []
    },
    {
      "cell_type": "code",
      "source": [
        "!pip install langchain-community langchain-mistralai"
      ],
      "metadata": {
        "id": "1IqqL-wMRX7a"
      },
      "execution_count": null,
      "outputs": []
    },
    {
      "cell_type": "code",
      "source": [
        "!pip install langchain-pinecone"
      ],
      "metadata": {
        "id": "ChS2ZKgAOJqE"
      },
      "execution_count": null,
      "outputs": []
    },
    {
      "cell_type": "code",
      "source": [
        "!pip install langchain_pinecone"
      ],
      "metadata": {
        "id": "uTHBV1rDab-f"
      },
      "execution_count": null,
      "outputs": []
    },
    {
      "cell_type": "code",
      "source": [
        "!pip install --upgrade langchain_community"
      ],
      "metadata": {
        "id": "ft-xc80LZzBz"
      },
      "execution_count": null,
      "outputs": []
    },
    {
      "cell_type": "markdown",
      "source": [
        "Imports"
      ],
      "metadata": {
        "id": "AQ_hFINTOLb2"
      }
    },
    {
      "cell_type": "code",
      "source": [
        "import os\n",
        "import time\n",
        "from typing import List\n",
        "from uuid import uuid4\n",
        "from google.colab import userdata\n",
        "from langchain.document_loaders import PyPDFLoader\n",
        "from langchain.text_splitter import RecursiveCharacterTextSplitter\n",
        "from langchain.embeddings import HuggingFaceEmbeddings\n",
        "from langchain.vectorstores import Pinecone\n",
        "from langchain.chains import RetrievalQA\n",
        "from langchain_mistralai.chat_models import ChatMistralAI\n",
        "from langchain_core.documents import Document\n",
        "from langchain_pinecone import PineconeVectorStore\n",
        "from pinecone import Pinecone, ServerlessSpec"
      ],
      "metadata": {
        "id": "MHuaxlBZOIko"
      },
      "execution_count": 67,
      "outputs": []
    },
    {
      "cell_type": "markdown",
      "source": [
        "Setup Variables"
      ],
      "metadata": {
        "id": "iJP7pN0YPHcS"
      }
    },
    {
      "cell_type": "code",
      "source": [
        "PINECONE_API_KEY = userdata.get('PINECONE_API_KEY')\n",
        "MISTRAL_API_KEY = userdata.get('MISTRAL_API_KEY')"
      ],
      "metadata": {
        "id": "XO-fCQOdPJdE"
      },
      "execution_count": 68,
      "outputs": []
    },
    {
      "cell_type": "markdown",
      "source": [
        "## By Using LangChain"
      ],
      "metadata": {
        "id": "Mscry9BJN7kk"
      }
    },
    {
      "cell_type": "code",
      "source": [
        "loader = PyPDFLoader(\"/content/data/Accenture-Terms-Conditions-2022.pdf\")\n",
        "pages = loader.load()\n",
        "len(pages)"
      ],
      "metadata": {
        "id": "g8sEnQ6MNo_p",
        "outputId": "a63949b3-fa47-4319-defa-31f6ecc82666",
        "colab": {
          "base_uri": "https://localhost:8080/"
        }
      },
      "execution_count": null,
      "outputs": [
        {
          "output_type": "execute_result",
          "data": {
            "text/plain": [
              "25"
            ]
          },
          "metadata": {},
          "execution_count": 18
        }
      ]
    },
    {
      "cell_type": "code",
      "source": [
        "text_splitter = RecursiveCharacterTextSplitter(\n",
        "    chunk_size=1000,\n",
        "    chunk_overlap=100\n",
        ")"
      ],
      "metadata": {
        "id": "_D6r57MpT6by"
      },
      "execution_count": null,
      "outputs": []
    },
    {
      "cell_type": "code",
      "source": [
        "docs = text_splitter.split_documents(pages)\n",
        "len(docs)"
      ],
      "metadata": {
        "id": "I3ZK4I09UqHm",
        "outputId": "bbdf5bb7-6ea5-40af-bb01-34883b5fd133",
        "colab": {
          "base_uri": "https://localhost:8080/"
        }
      },
      "execution_count": null,
      "outputs": [
        {
          "output_type": "execute_result",
          "data": {
            "text/plain": [
              "156"
            ]
          },
          "metadata": {},
          "execution_count": 34
        }
      ]
    },
    {
      "cell_type": "code",
      "source": [
        "pc = Pinecone(api_key=PINECONE_API_KEY)\n",
        "index_name = 'test-index'"
      ],
      "metadata": {
        "id": "YN_kl-41ScpL"
      },
      "execution_count": null,
      "outputs": []
    },
    {
      "cell_type": "code",
      "source": [
        "embeddings = HuggingFaceEmbeddings(model_name=\"sentence-transformers/all-mpnet-base-v2\")"
      ],
      "metadata": {
        "id": "AXfv4LrXSfe0"
      },
      "execution_count": null,
      "outputs": []
    },
    {
      "cell_type": "markdown",
      "source": [
        "*It may take some time as model will be downloaded locally*"
      ],
      "metadata": {
        "id": "o0azUzyvTcSB"
      }
    },
    {
      "cell_type": "code",
      "source": [
        "existing_indexes = [index_info[\"name\"] for index_info in pc.list_indexes()]\n",
        "existing_indexes"
      ],
      "metadata": {
        "id": "qkuJTyDAVetJ",
        "outputId": "65af2da1-c061-4e47-d3aa-55e844a42b3f",
        "colab": {
          "base_uri": "https://localhost:8080/"
        }
      },
      "execution_count": null,
      "outputs": [
        {
          "output_type": "execute_result",
          "data": {
            "text/plain": [
              "['articles-embeddings', 'test-index']"
            ]
          },
          "metadata": {},
          "execution_count": 27
        }
      ]
    },
    {
      "cell_type": "code",
      "source": [
        "if index_name not in existing_indexes:\n",
        "    pc.create_index(\n",
        "        name=index_name,\n",
        "        dimension=768,  # sentence-transformer embedding dimension\n",
        "        metric='cosine',\n",
        "        spec=ServerlessSpec(cloud=\"aws\", region=\"us-east-1\")\n",
        "    )"
      ],
      "metadata": {
        "id": "6uRcgJI-TTYY"
      },
      "execution_count": null,
      "outputs": []
    },
    {
      "cell_type": "code",
      "source": [
        "index = pc.Index(index_name)\n",
        "index.config"
      ],
      "metadata": {
        "id": "iIJDohoWVoOP",
        "outputId": "609188e3-a1b0-475e-ab9c-78e7dc393586",
        "colab": {
          "base_uri": "https://localhost:8080/"
        }
      },
      "execution_count": null,
      "outputs": [
        {
          "output_type": "execute_result",
          "data": {
            "text/plain": [
              "Config(api_key='pcsk_NutMZ_Qg9vdjC3XdEph1zW8bavyLn2Um8GboUH688bXph3X8MDGYXUeHBWoZdC66gmMYs', host='https://test-index-ci7scyq.svc.aped-4627-b74a.pinecone.io', proxy_url=None, proxy_headers=None, ssl_ca_certs=None, ssl_verify=None, additional_headers={}, source_tag=None)"
            ]
          },
          "metadata": {},
          "execution_count": 32
        }
      ]
    },
    {
      "cell_type": "code",
      "source": [
        "vector_store = PineconeVectorStore(index=index, embedding=embeddings)"
      ],
      "metadata": {
        "id": "C7r3djKMYokh"
      },
      "execution_count": 57,
      "outputs": []
    },
    {
      "cell_type": "code",
      "source": [
        "uuids = [str(uuid4()) for _ in range(len(docs))]"
      ],
      "metadata": {
        "id": "By0nUqz0Xip5"
      },
      "execution_count": 58,
      "outputs": []
    },
    {
      "cell_type": "code",
      "source": [
        "vector_store.add_documents(documents=docs, ids=uuids)"
      ],
      "metadata": {
        "id": "zrvwR8Xaa2mm",
        "outputId": "7f4263d0-7eb2-42cc-ddb0-6aa0d526f90d",
        "colab": {
          "base_uri": "https://localhost:8080/"
        }
      },
      "execution_count": 59,
      "outputs": [
        {
          "output_type": "execute_result",
          "data": {
            "text/plain": [
              "['a7c47eaa-8318-4ea6-85b5-8c6120595db2',\n",
              " '9a4d4478-0673-4829-9bed-9383401363a2',\n",
              " '57affa9a-dad6-4ff4-a2d9-a0e777c8566b',\n",
              " '56e20fa5-27ee-4db5-877b-3f3b5eeee79a',\n",
              " '86dce88a-850e-4c4a-b640-d6b57129e8c9',\n",
              " '9e8b8b99-1685-4e71-956d-e07474018c67',\n",
              " 'af1d0f60-8c1a-45bd-8bc0-fe1e74d32a8b',\n",
              " '9344fa70-e35a-4f6f-861f-88c2dd79589b',\n",
              " '2dbcfe66-6595-4b3a-bd37-fbe4a21d0cf4',\n",
              " 'a1d2debb-7b0f-406d-81e3-32fe0e9bc1a9',\n",
              " '18973ec4-7c1d-415c-b778-775e84cdcd83',\n",
              " '3126feb9-9cfd-4a12-a7f7-a06282b7196b',\n",
              " '7066e95f-41f4-4652-9ff6-47351699e7eb',\n",
              " '6a6197f0-58ee-4ba9-bf91-c9f91e8b26ae',\n",
              " 'ca943795-1a61-4ef7-9952-c109008e571c',\n",
              " 'c962ea78-2b2e-4862-a205-89d1bbcc5d48',\n",
              " 'f957eb18-712a-4a26-9511-d84ecfe95f2a',\n",
              " '8e0f306a-6e09-4ade-9c93-72f564d8c69d',\n",
              " 'd3f547fd-4590-4a7f-9f78-885fa1237563',\n",
              " '7691bce6-aaa1-4e38-9d9e-6294da346899',\n",
              " '05b04f76-29e9-448b-a0e9-532feac6d93e',\n",
              " '7703e409-240c-4986-bfd5-91d8af08cfa4',\n",
              " '7db1ff78-5419-4cc8-bce0-28d4ab9ee0ac',\n",
              " 'd2b29bdd-6360-44ca-9c53-7aa8943eb143',\n",
              " '99ba7703-6b25-4706-9822-1214e3535cd2',\n",
              " '2edbbbbf-d8f5-4ff7-8247-111325e2e7ef',\n",
              " 'd9e12a15-ea8f-471e-9e68-78e80cf42bdc',\n",
              " '552d1645-c2f5-4172-9972-385d4f25cbff',\n",
              " '97fc8644-578a-4520-9342-13ea7338a1c6',\n",
              " 'ec62a9df-9b28-4ff9-8ea9-2d56b237a2d6',\n",
              " 'd13b2bcc-9cd6-4cba-89eb-129ca566a237',\n",
              " 'fb9fdb0d-5a1c-4014-9ac3-1776cc92dce8',\n",
              " '12b43d5e-fdc4-4f14-93ef-f663eb394587',\n",
              " '0e7feb8d-6e63-4370-a3ea-a87be0c7d2e4',\n",
              " '3d9fd2bd-1c41-4a01-9385-f253977f8e22',\n",
              " '411f6e98-b5c1-4f56-bb1e-5f61a149d1c8',\n",
              " 'b6300b94-34b3-4861-b6fd-1c21bdc00b50',\n",
              " '0aca44e4-6a43-48dc-bc05-4b86697d8006',\n",
              " '87e8670b-1dc9-449b-86b0-7941d684a57f',\n",
              " '2ac30800-cb3a-4674-ad8b-816561689476',\n",
              " 'f422bd51-9372-4386-92f2-2245aeaa65a1',\n",
              " '89a123e9-76b7-428d-814b-1a3c14899c6e',\n",
              " 'e337cb3d-4b1e-4ef8-8d11-eb74021fbf62',\n",
              " '11323a1b-c187-41e0-8651-9cdbfb57e889',\n",
              " 'fd72030d-9657-4861-a93d-1640001094df',\n",
              " '10cc5812-c017-446c-b7e4-630a32d4947d',\n",
              " '04478748-c609-4dc9-aeca-0a949073ea15',\n",
              " '49a09b40-66c3-4992-b217-1115dfd9a5e8',\n",
              " '801a0bbc-e019-47f8-b6d4-8ef9a47037c5',\n",
              " '8fc479fa-94e8-40d2-8675-be6b50e50133',\n",
              " '3141532f-532c-43d4-ae7a-43d0776f0127',\n",
              " '99c61407-0ded-4800-b525-50329c4d1de5',\n",
              " '7d253aab-bdc9-4b9b-aa7c-e6c8691f94e5',\n",
              " '06be39ef-e774-43e9-9786-fda35d00c526',\n",
              " '711d2574-661b-431d-8618-ba0fc8935ca6',\n",
              " '34e2d02e-77b7-4bd0-9f66-a78152b74792',\n",
              " '9b0dbd18-415e-4993-9798-7bb21e04dd89',\n",
              " '3655c1b1-adf9-4a53-9bf9-e0deedeb4efd',\n",
              " '122b91d3-5cb2-43f9-b0e8-373440d36581',\n",
              " '77bcfa53-d2ba-4f9a-812a-e89d7c7532c2',\n",
              " '633113af-5e10-439f-8006-45535c4efde3',\n",
              " 'e24388bc-be0a-4f9a-954a-f790489b699d',\n",
              " '4ceb2a15-33d9-4221-b6cc-9f6627ce8f30',\n",
              " '5281df07-18d8-4596-bb46-f21d72b02f23',\n",
              " 'fd0b208b-e4b7-4876-8979-4cf663546163',\n",
              " '38b2a8a6-35e3-4b73-afa5-852180509c09',\n",
              " '97ad37f8-d649-46a1-94c0-6b68f677adf2',\n",
              " '35999823-b099-4945-8cee-a4be6ccbaa85',\n",
              " '2b42edc2-8ab8-4893-8f04-5fae55232ad1',\n",
              " 'ce7d7484-cf1a-48b6-9957-1cfe17c4dcbc',\n",
              " '2a885272-da08-4f46-a2b9-60378761ab8d',\n",
              " 'b62b5f71-e15d-4a0e-9c9d-0de95b14f0b5',\n",
              " '203b7a5a-327e-45e9-936e-8cd396b71bd6',\n",
              " 'dad65849-bb9e-4eec-8afe-2ac09670b647',\n",
              " '921fc945-f532-403a-b1aa-b2fe5aac3829',\n",
              " 'b42db319-b120-408d-883f-3dc1791bdc92',\n",
              " '3a9d47a9-46d9-428b-97b2-61903bfd2823',\n",
              " 'd77715f0-0314-496e-ab97-8146486064ef',\n",
              " '3c90be9a-b6dc-461d-8834-56b060c88fa0',\n",
              " 'c150f288-70a4-4ee7-8a1e-8b46b1e19a46',\n",
              " '48df0b6b-8884-44c6-bc28-aaccd652c2c5',\n",
              " 'eaca4850-9228-46c3-8d13-8bba518305a1',\n",
              " 'd875904b-20e2-4aca-8f91-ae73964fac66',\n",
              " '6062542d-073c-43fb-9374-a145f29f7413',\n",
              " 'e89d5302-27a0-42f7-8822-7031a54412b8',\n",
              " 'b5adc113-0487-4b53-b054-732e23ce9ab9',\n",
              " '23726197-84cc-4ce8-a804-bd57bf308578',\n",
              " '5e38b12c-cb4b-40a5-a657-c11db1e532ef',\n",
              " 'ac7bd50d-3a75-4dc9-a45e-94a4a570b591',\n",
              " '49e02aa6-3f34-478b-826b-eac1eb2a49d5',\n",
              " '32d3f52d-7b98-4e3a-9575-2658a4b80f86',\n",
              " 'fc6c4192-fffd-4157-bde1-c1222c1decd9',\n",
              " '64d03c24-52a1-445f-9ec4-6dc35eb98549',\n",
              " 'af6327b5-04b4-4908-99b1-6cba19763f56',\n",
              " '9cebf020-cef7-4f13-932c-71dcf420a128',\n",
              " 'afbc25de-3d24-4881-af33-d1f3412f32e8',\n",
              " '8b000d52-d93f-4076-ad9a-59efc92d0b23',\n",
              " '59bfc505-59a3-458d-a6ae-795813cb7839',\n",
              " '055ba217-07c8-4283-8036-9c02b38648af',\n",
              " '73893632-d37f-4765-bdbb-6508d8e4d307',\n",
              " '96acffbf-a7d0-42f0-b534-220086a582d9',\n",
              " '2b75fdf1-e3da-4267-b2fc-e81175eca1b5',\n",
              " 'd8cd98b4-0acf-4bd7-932d-bf9598c36b7b',\n",
              " '271e4f89-3d77-4cd4-a057-595dc23a157b',\n",
              " '0a460aa7-49df-4a14-b6bd-abc99b1c918d',\n",
              " '0a5a32da-676b-4307-9ed0-afe40528cec4',\n",
              " '58d34997-58b6-41fc-a0c3-79c78d5e90af',\n",
              " 'c2050400-eb78-43f9-a399-474240c9c375',\n",
              " 'eb7e3ae7-98e7-4e11-a1cf-546d74620af9',\n",
              " '04347a9d-29e8-46c4-82c5-95b4812f0c72',\n",
              " '430f116f-19e4-43db-b236-e0becc422e86',\n",
              " 'a33dfee5-07b5-4b2a-b138-fc58f4323989',\n",
              " '0b6ae6f2-20dc-4d8a-bc55-3c8873b2bba7',\n",
              " 'c78b5ac7-a2ca-4307-919e-bd77b93090ab',\n",
              " 'df9ceaa4-b4de-443f-85bc-1314a64c5cc5',\n",
              " '9011d3b4-61f3-476e-b39c-b541641f8542',\n",
              " 'f4cad660-b9ad-4368-acb5-34c740b005f6',\n",
              " 'd1b1d3b9-412d-4101-b435-e38d4ced2b69',\n",
              " '30b646ef-14a8-4eb3-b760-3ce44c27b9be',\n",
              " '3eb31382-1c95-429b-bcc4-d9e5ad3356fb',\n",
              " '79ab7b51-7841-44bb-8a37-d36a7769ac97',\n",
              " '7adf18ea-1c37-469e-a211-c8d2aa274a3a',\n",
              " '3336a305-043d-4309-a031-5cbc4fb3f88f',\n",
              " '38c5ee7d-3968-4e34-921f-3ba0620126c3',\n",
              " '09531d00-46d4-4cf6-8fea-a55812c1510a',\n",
              " '68172904-b377-456f-a337-cee41dc23ee0',\n",
              " '0c3eb5e7-615b-486a-84f2-5f53a96894bd',\n",
              " 'f68b4e21-b4ba-4ee9-b973-29878a1a4da8',\n",
              " 'fb569a9d-388e-41c9-b30d-ed8047432aa6',\n",
              " 'f9b87fcd-8507-4028-8c9a-166d6aee7f56',\n",
              " 'c8b33bfd-395d-437c-ad83-fad603a99a02',\n",
              " '46a0ab54-8bc5-413b-a56d-73d55352282d',\n",
              " '51595759-92b7-454d-b378-000a5e02f82e',\n",
              " 'e550d428-509c-4110-a4cd-ae9eb9f4beeb',\n",
              " 'f77b8981-d662-4a09-890a-3e6bd1158afa',\n",
              " 'fff2df91-4dce-4e76-9c0d-2e96e1d30c8a',\n",
              " 'cbff50fa-72a5-4d7f-84f0-2be73ddc4d31',\n",
              " '6b244e41-80cc-4485-b9f9-3a531be045ad',\n",
              " 'd5864d47-1f24-40d2-a458-8206f181800b',\n",
              " '737f3f96-2a0b-456f-9fde-f2eb5fa2cb45',\n",
              " 'b82d2d7e-1aad-434f-89e6-0e55f81f1347',\n",
              " '3f28b055-9374-4d76-b9e7-fb3b1186670e',\n",
              " '740f5751-8023-43a4-809c-c042e108bc9a',\n",
              " '8d5ae9fe-43f8-47e4-bf5b-58e53fce2c9d',\n",
              " 'ec364068-5125-4f1c-8979-f05fbc70f940',\n",
              " 'e5c0ef63-97fc-4ebb-bb8d-de46c3d810f3',\n",
              " 'ec3fbcb0-0760-4dd3-a93b-6bf3f70bde67',\n",
              " 'baf0f157-983b-4807-b750-0d898f9e8866',\n",
              " 'd3eda5ea-947b-423c-89e5-dfa32563978c',\n",
              " '03b72271-ab0d-4e36-b03b-e7ec2de318d5',\n",
              " '43bec7ce-7546-4363-9370-1af3cd0e465b',\n",
              " 'dc0269b1-ca6b-4bbb-9928-df40f99e6b1c',\n",
              " 'a90ee04c-2389-4f57-8e39-fa9d15229a40',\n",
              " '224d3d80-2bb7-41e9-8793-2c6fa72d7f15',\n",
              " '980839c7-da19-4f3a-96ac-72a77eca7930',\n",
              " '715b4c6f-f57f-45d4-9196-06d4b507fdf1']"
            ]
          },
          "metadata": {},
          "execution_count": 59
        }
      ]
    },
    {
      "cell_type": "code",
      "source": [
        "qa_chain = RetrievalQA.from_chain_type(\n",
        "            llm=ChatMistralAI(\n",
        "                mistral_api_key=MISTRAL_API_KEY,\n",
        "                model=\"mistral-tiny\"  # or \"mistral-small\" or \"mistral-medium\"\n",
        "            ),\n",
        "            chain_type=\"stuff\",\n",
        "            retriever=vector_store.as_retriever(search_kwargs={\"k\": 2})\n",
        "        )"
      ],
      "metadata": {
        "id": "IdtcQZryWB6J"
      },
      "execution_count": 69,
      "outputs": []
    },
    {
      "cell_type": "code",
      "source": [
        "qa_chain.run(\"What is the main topic of the document?\")"
      ],
      "metadata": {
        "id": "dFZM4n34b_VA",
        "outputId": "ae4a52d0-3f60-4528-9951-132b143fcf72",
        "colab": {
          "base_uri": "https://localhost:8080/",
          "height": 90
        }
      },
      "execution_count": 70,
      "outputs": [
        {
          "output_type": "execute_result",
          "data": {
            "text/plain": [
              "\"The main topic of the document, based on the provided context, appears to be the amendment of the Terms and Conditions of an agreement. The amendments cover various sections, including governance laws, jurisdiction, intellectual property, export controls, and indemnification. However, without more specific context, it's difficult to pinpoint a single, overarching topic. The document seems to be focused on modifying the terms of a legal agreement between two parties.\""
            ],
            "application/vnd.google.colaboratory.intrinsic+json": {
              "type": "string"
            }
          },
          "metadata": {},
          "execution_count": 70
        }
      ]
    },
    {
      "cell_type": "code",
      "source": [
        "results = vector_store.similarity_search_with_score(\n",
        "    \"Is there any confidential section?\", k=2\n",
        ")\n",
        "for res, score in results:\n",
        "    print(f\"* [SIM={score:3f}] {res.page_content} [{res.metadata}]\")"
      ],
      "metadata": {
        "id": "TFsfpH_Gbftu",
        "outputId": "7dca67db-b888-47f5-dd48-99d15bebc952",
        "colab": {
          "base_uri": "https://localhost:8080/"
        }
      },
      "execution_count": 72,
      "outputs": [
        {
          "output_type": "stream",
          "name": "stdout",
          "text": [
            "* [SIM=0.467038] not disclose the Confidential Information to any third party. A Recipient will protect it by using the same degree of care, but no less \n",
            "than a reasonable degree of care, to prevent the unauthorized use, dissemination or publication as the Recipient uses to protect its \n",
            "own confidential information of a like nature. The Recipient may disclose the Confidential Information to its affiliates, agents and \n",
            "subcontractors with a need to know in order to fulfill the purpose of the Agreement, under a nondisclosure agreement at least as \n",
            "protective of the Discloser’s rights as this Agreement. [{'page': 3.0, 'source': '/content/data/Accenture-Terms-Conditions-2022.pdf'}]\n",
            "* [SIM=0.393984] the Confidential Information as is required.     \n",
            "8.4 Each party will retain all right, title and interest to such party’s Confidential Information.  The parties acknowledge that a \n",
            "violation of the Recipient’s obligations with respect to Confidential Information may cause irreparable harm to the Discloser for which \n",
            "a remedy at law would be inadequate. Therefore, in addition to any and all remedies available at law, Discloser will be entit led to \n",
            "seek an injunction or other equitable remedies in all legal proceedings in the event of any threatened or actual violation of any or all \n",
            "of the provisions. Subject to the terms of the Agreement: (i) Discloser may request the return of Confidential Information; (ii) or upon \n",
            "termination or completion of the Agreement or any Service(s), Recipient will either return (if technically feasible to do so) or destroy [{'page': 4.0, 'source': '/content/data/Accenture-Terms-Conditions-2022.pdf'}]\n"
          ]
        }
      ]
    },
    {
      "cell_type": "markdown",
      "source": [
        "*Instead of using `PineconeVectorStore()` we can directly pass the vectors into database by upserting them.*"
      ],
      "metadata": {
        "id": "swAbn_n5dO-K"
      }
    }
  ],
  "metadata": {
    "language_info": {
      "name": "python"
    },
    "colab": {
      "provenance": []
    },
    "kernelspec": {
      "name": "python3",
      "display_name": "Python 3"
    }
  },
  "nbformat": 4,
  "nbformat_minor": 0
}