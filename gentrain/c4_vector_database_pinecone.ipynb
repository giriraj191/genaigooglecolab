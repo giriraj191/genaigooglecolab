{
  "cells": [
    {
      "cell_type": "markdown",
      "source": [
        "# Vector Database | PineconeDB"
      ],
      "metadata": {
        "id": "97Xpe3hFNlhE"
      }
    },
    {
      "cell_type": "markdown",
      "source": [
        "Installations"
      ],
      "metadata": {
        "id": "AfZrih6aOJ7B"
      }
    },
    {
      "cell_type": "code",
      "source": [
        "!pip install pinecone"
      ],
      "metadata": {
        "id": "EOj_yzm3PfYR"
      },
      "execution_count": null,
      "outputs": []
    },
    {
      "cell_type": "code",
      "source": [
        "!pip install pypdf"
      ],
      "metadata": {
        "id": "ie9L2_nzTJQV"
      },
      "execution_count": null,
      "outputs": []
    },
    {
      "cell_type": "code",
      "source": [
        "!pip install langchain-community langchain-mistralai"
      ],
      "metadata": {
        "id": "1IqqL-wMRX7a"
      },
      "execution_count": null,
      "outputs": []
    },
    {
      "cell_type": "code",
      "source": [
        "!pip install langchain-pinecone"
      ],
      "metadata": {
        "id": "ChS2ZKgAOJqE"
      },
      "execution_count": null,
      "outputs": []
    },
    {
      "cell_type": "code",
      "source": [
        "!pip install langchain_pinecone"
      ],
      "metadata": {
        "id": "uTHBV1rDab-f"
      },
      "execution_count": null,
      "outputs": []
    },
    {
      "cell_type": "code",
      "source": [
        "!pip install --upgrade langchain_community"
      ],
      "metadata": {
        "id": "ft-xc80LZzBz"
      },
      "execution_count": null,
      "outputs": []
    },
    {
      "cell_type": "markdown",
      "source": [
        "Imports"
      ],
      "metadata": {
        "id": "AQ_hFINTOLb2"
      }
    },
    {
      "cell_type": "code",
      "source": [
        "import os\n",
        "import time\n",
        "from typing import List\n",
        "from uuid import uuid4\n",
        "from google.colab import userdata\n",
        "from langchain.document_loaders import PyPDFLoader\n",
        "from langchain.text_splitter import RecursiveCharacterTextSplitter\n",
        "from langchain.embeddings import HuggingFaceEmbeddings\n",
        "from langchain.vectorstores import Pinecone\n",
        "from langchain.chains import RetrievalQA\n",
        "from langchain_mistralai.chat_models import ChatMistralAI\n",
        "from langchain_core.documents import Document\n",
        "from langchain_pinecone import PineconeVectorStore\n",
        "from pinecone import Pinecone, ServerlessSpec"
      ],
      "metadata": {
        "id": "MHuaxlBZOIko"
      },
      "execution_count": 55,
      "outputs": []
    },
    {
      "cell_type": "markdown",
      "source": [
        "Setup Variables"
      ],
      "metadata": {
        "id": "iJP7pN0YPHcS"
      }
    },
    {
      "cell_type": "code",
      "source": [
        "PINECONE_API_KEY = userdata.get('PINECONE_API_KEY')\n",
        "MISTRAL_API_KEY = userdata.get('MISTRAL_API_KEY')"
      ],
      "metadata": {
        "id": "XO-fCQOdPJdE"
      },
      "execution_count": 7,
      "outputs": []
    },
    {
      "cell_type": "markdown",
      "source": [
        "## By Using LangChain"
      ],
      "metadata": {
        "id": "Mscry9BJN7kk"
      }
    },
    {
      "cell_type": "code",
      "source": [
        "loader = PyPDFLoader(\"/content/data/Accenture-Terms-Conditions-2022.pdf\")\n",
        "pages = loader.load()\n",
        "len(pages)"
      ],
      "metadata": {
        "id": "g8sEnQ6MNo_p",
        "outputId": "a63949b3-fa47-4319-defa-31f6ecc82666",
        "colab": {
          "base_uri": "https://localhost:8080/"
        }
      },
      "execution_count": 18,
      "outputs": [
        {
          "output_type": "execute_result",
          "data": {
            "text/plain": [
              "25"
            ]
          },
          "metadata": {},
          "execution_count": 18
        }
      ]
    },
    {
      "cell_type": "code",
      "source": [
        "text_splitter = RecursiveCharacterTextSplitter(\n",
        "    chunk_size=1000,\n",
        "    chunk_overlap=100\n",
        ")"
      ],
      "metadata": {
        "id": "_D6r57MpT6by"
      },
      "execution_count": 21,
      "outputs": []
    },
    {
      "cell_type": "code",
      "source": [
        "docs = text_splitter.split_documents(pages)\n",
        "len(docs)"
      ],
      "metadata": {
        "id": "I3ZK4I09UqHm",
        "outputId": "bbdf5bb7-6ea5-40af-bb01-34883b5fd133",
        "colab": {
          "base_uri": "https://localhost:8080/"
        }
      },
      "execution_count": 34,
      "outputs": [
        {
          "output_type": "execute_result",
          "data": {
            "text/plain": [
              "156"
            ]
          },
          "metadata": {},
          "execution_count": 34
        }
      ]
    },
    {
      "cell_type": "code",
      "source": [
        "pc = Pinecone(api_key=PINECONE_API_KEY)\n",
        "index_name = 'test-index'"
      ],
      "metadata": {
        "id": "YN_kl-41ScpL"
      },
      "execution_count": 19,
      "outputs": []
    },
    {
      "cell_type": "code",
      "source": [
        "embeddings = HuggingFaceEmbeddings(model_name=\"sentence-transformers/all-mpnet-base-v2\")"
      ],
      "metadata": {
        "id": "AXfv4LrXSfe0"
      },
      "execution_count": null,
      "outputs": []
    },
    {
      "cell_type": "markdown",
      "source": [
        "*It may take some time as model will be downloaded locally*"
      ],
      "metadata": {
        "id": "o0azUzyvTcSB"
      }
    },
    {
      "cell_type": "code",
      "source": [
        "existing_indexes = [index_info[\"name\"] for index_info in pc.list_indexes()]\n",
        "existing_indexes"
      ],
      "metadata": {
        "id": "qkuJTyDAVetJ",
        "outputId": "65af2da1-c061-4e47-d3aa-55e844a42b3f",
        "colab": {
          "base_uri": "https://localhost:8080/"
        }
      },
      "execution_count": 27,
      "outputs": [
        {
          "output_type": "execute_result",
          "data": {
            "text/plain": [
              "['articles-embeddings', 'test-index']"
            ]
          },
          "metadata": {},
          "execution_count": 27
        }
      ]
    },
    {
      "cell_type": "code",
      "source": [
        "if index_name not in existing_indexes:\n",
        "    pc.create_index(\n",
        "        name=index_name,\n",
        "        dimension=768,  # sentence-transformer embedding dimension\n",
        "        metric='cosine',\n",
        "        spec=ServerlessSpec(cloud=\"aws\", region=\"us-east-1\")\n",
        "    )"
      ],
      "metadata": {
        "id": "6uRcgJI-TTYY"
      },
      "execution_count": 28,
      "outputs": []
    },
    {
      "cell_type": "code",
      "source": [
        "index = pc.Index(index_name)\n",
        "index.config"
      ],
      "metadata": {
        "id": "iIJDohoWVoOP",
        "outputId": "609188e3-a1b0-475e-ab9c-78e7dc393586",
        "colab": {
          "base_uri": "https://localhost:8080/"
        }
      },
      "execution_count": 32,
      "outputs": [
        {
          "output_type": "execute_result",
          "data": {
            "text/plain": [
              "Config(api_key='pcsk_NutMZ_Qg9vdjC3XdEph1zW8bavyLn2Um8GboUH688bXph3X8MDGYXUeHBWoZdC66gmMYs', host='https://test-index-ci7scyq.svc.aped-4627-b74a.pinecone.io', proxy_url=None, proxy_headers=None, ssl_ca_certs=None, ssl_verify=None, additional_headers={}, source_tag=None)"
            ]
          },
          "metadata": {},
          "execution_count": 32
        }
      ]
    },
    {
      "cell_type": "code",
      "source": [
        "from langchain_pinecone import PineconeVectorStore\n",
        "\n",
        "vector_store = PineconeVectorStore(index=index, embedding=embeddings)"
      ],
      "metadata": {
        "id": "C7r3djKMYokh",
        "outputId": "e040a88a-54b7-4500-eca3-79952546cb74",
        "colab": {
          "base_uri": "https://localhost:8080/",
          "height": 362
        }
      },
      "execution_count": 52,
      "outputs": [
        {
          "output_type": "error",
          "ename": "ModuleNotFoundError",
          "evalue": "No module named 'langchain_pinecone'",
          "traceback": [
            "\u001b[0;31m---------------------------------------------------------------------------\u001b[0m",
            "\u001b[0;31mModuleNotFoundError\u001b[0m                       Traceback (most recent call last)",
            "\u001b[0;32m<ipython-input-52-e52c5d5474b7>\u001b[0m in \u001b[0;36m<cell line: 1>\u001b[0;34m()\u001b[0m\n\u001b[0;32m----> 1\u001b[0;31m \u001b[0;32mfrom\u001b[0m \u001b[0mlangchain_pinecone\u001b[0m \u001b[0;32mimport\u001b[0m \u001b[0mPineconeVectorStore\u001b[0m\u001b[0;34m\u001b[0m\u001b[0;34m\u001b[0m\u001b[0m\n\u001b[0m\u001b[1;32m      2\u001b[0m \u001b[0;34m\u001b[0m\u001b[0m\n\u001b[1;32m      3\u001b[0m \u001b[0mvector_store\u001b[0m \u001b[0;34m=\u001b[0m \u001b[0mPineconeVectorStore\u001b[0m\u001b[0;34m(\u001b[0m\u001b[0mindex\u001b[0m\u001b[0;34m=\u001b[0m\u001b[0mindex\u001b[0m\u001b[0;34m,\u001b[0m \u001b[0membedding\u001b[0m\u001b[0;34m=\u001b[0m\u001b[0membeddings\u001b[0m\u001b[0;34m)\u001b[0m\u001b[0;34m\u001b[0m\u001b[0;34m\u001b[0m\u001b[0m\n",
            "\u001b[0;31mModuleNotFoundError\u001b[0m: No module named 'langchain_pinecone'",
            "",
            "\u001b[0;31m---------------------------------------------------------------------------\u001b[0;32m\nNOTE: If your import is failing due to a missing package, you can\nmanually install dependencies using either !pip or !apt.\n\nTo view examples of installing some common dependencies, click the\n\"Open Examples\" button below.\n\u001b[0;31m---------------------------------------------------------------------------\u001b[0m\n"
          ],
          "errorDetails": {
            "actions": [
              {
                "action": "open_url",
                "actionText": "Open Examples",
                "url": "/notebooks/snippets/importing_libraries.ipynb"
              }
            ]
          }
        }
      ]
    },
    {
      "cell_type": "code",
      "source": [
        "uuids = [str(uuid4()) for _ in range(len(docs))]\n"
      ],
      "metadata": {
        "id": "By0nUqz0Xip5"
      },
      "execution_count": null,
      "outputs": []
    },
    {
      "cell_type": "code",
      "source": [
        "pc.from_documents(\n",
        "            docs,\n",
        "            embeddings,\n",
        "            index_name=index_name\n",
        "        )"
      ],
      "metadata": {
        "id": "ZkiU7i4oWUb7",
        "outputId": "0e71bb20-b978-482f-ff38-8ce5215fec61",
        "colab": {
          "base_uri": "https://localhost:8080/",
          "height": 399
        }
      },
      "execution_count": 35,
      "outputs": [
        {
          "output_type": "error",
          "ename": "AttributeError",
          "evalue": "from_documents is not a top-level attribute of the Pinecone class provided by pinecone's official python package developed at https://github.com/pinecone-io/pinecone-python-client. You may have a name collision with an export from another dependency in your project that wraps Pinecone functionality and exports a similarly named class. Please refer to the following knowledge base article for more information: https://docs.pinecone.io/troubleshooting/pinecone-attribute-errors-with-langchain\n",
          "traceback": [
            "\u001b[0;31m---------------------------------------------------------------------------\u001b[0m",
            "\u001b[0;31mAttributeError\u001b[0m                            Traceback (most recent call last)",
            "\u001b[0;32m<ipython-input-35-bd19c088f6b4>\u001b[0m in \u001b[0;36m<cell line: 1>\u001b[0;34m()\u001b[0m\n\u001b[0;32m----> 1\u001b[0;31m pc.from_documents(\n\u001b[0m\u001b[1;32m      2\u001b[0m             \u001b[0mdocs\u001b[0m\u001b[0;34m,\u001b[0m\u001b[0;34m\u001b[0m\u001b[0;34m\u001b[0m\u001b[0m\n\u001b[1;32m      3\u001b[0m             \u001b[0membeddings\u001b[0m\u001b[0;34m,\u001b[0m\u001b[0;34m\u001b[0m\u001b[0;34m\u001b[0m\u001b[0m\n\u001b[1;32m      4\u001b[0m             \u001b[0mindex_name\u001b[0m\u001b[0;34m=\u001b[0m\u001b[0mindex_name\u001b[0m\u001b[0;34m\u001b[0m\u001b[0;34m\u001b[0m\u001b[0m\n\u001b[1;32m      5\u001b[0m         )\n",
            "\u001b[0;32m/usr/local/lib/python3.10/dist-packages/pinecone/control/pinecone.py\u001b[0m in \u001b[0;36mfrom_documents\u001b[0;34m(*args, **kwargs)\u001b[0m\n\u001b[1;32m    695\u001b[0m     \u001b[0;34m@\u001b[0m\u001b[0mstaticmethod\u001b[0m\u001b[0;34m\u001b[0m\u001b[0;34m\u001b[0m\u001b[0m\n\u001b[1;32m    696\u001b[0m     \u001b[0;32mdef\u001b[0m \u001b[0mfrom_documents\u001b[0m\u001b[0;34m(\u001b[0m\u001b[0;34m*\u001b[0m\u001b[0margs\u001b[0m\u001b[0;34m,\u001b[0m \u001b[0;34m**\u001b[0m\u001b[0mkwargs\u001b[0m\u001b[0;34m)\u001b[0m\u001b[0;34m:\u001b[0m\u001b[0;34m\u001b[0m\u001b[0;34m\u001b[0m\u001b[0m\n\u001b[0;32m--> 697\u001b[0;31m         \u001b[0;32mraise\u001b[0m \u001b[0mAttributeError\u001b[0m\u001b[0;34m(\u001b[0m\u001b[0m_build_langchain_attribute_error_message\u001b[0m\u001b[0;34m(\u001b[0m\u001b[0;34m\"from_documents\"\u001b[0m\u001b[0;34m)\u001b[0m\u001b[0;34m)\u001b[0m\u001b[0;34m\u001b[0m\u001b[0;34m\u001b[0m\u001b[0m\n\u001b[0m\u001b[1;32m    698\u001b[0m \u001b[0;34m\u001b[0m\u001b[0m\n\u001b[1;32m    699\u001b[0m     \u001b[0;32mdef\u001b[0m \u001b[0mIndex\u001b[0m\u001b[0;34m(\u001b[0m\u001b[0mself\u001b[0m\u001b[0;34m,\u001b[0m \u001b[0mname\u001b[0m\u001b[0;34m:\u001b[0m \u001b[0mstr\u001b[0m \u001b[0;34m=\u001b[0m \u001b[0;34m\"\"\u001b[0m\u001b[0;34m,\u001b[0m \u001b[0mhost\u001b[0m\u001b[0;34m:\u001b[0m \u001b[0mstr\u001b[0m \u001b[0;34m=\u001b[0m \u001b[0;34m\"\"\u001b[0m\u001b[0;34m,\u001b[0m \u001b[0;34m**\u001b[0m\u001b[0mkwargs\u001b[0m\u001b[0;34m)\u001b[0m\u001b[0;34m:\u001b[0m\u001b[0;34m\u001b[0m\u001b[0;34m\u001b[0m\u001b[0m\n",
            "\u001b[0;31mAttributeError\u001b[0m: from_documents is not a top-level attribute of the Pinecone class provided by pinecone's official python package developed at https://github.com/pinecone-io/pinecone-python-client. You may have a name collision with an export from another dependency in your project that wraps Pinecone functionality and exports a similarly named class. Please refer to the following knowledge base article for more information: https://docs.pinecone.io/troubleshooting/pinecone-attribute-errors-with-langchain\n"
          ]
        }
      ]
    },
    {
      "cell_type": "code",
      "source": [],
      "metadata": {
        "id": "IdtcQZryWB6J"
      },
      "execution_count": null,
      "outputs": []
    },
    {
      "cell_type": "code",
      "source": [
        "class PDFPineconeQA:\n",
        "    def __init__(self, mistral_api_key: str, pinecone_api_key: str, index_name: str):\n",
        "        \"\"\"\n",
        "        Initialize the PDF to Pinecone QA system\n",
        "\n",
        "        Args:\n",
        "            mistral_api_key (str): Mistral AI API key\n",
        "            pinecone_api_key (str): Pinecone API key\n",
        "            index_name (str): Name of the Pinecone index to use\n",
        "        \"\"\"\n",
        "        self.mistral_api_key = mistral_api_key\n",
        "        self.pinecone_api_key = pinecone_api_key\n",
        "        self.index_name = index_name\n",
        "\n",
        "        # Initialize embeddings using sentence-transformers\n",
        "        self.embeddings = HuggingFaceEmbeddings(\n",
        "            model_name=\"sentence-transformers/all-mpnet-base-v2\"\n",
        "        )\n",
        "\n",
        "        # Initialize Pinecone\n",
        "        self.pinecone = Pinecone(api_key=pinecone_api_key)\n",
        "\n",
        "        # Check if index exists, if not create it\n",
        "        if index_name not in self.pinecone.list_indexes():\n",
        "            self.pinecone.create_index(\n",
        "                name=index_name,\n",
        "                dimension=768,  # sentence-transformer embedding dimension\n",
        "                metric='cosine'\n",
        "            )\n",
        "\n",
        "        self.index = self.pinecone.Index(index_name)\n",
        "\n",
        "    def load_pdf(self, pdf_path: str) -> List:\n",
        "        \"\"\"\n",
        "        Load PDF and split into documents\n",
        "\n",
        "        Args:\n",
        "            pdf_path (str): Path to PDF file\n",
        "\n",
        "        Returns:\n",
        "            List: List of document chunks\n",
        "        \"\"\"\n",
        "        # Load PDF\n",
        "        loader = PyPDFLoader(pdf_path)\n",
        "        pages = loader.load()\n",
        "\n",
        "        # Split into chunks\n",
        "        text_splitter = RecursiveCharacterTextSplitter(\n",
        "            chunk_size=1000,\n",
        "            chunk_overlap=100,\n",
        "            length_function=len\n",
        "        )\n",
        "\n",
        "        return text_splitter.split_documents(pages)\n",
        "\n",
        "    def upload_to_pinecone(self, documents: List) -> None:\n",
        "        \"\"\"\n",
        "        Upload documents to Pinecone\n",
        "\n",
        "        Args:\n",
        "            documents (List): List of document chunks to upload\n",
        "        \"\"\"\n",
        "        # Create vector store\n",
        "        Pinecone.from_documents(\n",
        "            documents,\n",
        "            self.embeddings,\n",
        "            index_name=self.index_name\n",
        "        )\n",
        "\n",
        "    def query_documents(self, query: str, k: int = 3) -> List:\n",
        "        \"\"\"\n",
        "        Query documents from Pinecone\n",
        "\n",
        "        Args:\n",
        "            query (str): Query string\n",
        "            k (int): Number of documents to retrieve\n",
        "\n",
        "        Returns:\n",
        "            List: List of relevant documents\n",
        "        \"\"\"\n",
        "        # Create vector store for querying\n",
        "        vectorstore = Pinecone.from_existing_index(\n",
        "            index_name=self.index_name,\n",
        "            embedding=self.embeddings\n",
        "        )\n",
        "\n",
        "        # Create retrieval chain with Mistral\n",
        "        qa_chain = RetrievalQA.from_chain_type(\n",
        "            llm=ChatMistralAI(\n",
        "                mistral_api_key=self.mistral_api_key,\n",
        "                model=\"mistral-tiny\"  # or \"mistral-small\" or \"mistral-medium\"\n",
        "            ),\n",
        "            chain_type=\"stuff\",\n",
        "            retriever=vectorstore.as_retriever(search_kwargs={\"k\": k})\n",
        "        )\n",
        "\n",
        "        return qa_chain.run(query)\n",
        "\n",
        "# Example usage\n",
        "def main():\n",
        "    # Initialize environment variables\n",
        "    mistral_api_key = os.getenv(\"MISTRAL_API_KEY\")\n",
        "    pinecone_api_key = os.getenv(\"PINECONE_API_KEY\")\n",
        "\n",
        "    # Create QA system\n",
        "    qa_system = PDFPineconeQA(\n",
        "        mistral_api_key=mistral_api_key,\n",
        "        pinecone_api_key=pinecone_api_key,\n",
        "        index_name=\"pdf-qa-index\"\n",
        "    )\n",
        "\n",
        "    # Load and process PDF\n",
        "    pdf_path = \"path/to/your/pdf\"\n",
        "    documents = qa_system.load_pdf(pdf_path)\n",
        "\n",
        "    # Upload to Pinecone\n",
        "    qa_system.upload_to_pinecone(documents)\n",
        "\n",
        "    # Query documents\n",
        "    query = \"What is the main topic of the document?\"\n",
        "    result = qa_system.query_documents(query)\n",
        "    print(f\"Query: {query}\")\n",
        "    print(f\"Answer: {result}\")\n",
        "\n",
        "if __name__ == \"__main__\":\n",
        "    main()"
      ],
      "metadata": {
        "id": "a7L5gMYPQPqX"
      },
      "execution_count": null,
      "outputs": []
    }
  ],
  "metadata": {
    "language_info": {
      "name": "python"
    },
    "colab": {
      "provenance": []
    },
    "kernelspec": {
      "name": "python3",
      "display_name": "Python 3"
    }
  },
  "nbformat": 4,
  "nbformat_minor": 0
}