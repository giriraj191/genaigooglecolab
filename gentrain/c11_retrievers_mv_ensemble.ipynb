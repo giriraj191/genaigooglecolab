{
  "cells": [
    {
      "cell_type": "markdown",
      "source": [
        "# Retrievers"
      ],
      "metadata": {
        "id": "dRed_61XT2Lv"
      }
    },
    {
      "cell_type": "code",
      "source": [
        "!pip install langchain langchain-community langchain_openai pdfplumber chromadb"
      ],
      "metadata": {
        "id": "mE-s0ivOT2Ap"
      },
      "execution_count": null,
      "outputs": []
    },
    {
      "cell_type": "code",
      "source": [
        "!pip install pypdf"
      ],
      "metadata": {
        "id": "x0qwLhQwdKHQ"
      },
      "execution_count": null,
      "outputs": []
    },
    {
      "cell_type": "code",
      "source": [
        "!pip install --quiet langchain-chroma"
      ],
      "metadata": {
        "id": "7oQgEF4GhBMV"
      },
      "execution_count": null,
      "outputs": []
    },
    {
      "cell_type": "code",
      "source": [
        "!pip install --upgrade --quiet  rank_bm25 > /dev/null"
      ],
      "metadata": {
        "id": "9HI6jgV2nJ9R"
      },
      "execution_count": 38,
      "outputs": []
    },
    {
      "cell_type": "code",
      "source": [
        "!pip install faiss-cpu"
      ],
      "metadata": {
        "id": "o_OUofvuphux"
      },
      "execution_count": null,
      "outputs": []
    },
    {
      "cell_type": "code",
      "source": [
        "import re\n",
        "import math\n",
        "import numpy as np\n",
        "from collections import Counter, defaultdict\n",
        "from langchain_community.retrievers import BM25Retriever\n",
        "from langchain.document_loaders import PyPDFLoader\n",
        "from langchain.schema import Document"
      ],
      "metadata": {
        "id": "j9FdpQP5dHV6"
      },
      "execution_count": 10,
      "outputs": []
    },
    {
      "cell_type": "code",
      "source": [
        "from langchain_core.prompts import ChatPromptTemplate, HumanMessagePromptTemplate, PromptTemplate\n",
        "from langchain.text_splitter import RecursiveCharacterTextSplitter\n",
        "from langchain.retrievers.multi_vector import MultiVectorRetriever\n",
        "from langchain_core.output_parsers import StrOutputParser\n",
        "from langchain.chains.summarize import load_summarize_chain\n",
        "from langchain.document_loaders import WebBaseLoader\n",
        "from langchain_openai import OpenAIEmbeddings\n",
        "from langchain.schema.document import Document\n",
        "from langchain.storage import InMemoryStore\n",
        "from langchain_openai import ChatOpenAI\n",
        "from langchain.vectorstores import Chroma\n",
        "from google.colab import userdata\n",
        "import pdfplumber\n",
        "import uuid\n",
        "import os"
      ],
      "metadata": {
        "id": "g2_tojJLZI-T"
      },
      "execution_count": 4,
      "outputs": []
    },
    {
      "cell_type": "code",
      "source": [
        "from langchain.retrievers.multi_vector import MultiVectorRetriever\n",
        "from langchain.storage import InMemoryByteStore\n",
        "from langchain_chroma import Chroma\n",
        "from langchain_community.document_loaders import TextLoader\n",
        "from langchain_openai import OpenAIEmbeddings\n",
        "from langchain_text_splitters import RecursiveCharacterTextSplitter"
      ],
      "metadata": {
        "id": "dxcNEj1Kg-Z0"
      },
      "execution_count": 17,
      "outputs": []
    },
    {
      "cell_type": "code",
      "source": [
        "from langchain.retrievers import EnsembleRetriever\n",
        "from langchain_community.retrievers import BM25Retriever\n",
        "from langchain_community.vectorstores import FAISS\n",
        "from langchain_openai import OpenAIEmbeddings"
      ],
      "metadata": {
        "id": "pfPl9e3BnSK6"
      },
      "execution_count": 39,
      "outputs": []
    },
    {
      "cell_type": "code",
      "source": [
        "GIRUOPENAIKEY = userdata.get('GIRUOPENAIKEY')\n",
        "os.environ['OPENAI_API_KEY'] = GIRUOPENAIKEY"
      ],
      "metadata": {
        "id": "T5e9AwnZZZR5"
      },
      "execution_count": 5,
      "outputs": []
    },
    {
      "cell_type": "code",
      "source": [
        "# API key fetched internally, if not set in environment pass as an argument.\n",
        "model = ChatOpenAI(temperature=0, model_name=\"gpt-3.5-turbo\")"
      ],
      "metadata": {
        "id": "MZwQbx1KZv57"
      },
      "execution_count": 7,
      "outputs": []
    },
    {
      "cell_type": "markdown",
      "source": [
        "## Loading Data"
      ],
      "metadata": {
        "id": "sWzMKToLabwg"
      }
    },
    {
      "cell_type": "code",
      "source": [
        "loaders = [\n",
        "    PyPDFLoader(\"/content/data/Understanding_Climate_Change.pdf\"),\n",
        "    PyPDFLoader(\"/content/data/What is finance.pdf\")\n",
        "]\n",
        "\n",
        "docs = []\n",
        "for loader in loaders:\n",
        "    docs.extend(loader.load())\n",
        "\n",
        "len(docs), type(docs)"
      ],
      "metadata": {
        "id": "2I5qLzsDbQox",
        "outputId": "83fad5f6-3d95-410b-cdb2-8830f7727d5f",
        "colab": {
          "base_uri": "https://localhost:8080/"
        }
      },
      "execution_count": 13,
      "outputs": [
        {
          "output_type": "execute_result",
          "data": {
            "text/plain": [
              "(49, list)"
            ]
          },
          "metadata": {},
          "execution_count": 13
        }
      ]
    },
    {
      "cell_type": "markdown",
      "source": [
        "## Multi Vector Retriever  \n",
        "\n",
        "Two major types -\n",
        "- Parent - Child Retriever  \n",
        "In this search performed over child and respective parent is fetched for large context.   \n",
        "- Summary Based Retriever   \n",
        "In this summary is matched first and then on basis of id-matches respective detailed smaller documents are fetched. It's used for fast searching with small context or accurate/exact matching."
      ],
      "metadata": {
        "id": "OSMWgsXQjXGq"
      }
    },
    {
      "cell_type": "markdown",
      "source": [
        "Complete | Large Documents"
      ],
      "metadata": {
        "id": "NnNpioG9hLY3"
      }
    },
    {
      "cell_type": "code",
      "source": [
        "text_splitter = RecursiveCharacterTextSplitter(chunk_size=10000)\n",
        "docs = text_splitter.split_documents(docs)\n",
        "len(docs), type(docs)"
      ],
      "metadata": {
        "id": "wgAuh0p4gyqL",
        "outputId": "943f9835-7ce7-452a-f30e-e321576d690a",
        "colab": {
          "base_uri": "https://localhost:8080/"
        }
      },
      "execution_count": 14,
      "outputs": [
        {
          "output_type": "execute_result",
          "data": {
            "text/plain": [
              "(49, list)"
            ]
          },
          "metadata": {},
          "execution_count": 14
        }
      ]
    },
    {
      "cell_type": "code",
      "source": [
        "vars(docs[0]).keys()"
      ],
      "metadata": {
        "id": "IScCo3ZBiARl",
        "outputId": "a5dd3590-68ec-450e-f6e2-9203e1e3e7d2",
        "colab": {
          "base_uri": "https://localhost:8080/"
        }
      },
      "execution_count": 22,
      "outputs": [
        {
          "output_type": "execute_result",
          "data": {
            "text/plain": [
              "dict_keys(['id', 'metadata', 'page_content', 'type'])"
            ]
          },
          "metadata": {},
          "execution_count": 22
        }
      ]
    },
    {
      "cell_type": "code",
      "source": [
        "docs[0].page_content[:200]"
      ],
      "metadata": {
        "id": "8Bj1VtmniKHT",
        "outputId": "86bf1ae3-8003-494d-d6c3-3a587c457e91",
        "colab": {
          "base_uri": "https://localhost:8080/",
          "height": 54
        }
      },
      "execution_count": 28,
      "outputs": [
        {
          "output_type": "execute_result",
          "data": {
            "text/plain": [
              "'Understanding Climate Change \\nChapter 1: Introduction to Climate Change \\nClimate change refers to significant, long-term changes in the global climate. The term \\n\"global climate\" encompasses the plane'"
            ],
            "application/vnd.google.colaboratory.intrinsic+json": {
              "type": "string"
            }
          },
          "metadata": {},
          "execution_count": 28
        }
      ]
    },
    {
      "cell_type": "code",
      "source": [
        "# The vectorstore to use to index the child chunks\n",
        "vectorstore = Chroma(\n",
        "    collection_name=\"full_documents\", embedding_function=OpenAIEmbeddings()\n",
        ")\n",
        "# The storage layer for the parent documents\n",
        "store = InMemoryByteStore()\n",
        "id_key = \"doc_id\"\n",
        "# The retriever (empty to start)\n",
        "retriever = MultiVectorRetriever(\n",
        "    vectorstore=vectorstore,\n",
        "    byte_store=store,\n",
        "    id_key=id_key,\n",
        ")\n",
        "import uuid\n",
        "\n",
        "doc_ids = [str(uuid.uuid4()) for _ in docs]"
      ],
      "metadata": {
        "id": "eWOPYUSngNxY"
      },
      "execution_count": 18,
      "outputs": []
    },
    {
      "cell_type": "code",
      "source": [
        "len(doc_ids), type(doc_ids)"
      ],
      "metadata": {
        "id": "H6rVm4e1ifTH",
        "outputId": "fe7571d8-c3f9-4f56-eb3c-c7e842d4a3fb",
        "colab": {
          "base_uri": "https://localhost:8080/"
        }
      },
      "execution_count": 29,
      "outputs": [
        {
          "output_type": "execute_result",
          "data": {
            "text/plain": [
              "(49, list)"
            ]
          },
          "metadata": {},
          "execution_count": 29
        }
      ]
    },
    {
      "cell_type": "code",
      "source": [
        "# The splitter to use to create smaller chunks\n",
        "child_text_splitter = RecursiveCharacterTextSplitter(chunk_size=271)"
      ],
      "metadata": {
        "id": "PQL-mLlch660"
      },
      "execution_count": 30,
      "outputs": []
    },
    {
      "cell_type": "code",
      "source": [
        "sub_docs = []\n",
        "for i, doc in enumerate(docs):\n",
        "    _id = doc_ids[i]\n",
        "    _sub_docs = child_text_splitter.split_documents([doc])\n",
        "    for _doc in _sub_docs:\n",
        "        _doc.metadata[id_key] = _id\n",
        "    sub_docs.extend(_sub_docs)"
      ],
      "metadata": {
        "id": "AtY0dNgjioQ9"
      },
      "execution_count": 31,
      "outputs": []
    },
    {
      "cell_type": "markdown",
      "source": [
        "Uploading / Upserting child documents to the vector store"
      ],
      "metadata": {
        "id": "0zvQA4Pgi6LT"
      }
    },
    {
      "cell_type": "code",
      "source": [
        "retriever.vectorstore.add_documents(sub_docs)"
      ],
      "metadata": {
        "id": "nfmNRhsXi0B_"
      },
      "execution_count": null,
      "outputs": []
    },
    {
      "cell_type": "markdown",
      "source": [
        "Uploading large documents into doc store"
      ],
      "metadata": {
        "id": "hnqzxF8UjGmo"
      }
    },
    {
      "cell_type": "code",
      "source": [
        "retriever.docstore.mset(list(zip(doc_ids, docs)))"
      ],
      "metadata": {
        "id": "5he9w6U-i37c"
      },
      "execution_count": 33,
      "outputs": []
    },
    {
      "cell_type": "markdown",
      "source": [
        "If we perform similarity search on vector store it will return smaller chunks"
      ],
      "metadata": {
        "id": "G3rAZPPQjPyA"
      }
    },
    {
      "cell_type": "code",
      "source": [
        "# Vectorstore alone retrieves the small chunks\n",
        "retriever.vectorstore.similarity_search(\"Finance\")[0]"
      ],
      "metadata": {
        "id": "6A3nHgumjMVj",
        "outputId": "2c8b8a6d-a015-4f67-bcbf-339e7e33a146",
        "colab": {
          "base_uri": "https://localhost:8080/"
        }
      },
      "execution_count": 34,
      "outputs": [
        {
          "output_type": "execute_result",
          "data": {
            "text/plain": [
              "Document(id='ba487ebd-8cad-4db2-9ce8-c68a69ee83ca', metadata={'doc_id': 'c093ede9-0a7e-4854-adce-e41283b65349', 'page': 1, 'source': '/content/data/What is finance.pdf'}, page_content='What is Finance?\\n• \"Finance\" is a broad term that describes \\ntwo related activities: the study of how \\nmoney is managed and the actual process \\nof acquiring needed funds. \\n• Because individuals, businesses and \\ngovernment entities all need funding to')"
            ]
          },
          "metadata": {},
          "execution_count": 34
        }
      ]
    },
    {
      "cell_type": "code",
      "source": [
        "# Retriever returns larger chunks\n",
        "len(retriever.invoke(\"Finance\")[0].page_content)"
      ],
      "metadata": {
        "id": "rxwJRZqMkM3J",
        "outputId": "3475c378-ff6e-442e-c4d5-e61b78d1c6a2",
        "colab": {
          "base_uri": "https://localhost:8080/"
        }
      },
      "execution_count": 36,
      "outputs": [
        {
          "output_type": "execute_result",
          "data": {
            "text/plain": [
              "395"
            ]
          },
          "metadata": {},
          "execution_count": 36
        }
      ]
    },
    {
      "cell_type": "code",
      "source": [
        "retriever.invoke(\"Finance\")[0].page_content[:500]"
      ],
      "metadata": {
        "id": "NEZPhJ5jljer",
        "outputId": "baea8f2f-9b8c-4dcd-8390-516874bd7f3c",
        "colab": {
          "base_uri": "https://localhost:8080/",
          "height": 90
        }
      },
      "execution_count": 37,
      "outputs": [
        {
          "output_type": "execute_result",
          "data": {
            "text/plain": [
              "'What is Finance?\\n• \"Finance\" is a broad term that describes \\ntwo related activities: the study of how \\nmoney is managed and the actual process \\nof acquiring needed funds. \\n• Because individuals, businesses and \\ngovernment entities all need funding to \\noperate, the field is often separated into \\nthree sub-categories: personal finance, \\ncorporate finance and public finance.\\nwww.investopedia.com'"
            ],
            "application/vnd.google.colaboratory.intrinsic+json": {
              "type": "string"
            }
          },
          "metadata": {},
          "execution_count": 37
        }
      ]
    },
    {
      "cell_type": "markdown",
      "source": [
        "## Ensemble Retriever"
      ],
      "metadata": {
        "id": "TWRCcgl0mJDn"
      }
    },
    {
      "cell_type": "code",
      "source": [
        "loaders = [\n",
        "    PyPDFLoader(\"/content/data/Understanding_Climate_Change.pdf\"),\n",
        "    PyPDFLoader(\"/content/data/What is finance.pdf\")\n",
        "]\n",
        "\n",
        "docs = []\n",
        "for loader in loaders:\n",
        "    docs.extend(loader.load())\n",
        "\n",
        "len(docs), type(docs)"
      ],
      "metadata": {
        "id": "9w0OeRAKn4ZG",
        "outputId": "6aa42dbf-f726-4cdc-940e-49ecd4be5a84",
        "colab": {
          "base_uri": "https://localhost:8080/"
        }
      },
      "execution_count": 40,
      "outputs": [
        {
          "output_type": "execute_result",
          "data": {
            "text/plain": [
              "(49, list)"
            ]
          },
          "metadata": {},
          "execution_count": 40
        }
      ]
    },
    {
      "cell_type": "code",
      "source": [
        "# first retriever\n",
        "bm25_retriever = BM25Retriever.from_documents(docs)\n",
        "bm25_retriever.k = 2"
      ],
      "metadata": {
        "id": "wEWZr-EPmNgC"
      },
      "execution_count": 48,
      "outputs": []
    },
    {
      "cell_type": "code",
      "source": [
        "res = bm25_retriever.invoke(\"What is Cimate?\")\n",
        "len(res)"
      ],
      "metadata": {
        "id": "TkNXvCQ5oTXu",
        "outputId": "edccec51-6f33-4129-a545-04a25cd62d99",
        "colab": {
          "base_uri": "https://localhost:8080/"
        }
      },
      "execution_count": 49,
      "outputs": [
        {
          "output_type": "execute_result",
          "data": {
            "text/plain": [
              "2"
            ]
          },
          "metadata": {},
          "execution_count": 49
        }
      ]
    },
    {
      "cell_type": "code",
      "source": [
        "res[0].page_content[:500]"
      ],
      "metadata": {
        "id": "BsUc0t0ZoWje",
        "outputId": "06d92101-6b1f-4450-9368-d40b9c5aa95f",
        "colab": {
          "base_uri": "https://localhost:8080/",
          "height": 90
        }
      },
      "execution_count": 50,
      "outputs": [
        {
          "output_type": "execute_result",
          "data": {
            "text/plain": [
              "'What is Finance?\\n• \"Finance\" is a broad term that describes \\ntwo related activities: the study of how \\nmoney is managed and the actual process \\nof acquiring needed funds. \\n• Because individuals, businesses and \\ngovernment entities all need funding to \\noperate, the field is often separated into \\nthree sub-categories: personal finance, \\ncorporate finance and public finance.\\nwww.investopedia.com'"
            ],
            "application/vnd.google.colaboratory.intrinsic+json": {
              "type": "string"
            }
          },
          "metadata": {},
          "execution_count": 50
        }
      ]
    },
    {
      "cell_type": "markdown",
      "source": [
        "*Successfully failed! As it completely ignored the climate word and returned doucments for 'What is'*"
      ],
      "metadata": {
        "id": "HTHXliqUo9q_"
      }
    },
    {
      "cell_type": "code",
      "source": [
        "# second retriever\n",
        "embedding = OpenAIEmbeddings()\n",
        "faiss_vectorstore = FAISS.from_documents(docs, embedding)\n",
        "faiss_retriever = faiss_vectorstore.as_retriever(search_kwargs={\"k\": 2})"
      ],
      "metadata": {
        "id": "IJcJWEeBo6DJ"
      },
      "execution_count": 54,
      "outputs": []
    },
    {
      "cell_type": "code",
      "source": [
        "faiss_retriever.invoke(\"What is Cimate?\")"
      ],
      "metadata": {
        "id": "nwEAoBx5pMvt",
        "outputId": "dfec4b4e-c3f1-49eb-9707-02537921156e",
        "colab": {
          "base_uri": "https://localhost:8080/"
        }
      },
      "execution_count": 55,
      "outputs": [
        {
          "output_type": "execute_result",
          "data": {
            "text/plain": [
              "[Document(id='f2c2bd2b-9270-43a0-b196-114740c76192', metadata={'source': '/content/data/Understanding_Climate_Change.pdf', 'page': 0}, page_content='Understanding Climate Change \\nChapter 1: Introduction to Climate Change \\nClimate change refers to significant, long-term changes in the global climate. The term \\n\"global climate\" encompasses the planet\\'s overall weather patterns, including temperature, \\nprecipitation, and wind patterns, over an extended period. Over the past century, human \\nactivities, particularly the burning of fossil fuels and deforestation, have significantly \\ncontributed to climate change. \\nHistorical Context \\nThe Earth\\'s climate has changed throughout history. Over the past 650,000 years, there have \\nbeen seven cycles of glacial advance and retreat, with the abrupt end of the last ice age about \\n11,700 years ago marking the beginning of the modern climate era and human civilization. \\nMost of these climate changes are attributed to very small variations in Earth\\'s orbit that \\nchange the amount of solar energy our planet receives. During the Holocene epoch, which \\nbegan at the end of the last ice age, human societies flourished, but the industrial era has seen \\nunprecedented changes. \\nModern Observations \\nModern scientific observations indicate a rapid increase in global temperatures, sea levels, \\nand extreme weather events. The Intergovernmental Panel on Climate Change (IPCC) has \\ndocumented these changes extensively. Ice core samples, tree rings, and ocean sediments \\nprovide a historical record that scientists use to understand past climate conditions and \\npredict future trends. The evidence overwhelmingly shows that recent changes are primarily \\ndriven by human activities, particularly the emission of greenhouse gases. \\nChapter 2: Causes of Climate Change \\nGreenhouse Gases \\nThe primary cause of recent climate change is the increase in greenhouse gases in the \\natmosphere. Greenhouse gases, such as carbon dioxide (CO2), methane (CH4), and nitrous \\noxide (N2O), trap heat from the sun, creating a \"greenhouse effect.\" This effect is essential \\nfor life on Earth, as it keeps the planet warm enough to support life. However, human \\nactivities have intensified this natural process, leading to a warmer climate. \\nFossil Fuels \\nBurning fossil fuels for energy releases large amounts of CO2. This includes coal, oil, and \\nnatural gas used for electricity, heating, and transportation. The industrial revolution marked \\nthe beginning of a significant increase in fossil fuel consumption, which continues to rise \\ntoday. \\nCoal '),\n",
              " Document(id='9e0b6414-cac3-4915-9dad-de4aac3329e4', metadata={'source': '/content/data/Understanding_Climate_Change.pdf', 'page': 23}, page_content=\"Kyoto Protocol \\nThe Kyoto Protocol, adopted in 1997, set binding emission reduction targets for developed \\ncountries. It was the first major international treaty to address climate change. The protocol \\nlaid the groundwork for subsequent agreements, highlighting the importance of collective \\naction. \\nMontreal Protocol \\nThe Montreal Protocol, designed to protect the ozone layer by phasing out ozone-depleting \\nsubstances, has also contributed to climate mitigation. The Kigali Amendment to the protocol \\ntargets hydrofluorocarbons (HFCs), potent greenhouse gases, demonstrating the treaty's \\nevolving role in climate protection. \\nRegional and National Initiatives \\nEuropean Green Deal \\nThe European Green Deal is an ambitious plan to make Europe the first climate-neutral \\ncontinent by 2050. It includes measures to reduce emissions, promote clean energy, and \\nsupport sustainable agriculture and biodiversity. The deal also aims to create jobs and \\nenhance economic resilience. \\nUnited States Climate Action \\nThe United States has committed to rejoining the Paris Agreement and advancing domestic \\nclimate policies. Initiatives include setting emission reduction targets, investing in renewable \\nenergy, and promoting electric vehicles. State and local governments also play crucial roles \\nin climate action. \\nChina's Climate Strategy \\nChina, the world's largest emitter, has set ambitious targets to peak CO2 emissions before \\n2030 and achieve carbon neutrality by 2060. China's strategy includes expanding renewable \\nenergy, improving energy efficiency, and investing in low-carbon technologies. International \\ncooperation and domestic policy alignment are key to achieving these goals. \\nGlobal Climate Finance \\nGreen Climate Fund \\nThe Green Climate Fund (GCF) supports climate mitigation and adaptation projects in \\ndeveloping countries. It provides financial resources to help vulnerable nations build \\nresilience, reduce emissions, and transition to sustainable development. Ensuring adequate \\nand predictable funding is critical for the GCF's effectiveness. \\nClimate Bonds \\nClimate bonds finance projects that contribute to climate mitigation and adaptation. These \\nbonds attract private investment for renewable energy, energy efficiency, and sustainable \")]"
            ]
          },
          "metadata": {},
          "execution_count": 55
        }
      ]
    },
    {
      "cell_type": "markdown",
      "source": [
        "*As FAISS matches over semantic meaning so it gives the correct output or relevant output*"
      ],
      "metadata": {
        "id": "l5GKFBYoprkt"
      }
    },
    {
      "cell_type": "code",
      "source": [
        "ensemble_retriever_1 = EnsembleRetriever(\n",
        "    retrievers=[bm25_retriever, faiss_retriever], weights=[0.3, 0.7]\n",
        ")"
      ],
      "metadata": {
        "id": "S-LflRBippK3"
      },
      "execution_count": 56,
      "outputs": []
    },
    {
      "cell_type": "code",
      "source": [
        "ensemble_retriever_2 = EnsembleRetriever(\n",
        "    retrievers=[bm25_retriever, faiss_retriever], weights=[0.5, 0.5]\n",
        ")"
      ],
      "metadata": {
        "id": "Zk-6_8i0p9Eq"
      },
      "execution_count": 57,
      "outputs": []
    },
    {
      "cell_type": "code",
      "source": [
        "ensemble_retriever_3 = EnsembleRetriever(\n",
        "    retrievers=[bm25_retriever, faiss_retriever], weights=[0.8, 0.2]\n",
        ")"
      ],
      "metadata": {
        "id": "gXRG5Lo_p9i-"
      },
      "execution_count": 58,
      "outputs": []
    },
    {
      "cell_type": "code",
      "source": [
        "print(f'First \\n {ensemble_retriever_1.invoke(\"What is Cimate?\")[0].page_content[:300]} \\n')\n",
        "print(f'Second \\n {ensemble_retriever_2.invoke(\"What is Cimate?\")[0].page_content[:300]} \\n')\n",
        "print(f'Third \\n {ensemble_retriever_3.invoke(\"What is Cimate?\")[0].page_content[:300]} \\n')"
      ],
      "metadata": {
        "id": "5p7Imj41qFOA",
        "outputId": "c5be4df9-2446-463f-c09e-0b4ffb4f7fa7",
        "colab": {
          "base_uri": "https://localhost:8080/"
        }
      },
      "execution_count": 62,
      "outputs": [
        {
          "output_type": "stream",
          "name": "stdout",
          "text": [
            "First \n",
            " Understanding Climate Change \n",
            "Chapter 1: Introduction to Climate Change \n",
            "Climate change refers to significant, long-term changes in the global climate. The term \n",
            "\"global climate\" encompasses the planet's overall weather patterns, including temperature, \n",
            "precipitation, and wind patterns, over an exte \n",
            "\n",
            "Second \n",
            " What is Finance?\n",
            "• \"Finance\" is a broad term that describes \n",
            "two related activities: the study of how \n",
            "money is managed and the actual process \n",
            "of acquiring needed funds. \n",
            "• Because individuals, businesses and \n",
            "government entities all need funding to \n",
            "operate, the field is often separated into \n",
            "thre \n",
            "\n",
            "Third \n",
            " What is Finance?\n",
            "• \"Finance\" is a broad term that describes \n",
            "two related activities: the study of how \n",
            "money is managed and the actual process \n",
            "of acquiring needed funds. \n",
            "• Because individuals, businesses and \n",
            "government entities all need funding to \n",
            "operate, the field is often separated into \n",
            "thre \n",
            "\n"
          ]
        }
      ]
    }
  ],
  "metadata": {
    "language_info": {
      "name": "python"
    },
    "colab": {
      "provenance": []
    },
    "kernelspec": {
      "name": "python3",
      "display_name": "Python 3"
    }
  },
  "nbformat": 4,
  "nbformat_minor": 0
}