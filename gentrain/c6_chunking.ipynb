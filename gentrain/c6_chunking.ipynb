{
  "cells": [
    {
      "cell_type": "markdown",
      "source": [
        "# Chunking"
      ],
      "metadata": {
        "id": "hCOHhoyhPQes"
      }
    },
    {
      "cell_type": "code",
      "source": [
        "!pip install langchain_community"
      ],
      "metadata": {
        "id": "nNJ7zu0nZDgm"
      },
      "execution_count": null,
      "outputs": []
    },
    {
      "cell_type": "code",
      "source": [
        "from langchain_community.document_loaders import TextLoader\n",
        "from langchain_text_splitters import CharacterTextSplitter, RecursiveCharacterTextSplitter"
      ],
      "metadata": {
        "id": "k3E9rsLwZAvL"
      },
      "execution_count": 13,
      "outputs": []
    },
    {
      "cell_type": "markdown",
      "source": [
        "## Loading Document"
      ],
      "metadata": {
        "id": "rtXkpdI9YvHU"
      }
    },
    {
      "cell_type": "code",
      "source": [
        "loader = TextLoader(\"/content/data/guidetoinvestors.txt\")\n",
        "document = loader.load()\n",
        "len(document)"
      ],
      "metadata": {
        "id": "88cdp3w-X6FD",
        "outputId": "7ede874f-36c7-47b2-e3de-ee59d6cb13ff",
        "colab": {
          "base_uri": "https://localhost:8080/"
        }
      },
      "execution_count": 4,
      "outputs": [
        {
          "output_type": "execute_result",
          "data": {
            "text/plain": [
              "1"
            ]
          },
          "metadata": {},
          "execution_count": 4
        }
      ]
    },
    {
      "cell_type": "code",
      "source": [
        "text = document[0].page_content\n",
        "print(text[:1111])"
      ],
      "metadata": {
        "id": "3uX3X-aNZOAc",
        "outputId": "b24e5efe-fde0-40a3-f1c0-8095799ab55a",
        "colab": {
          "base_uri": "https://localhost:8080/"
        }
      },
      "execution_count": 12,
      "outputs": [
        {
          "output_type": "stream",
          "name": "stdout",
          "text": [
            "April 2007(This essay is derived from a keynote talk at the 2007 ASES Summit\n",
            "at Stanford.)The world of investors is a foreign one to most hackers—partly\n",
            "because investors are so unlike hackers, and partly because they\n",
            "tend to operate in secret.  I've been dealing with this world for\n",
            "many years, both as a founder and an investor, and I still don't\n",
            "fully understand it.In this essay I'm going to list some of the more surprising things\n",
            "I've learned about investors.  Some I only learned in the past year.Teaching hackers how to deal with investors is probably the second\n",
            "most important thing we do at Y Combinator.  The most important\n",
            "thing for a startup is to make something good.  But everyone knows\n",
            "that's important.  The dangerous thing about investors is that\n",
            "hackers don't know how little they know about this strange world.1. The investors are what make a startup hub.About a year ago I tried to figure out what you'd need to reproduce\n",
            "Silicon Valley.  I decided the \n",
            "critical ingredients were rich people\n",
            "and nerds—investors and founders.  People are all you need to\n",
            "make technology, and all the other p\n"
          ]
        }
      ]
    },
    {
      "cell_type": "markdown",
      "source": [
        "## Fixed Size Chunking"
      ],
      "metadata": {
        "id": "SIo7YESOPSo_"
      }
    },
    {
      "cell_type": "code",
      "source": [
        "fixed_chunking = CharacterTextSplitter(\n",
        "    separator=\"\",\n",
        "    chunk_size=500,\n",
        "    chunk_overlap=100,\n",
        "    length_function=len,\n",
        "    is_separator_regex=False\n",
        ")"
      ],
      "metadata": {
        "id": "Y3NbEMZJPaN2"
      },
      "execution_count": 14,
      "outputs": []
    },
    {
      "cell_type": "code",
      "source": [
        "fixed_chunks = fixed_chunking.create_documents([text])\n",
        "len(fixed_chunks), type(fixed_chunks)"
      ],
      "metadata": {
        "id": "zS6Ai9ViaHsl",
        "outputId": "8e2f6d4a-8841-4667-ce2e-8c285976d52b",
        "colab": {
          "base_uri": "https://localhost:8080/"
        }
      },
      "execution_count": 16,
      "outputs": [
        {
          "output_type": "execute_result",
          "data": {
            "text/plain": [
              "(88, list)"
            ]
          },
          "metadata": {},
          "execution_count": 16
        }
      ]
    },
    {
      "cell_type": "code",
      "source": [
        "for i, chunk in enumerate(fixed_chunks[:5]):\n",
        "    print(f\"Chunk {i+1} length: {len(chunk.page_content)}\")\n",
        "    print(f\"Chunk {i+1} content preview: {chunk.page_content[:200]}...\")"
      ],
      "metadata": {
        "id": "0ymIfDBPakUB",
        "outputId": "6ca7b8d4-0bef-4943-b4a4-7e47376c5b1c",
        "colab": {
          "base_uri": "https://localhost:8080/"
        }
      },
      "execution_count": 24,
      "outputs": [
        {
          "output_type": "stream",
          "name": "stdout",
          "text": [
            "Chunk 1 length: 500\n",
            "Chunk 1 content preview: April 2007(This essay is derived from a keynote talk at the 2007 ASES Summit\n",
            "at Stanford.)The world of investors is a foreign one to most hackers—partly\n",
            "because investors are so unlike hackers, and pa...\n",
            "Chunk 2 length: 498\n",
            "Chunk 2 content preview: some of the more surprising things\n",
            "I've learned about investors.  Some I only learned in the past year.Teaching hackers how to deal with investors is probably the second\n",
            "most important thing we do at ...\n",
            "Chunk 3 length: 499\n",
            "Chunk 3 content preview: know about this strange world.1. The investors are what make a startup hub.About a year ago I tried to figure out what you'd need to reproduce\n",
            "Silicon Valley.  I decided the \n",
            "critical ingredients were...\n",
            "Chunk 4 length: 499\n",
            "Chunk 4 content preview: Not because they contribute more to the startup, but simply\n",
            "because they're least willing to move.  They're rich.  They're not\n",
            "going to move to Albuquerque just because there are some smart\n",
            "hackers th...\n",
            "Chunk 5 length: 500\n",
            "Chunk 5 content preview: ls and VCs: VCs invest other people's money, and angels invest\n",
            "their own.Though they're less well known, the angel investors are probably\n",
            "the more critical ingredient in creating a silicon valley.  Mo...\n"
          ]
        }
      ]
    },
    {
      "cell_type": "markdown",
      "source": [
        "*If we pass the separtor parameter then it will override the chunk length and perform chunking on basis of separator.*"
      ],
      "metadata": {
        "id": "dk0G4G_fbDs5"
      }
    },
    {
      "cell_type": "code",
      "source": [
        "fixed_chunking = CharacterTextSplitter(\n",
        "    separator=\",\",\n",
        "    chunk_size=500,\n",
        "    chunk_overlap=100,\n",
        "    length_function=len,\n",
        "    is_separator_regex=False\n",
        ")"
      ],
      "metadata": {
        "id": "hN22HVCFaqa7"
      },
      "execution_count": 27,
      "outputs": []
    },
    {
      "cell_type": "code",
      "source": [
        "fixed_chunks = fixed_chunking.create_documents([text])\n",
        "len(fixed_chunks), type(fixed_chunks)"
      ],
      "metadata": {
        "id": "q8BG0jgXbU3p",
        "outputId": "a42edceb-cd79-42f1-9a7d-a283d6e98901",
        "colab": {
          "base_uri": "https://localhost:8080/"
        }
      },
      "execution_count": 28,
      "outputs": [
        {
          "output_type": "stream",
          "name": "stderr",
          "text": [
            "WARNING:langchain_text_splitters.base:Created a chunk of size 760, which is longer than the specified 500\n",
            "WARNING:langchain_text_splitters.base:Created a chunk of size 619, which is longer than the specified 500\n",
            "WARNING:langchain_text_splitters.base:Created a chunk of size 510, which is longer than the specified 500\n",
            "WARNING:langchain_text_splitters.base:Created a chunk of size 775, which is longer than the specified 500\n"
          ]
        },
        {
          "output_type": "execute_result",
          "data": {
            "text/plain": [
              "(90, list)"
            ]
          },
          "metadata": {},
          "execution_count": 28
        }
      ]
    },
    {
      "cell_type": "code",
      "source": [
        "for i, chunk in enumerate(fixed_chunks[:5]):\n",
        "    print(f\"Chunk {i+1} length: {len(chunk.page_content)}\")\n",
        "    print(f\"Chunk {i+1} content preview: {chunk.page_content[:200]}...\")"
      ],
      "metadata": {
        "id": "Hw8fH7oPbWrr",
        "outputId": "cba8af54-a03f-4229-a9ae-62989ae4f74a",
        "colab": {
          "base_uri": "https://localhost:8080/"
        }
      },
      "execution_count": 29,
      "outputs": [
        {
          "output_type": "stream",
          "name": "stdout",
          "text": [
            "Chunk 1 length: 329\n",
            "Chunk 1 content preview: April 2007(This essay is derived from a keynote talk at the 2007 ASES Summit\n",
            "at Stanford.)The world of investors is a foreign one to most hackers—partly\n",
            "because investors are so unlike hackers, and pa...\n",
            "Chunk 2 length: 759\n",
            "Chunk 2 content preview: and I still don't\n",
            "fully understand it.In this essay I'm going to list some of the more surprising things\n",
            "I've learned about investors.  Some I only learned in the past year.Teaching hackers how to dea...\n",
            "Chunk 3 length: 156\n",
            "Chunk 3 content preview: and all the other people will move.If I had to narrow that down, I'd say investors are the limiting\n",
            "factor.  Not because they contribute more to the startup...\n",
            "Chunk 4 length: 486\n",
            "Chunk 4 content preview: I'd say investors are the limiting\n",
            "factor.  Not because they contribute more to the startup, but simply\n",
            "because they're least willing to move.  They're rich.  They're not\n",
            "going to move to Albuquerque ...\n",
            "Chunk 5 length: 467\n",
            "Chunk 5 content preview: and angels invest\n",
            "their own.Though they're less well known, the angel investors are probably\n",
            "the more critical ingredient in creating a silicon valley.  Most\n",
            "companies that VCs invest in would never h...\n"
          ]
        }
      ]
    },
    {
      "cell_type": "markdown",
      "source": [
        "**So, the points to remember are -**  \n",
        "- It will chunk based on character length and hence, words may split in between.\n",
        "- If separator is passed then the chunking priority is seprator rather than chunk length."
      ],
      "metadata": {
        "id": "Sib0LeGdbsD5"
      }
    },
    {
      "cell_type": "markdown",
      "source": [
        "## Recursive Chunking"
      ],
      "metadata": {
        "id": "eW6wFBKgcMn0"
      }
    },
    {
      "cell_type": "code",
      "source": [
        "recursive_chunking = RecursiveCharacterTextSplitter(\n",
        "    separators=[\"\\n\\n\", \"\\n\", \".\", \" \"],  # Splits on these in order\n",
        "    chunk_size=1000,\n",
        "    chunk_overlap=200,\n",
        "    length_function=len\n",
        ")"
      ],
      "metadata": {
        "id": "xTa65IJrce5f"
      },
      "execution_count": 30,
      "outputs": []
    },
    {
      "cell_type": "code",
      "source": [
        "recursive_chunks = recursive_chunking.create_documents([text])\n",
        "len(recursive_chunks), type(recursive_chunks)"
      ],
      "metadata": {
        "id": "9JKl9gGackMP",
        "outputId": "1bc67bbc-a52e-4685-fb8c-5d7b37589deb",
        "colab": {
          "base_uri": "https://localhost:8080/"
        }
      },
      "execution_count": 34,
      "outputs": [
        {
          "output_type": "execute_result",
          "data": {
            "text/plain": [
              "(45, list)"
            ]
          },
          "metadata": {},
          "execution_count": 34
        }
      ]
    },
    {
      "cell_type": "code",
      "source": [
        "print(\"\\nRecursive chunks:\")\n",
        "for i, chunk in enumerate(recursive_chunks[:10]):\n",
        "    print(f\"Chunk {i+1} length: {len(chunk.page_content)}\")\n",
        "    print(f\"Chunk {i+1} content preview: {chunk.page_content[:200]}...\")"
      ],
      "metadata": {
        "id": "AZMPMmTHcrS2",
        "outputId": "afd4c8c5-7cf7-49a0-d9ae-8d67a06c9ad3",
        "colab": {
          "base_uri": "https://localhost:8080/"
        }
      },
      "execution_count": 35,
      "outputs": [
        {
          "output_type": "stream",
          "name": "stdout",
          "text": [
            "\n",
            "Recursive chunks:\n",
            "Chunk 1 length: 973\n",
            "Chunk 1 content preview: April 2007(This essay is derived from a keynote talk at the 2007 ASES Summit\n",
            "at Stanford.)The world of investors is a foreign one to most hackers—partly\n",
            "because investors are so unlike hackers, and pa...\n",
            "Chunk 2 length: 999\n",
            "Chunk 2 content preview: Silicon Valley.  I decided the \n",
            "critical ingredients were rich people\n",
            "and nerds—investors and founders.  People are all you need to\n",
            "make technology, and all the other people will move.If I had to narr...\n",
            "Chunk 3 length: 976\n",
            "Chunk 3 content preview: companies that VCs invest in would never have made it that far if angels\n",
            "hadn't invested first.  VCs say between half and three quarters of\n",
            "companies that raise series A rounds have taken some outside...\n",
            "Chunk 4 length: 957\n",
            "Chunk 4 content preview: to reward.  So the most successful startup of all is likely to have\n",
            "seemed an extremely risky bet at first, and that is exactly the\n",
            "kind VCs won't touch.Where do angel investors come from?  From other...\n",
            "Chunk 5 length: 992\n",
            "Chunk 5 content preview: invest their own money.  Nor do they want to market themselves to\n",
            "founders: they don't want random people pestering them with business\n",
            "plans.  Actually, neither do VCs.  Both angels and VCs get deals\n",
            "...\n",
            "Chunk 6 length: 986\n",
            "Chunk 6 content preview: understand why there are basically no hacker VCs: How would you\n",
            "like a job where you never got to make anything, but instead spent\n",
            "all your time listening to other people pitch (mostly terrible)\n",
            "proje...\n",
            "Chunk 7 length: 936\n",
            "Chunk 7 content preview: before you try to beat them at that.5. Most investors are momentum investors.Because most investors are dealmakers rather than technology people,\n",
            "they generally don't understand what you're doing.  I ...\n",
            "Chunk 8 length: 948\n",
            "Chunk 8 content preview: making the stock move.This is how most venture investors operate.  They don't try to look\n",
            "at something and predict whether it will take off.  They win by\n",
            "noticing that something is taking off a little...\n",
            "Chunk 9 length: 861\n",
            "Chunk 9 content preview: to be cut out of the deal.  But all it takes is for one big investor\n",
            "to cool on you, and the next week no one will return your phone\n",
            "calls.  We regularly have startups go from hot to cold or cold to\n",
            "h...\n",
            "Chunk 10 length: 981\n",
            "Chunk 10 content preview: when someone offers you a decent deal, just take it and get on with\n",
            "building the company.  Startups win or lose based on the quality\n",
            "of their product, not the quality of their funding deals.6. Most in...\n"
          ]
        }
      ]
    },
    {
      "cell_type": "markdown",
      "source": [
        "**Now, as you can see -**   \n",
        "- It never cuts the word in between, not in splitting as well as not in overlapping also.\n",
        "- It will recursively break the text based on passed separators.\n",
        "- Thus, it prioritize the structure of the text *(but not meaning obviously)*."
      ],
      "metadata": {
        "id": "lyYYwaNxc4JX"
      }
    },
    {
      "cell_type": "code",
      "source": [
        "type(vars(recursive_chunks[0]))"
      ],
      "metadata": {
        "id": "U5zm2dPudo5u"
      },
      "execution_count": null,
      "outputs": []
    },
    {
      "cell_type": "code",
      "source": [],
      "metadata": {
        "id": "nv6RZPcydtvc"
      },
      "execution_count": null,
      "outputs": []
    }
  ],
  "metadata": {
    "language_info": {
      "name": "python"
    },
    "colab": {
      "provenance": []
    },
    "kernelspec": {
      "name": "python3",
      "display_name": "Python 3"
    }
  },
  "nbformat": 4,
  "nbformat_minor": 0
}