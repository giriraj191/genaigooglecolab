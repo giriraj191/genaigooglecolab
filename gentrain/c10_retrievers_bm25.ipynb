{
  "cells": [
    {
      "cell_type": "markdown",
      "source": [
        "# Retrievers | BM25"
      ],
      "metadata": {
        "id": "TLr5lONmKmyz"
      }
    },
    {
      "cell_type": "code",
      "source": [
        "!pip install --upgrade --quiet  rank_bm25 pypdf langchain-community"
      ],
      "metadata": {
        "id": "uelsKtrvKlqw"
      },
      "execution_count": 97,
      "outputs": []
    },
    {
      "cell_type": "code",
      "source": [
        "import re\n",
        "import math\n",
        "import numpy as np\n",
        "from collections import Counter, defaultdict\n",
        "from langchain_community.retrievers import BM25Retriever\n",
        "from langchain.document_loaders import PyPDFLoader\n",
        "from langchain.schema import Document"
      ],
      "metadata": {
        "id": "EK1gm12oKmHO"
      },
      "execution_count": 98,
      "outputs": []
    },
    {
      "cell_type": "markdown",
      "source": [
        "## Loading Data"
      ],
      "metadata": {
        "id": "W3r6gVxKKvaC"
      }
    },
    {
      "cell_type": "code",
      "source": [
        "loader = PyPDFLoader(\"/content/data/Understanding_Climate_Change.pdf\")\n",
        "docs = loader.load()\n",
        "len(docs), type(docs)"
      ],
      "metadata": {
        "id": "c-iqRwOoK0We",
        "outputId": "9d7bfe12-9a02-4dc7-d89e-89bdd6937c80",
        "colab": {
          "base_uri": "https://localhost:8080/"
        }
      },
      "execution_count": 99,
      "outputs": [
        {
          "output_type": "execute_result",
          "data": {
            "text/plain": [
              "(33, list)"
            ]
          },
          "metadata": {},
          "execution_count": 99
        }
      ]
    },
    {
      "cell_type": "code",
      "source": [
        "vars(docs[0])['type']"
      ],
      "metadata": {
        "id": "qvqVxAbcK17V",
        "outputId": "d8d99361-8d07-4a94-a933-e7de7459c128",
        "colab": {
          "base_uri": "https://localhost:8080/",
          "height": 36
        }
      },
      "execution_count": 100,
      "outputs": [
        {
          "output_type": "execute_result",
          "data": {
            "text/plain": [
              "'Document'"
            ],
            "application/vnd.google.colaboratory.intrinsic+json": {
              "type": "string"
            }
          },
          "metadata": {},
          "execution_count": 100
        }
      ]
    },
    {
      "cell_type": "markdown",
      "source": [
        "## Basic Sparse Retriever | BM25"
      ],
      "metadata": {
        "id": "w-6FWxzJMmae"
      }
    },
    {
      "cell_type": "code",
      "source": [
        "retriever_bm25 = BM25Retriever.from_documents(docs)"
      ],
      "metadata": {
        "id": "XzgYisYoNWCv"
      },
      "execution_count": 101,
      "outputs": []
    },
    {
      "cell_type": "code",
      "source": [
        "results = retriever_bm25.invoke(\"What is climate change?\")\n",
        "len(results)"
      ],
      "metadata": {
        "id": "-kDFv2o6NYXZ",
        "outputId": "f04fd3c2-be23-4f77-b699-e485fe9156d8",
        "colab": {
          "base_uri": "https://localhost:8080/"
        }
      },
      "execution_count": 102,
      "outputs": [
        {
          "output_type": "execute_result",
          "data": {
            "text/plain": [
              "4"
            ]
          },
          "metadata": {},
          "execution_count": 102
        }
      ]
    },
    {
      "cell_type": "code",
      "source": [
        "for i, result in enumerate(results):\n",
        "    print(f\"Document {i + 1}\")\n",
        "    print(result.page_content[:111], \"...\")\n",
        "    print()"
      ],
      "metadata": {
        "id": "iRlqjCoHNZ21",
        "outputId": "a5154d07-b3d6-461a-e4d6-4430b372f102",
        "colab": {
          "base_uri": "https://localhost:8080/"
        }
      },
      "execution_count": 103,
      "outputs": [
        {
          "output_type": "stream",
          "name": "stdout",
          "text": [
            "Document 1\n",
            "Indigenous Knowledge and Leadership \n",
            "Role of Indigenous Knowledge \n",
            "Indigenous knowledge systems offer valuable  ...\n",
            "\n",
            "Document 2\n",
            "coordination across government agencies, stakeholder engagement, and regular monitoring \n",
            "and evaluation. \n",
            "Polic ...\n",
            "\n",
            "Document 3\n",
            "Coal is the most carbon-intensive fossil fuel, and its use for electricity generation is a major \n",
            "source of CO2 ...\n",
            "\n",
            "Document 4\n",
            "Community-based solutions leverage local knowledge and resources to address climate \n",
            "challenges. Examples inclu ...\n",
            "\n"
          ]
        }
      ]
    },
    {
      "cell_type": "markdown",
      "source": [
        "## Self-Made BM25"
      ],
      "metadata": {
        "id": "i8LjkP2iNcBZ"
      }
    },
    {
      "cell_type": "markdown",
      "source": [
        "Formula used for ranking documents in BM25   \n",
        "```\n",
        "Score(D,Q) = Σ IDF(qi) × (f(qi,D) × (k1 + 1)) / (f(qi,D) + k1 × (1 - b + b × |D|/avgdl))\n",
        "```"
      ],
      "metadata": {
        "id": "x9_Skw0yObGy"
      }
    },
    {
      "cell_type": "markdown",
      "source": [
        "Inverse Document Frequency :\n",
        "```\n",
        "IDF(qi) = log((N - n(qi) + 0.5) / (n(qi) + 0.5))\n",
        "```\n",
        "Where:  \n",
        "- N is total number of documents\n",
        "- n(qi) is number of documents containing term qi\n",
        "- The +0.5 terms provide smoothing"
      ],
      "metadata": {
        "id": "K_n9MrgROthw"
      }
    },
    {
      "cell_type": "markdown",
      "source": [
        "Term Frequency Component :  \n",
        "```\n",
        "(f(qi,D) × (k1 + 1)) / (f(qi,D) + k1 × (1 - b + b × |D|/avgdl))\n",
        "```\n",
        "Where:  \n",
        "- `f(qi,D)` is frequency of term qi in document D\n",
        "- `k1` is a saturation parameter (typically 1.2), if high, more impact from higher freq.  \n",
        "- `|D|` is document length\n",
        "- `avgdl` is average document length\n",
        "- `b` is length normalization parameter (typically 0.75), 0 means no & 1 means full length normalization."
      ],
      "metadata": {
        "id": "G95oS9HNPFIK"
      }
    },
    {
      "cell_type": "markdown",
      "source": [
        "### Implementation :"
      ],
      "metadata": {
        "id": "IJ3uvZ3sQWQl"
      }
    },
    {
      "cell_type": "code",
      "source": [
        "# default params\n",
        "k1 = 1.2\n",
        "b = 0.75\n",
        "total_docs = 0\n",
        "doc_lengths = []\n",
        "doc_freqs = defaultdict(int)\n",
        "doc_vectors = []\n",
        "avgdl = 0"
      ],
      "metadata": {
        "id": "BG2I3nhXQVT9"
      },
      "execution_count": 104,
      "outputs": []
    },
    {
      "cell_type": "code",
      "source": [
        "def extract_documents(docs):\n",
        "    return [str(doc.page_content) for doc in docs]"
      ],
      "metadata": {
        "id": "tcmqCO5UQGDm"
      },
      "execution_count": null,
      "outputs": []
    },
    {
      "cell_type": "code",
      "source": [
        "def remove_special_characters(text):\n",
        "    text = text.lower()\n",
        "    res = re.sub(r'[^\\w\\s]', '', text)\n",
        "    return res.split()"
      ],
      "metadata": {
        "id": "9GAdDFimSZu2"
      },
      "execution_count": 105,
      "outputs": []
    },
    {
      "cell_type": "code",
      "source": [
        "def calculate_params(documents):\n",
        "    global total_docs, doc_lengths, doc_freqs, doc_vectors, avgdl\n",
        "    total_docs = len(documents)\n",
        "    if total_docs == 0:\n",
        "        return None\n",
        "\n",
        "    # Calculate term and document frequencies and lengths\n",
        "    for doc in documents:\n",
        "        tokens = remove_special_characters(doc)\n",
        "        doc_lengths.append(len(tokens))\n",
        "\n",
        "        # Count Term frequencies\n",
        "        term_freqs = Counter(tokens)\n",
        "        doc_vectors.append(term_freqs)\n",
        "\n",
        "        # Count document frequencies\n",
        "        for term in term_freqs:\n",
        "            doc_freqs[term] += 1\n",
        "\n",
        "    # calculate average document length\n",
        "    avgdl = sum(doc_lengths) / total_docs"
      ],
      "metadata": {
        "id": "_rtwpWuFR-dn"
      },
      "execution_count": 106,
      "outputs": []
    },
    {
      "cell_type": "code",
      "source": [
        "def score(query, index):\n",
        "    score = 0.0\n",
        "    length = doc_lengths[index]\n",
        "    doc_vector = doc_vectors[index]\n",
        "\n",
        "    for token in query:\n",
        "        if token not in doc_freqs:\n",
        "            continue\n",
        "\n",
        "        # IDF\n",
        "        idf = math.log((total_docs - doc_freqs[token] + 0.5) /\n",
        "                      (doc_freqs[token] + 0.5) + 1.0)\n",
        "\n",
        "        # TF\n",
        "        tf = doc_vector.get(token, 0)\n",
        "\n",
        "        # Normalization\n",
        "        numerator = tf * (k1 + 1)\n",
        "        denominator = tf + k1 * (1 - b + b * length / avgdl)\n",
        "\n",
        "        score += idf * numerator / denominator\n",
        "\n",
        "    return score"
      ],
      "metadata": {
        "id": "1TyYTvGFVO7P"
      },
      "execution_count": 107,
      "outputs": []
    },
    {
      "cell_type": "code",
      "source": [
        "def customBM25(query, topk=3):\n",
        "    query = remove_special_characters(query)\n",
        "    documents = extract_documents(docs)\n",
        "    calculate_params(documents)\n",
        "\n",
        "    print(\"Tokens of query:\")\n",
        "    print(query)\n",
        "\n",
        "    scores = []\n",
        "    for i in range(total_docs):\n",
        "        doc_score = score(query, i)\n",
        "        scores.append((i, doc_score, documents[i]))\n",
        "\n",
        "    print(\"Results:\")\n",
        "    scores = sorted(scores, key=lambda x: x[1], reverse=True)\n",
        "    for i, dscore, doc in scores[:topk]:\n",
        "        print(f\"Document {i + 1}\")\n",
        "        print(f\"Score: {dscore}\")\n",
        "        print(f\"Content: {doc[:200]}...\")\n",
        "        print()"
      ],
      "metadata": {
        "id": "lcKEP63SWqCp"
      },
      "execution_count": 108,
      "outputs": []
    },
    {
      "cell_type": "code",
      "source": [
        "customBM25(\"What are effects of Climate Change?\", 5)"
      ],
      "metadata": {
        "id": "Uj5liTpMXMy5",
        "outputId": "b0d48d2a-1755-4ccb-ab49-03727f46db4f",
        "colab": {
          "base_uri": "https://localhost:8080/"
        }
      },
      "execution_count": 109,
      "outputs": [
        {
          "output_type": "stream",
          "name": "stdout",
          "text": [
            "Tokens of query:\n",
            "['what', 'are', 'effects', 'of', 'climate', 'change']\n",
            "Results:\n",
            "Document 3\n",
            "Score: 4.019183721093634\n",
            "Content: Ruminant animals, such as cows and sheep, produce methane during digestion. Manure \n",
            "management practices also contribute to methane and nitrous oxide emissions. Innovations in \n",
            "livestock feeding and w...\n",
            "\n",
            "Document 20\n",
            "Score: 2.8071396519240333\n",
            "Content: Indigenous Knowledge and Leadership \n",
            "Role of Indigenous Knowledge \n",
            "Indigenous knowledge systems offer valuable insights into sustainable land and resource \n",
            "management. Indigenous practices, such as co...\n",
            "\n",
            "Document 7\n",
            "Score: 2.7955653691352964\n",
            "Content: Countries implement various policies to meet their climate goals, including carbon pricing, \n",
            "renewable energy incentives, and emissions regulations. National strategies must align with \n",
            "global targets...\n",
            "\n",
            "Document 13\n",
            "Score: 0.5567474760298794\n",
            "Content: large-scale climate solutions. PPPs are particularly effective in areas such as infrastructure \n",
            "development, renewable energy projects, and sustainable urban planning. \n",
            "Social and Cultural Change \n",
            "Beh...\n",
            "\n",
            "Document 19\n",
            "Score: 0.5527337751062836\n",
            "Content: Ensuring intergenerational equity means taking actions today that protect the rights and well-\n",
            "being of future generations. This involves long-term thinking, sustainable resource \n",
            "management, and resp...\n",
            "\n"
          ]
        }
      ]
    }
  ],
  "metadata": {
    "language_info": {
      "name": "python"
    },
    "colab": {
      "provenance": []
    },
    "kernelspec": {
      "name": "python3",
      "display_name": "Python 3"
    }
  },
  "nbformat": 4,
  "nbformat_minor": 0
}