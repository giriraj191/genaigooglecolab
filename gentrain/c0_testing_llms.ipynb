{
  "cells": [
    {
      "cell_type": "markdown",
      "metadata": {
        "id": "p5JDbZHR4VBz"
      },
      "source": [
        "# Testing LLMs"
      ]
    },
    {
      "cell_type": "markdown",
      "source": [
        "Installing required libraries/packages"
      ],
      "metadata": {
        "id": "cP-VPR-O54PU"
      }
    },
    {
      "cell_type": "code",
      "source": [
        "!pip install langchain-mistralai"
      ],
      "metadata": {
        "id": "J2sw0H1n6Ltw"
      },
      "execution_count": null,
      "outputs": []
    },
    {
      "cell_type": "markdown",
      "source": [
        "Importing required libraries/packages"
      ],
      "metadata": {
        "id": "rv3xmBim5yoz"
      }
    },
    {
      "cell_type": "code",
      "source": [
        "from langchain_mistralai import ChatMistralAI\n",
        "from langchain.chains import ConversationChain\n",
        "from langchain.prompts import PromptTemplate\n",
        "from langchain.schema.runnable import Runnable\n",
        "from langchain_core.runnables import RunnableWithMessageHistory\n",
        "from langchain_core.messages import HumanMessage\n",
        "from langchain.memory import ConversationBufferMemory\n",
        "from google.colab import userdata\n",
        "import os"
      ],
      "metadata": {
        "id": "KrigJLGK6bLv"
      },
      "execution_count": 34,
      "outputs": []
    },
    {
      "cell_type": "markdown",
      "source": [
        "## Mistral AI"
      ],
      "metadata": {
        "id": "eNKRCP4c5ffY"
      }
    },
    {
      "cell_type": "code",
      "source": [
        "MISTRAL_API_KEY = userdata.get('MISTRAL_API_KEY')"
      ],
      "metadata": {
        "id": "FJ3Jz4jI6sna"
      },
      "execution_count": 5,
      "outputs": []
    },
    {
      "cell_type": "code",
      "source": [
        "chat = ChatMistralAI(api_key=MISTRAL_API_KEY)\n",
        "messages = [HumanMessage(content = 'Hi, who developed you and what is your primary use case?')]\n",
        "chat.invoke(messages).content"
      ],
      "metadata": {
        "id": "mh-MmHmD8pvf",
        "outputId": "0196f8a4-d664-43da-affb-aff1a780bac7",
        "colab": {
          "base_uri": "https://localhost:8080/",
          "height": 72
        }
      },
      "execution_count": 36,
      "outputs": [
        {
          "output_type": "execute_result",
          "data": {
            "text/plain": [
              "\"I was developed by Mistral AI, a leading AI company based in Paris. My primary use case is to assist with answering questions, providing information, and engaging in conversation on a wide range of topics. I can help with everything from general knowledge questions, to explaining complex concepts, to generating creative ideas. I'm also able to learn and adapt to the preferences and needs of the user over time, making me a more personalized and effective assistant.\""
            ],
            "application/vnd.google.colaboratory.intrinsic+json": {
              "type": "string"
            }
          },
          "metadata": {},
          "execution_count": 36
        }
      ]
    }
  ],
  "metadata": {
    "language_info": {
      "name": "python"
    },
    "colab": {
      "provenance": []
    },
    "kernelspec": {
      "name": "python3",
      "display_name": "Python 3"
    }
  },
  "nbformat": 4,
  "nbformat_minor": 0
}
