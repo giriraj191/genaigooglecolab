{
  "cells": [
    {
      "cell_type": "markdown",
      "source": [
        "# Agentic Chunking"
      ],
      "metadata": {
        "id": "1N0GEyDAwIZr"
      }
    },
    {
      "cell_type": "code",
      "source": [
        "!pip install --upgrade --quiet  langchain-core langchain-community langchain-openai"
      ],
      "metadata": {
        "id": "64PKswfgwKzS"
      },
      "execution_count": null,
      "outputs": []
    },
    {
      "cell_type": "code",
      "source": [
        "!pip install --quiet pypdf"
      ],
      "metadata": {
        "id": "2ok3cUzayJoG"
      },
      "execution_count": null,
      "outputs": []
    },
    {
      "cell_type": "code",
      "source": [
        "!pip install --quiet llama-index"
      ],
      "metadata": {
        "id": "o1DAKlCsCgem"
      },
      "execution_count": null,
      "outputs": []
    },
    {
      "cell_type": "code",
      "source": [
        "!pip install --quiet langchain-mistralai"
      ],
      "metadata": {
        "id": "88ZO516m6AbI"
      },
      "execution_count": 19,
      "outputs": []
    },
    {
      "cell_type": "code",
      "source": [
        "import re\n",
        "from google.colab import userdata\n",
        "from langchain.document_loaders import PyPDFLoader\n",
        "from langchain_core.output_parsers import StrOutputParser\n",
        "from langchain_core.prompts import ChatPromptTemplate\n",
        "from langchain_mistralai import ChatMistralAI\n",
        "\n",
        "import pandas as pd\n",
        "import numpy as np\n",
        "import matplotlib.pyplot as plt\n",
        "from tqdm import tqdm\n",
        "from sklearn.metrics.pairwise import cosine_similarity\n",
        "from langchain.document_loaders import PyPDFLoader\n",
        "from llama_index.core.node_parser import SentenceSplitter\n",
        "from llama_index.core import SimpleDirectoryReader\n",
        "from langchain_core.documents import Document\n",
        "from llama_index.core import Document as LlamaIndexDocument\n",
        "from langchain.embeddings import HuggingFaceEmbeddings"
      ],
      "metadata": {
        "id": "cTCP1MAmyPcz"
      },
      "execution_count": 58,
      "outputs": []
    },
    {
      "cell_type": "markdown",
      "source": [
        "**Loading Data**"
      ],
      "metadata": {
        "id": "M2g_Ipk9xdW4"
      }
    },
    {
      "cell_type": "code",
      "source": [
        "loader = PyPDFLoader(\"/content/data/Understanding_Climate_Change.pdf\")\n",
        "docs = loader.load()\n",
        "len(docs), type(docs)"
      ],
      "metadata": {
        "colab": {
          "base_uri": "https://localhost:8080/"
        },
        "id": "C72PTUGdyCC5",
        "outputId": "f1c1d9d7-94b5-47b9-c900-0726439e5015"
      },
      "execution_count": 4,
      "outputs": [
        {
          "output_type": "execute_result",
          "data": {
            "text/plain": [
              "(33, list)"
            ]
          },
          "metadata": {},
          "execution_count": 4
        }
      ]
    },
    {
      "cell_type": "code",
      "source": [
        "vars(docs[0]).keys()"
      ],
      "metadata": {
        "colab": {
          "base_uri": "https://localhost:8080/"
        },
        "id": "BXeVw8IkyIvs",
        "outputId": "00ed59db-019e-4fe9-8858-1458d1f63da2"
      },
      "execution_count": 7,
      "outputs": [
        {
          "output_type": "execute_result",
          "data": {
            "text/plain": [
              "dict_keys(['id', 'metadata', 'page_content', 'type'])"
            ]
          },
          "metadata": {},
          "execution_count": 7
        }
      ]
    },
    {
      "cell_type": "code",
      "source": [
        "MISTRAL_API_KEY = userdata.get('MISTRAL_API_KEY')"
      ],
      "metadata": {
        "id": "_ABBbHfyydM5"
      },
      "execution_count": 11,
      "outputs": []
    },
    {
      "cell_type": "markdown",
      "source": [
        "**Creating Prompt for Agentic Chunking**"
      ],
      "metadata": {
        "id": "rKSjoBrVzxBX"
      }
    },
    {
      "cell_type": "code",
      "source": [
        "agentic_prompt = 'Role: You are an agentic chunker. You will be provided with a content.  \\\n",
        "What you have to do:  \\\n",
        "```  \\\n",
        "1. Decompose the content into clear and simple propositions, ensuring they are  \\\n",
        "interpretable out of context.  \\\n",
        "2. Split compound sentence into simple sentences. Maintain the original phrasing from the input whenever possible.  \\\n",
        "3. For any named entity that is accompanied by additional descriptive information, separate this information into its own distinct proposition.  \\\n",
        "4. Decontextualize the proposition by adding necessary modifier to nouns or entire  \\\n",
        "sentence and replacing pronouns (e.g., \"it\", \"he\", \"she\", \"they\", \"this\", \"that\") with the full name of the entities they refer to.  \\\n",
        "5. Present the results as a list of strings, formatted in JSON.  \\\n",
        "```  \\\n",
        "  \\\n",
        "Here is the content: {content}  \\\n",
        "Strictly follow the instructions provided and output in the desired format only.'"
      ],
      "metadata": {
        "id": "T9Tv8wqUz-pH"
      },
      "execution_count": 13,
      "outputs": []
    },
    {
      "cell_type": "markdown",
      "source": [
        "**Testing on first 3 pages of PDF**"
      ],
      "metadata": {
        "id": "3-JiLudG01xY"
      }
    },
    {
      "cell_type": "code",
      "source": [
        "testing_docs = [docs[i].page_content for i in range(3)]\n",
        "len(testing_docs), type(testing_docs)"
      ],
      "metadata": {
        "colab": {
          "base_uri": "https://localhost:8080/"
        },
        "id": "g8FRZ-GH0qif",
        "outputId": "9d292d46-5fa2-44cd-a19c-49b2b3ec0621"
      },
      "execution_count": 14,
      "outputs": [
        {
          "output_type": "execute_result",
          "data": {
            "text/plain": [
              "(3, list)"
            ]
          },
          "metadata": {},
          "execution_count": 14
        }
      ]
    },
    {
      "cell_type": "markdown",
      "source": [
        "**Creating `Runnable` chains for agentic chunk generation.**"
      ],
      "metadata": {
        "id": "iB9rzuC61TZG"
      }
    },
    {
      "cell_type": "code",
      "source": [
        "llm = ChatMistralAI(\n",
        "    mistral_api_key = MISTRAL_API_KEY,\n",
        "    model=\"mistral-large-latest\",\n",
        "    temperature=0,\n",
        "    max_retries=2\n",
        ")"
      ],
      "metadata": {
        "id": "qhYZbYCI5t_o"
      },
      "execution_count": 37,
      "outputs": []
    },
    {
      "cell_type": "code",
      "source": [
        "prompt = ChatPromptTemplate.from_template(f\"Complete task as decribed below. \\n{agentic_prompt}\")"
      ],
      "metadata": {
        "id": "1n5-s6_R3D10"
      },
      "execution_count": 38,
      "outputs": []
    },
    {
      "cell_type": "code",
      "source": [
        "output_parser = StrOutputParser()"
      ],
      "metadata": {
        "id": "xhjC0tQL6G76"
      },
      "execution_count": 39,
      "outputs": []
    },
    {
      "cell_type": "code",
      "source": [
        "chain = prompt | llm | output_parser"
      ],
      "metadata": {
        "id": "0gPCfYGC6n35"
      },
      "execution_count": 40,
      "outputs": []
    },
    {
      "cell_type": "code",
      "source": [
        "chain.invoke({\"content\": testing_docs[0]})"
      ],
      "metadata": {
        "id": "A4Oa9yTb6wO_",
        "outputId": "4d70d1f3-4e3e-4f22-f87a-5f19368db0d9",
        "colab": {
          "base_uri": "https://localhost:8080/",
          "height": 126
        }
      },
      "execution_count": 41,
      "outputs": [
        {
          "output_type": "execute_result",
          "data": {
            "text/plain": [
              "'```json\\n[\\n  \"Climate change refers to significant, long-term changes in the global climate.\",\\n  \"The term \\'global climate\\' encompasses the planet\\'s overall weather patterns.\",\\n  \"The term \\'global climate\\' includes temperature.\",\\n  \"The term \\'global climate\\' includes precipitation.\",\\n  \"The term \\'global climate\\' includes wind patterns.\",\\n  \"The term \\'global climate\\' includes these patterns over an extended period.\",\\n  \"Over the past century, human activities have significantly contributed to climate change.\",\\n  \"Human activities include the burning of fossil fuels.\",\\n  \"Human activities include deforestation.\",\\n  \"The Earth\\'s climate has changed throughout history.\",\\n  \"Over the past 650,000 years, there have been seven cycles of glacial advance and retreat.\",\\n  \"The abrupt end of the last ice age about 11,700 years ago marked the beginning of the modern climate era.\",\\n  \"The abrupt end of the last ice age about 11,700 years ago marked the beginning of human civilization.\",\\n  \"Most of these climate changes are attributed to very small variations in Earth\\'s orbit.\",\\n  \"These variations change the amount of solar energy our planet receives.\",\\n  \"During the Holocene epoch, human societies flourished.\",\\n  \"The Holocene epoch began at the end of the last ice age.\",\\n  \"The industrial era has seen unprecedented changes.\",\\n  \"Modern scientific observations indicate a rapid increase in global temperatures.\",\\n  \"Modern scientific observations indicate a rapid increase in sea levels.\",\\n  \"Modern scientific observations indicate a rapid increase in extreme weather events.\",\\n  \"The Intergovernmental Panel on Climate Change (IPCC) has documented these changes extensively.\",\\n  \"Ice core samples provide a historical record.\",\\n  \"Tree rings provide a historical record.\",\\n  \"Ocean sediments provide a historical record.\",\\n  \"Scientists use these records to understand past climate conditions.\",\\n  \"Scientists use these records to predict future trends.\",\\n  \"The evidence overwhelmingly shows that recent changes are primarily driven by human activities.\",\\n  \"Human activities include the emission of greenhouse gases.\",\\n  \"The primary cause of recent climate change is the increase in greenhouse gases in the atmosphere.\",\\n  \"Greenhouse gases include carbon dioxide (CO2).\",\\n  \"Greenhouse gases include methane (CH4).\",\\n  \"Greenhouse gases include nitrous oxide (N2O).\",\\n  \"Greenhouse gases trap heat from the sun.\",\\n  \"Greenhouse gases create a \\'greenhouse effect\\'.\",\\n  \"This effect is essential for life on Earth.\",\\n  \"This effect keeps the planet warm enough to support life.\",\\n  \"Human activities have intensified this natural process.\",\\n  \"Human activities have led to a warmer climate.\",\\n  \"Burning fossil fuels for energy releases large amounts of CO2.\",\\n  \"Fossil fuels include coal.\",\\n  \"Fossil fuels include oil.\",\\n  \"Fossil fuels include natural gas.\",\\n  \"Fossil fuels are used for electricity.\",\\n  \"Fossil fuels are used for heating.\",\\n  \"Fossil fuels are used for transportation.\",\\n  \"The industrial revolution marked the beginning of a significant increase in fossil fuel consumption.\",\\n  \"This significant increase in fossil fuel consumption continues to rise today.\"\\n]\\n```'"
            ],
            "application/vnd.google.colaboratory.intrinsic+json": {
              "type": "string"
            }
          },
          "metadata": {},
          "execution_count": 41
        }
      ]
    },
    {
      "cell_type": "code",
      "source": [
        "para_props = []\n",
        "for doc in testing_docs:\n",
        "    chain.invoke({\"content\": doc})\n",
        "    para_props.append(chain.invoke({\"content\": doc}))"
      ],
      "metadata": {
        "id": "PeDqql1a64om"
      },
      "execution_count": 43,
      "outputs": []
    },
    {
      "cell_type": "code",
      "source": [
        "for props in para_props:\n",
        "    print(props[:200])\n",
        "    print()"
      ],
      "metadata": {
        "id": "szNcshbF9Z9L",
        "outputId": "87804407-613c-43ed-cf51-64ba55b2a9c9",
        "colab": {
          "base_uri": "https://localhost:8080/"
        }
      },
      "execution_count": 45,
      "outputs": [
        {
          "output_type": "stream",
          "name": "stdout",
          "text": [
            "```json\n",
            "[\n",
            "  \"Climate change refers to significant, long-term changes in the global climate.\",\n",
            "  \"The term 'global climate' encompasses the planet's overall weather patterns.\",\n",
            "  \"The term 'global clim\n",
            "\n",
            "```json\n",
            "[\n",
            "  \"Coal is the most carbon-intensive fossil fuel.\",\n",
            "  \"The use of coal for electricity generation is a major source of CO2 emissions.\",\n",
            "  \"There is a decline in coal use in some regions.\",\n",
            " \n",
            "\n",
            "```json\n",
            "[\n",
            "  \"Ruminant animals produce methane during digestion.\",\n",
            "  \"Cows are ruminant animals.\",\n",
            "  \"Sheep are ruminant animals.\",\n",
            "  \"Manure management practices contribute to methane emissions.\",\n",
            "  \"\n",
            "\n"
          ]
        }
      ]
    },
    {
      "cell_type": "code",
      "source": [
        "props = []\n",
        "for prop in para_props:\n",
        "    props.extend(re.findall(r'\"([^\"]*)\"', prop))\n",
        "len(props), type(props)"
      ],
      "metadata": {
        "id": "3qiMtCE4-Lmt",
        "outputId": "76d51c03-8d78-4d58-9a0a-083dab2d9f17",
        "colab": {
          "base_uri": "https://localhost:8080/"
        }
      },
      "execution_count": 51,
      "outputs": [
        {
          "output_type": "execute_result",
          "data": {
            "text/plain": [
              "(179, list)"
            ]
          },
          "metadata": {},
          "execution_count": 51
        }
      ]
    },
    {
      "cell_type": "code",
      "source": [
        "for p in props[:10]:\n",
        "  print(p)"
      ],
      "metadata": {
        "id": "J2ThROdX9xzK",
        "outputId": "e786bdd1-c5f5-4958-9905-f796d48336b5",
        "colab": {
          "base_uri": "https://localhost:8080/"
        }
      },
      "execution_count": 54,
      "outputs": [
        {
          "output_type": "stream",
          "name": "stdout",
          "text": [
            "Climate change refers to significant, long-term changes in the global climate.\n",
            "The term 'global climate' encompasses the planet's overall weather patterns.\n",
            "The term 'global climate' includes temperature.\n",
            "The term 'global climate' includes precipitation.\n",
            "The term 'global climate' includes wind patterns.\n",
            "The term 'global climate' includes these patterns over an extended period.\n",
            "Over the past century, human activities have significantly contributed to climate change.\n",
            "Human activities that have contributed to climate change include the burning of fossil fuels.\n",
            "Human activities that have contributed to climate change include deforestation.\n",
            "The Earth's climate has changed throughout history.\n"
          ]
        }
      ]
    },
    {
      "cell_type": "markdown",
      "source": [
        "*We've obtained all the propostions. Now, we just have to apply any chunking like `semantic` or `recursive` to achieve the desired embeddings.*  \n",
        "*We can also use LLM for the same task to combine sementically coherent chunks but it will incease the time complexity.*"
      ],
      "metadata": {
        "id": "Av6wqbbgAYuv"
      }
    },
    {
      "cell_type": "code",
      "source": [
        "llama_docs = []\n",
        "for p in props:\n",
        "    llama_docs.append(\n",
        "        LlamaIndexDocument(\n",
        "            text = p\n",
        "        )\n",
        "    )\n",
        "print(\"Docs: \", len(docs), type(docs))\n",
        "print(\"Llama Docs: \", len(llama_docs), type(llama_docs))"
      ],
      "metadata": {
        "id": "qfYz0t-gAzlR",
        "outputId": "70586fd1-e537-4836-948c-cb6f4f3ad09f",
        "colab": {
          "base_uri": "https://localhost:8080/"
        }
      },
      "execution_count": 60,
      "outputs": [
        {
          "output_type": "stream",
          "name": "stdout",
          "text": [
            "Docs:  33 <class 'list'>\n",
            "Llama Docs:  179 <class 'list'>\n"
          ]
        }
      ]
    },
    {
      "cell_type": "code",
      "source": [
        "llama_docs[0]"
      ],
      "metadata": {
        "id": "XvMMWbzeCtZc",
        "outputId": "09137cd6-4cbf-4812-ff2c-7673990cf4f9",
        "colab": {
          "base_uri": "https://localhost:8080/"
        }
      },
      "execution_count": 61,
      "outputs": [
        {
          "output_type": "execute_result",
          "data": {
            "text/plain": [
              "Document(id_='1a672b3d-4c15-49f2-8d3e-1d56547eecd8', embedding=None, metadata={}, excluded_embed_metadata_keys=[], excluded_llm_metadata_keys=[], relationships={}, metadata_template='{key}: {value}', metadata_separator='\\n', text_resource=MediaResource(embeddings=None, data=None, text='Climate change refers to significant, long-term changes in the global climate.', path=None, url=None, mimetype=None), image_resource=None, audio_resource=None, video_resource=None, text_template='{metadata_str}\\n\\n{content}')"
            ]
          },
          "metadata": {},
          "execution_count": 61
        }
      ]
    },
    {
      "cell_type": "code",
      "source": [
        "index_docs = [{'index': i, 'sentence': llama_docs[i].text} for i, sentence in enumerate(llama_docs)]\n",
        "len(index_docs), type(index_docs)"
      ],
      "metadata": {
        "id": "zkxK6AJ1DQrq",
        "outputId": "31c5ca18-aece-4d29-88b6-6ad2edadd9ce",
        "colab": {
          "base_uri": "https://localhost:8080/"
        }
      },
      "execution_count": 62,
      "outputs": [
        {
          "output_type": "execute_result",
          "data": {
            "text/plain": [
              "(179, list)"
            ]
          },
          "metadata": {},
          "execution_count": 62
        }
      ]
    },
    {
      "cell_type": "markdown",
      "source": [
        "**Creating Chunks**"
      ],
      "metadata": {
        "id": "EZYaD5eFDwtF"
      }
    },
    {
      "cell_type": "code",
      "source": [
        "embeddings = HuggingFaceEmbeddings(model_name=\"sentence-transformers/all-MiniLM-L6-v2\")\n",
        "embedded_query = embeddings.embed_query('Hugging Face is a life saver! Arigatho!')\n",
        "len(embedded_query), type(embedded_query)"
      ],
      "metadata": {
        "id": "p2YN_DCfDrwP"
      },
      "execution_count": null,
      "outputs": []
    },
    {
      "cell_type": "code",
      "source": [
        "chunks = []\n",
        "distances = []\n",
        "doc_embeddings = []\n",
        "\n",
        "for i, d in tqdm(enumerate(index_docs)):\n",
        "    embedded_d = embeddings.embed_query(d['sentence'])\n",
        "    doc_embeddings.append(np.array(embedded_d))\n",
        "\n",
        "    if i == 0:\n",
        "        chunks.append([d])\n",
        "    else:\n",
        "      css = cosine_similarity(doc_embeddings[-1].reshape(1, -1), doc_embeddings[-2].reshape(1, -1))\n",
        "      distances.append(1 - css)\n",
        "      if css < 0.7:\n",
        "        chunks[-1].append(d)\n",
        "      else:\n",
        "        chunks.append([d])"
      ],
      "metadata": {
        "id": "h84mAcQ6D2lI",
        "outputId": "6f5e61b5-9464-44b7-dbed-cede757a0713",
        "colab": {
          "base_uri": "https://localhost:8080/"
        }
      },
      "execution_count": 64,
      "outputs": [
        {
          "output_type": "stream",
          "name": "stderr",
          "text": [
            "179it [00:02, 62.03it/s]\n"
          ]
        }
      ]
    },
    {
      "cell_type": "code",
      "source": [
        "print(\"Number of document embeddings: \", len(doc_embeddings))\n",
        "print(\"Number of chunks: \", len(chunks), type(chunks))"
      ],
      "metadata": {
        "id": "6FM0FvB_EXoP",
        "outputId": "cbe17936-49f4-4a8e-8560-4dbe82e5cb11",
        "colab": {
          "base_uri": "https://localhost:8080/"
        }
      },
      "execution_count": 66,
      "outputs": [
        {
          "output_type": "stream",
          "name": "stdout",
          "text": [
            "Number of document embeddings:  179\n",
            "Number of chunks:  84 <class 'list'>\n"
          ]
        }
      ]
    },
    {
      "cell_type": "code",
      "source": [
        "for c in chunks[0]:\n",
        "    print(c)\n",
        "    # print(c.sentence)"
      ],
      "metadata": {
        "id": "1-H_EIeUEnLX",
        "outputId": "9f5bf75a-ce65-4265-b7fb-1feda00d9521",
        "colab": {
          "base_uri": "https://localhost:8080/"
        }
      },
      "execution_count": 83,
      "outputs": [
        {
          "output_type": "stream",
          "name": "stdout",
          "text": [
            "{'index': 0, 'sentence': 'Climate change refers to significant, long-term changes in the global climate.'}\n",
            "{'index': 1, 'sentence': \"The term 'global climate' encompasses the planet's overall weather patterns.\"}\n"
          ]
        }
      ]
    },
    {
      "cell_type": "code",
      "source": [
        "final_chunks = [\n",
        "    {\n",
        "        'index': i,\n",
        "        'chunk': \". \".join(c['sentence'] for c in chunk),\n",
        "        'count': len(chunk)\n",
        "    }\n",
        "    for i, chunk in enumerate(chunks)\n",
        "]\n",
        "len(final_chunks), type(final_chunks)"
      ],
      "metadata": {
        "id": "ANGMumnMEanG",
        "outputId": "7e627d41-87c5-4c9b-bb33-09da57355d7a",
        "colab": {
          "base_uri": "https://localhost:8080/"
        }
      },
      "execution_count": 85,
      "outputs": [
        {
          "output_type": "execute_result",
          "data": {
            "text/plain": [
              "(84, list)"
            ]
          },
          "metadata": {},
          "execution_count": 85
        }
      ]
    },
    {
      "cell_type": "code",
      "source": [
        "for chunk in final_chunks[:10]:\n",
        "    print(chunk)"
      ],
      "metadata": {
        "id": "pqa0gespEgyD",
        "outputId": "c64bb262-2306-479c-bac3-d88bf19adb02",
        "colab": {
          "base_uri": "https://localhost:8080/"
        }
      },
      "execution_count": 87,
      "outputs": [
        {
          "output_type": "stream",
          "name": "stdout",
          "text": [
            "{'index': 0, 'chunk': \"Climate change refers to significant, long-term changes in the global climate.. The term 'global climate' encompasses the planet's overall weather patterns.\", 'count': 2}\n",
            "{'index': 1, 'chunk': \"The term 'global climate' includes temperature.\", 'count': 1}\n",
            "{'index': 2, 'chunk': \"The term 'global climate' includes precipitation.\", 'count': 1}\n",
            "{'index': 3, 'chunk': \"The term 'global climate' includes wind patterns.\", 'count': 1}\n",
            "{'index': 4, 'chunk': \"The term 'global climate' includes these patterns over an extended period.. Over the past century, human activities have significantly contributed to climate change.\", 'count': 2}\n",
            "{'index': 5, 'chunk': 'Human activities that have contributed to climate change include the burning of fossil fuels.', 'count': 1}\n",
            "{'index': 6, 'chunk': \"Human activities that have contributed to climate change include deforestation.. The Earth's climate has changed throughout history.. Over the past 650,000 years, there have been seven cycles of glacial advance and retreat.. The abrupt end of the last ice age about 11,700 years ago marked the beginning of the modern climate era.\", 'count': 4}\n",
            "{'index': 7, 'chunk': \"The abrupt end of the last ice age about 11,700 years ago marked the beginning of human civilization.. Most of these climate changes are attributed to very small variations in Earth's orbit.. These variations in Earth's orbit change the amount of solar energy our planet receives.. The Holocene epoch began at the end of the last ice age.. Human societies flourished during the Holocene epoch.. The industrial era has seen unprecedented changes.. Modern scientific observations indicate a rapid increase in global temperatures.. Modern scientific observations indicate a rapid increase in sea levels.. Modern scientific observations indicate a rapid increase in extreme weather events.. The Intergovernmental Panel on Climate Change (IPCC) has documented these changes extensively.. Ice core samples provide a historical record that scientists use to understand past climate conditions.. Tree rings provide a historical record that scientists use to understand past climate conditions.. Ocean sediments provide a historical record that scientists use to understand past climate conditions.. Scientists use these records to predict future trends.. The evidence overwhelmingly shows that recent changes are primarily driven by human activities.. Human activities that drive recent changes include the emission of greenhouse gases.. The primary cause of recent climate change is the increase in greenhouse gases in the atmosphere.. Greenhouse gases include carbon dioxide (CO2).\", 'count': 18}\n",
            "{'index': 8, 'chunk': 'Greenhouse gases include methane (CH4).. Greenhouse gases include nitrous oxide (N2O).. Greenhouse gases trap heat from the sun.', 'count': 3}\n",
            "{'index': 9, 'chunk': \"Greenhouse gases create a 'greenhouse effect'.\", 'count': 1}\n"
          ]
        }
      ]
    }
  ],
  "metadata": {
    "language_info": {
      "name": "python"
    },
    "colab": {
      "provenance": []
    },
    "kernelspec": {
      "name": "python3",
      "display_name": "Python 3"
    }
  },
  "nbformat": 4,
  "nbformat_minor": 0
}