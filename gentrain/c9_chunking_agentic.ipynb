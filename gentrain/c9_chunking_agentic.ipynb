{
  "cells": [
    {
      "cell_type": "markdown",
      "source": [
        "# Agentic Chunking"
      ],
      "metadata": {
        "id": "1N0GEyDAwIZr"
      }
    },
    {
      "cell_type": "code",
      "source": [
        "!pip install --upgrade --quiet  langchain-core langchain-community langchain-openai"
      ],
      "metadata": {
        "id": "64PKswfgwKzS"
      },
      "execution_count": null,
      "outputs": []
    },
    {
      "cell_type": "code",
      "source": [
        "!pip install --quiet pypdf"
      ],
      "metadata": {
        "id": "2ok3cUzayJoG"
      },
      "execution_count": null,
      "outputs": []
    },
    {
      "cell_type": "code",
      "source": [
        "!pip install --quiet langchain-mistralai"
      ],
      "metadata": {
        "id": "88ZO516m6AbI"
      },
      "execution_count": 19,
      "outputs": []
    },
    {
      "cell_type": "code",
      "source": [
        "from google.colab import userdata\n",
        "from langchain.document_loaders import PyPDFLoader\n",
        "from langchain_core.output_parsers import StrOutputParser\n",
        "from langchain_core.prompts import ChatPromptTemplate\n",
        "from langchain_mistralai import ChatMistralAI"
      ],
      "metadata": {
        "id": "cTCP1MAmyPcz"
      },
      "execution_count": 20,
      "outputs": []
    },
    {
      "cell_type": "markdown",
      "source": [
        "**Loading Data**"
      ],
      "metadata": {
        "id": "M2g_Ipk9xdW4"
      }
    },
    {
      "cell_type": "code",
      "source": [
        "loader = PyPDFLoader(\"/content/data/Understanding_Climate_Change.pdf\")\n",
        "docs = loader.load()\n",
        "len(docs), type(docs)"
      ],
      "metadata": {
        "id": "C72PTUGdyCC5",
        "outputId": "f1c1d9d7-94b5-47b9-c900-0726439e5015",
        "colab": {
          "base_uri": "https://localhost:8080/"
        }
      },
      "execution_count": 4,
      "outputs": [
        {
          "output_type": "execute_result",
          "data": {
            "text/plain": [
              "(33, list)"
            ]
          },
          "metadata": {},
          "execution_count": 4
        }
      ]
    },
    {
      "cell_type": "code",
      "source": [
        "vars(docs[0]).keys()"
      ],
      "metadata": {
        "id": "BXeVw8IkyIvs",
        "outputId": "00ed59db-019e-4fe9-8858-1458d1f63da2",
        "colab": {
          "base_uri": "https://localhost:8080/"
        }
      },
      "execution_count": 7,
      "outputs": [
        {
          "output_type": "execute_result",
          "data": {
            "text/plain": [
              "dict_keys(['id', 'metadata', 'page_content', 'type'])"
            ]
          },
          "metadata": {},
          "execution_count": 7
        }
      ]
    },
    {
      "cell_type": "code",
      "source": [
        "MISTRAL_API_KEY = userdata.get('MISTRAL_API_KEY')"
      ],
      "metadata": {
        "id": "_ABBbHfyydM5"
      },
      "execution_count": 11,
      "outputs": []
    },
    {
      "cell_type": "markdown",
      "source": [
        "**Creating Prompt for Agentic Chunking**"
      ],
      "metadata": {
        "id": "rKSjoBrVzxBX"
      }
    },
    {
      "cell_type": "code",
      "source": [
        "agentic_prompt = 'Role: You are an agentic chunker. You will be provided with a content.  \\\n",
        "What you have to do:  \\\n",
        "```  \\\n",
        "1. Decompose the content into clear and simple propositions, ensuring they are  \\\n",
        "interpretable out of context.  \\\n",
        "2. Split compound sentence into simple sentences. Maintain the original phrasing from the input whenever possible.  \\\n",
        "3. For any named entity that is accompanied by additional descriptive information, separate this information into its own distinct proposition.  \\\n",
        "4. Decontextualize the proposition by adding necessary modifier to nouns or entire  \\\n",
        "sentence and replacing pronouns (e.g., \"it\", \"he\", \"she\", \"they\", \"this\", \"that\") with the full name of the entities they refer to.  \\\n",
        "5. Present the results as a list of strings, formatted in JSON.  \\\n",
        "```  \\\n",
        "  \\\n",
        "Here is the content: {content}  \\\n",
        "Strictly follow the instructions provided and output in the desired format only.'"
      ],
      "metadata": {
        "id": "T9Tv8wqUz-pH"
      },
      "execution_count": 13,
      "outputs": []
    },
    {
      "cell_type": "markdown",
      "source": [
        "**Testing on first 3 pages of PDF**"
      ],
      "metadata": {
        "id": "3-JiLudG01xY"
      }
    },
    {
      "cell_type": "code",
      "source": [
        "testing_docs = [docs[i].page_content for i in range(3)]\n",
        "len(testing_docs), type(testing_docs)"
      ],
      "metadata": {
        "id": "g8FRZ-GH0qif",
        "outputId": "9d292d46-5fa2-44cd-a19c-49b2b3ec0621",
        "colab": {
          "base_uri": "https://localhost:8080/"
        }
      },
      "execution_count": 14,
      "outputs": [
        {
          "output_type": "execute_result",
          "data": {
            "text/plain": [
              "(3, list)"
            ]
          },
          "metadata": {},
          "execution_count": 14
        }
      ]
    },
    {
      "cell_type": "markdown",
      "source": [
        "**Creating `Runnable` chains for agentic chunk generation.**"
      ],
      "metadata": {
        "id": "iB9rzuC61TZG"
      }
    },
    {
      "cell_type": "code",
      "source": [
        "llm = ChatMistralAI(\n",
        "    model=\"mistral-large-latest\",\n",
        "    temperature=0,\n",
        "    max_retries=2,\n",
        "    max_tokens=256,\n",
        "    top_p=1,\n",
        "    frequency_penalty=0.0,\n",
        "    presence_penalty=0.0,\n",
        "    stream=False,\n",
        "    stop=[\"\\n\"],\n",
        "    model_kwargs={\n",
        "        \"use_cache\": True\n",
        "    },\n",
        "    request_timeout=15\n",
        ")"
      ],
      "metadata": {
        "id": "qhYZbYCI5t_o"
      },
      "execution_count": 21,
      "outputs": []
    },
    {
      "cell_type": "code",
      "source": [
        "prompt = ChatPromptTemplate.from_template(f\"Complete task as decribed below. \\n{agentic_prompt}\")"
      ],
      "metadata": {
        "id": "1n5-s6_R3D10"
      },
      "execution_count": 22,
      "outputs": []
    },
    {
      "cell_type": "code",
      "source": [],
      "metadata": {
        "id": "xhjC0tQL6G76"
      },
      "execution_count": null,
      "outputs": []
    }
  ],
  "metadata": {
    "language_info": {
      "name": "python"
    },
    "colab": {
      "provenance": []
    },
    "kernelspec": {
      "name": "python3",
      "display_name": "Python 3"
    }
  },
  "nbformat": 4,
  "nbformat_minor": 0
}