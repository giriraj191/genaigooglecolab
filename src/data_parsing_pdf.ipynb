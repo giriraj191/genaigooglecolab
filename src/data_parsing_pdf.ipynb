{
  "cells": [
    {
      "cell_type": "markdown",
      "metadata": {
        "id": "AgWD97afy4u9"
      },
      "source": [
        "# Data Parsing | PDF | Practice"
      ]
    },
    {
      "cell_type": "code",
      "source": [
        "!pip install \"unstructured[all-docs]\""
      ],
      "metadata": {
        "id": "XY7v0yCTzRfx"
      },
      "execution_count": null,
      "outputs": []
    },
    {
      "cell_type": "code",
      "source": [
        "import pdfplumber"
      ],
      "metadata": {
        "id": "5VG3c4Y538xX"
      },
      "execution_count": 18,
      "outputs": []
    },
    {
      "cell_type": "code",
      "source": [
        "from unstructured.partition.pdf import partition_pdf"
      ],
      "metadata": {
        "id": "Qp4Qu99KzXrH"
      },
      "execution_count": 1,
      "outputs": []
    },
    {
      "cell_type": "code",
      "source": [
        "elements = partition_pdf(\"/content/What is finance.pdf\")\n",
        "len(elements)"
      ],
      "metadata": {
        "id": "DC7EKy_Mz0L6",
        "outputId": "e9d0f556-2702-4a7c-d78e-c27ffaee53f0",
        "colab": {
          "base_uri": "https://localhost:8080/"
        }
      },
      "execution_count": 9,
      "outputs": [
        {
          "output_type": "execute_result",
          "data": {
            "text/plain": [
              "54"
            ]
          },
          "metadata": {},
          "execution_count": 9
        }
      ]
    },
    {
      "cell_type": "code",
      "source": [
        "vars(elements[0])"
      ],
      "metadata": {
        "id": "AQfktkRm1JlE",
        "outputId": "3debc89c-2c93-4f0c-95c5-3fad07474bd4",
        "colab": {
          "base_uri": "https://localhost:8080/"
        }
      },
      "execution_count": 14,
      "outputs": [
        {
          "output_type": "execute_result",
          "data": {
            "text/plain": [
              "{'text': 'T H E U N I V E R S I T Y O F T E X A S A T E L P A S O',\n",
              " 'embeddings': None,\n",
              " '_element_id': 'f886687e389e8e47a366cecd7986ddd8',\n",
              " 'metadata': <unstructured.documents.elements.ElementMetadata at 0x7d10698370d0>}"
            ]
          },
          "metadata": {},
          "execution_count": 14
        }
      ]
    },
    {
      "cell_type": "code",
      "source": [
        "vars(elements[0].metadata)"
      ],
      "metadata": {
        "id": "el2Y319009XO",
        "outputId": "23203cf3-5fc3-469d-d1cd-16acf7493b91",
        "colab": {
          "base_uri": "https://localhost:8080/"
        }
      },
      "execution_count": 12,
      "outputs": [
        {
          "output_type": "execute_result",
          "data": {
            "text/plain": [
              "{'coordinates': CoordinatesMetadata(points=((100.39, 91.84868), (100.39, 111.88868000000002), (619.49252, 111.88868000000002), (619.49252, 91.84868)), system=<unstructured.documents.coordinates.PixelSpace object at 0x7d10698068c0>),\n",
              " 'file_directory': '/content',\n",
              " 'filename': 'What is finance.pdf',\n",
              " 'languages': ['eng'],\n",
              " 'last_modified': '2024-12-29T05:05:18',\n",
              " 'links': [],\n",
              " 'page_number': 1,\n",
              " '_known_field_names': frozenset({'attached_to_filename',\n",
              "            'bcc_recipient',\n",
              "            'category_depth',\n",
              "            'cc_recipient',\n",
              "            'coordinates',\n",
              "            'data_source',\n",
              "            'detection_class_prob',\n",
              "            'detection_origin',\n",
              "            'email_message_id',\n",
              "            'emphasized_text_contents',\n",
              "            'emphasized_text_tags',\n",
              "            'file_directory',\n",
              "            'filename',\n",
              "            'filetype',\n",
              "            'header_footer_type',\n",
              "            'image_base64',\n",
              "            'image_mime_type',\n",
              "            'image_path',\n",
              "            'is_continuation',\n",
              "            'key_value_pairs',\n",
              "            'languages',\n",
              "            'last_modified',\n",
              "            'link_start_indexes',\n",
              "            'link_texts',\n",
              "            'link_urls',\n",
              "            'links',\n",
              "            'orig_elements',\n",
              "            'page_name',\n",
              "            'page_number',\n",
              "            'parent_id',\n",
              "            'sent_from',\n",
              "            'sent_to',\n",
              "            'signature',\n",
              "            'subject',\n",
              "            'table_as_cells',\n",
              "            'text_as_html',\n",
              "            'url'}),\n",
              " 'filetype': 'application/pdf'}"
            ]
          },
          "metadata": {},
          "execution_count": 12
        }
      ]
    },
    {
      "cell_type": "code",
      "source": [
        "for element in elements:\n",
        "  print(element)"
      ],
      "metadata": {
        "id": "gbKv9FZnz2V1",
        "outputId": "79c9ec28-269a-4ab5-fb8c-46c03b7a3f9c",
        "colab": {
          "base_uri": "https://localhost:8080/"
        }
      },
      "execution_count": 10,
      "outputs": [
        {
          "output_type": "stream",
          "name": "stdout",
          "text": [
            "T H E U N I V E R S I T Y O F T E X A S A T E L P A S O\n",
            "College of Business Administration\n",
            "FINANCE\n",
            "What is Finance?\n",
            "\"Finance\" is a broad term that describes two related activities: the study of how money is managed and the actual process of acquiring needed funds.\n",
            "Because individuals, businesses and government entities all need funding to operate, the field is often separated into three sub-categories: personal finance, corporate finance and public finance.\n",
            "www.investopedia.com\n",
            "What does a Finance major actually Do?\n",
            "Research and recommend investments • Manage clients’ portfolios • Provide strategic and financial advice to clients\n",
            "Analyze and prepare financial statements • Analyze market/economic trends\n",
            "Finance majors (usually….)\n",
            "Finance majors usually have:\n",
            "▫ Attention to detail ▫ Teamwork skills ▫ Strong math skills\n",
            "Finance majors usually are:\n",
            "▫ Self-driven ▫ Highly analytical ▫ Goal-oriented\n",
            "Financial Analyst VS General Finance\n",
            "Financial Analyst: Financial analysts help businesses and individuals decide how to invest their money. Financial analysts assess the performance of stocks, bonds, and other types of investments. Financial analysts study the financial statements of a company and analyze sales, costs, tax rates and other date in order to determine a company’s value by projecting its future earnings.\n",
            "General Finance: The Finance major provides students with the theoretical framework and analytical tools and techniques to handle a variety of finance and business functions. The program is designed to prepare a student for financial positions with non-financial corporations, the financial services industry, energy companies, small businesses, and real estate firms.\n",
            "Career Paths in Finance\n",
            "Investment Banking • Personal Finance • Asset Management • Sales and Trading • Investment Research • Financial Advisory • Portfolio Management • Corporate Finance • Insurance\n",
            "Work Environment\n",
            "Financial analysts held about 253,000 jobs in 2012. They work primarily in offices, but travel frequently to visit companies or potential investors. ▫ Many financial analysts work at large financial institutions based\n",
            "in New York City or other major financial centers.\n",
            "▫ In 2012, about 45 percent of financial analysts worked in finance and insurance industries. They worked primarily for security and commodity brokerages, banks and credit institutions, and insurance carriers. Others worked throughout private industry and for government.\n",
            "Financial managers held about 532,100 jobs in 2012. They work in many industries, including banks and insurance companies. They work closely with top executives and with departments that develop the data financial managers need.\n",
            "www.bls.gov\n",
            "Major Requirements at UTEP’s COBA\n",
            "In addition to core business courses, Finance majors are also required to take:\n",
            "General Finance\n",
            "FIN 3315 FIN 4310 Managerial Finance\n",
            "Investments\n",
            "6 FIN Electives\n",
            "Financial Analysts\n",
            "FIN 4315 Portfolio Analysis FIN 4316 Analysis of Derivatives FIN 4318 Financial Analysis of the Firm and Its Valuation FIN 4325 International Finance\n",
            "4 FIN Electives 1 Business Elective Upper Division\n",
            "SEE ONLINE CATALOG FOR COURSE DESCRIPTION: degreeplans.utep.edu\n",
            "Sample Job Titles\n",
            "Personal Financial Planner • Commercial Bank Management • Savings and Loan Management • • Sales & Trading • Stock Brokerage • • Security Analysis • Trust Management Insurance\n",
            "Investment Banking\n",
            "Job Outlook for Finance\n",
            "Employment of financial analysts is projected to grow 16% from 2012 to 2022, faster than the average for all occupations. A growing range of financial products and the need for in-depth knowledge of geographic regions are expected to lead to strong employment growth.\n",
            "Employment of financial examiners is projected to grow 6% percent from 2012 to 2022, slower than the average for all occupations. New regulations will likely create a need for more examiners, though declining employment in federal government will slow growth for these workers. www.bls.gov\n",
            "Internship Opportunities\n",
            "Lockheed Martin • Bank of America • Census Bureau • JPMorgan Chase • IBM • Goldman Sachs • Johnson & Johnson\n",
            "Top Hiring Companies at UTEP\n",
            "Lockheed Martin • Edward Jones • Vanguard • El Paso Electric Company • Wells Fargo\n",
            "Collegiate Student Organizations at UTEP\n",
            "Financial Management Association Mission-Statement: To act as a liaison between students and the business community; provide opportunities for leadership, professional training, employment, and other professional development activities.\n",
            "Association of Latino Professionals in Finance and Accounting Mission-Statement: To create opportunities, add value, build relationships for its members, the community and its business partners while expanding Latino Leadership in the global workforce.\n",
            "Financial Management Association (FMA) and Association of Latino Professionals in Finance and Accounting (ALPFA)\n",
            "10 Reasons Why You Should Join a Student Organization\n",
            "Meet business professionals • Build leadership and business skills • Make friends with common career goals • Go on company tours • Attend social networking events • Make a difference in your community • Compete in national conferences/competitions • Travel!!! • Internship opportunities • Secure your dream job\n",
            "Department Contact Information\n",
            "Economics and Finance Department Business Room 236 Phone: (915)-747-5245 Dr. Tim Roth, Department Chair Nancy Vigil, Administrative Assistant\n"
          ]
        }
      ]
    },
    {
      "cell_type": "markdown",
      "source": [
        "# *Error: Why did it omit the images present in PDF? (group images & logo)*"
      ],
      "metadata": {
        "id": "CXRPtoPA1oi1"
      }
    },
    {
      "cell_type": "markdown",
      "source": [
        "# Continue | Table not showing: Solved by using `hi_res` startegy"
      ],
      "metadata": {
        "id": "SC3le28P1x3y"
      }
    },
    {
      "cell_type": "code",
      "source": [
        "elements = partition_pdf(\"/content/keip107.pdf\")\n",
        "len(elements)"
      ],
      "metadata": {
        "id": "R6Go5vZa06jM",
        "outputId": "3a222218-9b32-48af-e70f-17ebb2c27139",
        "colab": {
          "base_uri": "https://localhost:8080/"
        }
      },
      "execution_count": 15,
      "outputs": [
        {
          "output_type": "execute_result",
          "data": {
            "text/plain": [
              "759"
            ]
          },
          "metadata": {},
          "execution_count": 15
        }
      ]
    },
    {
      "cell_type": "code",
      "source": [
        "for element in elements[:100]:\n",
        "  print(type(element))\n",
        "  print(element)"
      ],
      "metadata": {
        "id": "Tynyv3va2TCo"
      },
      "execution_count": null,
      "outputs": []
    },
    {
      "cell_type": "code",
      "source": [
        "!apt-get update\n",
        "!apt-get install -y tesseract-ocr"
      ],
      "metadata": {
        "id": "4DxF1azE_euO"
      },
      "execution_count": null,
      "outputs": []
    },
    {
      "cell_type": "code",
      "source": [
        "!pip install pytesseract"
      ],
      "metadata": {
        "id": "LPnNPNmO-Pg4"
      },
      "execution_count": null,
      "outputs": []
    },
    {
      "cell_type": "code",
      "source": [
        "# Install poppler-utils\n",
        "!apt-get install -y poppler-utils\n",
        "\n",
        "# Verify installation\n",
        "!poppler-utils --version    # This might not work as expected\n",
        "\n",
        "# Alternative verification\n",
        "!pdfinfo -v    # This should show poppler version"
      ],
      "metadata": {
        "id": "deNF-wCi98mo",
        "outputId": "b33d8c02-2031-4a92-a8f3-e35e58cf42a0",
        "colab": {
          "base_uri": "https://localhost:8080/"
        }
      },
      "execution_count": 22,
      "outputs": [
        {
          "output_type": "stream",
          "name": "stdout",
          "text": [
            "Reading package lists... Done\n",
            "Building dependency tree... Done\n",
            "Reading state information... Done\n",
            "The following NEW packages will be installed:\n",
            "  poppler-utils\n",
            "0 upgraded, 1 newly installed, 0 to remove and 49 not upgraded.\n",
            "Need to get 186 kB of archives.\n",
            "After this operation, 696 kB of additional disk space will be used.\n",
            "Get:1 http://archive.ubuntu.com/ubuntu jammy-updates/main amd64 poppler-utils amd64 22.02.0-2ubuntu0.5 [186 kB]\n",
            "Fetched 186 kB in 2s (116 kB/s)\n",
            "Selecting previously unselected package poppler-utils.\n",
            "(Reading database ... 123634 files and directories currently installed.)\n",
            "Preparing to unpack .../poppler-utils_22.02.0-2ubuntu0.5_amd64.deb ...\n",
            "Unpacking poppler-utils (22.02.0-2ubuntu0.5) ...\n",
            "Setting up poppler-utils (22.02.0-2ubuntu0.5) ...\n",
            "Processing triggers for man-db (2.10.2-1) ...\n",
            "/bin/bash: line 1: poppler-utils: command not found\n",
            "pdfinfo version 22.02.0\n",
            "Copyright 2005-2022 The Poppler Developers - http://poppler.freedesktop.org\n",
            "Copyright 1996-2011 Glyph & Cog, LLC\n"
          ]
        }
      ]
    },
    {
      "cell_type": "code",
      "source": [
        "import pytesseract\n",
        "\n",
        "# Set the tesseract command path (Colab installs it in /usr/bin/tesseract)\n",
        "pytesseract.pytesseract.tesseract_cmd = \"/usr/bin/tesseract\""
      ],
      "metadata": {
        "id": "yp2rs0M5_p68"
      },
      "execution_count": 31,
      "outputs": []
    },
    {
      "cell_type": "code",
      "source": [
        "elements = partition_pdf(filename = \"/content/Convert_activities_to_steps.pdf\",\n",
        "                         infer_table_structure = True,\n",
        "                         strategy = 'hi_res')\n",
        "len(elements)"
      ],
      "metadata": {
        "id": "1s3JaHf42Yri",
        "outputId": "6b9a393a-617f-4f82-bb5e-237947abf4c8",
        "colab": {
          "base_uri": "https://localhost:8080/",
          "height": 201,
          "referenced_widgets": [
            "f241b0a9a8c74ce39b89306c8341f2ea",
            "681f9a1841d4496fa13d4db25fc61fce",
            "bfac1321907245b5b44c1b2662264f95",
            "44b9f98849dc4fc78cb2102f8919f40a",
            "39bf2da7aec44f998e16b83a64b0dd88",
            "1f3039209f5c4e8dbbe9c9027ad2197b",
            "31911d0b444040bf8969913015c9b498",
            "bb595bf634064c56b835185ebf442753",
            "b4a98d0c927648d38753452e33ad3b60",
            "4b09510274464f2d9cb89f54da3cc56a",
            "4e090176e96f4e178f8ae05d32b48088",
            "d5ce4e95e3114b678e31ef7ea941919d",
            "8486ba329c104325aa9a2b01e36de905",
            "bca6f192007b402da6f13b49c76041c3",
            "0e0cedde233949899a0644bf66a22dfc",
            "f78fe2e34e9d41fd948989ce0df48ada",
            "633542ce911b4d338c3f1389523c6276",
            "d6aaaa37dc134d4cba747cf0625239c7",
            "1b70de3fbfce49198ae10183a03b162e",
            "9d4700f420cf4b3a813d6bb386935039",
            "59d284a62061484d81c4e0053f2e1b08",
            "a4a563e7434f4c97978cf9450d45afcb",
            "8d540cd64da5480298e6ee7c7703782b",
            "e54a15625c6b489baa99b055b5fa7f9f",
            "5c7225233738416aa5ef06cf8fd8f02b",
            "34605988e2db4484a99a727945cd42bb",
            "9deefcc6f89346a98e8eec54bec68c50",
            "74e8164678864e42926280d1d29609a4",
            "6cdb5f79d4cc400191c3448096c14d20",
            "34cdfd6ecd834ec8855fa2f623f63e72",
            "b201ff3302874642abfd3d9f9cd3eb1a",
            "a10cd469820e4b0199cd908792a5d8a3",
            "46f28b8ad4614a86a66466f89444e9da",
            "7fa04f26e3e44a87bfcb96d0f647889b",
            "63583216f75546e4a3debfa52522826c",
            "561864079e45497c9e1d434d92cc2b54",
            "27d58ead714d41f7b4c9d4e421174259",
            "db0db23a73d246c28eff6ffbf836965d",
            "e7f4240742064a3d9865e41b98ae9457",
            "c508c9e0105c4c43ad569c3eacbdbe18",
            "17aae75303af4059b47b5d2cc39be54a",
            "38bc82f204f3438d9ff56d6a177486c7",
            "608c2c1e4cfb4d0283133262f32c1280",
            "f397e046ce064ea9b6cc20e973b1510c"
          ]
        }
      },
      "execution_count": 32,
      "outputs": [
        {
          "output_type": "stream",
          "name": "stderr",
          "text": [
            "The cache for model files in Transformers v4.22.0 has been updated. Migrating your old cache. This is a one-time only operation. You can interrupt this and resume the migration later on by calling `transformers.utils.move_cache()`.\n"
          ]
        },
        {
          "output_type": "display_data",
          "data": {
            "text/plain": [
              "0it [00:00, ?it/s]"
            ],
            "application/vnd.jupyter.widget-view+json": {
              "version_major": 2,
              "version_minor": 0,
              "model_id": "f241b0a9a8c74ce39b89306c8341f2ea"
            }
          },
          "metadata": {}
        },
        {
          "output_type": "display_data",
          "data": {
            "text/plain": [
              "config.json:   0%|          | 0.00/1.47k [00:00<?, ?B/s]"
            ],
            "application/vnd.jupyter.widget-view+json": {
              "version_major": 2,
              "version_minor": 0,
              "model_id": "d5ce4e95e3114b678e31ef7ea941919d"
            }
          },
          "metadata": {}
        },
        {
          "output_type": "display_data",
          "data": {
            "text/plain": [
              "model.safetensors:   0%|          | 0.00/115M [00:00<?, ?B/s]"
            ],
            "application/vnd.jupyter.widget-view+json": {
              "version_major": 2,
              "version_minor": 0,
              "model_id": "8d540cd64da5480298e6ee7c7703782b"
            }
          },
          "metadata": {}
        },
        {
          "output_type": "display_data",
          "data": {
            "text/plain": [
              "model.safetensors:   0%|          | 0.00/46.8M [00:00<?, ?B/s]"
            ],
            "application/vnd.jupyter.widget-view+json": {
              "version_major": 2,
              "version_minor": 0,
              "model_id": "7fa04f26e3e44a87bfcb96d0f647889b"
            }
          },
          "metadata": {}
        },
        {
          "output_type": "execute_result",
          "data": {
            "text/plain": [
              "38"
            ]
          },
          "metadata": {},
          "execution_count": 32
        }
      ]
    },
    {
      "cell_type": "code",
      "source": [
        "for element in elements[:100]:\n",
        "  print(type(element))\n",
        "  print(element)"
      ],
      "metadata": {
        "id": "ExjpW9QY4wuc",
        "outputId": "c2d95747-606f-4264-fe89-ccfc77133a23",
        "colab": {
          "base_uri": "https://localhost:8080/"
        }
      },
      "execution_count": 33,
      "outputs": [
        {
          "output_type": "stream",
          "name": "stdout",
          "text": [
            "<class 'unstructured.documents.elements.Title'>\n",
            "Convert Activities to Steps\n",
            "<class 'unstructured.documents.elements.NarrativeText'>\n",
            "Multiply the number of minutes of the activity by the number of equivalent steps per minute. For example, if you bicycled at a leisurely pace for 30 minutes,\n",
            "<class 'unstructured.documents.elements.Title'>\n",
            "multiply 116 X 30 to come up with 3,480 steps.\n",
            "<class 'unstructured.documents.elements.Title'>\n",
            "Activity\n",
            "<class 'unstructured.documents.elements.Title'>\n",
            "Steps per\n",
            "<class 'unstructured.documents.elements.Table'>\n",
            "Minute Aerobic Dance Class 127 Aerobic Fitness Class 181 Aerobics, low impact 125 Aerobics, step 153 Auto Repair (light to 71–91 moderate) Backpacking 195 Badminton (casual to 131–203 competitive) Ballet 120 Baseball 111 Basketball (shooting baskets) 174 Basketball Game 242 Basketball (playing by 164 wheelchair) Bicycling, leisurely 116 Bicycling, easy pace 130 Bicycling, moderate pace 170 Bicycling, vigorous pace 200 Bowling 87 Boxing, non-competitive 131 Boxing, competitive 222 Calisthenics 106 Canoe (light to moderate) 87–106 Circuit Training 232 Climbing (rock/mountain) 270 Croquet 76 Cross-Country Skiing 232 Curling (sweeping) 125\n",
            "<class 'unstructured.documents.elements.Table'>\n",
            "Activity Steps per Minute Downhill Skiing 174 Elliptical Trainer 203 Fencing 182 Firewood Carrying/Stacking 145 Fishing 91 Football 199–260 Frisbee 91 Gardening (light to heavy) 116–174 Golfing (no cart, 18 holes) 131 Grocery Shopping 67 Handball 348 Hanging Laundry on Line 72 Hiking (general) 172 Hockey (field, ice) 260 Horseback Riding 116 Horseshoes 71 House cleaning 101 Ice Skating (slow) 84 Ice Skating (moderate) 122 Ice Skating (fast) 203 Judo/Karate 236 Jumping Rope (moderate) 250 Jumping Rope (fast) 300 Kayaking 152 Kickboxing 290 Lacrosse 242 Miniature Golf 91 Mopping 60\n",
            "<class 'unstructured.documents.elements.Title'>\n",
            "Mowing Lawn (push) —small\n",
            "<class 'unstructured.documents.elements.Text'>\n",
            "160–242\n",
            "<class 'unstructured.documents.elements.Title'>\n",
            "Dancing (light to lively)\n",
            "<class 'unstructured.documents.elements.Text'>\n",
            "109–131\n",
            "<class 'unstructured.documents.elements.Title'>\n",
            "to large lot\n",
            "<class 'unstructured.documents.elements.Table'>\n",
            "Activity Orienteering Painting a wall or room Pilates Ping Pong Pool/Billiards Punching Bag Racquetball (casual) Racquetball (competitive) Raking Leaves Rock Climbing Roller-skating/Rollerblading Rowing (light) Rowing (moderate) Rowing (competitive) Running (5mph, 12 minute/mile) Running (6mph, 10 minute/mile) Running (8mph, 7.5 minute/mile) Running (10mph, 6 minute/mile) Sailing Scrub Floors Scuba Diving Shopping (mall) Skateboarding Skeeball Skiing (light to moderate) Steps per Minute 260 78–131 101 116 76 180 181 254 125 244 203 101 147 203 232 290 391 463 91 71 203 71 152 52 109\n",
            "<class 'unstructured.documents.elements.Title'>\n",
            "Skiing (cross-country)\n",
            "<class 'unstructured.documents.elements.Text'>\n",
            "114\n",
            "<class 'unstructured.documents.elements.Title'>\n",
            "Sledding\n",
            "<class 'unstructured.documents.elements.Title'>\n",
            "Sledding\n",
            "<class 'unstructured.documents.elements.Text'>\n",
            "158\n",
            "<class 'unstructured.documents.elements.Title'>\n",
            "Snow Shoveling\n",
            "<class 'unstructured.documents.elements.Text'>\n",
            "174\n",
            "<class 'unstructured.documents.elements.Title'>\n",
            "Snowboarding Snowshoeing\n",
            "<class 'unstructured.documents.elements.Title'>\n",
            "Snowboarding\n",
            "<class 'unstructured.documents.elements.Text'>\n",
            "182\n",
            "<class 'unstructured.documents.elements.Text'>\n",
            "181\n",
            "<class 'unstructured.documents.elements.Table'>\n",
            "Activity Soccer (competitive) Soccer (recreational) Softball Spinning Squash Stair Climbing (downstairs) Stair Climbing (upstairs) Stair Climbing (machine) Stretching Surfing Swimming (backstroke) Swimming (butterfly) Swimming (freestyle) Swimming (leisure) Swimming (treading water) Tae Bo Tae Kwon Do Tai Chi Tennis Trampoline Trim Trees/Shrubs (manually) Vacuuming House Volleyball (light to moderate) Walking (slow) Walking (moderate) Walking (fast) Steps per Minute 200 145 145 200 348 71 181 200 15 91 181 272 181 174 116 250 290 40 232 101 116 94 87–121 68 122 197\n",
            "<class 'unstructured.documents.elements.Title'>\n",
            "Wash car (small to truck)\n",
            "<class 'unstructured.documents.elements.Text'>\n",
            "71–87\n",
            "<class 'unstructured.documents.elements.Title'>\n",
            "Wash Windows (manually)\n",
            "<class 'unstructured.documents.elements.Text'>\n",
            "87\n",
            "<class 'unstructured.documents.elements.Title'>\n",
            "Wash/Dry Dishes by Hand\n",
            "<class 'unstructured.documents.elements.Text'>\n",
            "72\n",
            "<class 'unstructured.documents.elements.Title'>\n",
            "Water Aerobics\n",
            "<class 'unstructured.documents.elements.Text'>\n",
            "116\n",
            "<class 'unstructured.documents.elements.Title'>\n",
            "Water Skiing\n",
            "<class 'unstructured.documents.elements.Text'>\n",
            "174\n",
            "<class 'unstructured.documents.elements.Table'>\n",
            "Activity Steps per Minute Waxing Car 80 Weight Lifting (light) 67 Weight Lifting (moderate) 87 Weight Lifting (vigorous) 174 Wheelchair Use (manual) 101\n",
            "<class 'unstructured.documents.elements.Table'>\n",
            "Activity Yard Work (light to moderate) Yoga (light to moderate) Zumba Steps per Minute 89–145 45–72 148\n",
            "<class 'unstructured.documents.elements.Image'>\n",
            "Mit | 7 getfit\n"
          ]
        }
      ]
    },
    {
      "cell_type": "code",
      "source": [
        "tables = [element for element in elements if element.category == \"Table\"]\n",
        "len(tables)"
      ],
      "metadata": {
        "id": "FO4XwKG14z78",
        "outputId": "34e60006-66e6-4e2b-99aa-826f3b3b625d",
        "colab": {
          "base_uri": "https://localhost:8080/"
        }
      },
      "execution_count": 34,
      "outputs": [
        {
          "output_type": "execute_result",
          "data": {
            "text/plain": [
              "6"
            ]
          },
          "metadata": {},
          "execution_count": 34
        }
      ]
    },
    {
      "cell_type": "code",
      "source": [
        "print(tables[0].text)"
      ],
      "metadata": {
        "id": "aMnfPKpWAgRA",
        "outputId": "13b1cd29-357c-4ee1-8d34-149133995333",
        "colab": {
          "base_uri": "https://localhost:8080/"
        }
      },
      "execution_count": 35,
      "outputs": [
        {
          "output_type": "stream",
          "name": "stdout",
          "text": [
            "Minute Aerobic Dance Class 127 Aerobic Fitness Class 181 Aerobics, low impact 125 Aerobics, step 153 Auto Repair (light to 71–91 moderate) Backpacking 195 Badminton (casual to 131–203 competitive) Ballet 120 Baseball 111 Basketball (shooting baskets) 174 Basketball Game 242 Basketball (playing by 164 wheelchair) Bicycling, leisurely 116 Bicycling, easy pace 130 Bicycling, moderate pace 170 Bicycling, vigorous pace 200 Bowling 87 Boxing, non-competitive 131 Boxing, competitive 222 Calisthenics 106 Canoe (light to moderate) 87–106 Circuit Training 232 Climbing (rock/mountain) 270 Croquet 76 Cross-Country Skiing 232 Curling (sweeping) 125\n"
          ]
        }
      ]
    },
    {
      "cell_type": "code",
      "source": [
        "from IPython.display import HTML\n",
        "HTML(tables[0].metadata.text_as_html)"
      ],
      "metadata": {
        "id": "MXEpOAzeA89o",
        "outputId": "25d1d432-3346-4879-c83c-d8aaab1e95e0",
        "colab": {
          "base_uri": "https://localhost:8080/",
          "height": 602
        }
      },
      "execution_count": 40,
      "outputs": [
        {
          "output_type": "execute_result",
          "data": {
            "text/plain": [
              "<IPython.core.display.HTML object>"
            ],
            "text/html": [
              "<table><thead><tr><th>Aerobic Dance Class</th><th>127</th></tr></thead><tbody><tr><td>Aerobic Fitness Class</td><td>181</td></tr><tr><td>Aerobics, low impact</td><td>125</td></tr><tr><td>Aerobics, step</td><td>153</td></tr><tr><td>Auto Repair (light to moderate)</td><td>71-91</td></tr><tr><td>Backpacking</td><td>195</td></tr><tr><td>Badminton (casual to</td><td>131-203</td></tr><tr><td>competitive)</td><td></td></tr><tr><td>Ballet</td><td>120</td></tr><tr><td>Baseball</td><td>111</td></tr><tr><td>Basketball (shooting baskets)</td><td>174</td></tr><tr><td>Basketball Game</td><td>242</td></tr><tr><td>Basketball (playing by</td><td>164</td></tr><tr><td>wheelchair)</td><td></td></tr><tr><td>Bicycling, leisurely</td><td>116</td></tr><tr><td>Bicycling, easy pace</td><td>130</td></tr><tr><td>Bicycling, moderate pace</td><td>170</td></tr><tr><td>Bicycling, vigorous pace</td><td>200</td></tr><tr><td>Bowling</td><td>87</td></tr><tr><td>Boxing, non-competitive</td><td>131</td></tr><tr><td>Boxing, competitive</td><td>222</td></tr><tr><td>Calisthenics</td><td>106</td></tr><tr><td>Canoe (light to moderate)</td><td>87-106</td></tr><tr><td>Circuit Training</td><td>232</td></tr><tr><td>Climbing (rock/mountain)</td><td>270</td></tr><tr><td>Croquet</td><td>76</td></tr><tr><td>Cross-Country Skiing</td><td>232</td></tr><tr><td>Curling (sweeping)</td><td>125</td></tr></tbody></table>"
            ]
          },
          "metadata": {},
          "execution_count": 40
        }
      ]
    },
    {
      "cell_type": "markdown",
      "source": [
        "### Using PDFPlumber"
      ],
      "metadata": {
        "id": "CjRb_fydA_cw"
      }
    },
    {
      "cell_type": "code",
      "source": [
        "with pdfplumber.open(\"/content/Convert_activities_to_steps.pdf\") as pdf:\n",
        "  page = pdf.pages[0]\n",
        "  tables = page.extract_tables()"
      ],
      "metadata": {
        "id": "d_YJ0xj6Bij-"
      },
      "execution_count": 43,
      "outputs": []
    },
    {
      "cell_type": "code",
      "source": [
        "import pandas as pd"
      ],
      "metadata": {
        "id": "pVos97XYECYV"
      },
      "execution_count": 47,
      "outputs": []
    },
    {
      "cell_type": "code",
      "source": [
        "df = pd.DataFrame(tables[0])"
      ],
      "metadata": {
        "id": "I4Fkl3hwCpoZ"
      },
      "execution_count": 48,
      "outputs": []
    },
    {
      "cell_type": "code",
      "source": [
        "df"
      ],
      "metadata": {
        "id": "XoSYM3j4C6-H",
        "outputId": "7c09143d-dcc4-4cc5-f057-0907a56c0da3",
        "colab": {
          "base_uri": "https://localhost:8080/",
          "height": 927
        }
      },
      "execution_count": 49,
      "outputs": [
        {
          "output_type": "execute_result",
          "data": {
            "text/plain": [
              "                                      0                  1\n",
              "0                              Activity  Steps per\\nMinute\n",
              "1                   Aerobic Dance Class                127\n",
              "2                 Aerobic Fitness Class                181\n",
              "3                  Aerobics, low impact                125\n",
              "4                        Aerobics, step                153\n",
              "5      Auto Repair (light to\\nmoderate)              71–91\n",
              "6                           Backpacking                195\n",
              "7    Badminton (casual to\\ncompetitive)            131–203\n",
              "8                                Ballet                120\n",
              "9                              Baseball                111\n",
              "10        Basketball (shooting baskets)                174\n",
              "11                      Basketball Game                242\n",
              "12  Basketball (playing by\\nwheelchair)                164\n",
              "13                 Bicycling, leisurely                116\n",
              "14                 Bicycling, easy pace                130\n",
              "15             Bicycling, moderate pace                170\n",
              "16             Bicycling, vigorous pace                200\n",
              "17                              Bowling                 87\n",
              "18              Boxing, non-competitive                131\n",
              "19                  Boxing, competitive                222\n",
              "20                         Calisthenics                106\n",
              "21            Canoe (light to moderate)             87–106\n",
              "22                     Circuit Training                232\n",
              "23             Climbing (rock/mountain)                270\n",
              "24                              Croquet                 76\n",
              "25                 Cross-Country Skiing                232\n",
              "26                   Curling (sweeping)                125\n",
              "27            Dancing (light to lively)            109–131"
            ],
            "text/html": [
              "\n",
              "  <div id=\"df-9d5d1a9f-517f-4140-a5cd-7da68a3d29ea\" class=\"colab-df-container\">\n",
              "    <div>\n",
              "<style scoped>\n",
              "    .dataframe tbody tr th:only-of-type {\n",
              "        vertical-align: middle;\n",
              "    }\n",
              "\n",
              "    .dataframe tbody tr th {\n",
              "        vertical-align: top;\n",
              "    }\n",
              "\n",
              "    .dataframe thead th {\n",
              "        text-align: right;\n",
              "    }\n",
              "</style>\n",
              "<table border=\"1\" class=\"dataframe\">\n",
              "  <thead>\n",
              "    <tr style=\"text-align: right;\">\n",
              "      <th></th>\n",
              "      <th>0</th>\n",
              "      <th>1</th>\n",
              "    </tr>\n",
              "  </thead>\n",
              "  <tbody>\n",
              "    <tr>\n",
              "      <th>0</th>\n",
              "      <td>Activity</td>\n",
              "      <td>Steps per\\nMinute</td>\n",
              "    </tr>\n",
              "    <tr>\n",
              "      <th>1</th>\n",
              "      <td>Aerobic Dance Class</td>\n",
              "      <td>127</td>\n",
              "    </tr>\n",
              "    <tr>\n",
              "      <th>2</th>\n",
              "      <td>Aerobic Fitness Class</td>\n",
              "      <td>181</td>\n",
              "    </tr>\n",
              "    <tr>\n",
              "      <th>3</th>\n",
              "      <td>Aerobics, low impact</td>\n",
              "      <td>125</td>\n",
              "    </tr>\n",
              "    <tr>\n",
              "      <th>4</th>\n",
              "      <td>Aerobics, step</td>\n",
              "      <td>153</td>\n",
              "    </tr>\n",
              "    <tr>\n",
              "      <th>5</th>\n",
              "      <td>Auto Repair (light to\\nmoderate)</td>\n",
              "      <td>71–91</td>\n",
              "    </tr>\n",
              "    <tr>\n",
              "      <th>6</th>\n",
              "      <td>Backpacking</td>\n",
              "      <td>195</td>\n",
              "    </tr>\n",
              "    <tr>\n",
              "      <th>7</th>\n",
              "      <td>Badminton (casual to\\ncompetitive)</td>\n",
              "      <td>131–203</td>\n",
              "    </tr>\n",
              "    <tr>\n",
              "      <th>8</th>\n",
              "      <td>Ballet</td>\n",
              "      <td>120</td>\n",
              "    </tr>\n",
              "    <tr>\n",
              "      <th>9</th>\n",
              "      <td>Baseball</td>\n",
              "      <td>111</td>\n",
              "    </tr>\n",
              "    <tr>\n",
              "      <th>10</th>\n",
              "      <td>Basketball (shooting baskets)</td>\n",
              "      <td>174</td>\n",
              "    </tr>\n",
              "    <tr>\n",
              "      <th>11</th>\n",
              "      <td>Basketball Game</td>\n",
              "      <td>242</td>\n",
              "    </tr>\n",
              "    <tr>\n",
              "      <th>12</th>\n",
              "      <td>Basketball (playing by\\nwheelchair)</td>\n",
              "      <td>164</td>\n",
              "    </tr>\n",
              "    <tr>\n",
              "      <th>13</th>\n",
              "      <td>Bicycling, leisurely</td>\n",
              "      <td>116</td>\n",
              "    </tr>\n",
              "    <tr>\n",
              "      <th>14</th>\n",
              "      <td>Bicycling, easy pace</td>\n",
              "      <td>130</td>\n",
              "    </tr>\n",
              "    <tr>\n",
              "      <th>15</th>\n",
              "      <td>Bicycling, moderate pace</td>\n",
              "      <td>170</td>\n",
              "    </tr>\n",
              "    <tr>\n",
              "      <th>16</th>\n",
              "      <td>Bicycling, vigorous pace</td>\n",
              "      <td>200</td>\n",
              "    </tr>\n",
              "    <tr>\n",
              "      <th>17</th>\n",
              "      <td>Bowling</td>\n",
              "      <td>87</td>\n",
              "    </tr>\n",
              "    <tr>\n",
              "      <th>18</th>\n",
              "      <td>Boxing, non-competitive</td>\n",
              "      <td>131</td>\n",
              "    </tr>\n",
              "    <tr>\n",
              "      <th>19</th>\n",
              "      <td>Boxing, competitive</td>\n",
              "      <td>222</td>\n",
              "    </tr>\n",
              "    <tr>\n",
              "      <th>20</th>\n",
              "      <td>Calisthenics</td>\n",
              "      <td>106</td>\n",
              "    </tr>\n",
              "    <tr>\n",
              "      <th>21</th>\n",
              "      <td>Canoe (light to moderate)</td>\n",
              "      <td>87–106</td>\n",
              "    </tr>\n",
              "    <tr>\n",
              "      <th>22</th>\n",
              "      <td>Circuit Training</td>\n",
              "      <td>232</td>\n",
              "    </tr>\n",
              "    <tr>\n",
              "      <th>23</th>\n",
              "      <td>Climbing (rock/mountain)</td>\n",
              "      <td>270</td>\n",
              "    </tr>\n",
              "    <tr>\n",
              "      <th>24</th>\n",
              "      <td>Croquet</td>\n",
              "      <td>76</td>\n",
              "    </tr>\n",
              "    <tr>\n",
              "      <th>25</th>\n",
              "      <td>Cross-Country Skiing</td>\n",
              "      <td>232</td>\n",
              "    </tr>\n",
              "    <tr>\n",
              "      <th>26</th>\n",
              "      <td>Curling (sweeping)</td>\n",
              "      <td>125</td>\n",
              "    </tr>\n",
              "    <tr>\n",
              "      <th>27</th>\n",
              "      <td>Dancing (light to lively)</td>\n",
              "      <td>109–131</td>\n",
              "    </tr>\n",
              "  </tbody>\n",
              "</table>\n",
              "</div>\n",
              "    <div class=\"colab-df-buttons\">\n",
              "\n",
              "  <div class=\"colab-df-container\">\n",
              "    <button class=\"colab-df-convert\" onclick=\"convertToInteractive('df-9d5d1a9f-517f-4140-a5cd-7da68a3d29ea')\"\n",
              "            title=\"Convert this dataframe to an interactive table.\"\n",
              "            style=\"display:none;\">\n",
              "\n",
              "  <svg xmlns=\"http://www.w3.org/2000/svg\" height=\"24px\" viewBox=\"0 -960 960 960\">\n",
              "    <path d=\"M120-120v-720h720v720H120Zm60-500h600v-160H180v160Zm220 220h160v-160H400v160Zm0 220h160v-160H400v160ZM180-400h160v-160H180v160Zm440 0h160v-160H620v160ZM180-180h160v-160H180v160Zm440 0h160v-160H620v160Z\"/>\n",
              "  </svg>\n",
              "    </button>\n",
              "\n",
              "  <style>\n",
              "    .colab-df-container {\n",
              "      display:flex;\n",
              "      gap: 12px;\n",
              "    }\n",
              "\n",
              "    .colab-df-convert {\n",
              "      background-color: #E8F0FE;\n",
              "      border: none;\n",
              "      border-radius: 50%;\n",
              "      cursor: pointer;\n",
              "      display: none;\n",
              "      fill: #1967D2;\n",
              "      height: 32px;\n",
              "      padding: 0 0 0 0;\n",
              "      width: 32px;\n",
              "    }\n",
              "\n",
              "    .colab-df-convert:hover {\n",
              "      background-color: #E2EBFA;\n",
              "      box-shadow: 0px 1px 2px rgba(60, 64, 67, 0.3), 0px 1px 3px 1px rgba(60, 64, 67, 0.15);\n",
              "      fill: #174EA6;\n",
              "    }\n",
              "\n",
              "    .colab-df-buttons div {\n",
              "      margin-bottom: 4px;\n",
              "    }\n",
              "\n",
              "    [theme=dark] .colab-df-convert {\n",
              "      background-color: #3B4455;\n",
              "      fill: #D2E3FC;\n",
              "    }\n",
              "\n",
              "    [theme=dark] .colab-df-convert:hover {\n",
              "      background-color: #434B5C;\n",
              "      box-shadow: 0px 1px 3px 1px rgba(0, 0, 0, 0.15);\n",
              "      filter: drop-shadow(0px 1px 2px rgba(0, 0, 0, 0.3));\n",
              "      fill: #FFFFFF;\n",
              "    }\n",
              "  </style>\n",
              "\n",
              "    <script>\n",
              "      const buttonEl =\n",
              "        document.querySelector('#df-9d5d1a9f-517f-4140-a5cd-7da68a3d29ea button.colab-df-convert');\n",
              "      buttonEl.style.display =\n",
              "        google.colab.kernel.accessAllowed ? 'block' : 'none';\n",
              "\n",
              "      async function convertToInteractive(key) {\n",
              "        const element = document.querySelector('#df-9d5d1a9f-517f-4140-a5cd-7da68a3d29ea');\n",
              "        const dataTable =\n",
              "          await google.colab.kernel.invokeFunction('convertToInteractive',\n",
              "                                                    [key], {});\n",
              "        if (!dataTable) return;\n",
              "\n",
              "        const docLinkHtml = 'Like what you see? Visit the ' +\n",
              "          '<a target=\"_blank\" href=https://colab.research.google.com/notebooks/data_table.ipynb>data table notebook</a>'\n",
              "          + ' to learn more about interactive tables.';\n",
              "        element.innerHTML = '';\n",
              "        dataTable['output_type'] = 'display_data';\n",
              "        await google.colab.output.renderOutput(dataTable, element);\n",
              "        const docLink = document.createElement('div');\n",
              "        docLink.innerHTML = docLinkHtml;\n",
              "        element.appendChild(docLink);\n",
              "      }\n",
              "    </script>\n",
              "  </div>\n",
              "\n",
              "\n",
              "<div id=\"df-add7b1cb-fede-4c4a-8b8b-707ef08c5aa2\">\n",
              "  <button class=\"colab-df-quickchart\" onclick=\"quickchart('df-add7b1cb-fede-4c4a-8b8b-707ef08c5aa2')\"\n",
              "            title=\"Suggest charts\"\n",
              "            style=\"display:none;\">\n",
              "\n",
              "<svg xmlns=\"http://www.w3.org/2000/svg\" height=\"24px\"viewBox=\"0 0 24 24\"\n",
              "     width=\"24px\">\n",
              "    <g>\n",
              "        <path d=\"M19 3H5c-1.1 0-2 .9-2 2v14c0 1.1.9 2 2 2h14c1.1 0 2-.9 2-2V5c0-1.1-.9-2-2-2zM9 17H7v-7h2v7zm4 0h-2V7h2v10zm4 0h-2v-4h2v4z\"/>\n",
              "    </g>\n",
              "</svg>\n",
              "  </button>\n",
              "\n",
              "<style>\n",
              "  .colab-df-quickchart {\n",
              "      --bg-color: #E8F0FE;\n",
              "      --fill-color: #1967D2;\n",
              "      --hover-bg-color: #E2EBFA;\n",
              "      --hover-fill-color: #174EA6;\n",
              "      --disabled-fill-color: #AAA;\n",
              "      --disabled-bg-color: #DDD;\n",
              "  }\n",
              "\n",
              "  [theme=dark] .colab-df-quickchart {\n",
              "      --bg-color: #3B4455;\n",
              "      --fill-color: #D2E3FC;\n",
              "      --hover-bg-color: #434B5C;\n",
              "      --hover-fill-color: #FFFFFF;\n",
              "      --disabled-bg-color: #3B4455;\n",
              "      --disabled-fill-color: #666;\n",
              "  }\n",
              "\n",
              "  .colab-df-quickchart {\n",
              "    background-color: var(--bg-color);\n",
              "    border: none;\n",
              "    border-radius: 50%;\n",
              "    cursor: pointer;\n",
              "    display: none;\n",
              "    fill: var(--fill-color);\n",
              "    height: 32px;\n",
              "    padding: 0;\n",
              "    width: 32px;\n",
              "  }\n",
              "\n",
              "  .colab-df-quickchart:hover {\n",
              "    background-color: var(--hover-bg-color);\n",
              "    box-shadow: 0 1px 2px rgba(60, 64, 67, 0.3), 0 1px 3px 1px rgba(60, 64, 67, 0.15);\n",
              "    fill: var(--button-hover-fill-color);\n",
              "  }\n",
              "\n",
              "  .colab-df-quickchart-complete:disabled,\n",
              "  .colab-df-quickchart-complete:disabled:hover {\n",
              "    background-color: var(--disabled-bg-color);\n",
              "    fill: var(--disabled-fill-color);\n",
              "    box-shadow: none;\n",
              "  }\n",
              "\n",
              "  .colab-df-spinner {\n",
              "    border: 2px solid var(--fill-color);\n",
              "    border-color: transparent;\n",
              "    border-bottom-color: var(--fill-color);\n",
              "    animation:\n",
              "      spin 1s steps(1) infinite;\n",
              "  }\n",
              "\n",
              "  @keyframes spin {\n",
              "    0% {\n",
              "      border-color: transparent;\n",
              "      border-bottom-color: var(--fill-color);\n",
              "      border-left-color: var(--fill-color);\n",
              "    }\n",
              "    20% {\n",
              "      border-color: transparent;\n",
              "      border-left-color: var(--fill-color);\n",
              "      border-top-color: var(--fill-color);\n",
              "    }\n",
              "    30% {\n",
              "      border-color: transparent;\n",
              "      border-left-color: var(--fill-color);\n",
              "      border-top-color: var(--fill-color);\n",
              "      border-right-color: var(--fill-color);\n",
              "    }\n",
              "    40% {\n",
              "      border-color: transparent;\n",
              "      border-right-color: var(--fill-color);\n",
              "      border-top-color: var(--fill-color);\n",
              "    }\n",
              "    60% {\n",
              "      border-color: transparent;\n",
              "      border-right-color: var(--fill-color);\n",
              "    }\n",
              "    80% {\n",
              "      border-color: transparent;\n",
              "      border-right-color: var(--fill-color);\n",
              "      border-bottom-color: var(--fill-color);\n",
              "    }\n",
              "    90% {\n",
              "      border-color: transparent;\n",
              "      border-bottom-color: var(--fill-color);\n",
              "    }\n",
              "  }\n",
              "</style>\n",
              "\n",
              "  <script>\n",
              "    async function quickchart(key) {\n",
              "      const quickchartButtonEl =\n",
              "        document.querySelector('#' + key + ' button');\n",
              "      quickchartButtonEl.disabled = true;  // To prevent multiple clicks.\n",
              "      quickchartButtonEl.classList.add('colab-df-spinner');\n",
              "      try {\n",
              "        const charts = await google.colab.kernel.invokeFunction(\n",
              "            'suggestCharts', [key], {});\n",
              "      } catch (error) {\n",
              "        console.error('Error during call to suggestCharts:', error);\n",
              "      }\n",
              "      quickchartButtonEl.classList.remove('colab-df-spinner');\n",
              "      quickchartButtonEl.classList.add('colab-df-quickchart-complete');\n",
              "    }\n",
              "    (() => {\n",
              "      let quickchartButtonEl =\n",
              "        document.querySelector('#df-add7b1cb-fede-4c4a-8b8b-707ef08c5aa2 button');\n",
              "      quickchartButtonEl.style.display =\n",
              "        google.colab.kernel.accessAllowed ? 'block' : 'none';\n",
              "    })();\n",
              "  </script>\n",
              "</div>\n",
              "\n",
              "  <div id=\"id_fd800236-0c59-4e4c-8cf9-0e58b60d78e7\">\n",
              "    <style>\n",
              "      .colab-df-generate {\n",
              "        background-color: #E8F0FE;\n",
              "        border: none;\n",
              "        border-radius: 50%;\n",
              "        cursor: pointer;\n",
              "        display: none;\n",
              "        fill: #1967D2;\n",
              "        height: 32px;\n",
              "        padding: 0 0 0 0;\n",
              "        width: 32px;\n",
              "      }\n",
              "\n",
              "      .colab-df-generate:hover {\n",
              "        background-color: #E2EBFA;\n",
              "        box-shadow: 0px 1px 2px rgba(60, 64, 67, 0.3), 0px 1px 3px 1px rgba(60, 64, 67, 0.15);\n",
              "        fill: #174EA6;\n",
              "      }\n",
              "\n",
              "      [theme=dark] .colab-df-generate {\n",
              "        background-color: #3B4455;\n",
              "        fill: #D2E3FC;\n",
              "      }\n",
              "\n",
              "      [theme=dark] .colab-df-generate:hover {\n",
              "        background-color: #434B5C;\n",
              "        box-shadow: 0px 1px 3px 1px rgba(0, 0, 0, 0.15);\n",
              "        filter: drop-shadow(0px 1px 2px rgba(0, 0, 0, 0.3));\n",
              "        fill: #FFFFFF;\n",
              "      }\n",
              "    </style>\n",
              "    <button class=\"colab-df-generate\" onclick=\"generateWithVariable('df')\"\n",
              "            title=\"Generate code using this dataframe.\"\n",
              "            style=\"display:none;\">\n",
              "\n",
              "  <svg xmlns=\"http://www.w3.org/2000/svg\" height=\"24px\"viewBox=\"0 0 24 24\"\n",
              "       width=\"24px\">\n",
              "    <path d=\"M7,19H8.4L18.45,9,17,7.55,7,17.6ZM5,21V16.75L18.45,3.32a2,2,0,0,1,2.83,0l1.4,1.43a1.91,1.91,0,0,1,.58,1.4,1.91,1.91,0,0,1-.58,1.4L9.25,21ZM18.45,9,17,7.55Zm-12,3A5.31,5.31,0,0,0,4.9,8.1,5.31,5.31,0,0,0,1,6.5,5.31,5.31,0,0,0,4.9,4.9,5.31,5.31,0,0,0,6.5,1,5.31,5.31,0,0,0,8.1,4.9,5.31,5.31,0,0,0,12,6.5,5.46,5.46,0,0,0,6.5,12Z\"/>\n",
              "  </svg>\n",
              "    </button>\n",
              "    <script>\n",
              "      (() => {\n",
              "      const buttonEl =\n",
              "        document.querySelector('#id_fd800236-0c59-4e4c-8cf9-0e58b60d78e7 button.colab-df-generate');\n",
              "      buttonEl.style.display =\n",
              "        google.colab.kernel.accessAllowed ? 'block' : 'none';\n",
              "\n",
              "      buttonEl.onclick = () => {\n",
              "        google.colab.notebook.generateWithVariable('df');\n",
              "      }\n",
              "      })();\n",
              "    </script>\n",
              "  </div>\n",
              "\n",
              "    </div>\n",
              "  </div>\n"
            ],
            "application/vnd.google.colaboratory.intrinsic+json": {
              "type": "dataframe",
              "variable_name": "df",
              "summary": "{\n  \"name\": \"df\",\n  \"rows\": 28,\n  \"fields\": [\n    {\n      \"column\": 0,\n      \"properties\": {\n        \"dtype\": \"string\",\n        \"num_unique_values\": 28,\n        \"samples\": [\n          \"Baseball\",\n          \"Cross-Country Skiing\",\n          \"Ballet\"\n        ],\n        \"semantic_type\": \"\",\n        \"description\": \"\"\n      }\n    },\n    {\n      \"column\": 1,\n      \"properties\": {\n        \"dtype\": \"string\",\n        \"num_unique_values\": 26,\n        \"samples\": [\n          \"120\",\n          \"200\",\n          \"Steps per\\nMinute\"\n        ],\n        \"semantic_type\": \"\",\n        \"description\": \"\"\n      }\n    }\n  ]\n}"
            }
          },
          "metadata": {},
          "execution_count": 49
        }
      ]
    },
    {
      "cell_type": "markdown",
      "source": [
        "## Doing OCR Thing"
      ],
      "metadata": {
        "id": "664_FxiZEFgK"
      }
    },
    {
      "cell_type": "code",
      "source": [
        "elements = partition_pdf(filename = '/content/CompulsoryGuidelinesForSafeTravel.pdf',\n",
        "                         strategy = 'ocr_only')"
      ],
      "metadata": {
        "id": "xQunIHVdEOK5"
      },
      "execution_count": 51,
      "outputs": []
    },
    {
      "cell_type": "code",
      "source": [
        "for element in elements:\n",
        "  print(type(element))\n",
        "  print(element.text)"
      ],
      "metadata": {
        "id": "EamGUCwOEf-m",
        "outputId": "cf2ffaad-d160-4da8-fc4b-12ab79ab5d63",
        "colab": {
          "base_uri": "https://localhost:8080/"
        }
      },
      "execution_count": 56,
      "outputs": [
        {
          "output_type": "stream",
          "name": "stdout",
          "text": [
            "<class 'unstructured.documents.elements.Text'>\n",
            "\"GOV FROM ORIGIN TO AIRPORT - DO’S 2)\n",
            "<class 'unstructured.documents.elements.Title'>\n",
            "FOLLOW THE NORMS\n",
            "<class 'unstructured.documents.elements.Title'>\n",
            "Social distancing and minimum touch\n",
            "<class 'unstructured.documents.elements.NarrativeText'>\n",
            "Agreeing to the self declaration form & Registering on Aarogya Setu App\n",
            "<class 'unstructured.documents.elements.Title'>\n",
            "r Digital payments & use of Authorized taxis\n",
            "<class 'unstructured.documents.elements.NarrativeText'>\n",
            "Baggage limitations - Only one check-in bag and one cabin bag allowed\n",
            "<class 'unstructured.documents.elements.NarrativeText'>\n",
            "Vulnerable persons such as very elderly, pregnant ladies, passengers with ailments are advised to avoid air travel\n",
            "<class 'unstructured.documents.elements.Title'>\n",
            "\"GOV AR UHR\n",
            "<class 'unstructured.documents.elements.Text'>\n",
            "FROM ORIGIN TO AIRPORT - DO’S (2/3)\n",
            "<class 'unstructured.documents.elements.Text'>\n",
            "~ —\n",
            "<class 'unstructured.documents.elements.NarrativeText'>\n",
            "Ensure Web Check-in and obtain a boarding pass\n",
            "<class 'unstructured.documents.elements.NarrativeText'>\n",
            "Passenger to download the baggage tag/baggage identification number, print it and affix it on the bag at a prominent place\n",
            "<class 'unstructured.documents.elements.NarrativeText'>\n",
            "In case the passenger is not able to print the baggage tag, then he/she should mention the PNR number and his/her name on a thick piece of paper and affix it / tag it witha strong string\n",
            "<class 'unstructured.documents.elements.Title'>\n",
            "FROM ORIGIN TO AIRPORT - DO’S 7/3\n",
            "<class 'unstructured.documents.elements.NarrativeText'>\n",
            "Before entering the terminal, passenger to ensure that he/she is wearing a mask\n",
            "<class 'unstructured.documents.elements.NarrativeText'>\n",
            "Passenger to report at the airport as per revised reporting time I.e. D - 2 hours\n",
            "<class 'unstructured.documents.elements.NarrativeText'>\n",
            "Passenger to travel in an authorized taxi/personal vehicle following the norms specified by MHA\n",
            "<class 'unstructured.documents.elements.NarrativeText'>\n",
            "During transit to airport, the passenger should take all precautions to prevent infection\n",
            "<class 'unstructured.documents.elements.NarrativeText'>\n",
            "Passenger to certify the status of his/her health through the Aarogya Setu App ora self-declaration form\n",
            "<class 'unstructured.documents.elements.Title'>\n",
            "FROM ORIGIN TO AIRPORT - DON’TS\n",
            "<class 'unstructured.documents.elements.Title'>\n",
            "Q, rene\n",
            "<class 'unstructured.documents.elements.NarrativeText'>\n",
            "Passenger should not reach the airoort late\n",
            "<class 'unstructured.documents.elements.NarrativeText'>\n",
            "Passenger should not travel if he/she is staying in a containment zone\n",
            "<class 'unstructured.documents.elements.NarrativeText'>\n",
            "Passenger should not travel if he/she has been tested positive for COVID-19\n",
            "<class 'unstructured.documents.elements.Title'>\n",
            "\"GOV\n",
            "<class 'unstructured.documents.elements.Title'>\n",
            "AR GRHIR\n",
            "<class 'unstructured.documents.elements.Title'>\n",
            "FROM ORIGIN TO AIRPORT / i _\n",
            "<class 'unstructured.documents.elements.NarrativeText'>\n",
            "If a passenger who is not permitted to fly, undertakes an air journey he/she shall be liable for penal action\n",
            "<class 'unstructured.documents.elements.NarrativeText'>\n",
            "The passenger shall give a declaration to the following\n",
            "<class 'unstructured.documents.elements.NarrativeText'>\n",
            "|/we am/are not residing in any containment zone.\n",
            "<class 'unstructured.documents.elements.NarrativeText'>\n",
            "|/we am/are not suffering from any fever/cough/any respiratory distress. |/we am are not under quarantine.\n",
            "<class 'unstructured.documents.elements.NarrativeText'>\n",
            "If |Awe develop any of the above mentioned symptoms | shall contact the concerned health authorities, immediately.\n",
            "<class 'unstructured.documents.elements.NarrativeText'>\n",
            "I/we have not tested COVID-19 positive.\n",
            "<class 'unstructured.documents.elements.NarrativeText'>\n",
            "|/we am eligible to travel as per the extant norms.\n",
            "<class 'unstructured.documents.elements.NarrativeText'>\n",
            "| shall make my mobile number / contact details available to the\n",
            "<class 'unstructured.documents.elements.NarrativeText'>\n",
            "airlines whenever required by them\n",
            "<class 'unstructured.documents.elements.NarrativeText'>\n",
            "| understand that if | undertake the air journey without meeting the eligibility criteria, | would be liable to penal action\n",
            "<class 'unstructured.documents.elements.NarrativeText'>\n",
            "|/We undertake to adhere to the Health Protocol prescribed by the Destination State / UT\n",
            "<class 'unstructured.documents.elements.NarrativeText'>\n",
            "The airlines shall ensure that the boarding pass is issued only after the passenger confirms to the above declaration\n",
            "<class 'unstructured.documents.elements.NarrativeText'>\n",
            "In case of a PNR having more than one passenger, the declaration would be deemed to be covering all the passengers mentioned in the PNR\n",
            "<class 'unstructured.documents.elements.Title'>\n",
            "AT THE AIRPORT «1/2\n",
            "<class 'unstructured.documents.elements.NarrativeText'>\n",
            "Passengers should continue to wear mask throughout the journey\n",
            "<class 'unstructured.documents.elements.NarrativeText'>\n",
            "Passenger to get down from the vehicle with the face mask on and with required documents / e-documents\n",
            "<class 'unstructured.documents.elements.NarrativeText'>\n",
            "Passenger to arrive at the thermal screening facility near the entry gate\n",
            "<class 'unstructured.documents.elements.NarrativeText'>\n",
            "Passenger to get himself/herself checked for temperature and display the status of Aarogya Setu App to the Staff at the entry gate\n",
            "<class 'unstructured.documents.elements.NarrativeText'>\n",
            "In case of non-availability of Aarogya Setu, passenger should be facilitated to go to a counter provided by the airport where Aarogya Setu App can be downloaded =\n",
            "<class 'unstructured.documents.elements.Title'>\n",
            "\"GOV Rt\n",
            "<class 'unstructured.documents.elements.Title'>\n",
            "Ed sipastinces | Al AT THE AIRPORT ©2)\n",
            "<class 'unstructured.documents.elements.Title'>\n",
            "= & P at ah.\n",
            "<class 'unstructured.documents.elements.NarrativeText'>\n",
            "Passenger to show his/her identity card, the boarding pass/e-boarding pass to the CISF staff at the Entry Gate\n",
            "<class 'unstructured.documents.elements.NarrativeText'>\n",
            "Passenger to proceed to the baggage drop counter and show his/her PNR to the staff. Avoid using baggage trolley, as far as possible\n",
            "<class 'unstructured.documents.elements.NarrativeText'>\n",
            "An electronic receipt shall be sent to the passenger\n",
            "<class 'unstructured.documents.elements.NarrativeText'>\n",
            "Passenger to adhere to the social distancing which would be specified at the Airports through markings like circle, square or tensor barrier\n",
            "<class 'unstructured.documents.elements.NarrativeText'>\n",
            "Passenger to complete the check-in procedure and baggage drop at least 60 minutes before departure\n",
            "<class 'unstructured.documents.elements.Title'>\n",
            "Eid sivvastences 71 AT SECURITY CHECK-IN\n",
            "<class 'unstructured.documents.elements.NarrativeText'>\n",
            "Arrangements have been made at airports to guide passengers to walk through the pre-embarkation security screening\n",
            "<class 'unstructured.documents.elements.NarrativeText'>\n",
            "Passenger to follow the directions as announced by the authorities and divest of all metal on the body to facilitate the security screening\n",
            "<class 'unstructured.documents.elements.NarrativeText'>\n",
            "Passenger to bring only one hand luggage as per specified size allowed by the airlines\n",
            "<class 'unstructured.documents.elements.NarrativeText'>\n",
            "Passenger to cooperate with security staff by following the instructions for his/her own safety and security\n",
            "<class 'unstructured.documents.elements.Title'>\n",
            "\"GOV SECURITY HOLD AREA\n",
            "<class 'unstructured.documents.elements.Text'>\n",
            "1\n",
            "<class 'unstructured.documents.elements.NarrativeText'>\n",
            "Passenger to proceed to security hold area after security screening\n",
            "<class 'unstructured.documents.elements.NarrativeText'>\n",
            "While waiting in the security hold area, passenger to maintain social distancing and sanitization protocols\n",
            "<class 'unstructured.documents.elements.NarrativeText'>\n",
            "Chairs marked ‘Not For Use’ should not be occupied\n",
            "<class 'unstructured.documents.elements.NarrativeText'>\n",
            "While going around F&B, retail outlets, etc, passenger should be aware of the social distancing and maintain hygiene. Also, he/she should be aware of the locations where sanitizers would be made available\n",
            "<class 'unstructured.documents.elements.NarrativeText'>\n",
            "Passenger to dispose of all the bio hazardous material like used masks, gloves, tissues etc. in the yellow-colored disposable bins/bags placed at strategic locations at the airport\n",
            "<class 'unstructured.documents.elements.ListItem'>\n",
            "eeccece\n",
            "<class 'unstructured.documents.elements.NarrativeText'>\n",
            "Passengers to be attentive towards various communication material displayed at the airport about various health advisories relating to pre-boarding and during the flight precautions\n",
            "<class 'unstructured.documents.elements.NarrativeText'>\n",
            "Passengers to collect the safety kit (three layered surgical mask and sanitizer) from the airlines near the boarding gate\n",
            "<class 'unstructured.documents.elements.NarrativeText'>\n",
            "Passengers to wear mask and sanitize his/her hands before proceeding to the boarding gate for scanning of the boarding pass\n",
            "<class 'unstructured.documents.elements.NarrativeText'>\n",
            "Passengers to be attentive towards boarding announcements and reach the boarding queue by following social distancing\n",
            "<class 'unstructured.documents.elements.NarrativeText'>\n",
            "Display of identity cards by passengers is a must & Check-in of the boarding pass would be done by the passenger by self-scanning of e-boarding pass\n",
            "<class 'unstructured.documents.elements.NarrativeText'>\n",
            "INSIDE THE AIRCRAFT #—-_ fa During the flight, passengers to strictly follow hygiene and sanitation. Face to face interaction to be minimized\n",
            "<class 'unstructured.documents.elements.NarrativeText'>\n",
            "Passenger to minimize the use of toilets and avoid any non-essential movement in the aisles\n",
            "<class 'unstructured.documents.elements.NarrativeText'>\n",
            "No queuing at the toilets and only one companion for children and the elderly would be allowed\n",
            "<class 'unstructured.documents.elements.NarrativeText'>\n",
            "No meal service in the aircraft. Water bottle to be made available in the galley area or on the seats. Eatables not to be consumed during the flight\n",
            "<class 'unstructured.documents.elements.NarrativeText'>\n",
            "No newspaper / magazine will be available, no onboard sale of any item\n",
            "<class 'unstructured.documents.elements.NarrativeText'>\n",
            "If the passenger feels uncomfortable, fatigued or has respiratory distress, it should be brought to the immediate notice of the crew W\n",
            "<class 'unstructured.documents.elements.Title'>\n",
            "‘GOV\n",
            "<class 'unstructured.documents.elements.Title'>\n",
            "AIRPORT TO DESTINATION (2\n",
            "<class 'unstructured.documents.elements.Title'>\n",
            "dee sae\n",
            "<class 'unstructured.documents.elements.NarrativeText'>\n",
            "The disembarkation from the airlines would be sequential\n",
            "<class 'unstructured.documents.elements.NarrativeText'>\n",
            "To disembark, passengers to strictly follow the instructions of the crew\n",
            "<class 'unstructured.documents.elements.NarrativeText'>\n",
            "Trolleys in the arrival area to be used sparingly\n",
            "<class 'unstructured.documents.elements.NarrativeText'>\n",
            "Social distance / sanitation should be maintained at the arrival gate, aerobridges, coaches, jet ladders, ramps etc\n",
            "<class 'unstructured.documents.elements.Title'>\n",
            "\"GOV AR UHR\n",
            "<class 'unstructured.documents.elements.Title'>\n",
            "AIRPORT TO DESTINATION (2/23) of\n",
            "<class 'unstructured.documents.elements.Title'>\n",
            "BAGGAGE COLLECTION\n",
            "<class 'unstructured.documents.elements.NarrativeText'>\n",
            "Passenger to wait at the baggage hold area till the baggage arrives in\n",
            "<class 'unstructured.documents.elements.Title'>\n",
            "batches\n",
            "<class 'unstructured.documents.elements.NarrativeText'>\n",
            "Transit passengers will not be allowed to come out of the transit area\n",
            "<class 'unstructured.documents.elements.NarrativeText'>\n",
            "ee be pad SRRRERREee\n",
            "<class 'unstructured.documents.elements.Title'>\n",
            "\"GOV AN Gra\n",
            "<class 'unstructured.documents.elements.Title'>\n",
            "AIRPORT TO ae ORS DESTINATION (2/2) |\n",
            "<class 'unstructured.documents.elements.Title'>\n",
            "EXIT FROM AIRPORT\n",
            "<class 'unstructured.documents.elements.NarrativeText'>\n",
            "Passengers to hire only authorized taxis from the\n",
            "<class 'unstructured.documents.elements.NarrativeText'>\n",
            "Passengers to follow social distancing and hygiene while travelling in any mode of transportation\n",
            "<class 'unstructured.documents.elements.NarrativeText'>\n",
            "On arrival at the destination, passengers to adhere to health protocols as prescribed by the destination\n",
            "<class 'unstructured.documents.elements.Title'>\n",
            "State/ UT\n",
            "<class 'unstructured.documents.elements.NarrativeText'>\n",
            "For any queries, please refer to https:/www.civilaviation.gov.in/ , https://mohfw.gov.in or Helpline 1075 (Toll Free)\n",
            "<class 'unstructured.documents.elements.Title'>\n",
            "More details at https://corona.mygov.in\n"
          ]
        }
      ]
    },
    {
      "cell_type": "markdown",
      "source": [
        "## Using `pymupdf`"
      ],
      "metadata": {
        "id": "a5fpGmmREjA0"
      }
    },
    {
      "cell_type": "code",
      "source": [
        "!pip install pymupdf"
      ],
      "metadata": {
        "id": "QdGv29MiGayQ",
        "outputId": "e532879d-3f7d-40c6-99ed-e0dd8ed1bc89",
        "colab": {
          "base_uri": "https://localhost:8080/"
        }
      },
      "execution_count": 58,
      "outputs": [
        {
          "output_type": "stream",
          "name": "stdout",
          "text": [
            "Collecting pymupdf\n",
            "  Downloading pymupdf-1.25.1-cp39-abi3-manylinux2014_x86_64.manylinux_2_17_x86_64.whl.metadata (3.4 kB)\n",
            "Downloading pymupdf-1.25.1-cp39-abi3-manylinux2014_x86_64.manylinux_2_17_x86_64.whl (20.0 MB)\n",
            "\u001b[2K   \u001b[90m━━━━━━━━━━━━━━━━━━━━━━━━━━━━━━━━━━━━━━━━\u001b[0m \u001b[32m20.0/20.0 MB\u001b[0m \u001b[31m61.8 MB/s\u001b[0m eta \u001b[36m0:00:00\u001b[0m\n",
            "\u001b[?25hInstalling collected packages: pymupdf\n",
            "Successfully installed pymupdf-1.25.1\n"
          ]
        }
      ]
    },
    {
      "cell_type": "code",
      "source": [
        "import pymupdf\n",
        "import fitz"
      ],
      "metadata": {
        "id": "vQCHKpLKGUCV"
      },
      "execution_count": 61,
      "outputs": []
    },
    {
      "cell_type": "code",
      "source": [
        "doc = fitz.open(\"/content/CompulsoryGuidelinesForSafeTravel.pdf\")"
      ],
      "metadata": {
        "id": "p6sWkPNjGZW6"
      },
      "execution_count": 68,
      "outputs": []
    },
    {
      "cell_type": "code",
      "source": [
        "doc.page_count"
      ],
      "metadata": {
        "id": "nxCxmhNkGhGk",
        "outputId": "3312a7b4-fc1f-4540-e401-009b479f63ce",
        "colab": {
          "base_uri": "https://localhost:8080/"
        }
      },
      "execution_count": 69,
      "outputs": [
        {
          "output_type": "execute_result",
          "data": {
            "text/plain": [
              "14"
            ]
          },
          "metadata": {},
          "execution_count": 69
        }
      ]
    },
    {
      "cell_type": "code",
      "source": [
        "print(doc.metadata)"
      ],
      "metadata": {
        "id": "Pxirp8jEGn_M",
        "outputId": "90fd30ba-f248-43d8-84b6-b8a38b474671",
        "colab": {
          "base_uri": "https://localhost:8080/"
        }
      },
      "execution_count": 70,
      "outputs": [
        {
          "output_type": "stream",
          "name": "stdout",
          "text": [
            "{'format': 'PDF 1.5', 'title': 'Guidelines for Air Passengers_21May', 'author': '', 'subject': '', 'keywords': '', 'creator': 'Adobe Illustrator 24.0 (Macintosh)', 'producer': 'www.ilovepdf.com', 'creationDate': \"D:20200521115421+05'30'\", 'modDate': 'D:20200521065817Z', 'trapped': '', 'encryption': None}\n"
          ]
        }
      ]
    },
    {
      "cell_type": "code",
      "source": [
        "doc.load_page(0).get_text()"
      ],
      "metadata": {
        "id": "tOTanfXuHGFs",
        "outputId": "19f78354-e65d-4d4e-982f-71e404c87003",
        "colab": {
          "base_uri": "https://localhost:8080/",
          "height": 36
        }
      },
      "execution_count": 71,
      "outputs": [
        {
          "output_type": "execute_result",
          "data": {
            "text/plain": [
              "''"
            ],
            "application/vnd.google.colaboratory.intrinsic+json": {
              "type": "string"
            }
          },
          "metadata": {},
          "execution_count": 71
        }
      ]
    },
    {
      "cell_type": "markdown",
      "source": [
        "The result is empty text because it's a scanned image and hence, only solution is OCR"
      ],
      "metadata": {
        "id": "GDVT2-EWHJ4z"
      }
    },
    {
      "cell_type": "code",
      "source": [
        "doc = fitz.open(\"/content/Finance - Salomon Smith Barney Introductory Guide to Equity Options (1998).pdf\")"
      ],
      "metadata": {
        "id": "OuJeZNvQGpsg"
      },
      "execution_count": 65,
      "outputs": []
    },
    {
      "cell_type": "code",
      "source": [
        "doc.metadata"
      ],
      "metadata": {
        "id": "zEni1n3tGzby",
        "outputId": "e7e91488-226e-4a65-866e-e049382ca530",
        "colab": {
          "base_uri": "https://localhost:8080/"
        }
      },
      "execution_count": 66,
      "outputs": [
        {
          "output_type": "execute_result",
          "data": {
            "text/plain": [
              "{'format': 'PDF 1.1',\n",
              " 'title': 'Microsoft Word - Sf04f117.doc',\n",
              " 'author': '',\n",
              " 'subject': '',\n",
              " 'keywords': '',\n",
              " 'creator': 'Windows NT 4.0',\n",
              " 'producer': 'Acrobat Distiller 3.01 for Windows',\n",
              " 'creationDate': 'D:19980501151530',\n",
              " 'modDate': '',\n",
              " 'trapped': '',\n",
              " 'encryption': None}"
            ]
          },
          "metadata": {},
          "execution_count": 66
        }
      ]
    },
    {
      "cell_type": "code",
      "source": [
        "doc.load_page(0).get_text()"
      ],
      "metadata": {
        "id": "Uot0JsekG2kT",
        "outputId": "344ae6ca-0c56-456b-9c74-ba729016f3bb",
        "colab": {
          "base_uri": "https://localhost:8080/",
          "height": 126
        }
      },
      "execution_count": 67,
      "outputs": [
        {
          "output_type": "execute_result",
          "data": {
            "text/plain": [
              "'Salomon Smith Barney is a service mark of Smith Barney Inc.  Smith Barney Inc. and Salomon\\nBrothers Inc. are affiliated but separately registered broker/dealers under common control of\\nSalomon Smith Barney Holdings Inc.  Salomon Brothers Inc. and Salomon Smith Barney\\nHoldings Inc. have been licensed to use the Salomon Smith Barney service mark.  This report\\nwas produced jointly by Smith Barney Inc. and Salomon Brothers Inc. and/or their affiliates.\\nThis report may be distributed only to persons who have received\\na copy of the booklet \"Characteristics and Risks of Standardized\\nOptions,\" published by the Options Clearing Corporation.\\nGLOBAL EQUITY RESEARCH:  Equity Options\\nApril 1998\\nEric H. Sorensen, Ph.D.  (212) 783-7813\\nesorensen@zip.sbi.com\\nKeith L. Miller  (212) 783-5497\\nkmiller@zip.sbi.com\\nDaniel E. Cox, Ph.D.  (212) 783-6651\\ndcox@zip.sbi.com\\nThe Salomon Smith Barney\\nIntroductory Guide to\\nEquity Options\\n'"
            ],
            "application/vnd.google.colaboratory.intrinsic+json": {
              "type": "string"
            }
          },
          "metadata": {},
          "execution_count": 67
        }
      ]
    }
  ],
  "metadata": {
    "language_info": {
      "name": "python"
    },
    "colab": {
      "provenance": []
    },
    "kernelspec": {
      "name": "python3",
      "display_name": "Python 3"
    },
    "widgets": {
      "application/vnd.jupyter.widget-state+json": {
        "f241b0a9a8c74ce39b89306c8341f2ea": {
          "model_module": "@jupyter-widgets/controls",
          "model_name": "HBoxModel",
          "model_module_version": "1.5.0",
          "state": {
            "_dom_classes": [],
            "_model_module": "@jupyter-widgets/controls",
            "_model_module_version": "1.5.0",
            "_model_name": "HBoxModel",
            "_view_count": null,
            "_view_module": "@jupyter-widgets/controls",
            "_view_module_version": "1.5.0",
            "_view_name": "HBoxView",
            "box_style": "",
            "children": [
              "IPY_MODEL_681f9a1841d4496fa13d4db25fc61fce",
              "IPY_MODEL_bfac1321907245b5b44c1b2662264f95",
              "IPY_MODEL_44b9f98849dc4fc78cb2102f8919f40a"
            ],
            "layout": "IPY_MODEL_39bf2da7aec44f998e16b83a64b0dd88"
          }
        },
        "681f9a1841d4496fa13d4db25fc61fce": {
          "model_module": "@jupyter-widgets/controls",
          "model_name": "HTMLModel",
          "model_module_version": "1.5.0",
          "state": {
            "_dom_classes": [],
            "_model_module": "@jupyter-widgets/controls",
            "_model_module_version": "1.5.0",
            "_model_name": "HTMLModel",
            "_view_count": null,
            "_view_module": "@jupyter-widgets/controls",
            "_view_module_version": "1.5.0",
            "_view_name": "HTMLView",
            "description": "",
            "description_tooltip": null,
            "layout": "IPY_MODEL_1f3039209f5c4e8dbbe9c9027ad2197b",
            "placeholder": "​",
            "style": "IPY_MODEL_31911d0b444040bf8969913015c9b498",
            "value": ""
          }
        },
        "bfac1321907245b5b44c1b2662264f95": {
          "model_module": "@jupyter-widgets/controls",
          "model_name": "FloatProgressModel",
          "model_module_version": "1.5.0",
          "state": {
            "_dom_classes": [],
            "_model_module": "@jupyter-widgets/controls",
            "_model_module_version": "1.5.0",
            "_model_name": "FloatProgressModel",
            "_view_count": null,
            "_view_module": "@jupyter-widgets/controls",
            "_view_module_version": "1.5.0",
            "_view_name": "ProgressView",
            "bar_style": "success",
            "description": "",
            "description_tooltip": null,
            "layout": "IPY_MODEL_bb595bf634064c56b835185ebf442753",
            "max": 1,
            "min": 0,
            "orientation": "horizontal",
            "style": "IPY_MODEL_b4a98d0c927648d38753452e33ad3b60",
            "value": 0
          }
        },
        "44b9f98849dc4fc78cb2102f8919f40a": {
          "model_module": "@jupyter-widgets/controls",
          "model_name": "HTMLModel",
          "model_module_version": "1.5.0",
          "state": {
            "_dom_classes": [],
            "_model_module": "@jupyter-widgets/controls",
            "_model_module_version": "1.5.0",
            "_model_name": "HTMLModel",
            "_view_count": null,
            "_view_module": "@jupyter-widgets/controls",
            "_view_module_version": "1.5.0",
            "_view_name": "HTMLView",
            "description": "",
            "description_tooltip": null,
            "layout": "IPY_MODEL_4b09510274464f2d9cb89f54da3cc56a",
            "placeholder": "​",
            "style": "IPY_MODEL_4e090176e96f4e178f8ae05d32b48088",
            "value": " 0/0 [00:00&lt;?, ?it/s]"
          }
        },
        "39bf2da7aec44f998e16b83a64b0dd88": {
          "model_module": "@jupyter-widgets/base",
          "model_name": "LayoutModel",
          "model_module_version": "1.2.0",
          "state": {
            "_model_module": "@jupyter-widgets/base",
            "_model_module_version": "1.2.0",
            "_model_name": "LayoutModel",
            "_view_count": null,
            "_view_module": "@jupyter-widgets/base",
            "_view_module_version": "1.2.0",
            "_view_name": "LayoutView",
            "align_content": null,
            "align_items": null,
            "align_self": null,
            "border": null,
            "bottom": null,
            "display": null,
            "flex": null,
            "flex_flow": null,
            "grid_area": null,
            "grid_auto_columns": null,
            "grid_auto_flow": null,
            "grid_auto_rows": null,
            "grid_column": null,
            "grid_gap": null,
            "grid_row": null,
            "grid_template_areas": null,
            "grid_template_columns": null,
            "grid_template_rows": null,
            "height": null,
            "justify_content": null,
            "justify_items": null,
            "left": null,
            "margin": null,
            "max_height": null,
            "max_width": null,
            "min_height": null,
            "min_width": null,
            "object_fit": null,
            "object_position": null,
            "order": null,
            "overflow": null,
            "overflow_x": null,
            "overflow_y": null,
            "padding": null,
            "right": null,
            "top": null,
            "visibility": null,
            "width": null
          }
        },
        "1f3039209f5c4e8dbbe9c9027ad2197b": {
          "model_module": "@jupyter-widgets/base",
          "model_name": "LayoutModel",
          "model_module_version": "1.2.0",
          "state": {
            "_model_module": "@jupyter-widgets/base",
            "_model_module_version": "1.2.0",
            "_model_name": "LayoutModel",
            "_view_count": null,
            "_view_module": "@jupyter-widgets/base",
            "_view_module_version": "1.2.0",
            "_view_name": "LayoutView",
            "align_content": null,
            "align_items": null,
            "align_self": null,
            "border": null,
            "bottom": null,
            "display": null,
            "flex": null,
            "flex_flow": null,
            "grid_area": null,
            "grid_auto_columns": null,
            "grid_auto_flow": null,
            "grid_auto_rows": null,
            "grid_column": null,
            "grid_gap": null,
            "grid_row": null,
            "grid_template_areas": null,
            "grid_template_columns": null,
            "grid_template_rows": null,
            "height": null,
            "justify_content": null,
            "justify_items": null,
            "left": null,
            "margin": null,
            "max_height": null,
            "max_width": null,
            "min_height": null,
            "min_width": null,
            "object_fit": null,
            "object_position": null,
            "order": null,
            "overflow": null,
            "overflow_x": null,
            "overflow_y": null,
            "padding": null,
            "right": null,
            "top": null,
            "visibility": null,
            "width": null
          }
        },
        "31911d0b444040bf8969913015c9b498": {
          "model_module": "@jupyter-widgets/controls",
          "model_name": "DescriptionStyleModel",
          "model_module_version": "1.5.0",
          "state": {
            "_model_module": "@jupyter-widgets/controls",
            "_model_module_version": "1.5.0",
            "_model_name": "DescriptionStyleModel",
            "_view_count": null,
            "_view_module": "@jupyter-widgets/base",
            "_view_module_version": "1.2.0",
            "_view_name": "StyleView",
            "description_width": ""
          }
        },
        "bb595bf634064c56b835185ebf442753": {
          "model_module": "@jupyter-widgets/base",
          "model_name": "LayoutModel",
          "model_module_version": "1.2.0",
          "state": {
            "_model_module": "@jupyter-widgets/base",
            "_model_module_version": "1.2.0",
            "_model_name": "LayoutModel",
            "_view_count": null,
            "_view_module": "@jupyter-widgets/base",
            "_view_module_version": "1.2.0",
            "_view_name": "LayoutView",
            "align_content": null,
            "align_items": null,
            "align_self": null,
            "border": null,
            "bottom": null,
            "display": null,
            "flex": null,
            "flex_flow": null,
            "grid_area": null,
            "grid_auto_columns": null,
            "grid_auto_flow": null,
            "grid_auto_rows": null,
            "grid_column": null,
            "grid_gap": null,
            "grid_row": null,
            "grid_template_areas": null,
            "grid_template_columns": null,
            "grid_template_rows": null,
            "height": null,
            "justify_content": null,
            "justify_items": null,
            "left": null,
            "margin": null,
            "max_height": null,
            "max_width": null,
            "min_height": null,
            "min_width": null,
            "object_fit": null,
            "object_position": null,
            "order": null,
            "overflow": null,
            "overflow_x": null,
            "overflow_y": null,
            "padding": null,
            "right": null,
            "top": null,
            "visibility": null,
            "width": "20px"
          }
        },
        "b4a98d0c927648d38753452e33ad3b60": {
          "model_module": "@jupyter-widgets/controls",
          "model_name": "ProgressStyleModel",
          "model_module_version": "1.5.0",
          "state": {
            "_model_module": "@jupyter-widgets/controls",
            "_model_module_version": "1.5.0",
            "_model_name": "ProgressStyleModel",
            "_view_count": null,
            "_view_module": "@jupyter-widgets/base",
            "_view_module_version": "1.2.0",
            "_view_name": "StyleView",
            "bar_color": null,
            "description_width": ""
          }
        },
        "4b09510274464f2d9cb89f54da3cc56a": {
          "model_module": "@jupyter-widgets/base",
          "model_name": "LayoutModel",
          "model_module_version": "1.2.0",
          "state": {
            "_model_module": "@jupyter-widgets/base",
            "_model_module_version": "1.2.0",
            "_model_name": "LayoutModel",
            "_view_count": null,
            "_view_module": "@jupyter-widgets/base",
            "_view_module_version": "1.2.0",
            "_view_name": "LayoutView",
            "align_content": null,
            "align_items": null,
            "align_self": null,
            "border": null,
            "bottom": null,
            "display": null,
            "flex": null,
            "flex_flow": null,
            "grid_area": null,
            "grid_auto_columns": null,
            "grid_auto_flow": null,
            "grid_auto_rows": null,
            "grid_column": null,
            "grid_gap": null,
            "grid_row": null,
            "grid_template_areas": null,
            "grid_template_columns": null,
            "grid_template_rows": null,
            "height": null,
            "justify_content": null,
            "justify_items": null,
            "left": null,
            "margin": null,
            "max_height": null,
            "max_width": null,
            "min_height": null,
            "min_width": null,
            "object_fit": null,
            "object_position": null,
            "order": null,
            "overflow": null,
            "overflow_x": null,
            "overflow_y": null,
            "padding": null,
            "right": null,
            "top": null,
            "visibility": null,
            "width": null
          }
        },
        "4e090176e96f4e178f8ae05d32b48088": {
          "model_module": "@jupyter-widgets/controls",
          "model_name": "DescriptionStyleModel",
          "model_module_version": "1.5.0",
          "state": {
            "_model_module": "@jupyter-widgets/controls",
            "_model_module_version": "1.5.0",
            "_model_name": "DescriptionStyleModel",
            "_view_count": null,
            "_view_module": "@jupyter-widgets/base",
            "_view_module_version": "1.2.0",
            "_view_name": "StyleView",
            "description_width": ""
          }
        },
        "d5ce4e95e3114b678e31ef7ea941919d": {
          "model_module": "@jupyter-widgets/controls",
          "model_name": "HBoxModel",
          "model_module_version": "1.5.0",
          "state": {
            "_dom_classes": [],
            "_model_module": "@jupyter-widgets/controls",
            "_model_module_version": "1.5.0",
            "_model_name": "HBoxModel",
            "_view_count": null,
            "_view_module": "@jupyter-widgets/controls",
            "_view_module_version": "1.5.0",
            "_view_name": "HBoxView",
            "box_style": "",
            "children": [
              "IPY_MODEL_8486ba329c104325aa9a2b01e36de905",
              "IPY_MODEL_bca6f192007b402da6f13b49c76041c3",
              "IPY_MODEL_0e0cedde233949899a0644bf66a22dfc"
            ],
            "layout": "IPY_MODEL_f78fe2e34e9d41fd948989ce0df48ada"
          }
        },
        "8486ba329c104325aa9a2b01e36de905": {
          "model_module": "@jupyter-widgets/controls",
          "model_name": "HTMLModel",
          "model_module_version": "1.5.0",
          "state": {
            "_dom_classes": [],
            "_model_module": "@jupyter-widgets/controls",
            "_model_module_version": "1.5.0",
            "_model_name": "HTMLModel",
            "_view_count": null,
            "_view_module": "@jupyter-widgets/controls",
            "_view_module_version": "1.5.0",
            "_view_name": "HTMLView",
            "description": "",
            "description_tooltip": null,
            "layout": "IPY_MODEL_633542ce911b4d338c3f1389523c6276",
            "placeholder": "​",
            "style": "IPY_MODEL_d6aaaa37dc134d4cba747cf0625239c7",
            "value": "config.json: 100%"
          }
        },
        "bca6f192007b402da6f13b49c76041c3": {
          "model_module": "@jupyter-widgets/controls",
          "model_name": "FloatProgressModel",
          "model_module_version": "1.5.0",
          "state": {
            "_dom_classes": [],
            "_model_module": "@jupyter-widgets/controls",
            "_model_module_version": "1.5.0",
            "_model_name": "FloatProgressModel",
            "_view_count": null,
            "_view_module": "@jupyter-widgets/controls",
            "_view_module_version": "1.5.0",
            "_view_name": "ProgressView",
            "bar_style": "success",
            "description": "",
            "description_tooltip": null,
            "layout": "IPY_MODEL_1b70de3fbfce49198ae10183a03b162e",
            "max": 1469,
            "min": 0,
            "orientation": "horizontal",
            "style": "IPY_MODEL_9d4700f420cf4b3a813d6bb386935039",
            "value": 1469
          }
        },
        "0e0cedde233949899a0644bf66a22dfc": {
          "model_module": "@jupyter-widgets/controls",
          "model_name": "HTMLModel",
          "model_module_version": "1.5.0",
          "state": {
            "_dom_classes": [],
            "_model_module": "@jupyter-widgets/controls",
            "_model_module_version": "1.5.0",
            "_model_name": "HTMLModel",
            "_view_count": null,
            "_view_module": "@jupyter-widgets/controls",
            "_view_module_version": "1.5.0",
            "_view_name": "HTMLView",
            "description": "",
            "description_tooltip": null,
            "layout": "IPY_MODEL_59d284a62061484d81c4e0053f2e1b08",
            "placeholder": "​",
            "style": "IPY_MODEL_a4a563e7434f4c97978cf9450d45afcb",
            "value": " 1.47k/1.47k [00:00&lt;00:00, 68.5kB/s]"
          }
        },
        "f78fe2e34e9d41fd948989ce0df48ada": {
          "model_module": "@jupyter-widgets/base",
          "model_name": "LayoutModel",
          "model_module_version": "1.2.0",
          "state": {
            "_model_module": "@jupyter-widgets/base",
            "_model_module_version": "1.2.0",
            "_model_name": "LayoutModel",
            "_view_count": null,
            "_view_module": "@jupyter-widgets/base",
            "_view_module_version": "1.2.0",
            "_view_name": "LayoutView",
            "align_content": null,
            "align_items": null,
            "align_self": null,
            "border": null,
            "bottom": null,
            "display": null,
            "flex": null,
            "flex_flow": null,
            "grid_area": null,
            "grid_auto_columns": null,
            "grid_auto_flow": null,
            "grid_auto_rows": null,
            "grid_column": null,
            "grid_gap": null,
            "grid_row": null,
            "grid_template_areas": null,
            "grid_template_columns": null,
            "grid_template_rows": null,
            "height": null,
            "justify_content": null,
            "justify_items": null,
            "left": null,
            "margin": null,
            "max_height": null,
            "max_width": null,
            "min_height": null,
            "min_width": null,
            "object_fit": null,
            "object_position": null,
            "order": null,
            "overflow": null,
            "overflow_x": null,
            "overflow_y": null,
            "padding": null,
            "right": null,
            "top": null,
            "visibility": null,
            "width": null
          }
        },
        "633542ce911b4d338c3f1389523c6276": {
          "model_module": "@jupyter-widgets/base",
          "model_name": "LayoutModel",
          "model_module_version": "1.2.0",
          "state": {
            "_model_module": "@jupyter-widgets/base",
            "_model_module_version": "1.2.0",
            "_model_name": "LayoutModel",
            "_view_count": null,
            "_view_module": "@jupyter-widgets/base",
            "_view_module_version": "1.2.0",
            "_view_name": "LayoutView",
            "align_content": null,
            "align_items": null,
            "align_self": null,
            "border": null,
            "bottom": null,
            "display": null,
            "flex": null,
            "flex_flow": null,
            "grid_area": null,
            "grid_auto_columns": null,
            "grid_auto_flow": null,
            "grid_auto_rows": null,
            "grid_column": null,
            "grid_gap": null,
            "grid_row": null,
            "grid_template_areas": null,
            "grid_template_columns": null,
            "grid_template_rows": null,
            "height": null,
            "justify_content": null,
            "justify_items": null,
            "left": null,
            "margin": null,
            "max_height": null,
            "max_width": null,
            "min_height": null,
            "min_width": null,
            "object_fit": null,
            "object_position": null,
            "order": null,
            "overflow": null,
            "overflow_x": null,
            "overflow_y": null,
            "padding": null,
            "right": null,
            "top": null,
            "visibility": null,
            "width": null
          }
        },
        "d6aaaa37dc134d4cba747cf0625239c7": {
          "model_module": "@jupyter-widgets/controls",
          "model_name": "DescriptionStyleModel",
          "model_module_version": "1.5.0",
          "state": {
            "_model_module": "@jupyter-widgets/controls",
            "_model_module_version": "1.5.0",
            "_model_name": "DescriptionStyleModel",
            "_view_count": null,
            "_view_module": "@jupyter-widgets/base",
            "_view_module_version": "1.2.0",
            "_view_name": "StyleView",
            "description_width": ""
          }
        },
        "1b70de3fbfce49198ae10183a03b162e": {
          "model_module": "@jupyter-widgets/base",
          "model_name": "LayoutModel",
          "model_module_version": "1.2.0",
          "state": {
            "_model_module": "@jupyter-widgets/base",
            "_model_module_version": "1.2.0",
            "_model_name": "LayoutModel",
            "_view_count": null,
            "_view_module": "@jupyter-widgets/base",
            "_view_module_version": "1.2.0",
            "_view_name": "LayoutView",
            "align_content": null,
            "align_items": null,
            "align_self": null,
            "border": null,
            "bottom": null,
            "display": null,
            "flex": null,
            "flex_flow": null,
            "grid_area": null,
            "grid_auto_columns": null,
            "grid_auto_flow": null,
            "grid_auto_rows": null,
            "grid_column": null,
            "grid_gap": null,
            "grid_row": null,
            "grid_template_areas": null,
            "grid_template_columns": null,
            "grid_template_rows": null,
            "height": null,
            "justify_content": null,
            "justify_items": null,
            "left": null,
            "margin": null,
            "max_height": null,
            "max_width": null,
            "min_height": null,
            "min_width": null,
            "object_fit": null,
            "object_position": null,
            "order": null,
            "overflow": null,
            "overflow_x": null,
            "overflow_y": null,
            "padding": null,
            "right": null,
            "top": null,
            "visibility": null,
            "width": null
          }
        },
        "9d4700f420cf4b3a813d6bb386935039": {
          "model_module": "@jupyter-widgets/controls",
          "model_name": "ProgressStyleModel",
          "model_module_version": "1.5.0",
          "state": {
            "_model_module": "@jupyter-widgets/controls",
            "_model_module_version": "1.5.0",
            "_model_name": "ProgressStyleModel",
            "_view_count": null,
            "_view_module": "@jupyter-widgets/base",
            "_view_module_version": "1.2.0",
            "_view_name": "StyleView",
            "bar_color": null,
            "description_width": ""
          }
        },
        "59d284a62061484d81c4e0053f2e1b08": {
          "model_module": "@jupyter-widgets/base",
          "model_name": "LayoutModel",
          "model_module_version": "1.2.0",
          "state": {
            "_model_module": "@jupyter-widgets/base",
            "_model_module_version": "1.2.0",
            "_model_name": "LayoutModel",
            "_view_count": null,
            "_view_module": "@jupyter-widgets/base",
            "_view_module_version": "1.2.0",
            "_view_name": "LayoutView",
            "align_content": null,
            "align_items": null,
            "align_self": null,
            "border": null,
            "bottom": null,
            "display": null,
            "flex": null,
            "flex_flow": null,
            "grid_area": null,
            "grid_auto_columns": null,
            "grid_auto_flow": null,
            "grid_auto_rows": null,
            "grid_column": null,
            "grid_gap": null,
            "grid_row": null,
            "grid_template_areas": null,
            "grid_template_columns": null,
            "grid_template_rows": null,
            "height": null,
            "justify_content": null,
            "justify_items": null,
            "left": null,
            "margin": null,
            "max_height": null,
            "max_width": null,
            "min_height": null,
            "min_width": null,
            "object_fit": null,
            "object_position": null,
            "order": null,
            "overflow": null,
            "overflow_x": null,
            "overflow_y": null,
            "padding": null,
            "right": null,
            "top": null,
            "visibility": null,
            "width": null
          }
        },
        "a4a563e7434f4c97978cf9450d45afcb": {
          "model_module": "@jupyter-widgets/controls",
          "model_name": "DescriptionStyleModel",
          "model_module_version": "1.5.0",
          "state": {
            "_model_module": "@jupyter-widgets/controls",
            "_model_module_version": "1.5.0",
            "_model_name": "DescriptionStyleModel",
            "_view_count": null,
            "_view_module": "@jupyter-widgets/base",
            "_view_module_version": "1.2.0",
            "_view_name": "StyleView",
            "description_width": ""
          }
        },
        "8d540cd64da5480298e6ee7c7703782b": {
          "model_module": "@jupyter-widgets/controls",
          "model_name": "HBoxModel",
          "model_module_version": "1.5.0",
          "state": {
            "_dom_classes": [],
            "_model_module": "@jupyter-widgets/controls",
            "_model_module_version": "1.5.0",
            "_model_name": "HBoxModel",
            "_view_count": null,
            "_view_module": "@jupyter-widgets/controls",
            "_view_module_version": "1.5.0",
            "_view_name": "HBoxView",
            "box_style": "",
            "children": [
              "IPY_MODEL_e54a15625c6b489baa99b055b5fa7f9f",
              "IPY_MODEL_5c7225233738416aa5ef06cf8fd8f02b",
              "IPY_MODEL_34605988e2db4484a99a727945cd42bb"
            ],
            "layout": "IPY_MODEL_9deefcc6f89346a98e8eec54bec68c50"
          }
        },
        "e54a15625c6b489baa99b055b5fa7f9f": {
          "model_module": "@jupyter-widgets/controls",
          "model_name": "HTMLModel",
          "model_module_version": "1.5.0",
          "state": {
            "_dom_classes": [],
            "_model_module": "@jupyter-widgets/controls",
            "_model_module_version": "1.5.0",
            "_model_name": "HTMLModel",
            "_view_count": null,
            "_view_module": "@jupyter-widgets/controls",
            "_view_module_version": "1.5.0",
            "_view_name": "HTMLView",
            "description": "",
            "description_tooltip": null,
            "layout": "IPY_MODEL_74e8164678864e42926280d1d29609a4",
            "placeholder": "​",
            "style": "IPY_MODEL_6cdb5f79d4cc400191c3448096c14d20",
            "value": "model.safetensors: 100%"
          }
        },
        "5c7225233738416aa5ef06cf8fd8f02b": {
          "model_module": "@jupyter-widgets/controls",
          "model_name": "FloatProgressModel",
          "model_module_version": "1.5.0",
          "state": {
            "_dom_classes": [],
            "_model_module": "@jupyter-widgets/controls",
            "_model_module_version": "1.5.0",
            "_model_name": "FloatProgressModel",
            "_view_count": null,
            "_view_module": "@jupyter-widgets/controls",
            "_view_module_version": "1.5.0",
            "_view_name": "ProgressView",
            "bar_style": "success",
            "description": "",
            "description_tooltip": null,
            "layout": "IPY_MODEL_34cdfd6ecd834ec8855fa2f623f63e72",
            "max": 115434268,
            "min": 0,
            "orientation": "horizontal",
            "style": "IPY_MODEL_b201ff3302874642abfd3d9f9cd3eb1a",
            "value": 115434268
          }
        },
        "34605988e2db4484a99a727945cd42bb": {
          "model_module": "@jupyter-widgets/controls",
          "model_name": "HTMLModel",
          "model_module_version": "1.5.0",
          "state": {
            "_dom_classes": [],
            "_model_module": "@jupyter-widgets/controls",
            "_model_module_version": "1.5.0",
            "_model_name": "HTMLModel",
            "_view_count": null,
            "_view_module": "@jupyter-widgets/controls",
            "_view_module_version": "1.5.0",
            "_view_name": "HTMLView",
            "description": "",
            "description_tooltip": null,
            "layout": "IPY_MODEL_a10cd469820e4b0199cd908792a5d8a3",
            "placeholder": "​",
            "style": "IPY_MODEL_46f28b8ad4614a86a66466f89444e9da",
            "value": " 115M/115M [00:01&lt;00:00, 96.9MB/s]"
          }
        },
        "9deefcc6f89346a98e8eec54bec68c50": {
          "model_module": "@jupyter-widgets/base",
          "model_name": "LayoutModel",
          "model_module_version": "1.2.0",
          "state": {
            "_model_module": "@jupyter-widgets/base",
            "_model_module_version": "1.2.0",
            "_model_name": "LayoutModel",
            "_view_count": null,
            "_view_module": "@jupyter-widgets/base",
            "_view_module_version": "1.2.0",
            "_view_name": "LayoutView",
            "align_content": null,
            "align_items": null,
            "align_self": null,
            "border": null,
            "bottom": null,
            "display": null,
            "flex": null,
            "flex_flow": null,
            "grid_area": null,
            "grid_auto_columns": null,
            "grid_auto_flow": null,
            "grid_auto_rows": null,
            "grid_column": null,
            "grid_gap": null,
            "grid_row": null,
            "grid_template_areas": null,
            "grid_template_columns": null,
            "grid_template_rows": null,
            "height": null,
            "justify_content": null,
            "justify_items": null,
            "left": null,
            "margin": null,
            "max_height": null,
            "max_width": null,
            "min_height": null,
            "min_width": null,
            "object_fit": null,
            "object_position": null,
            "order": null,
            "overflow": null,
            "overflow_x": null,
            "overflow_y": null,
            "padding": null,
            "right": null,
            "top": null,
            "visibility": null,
            "width": null
          }
        },
        "74e8164678864e42926280d1d29609a4": {
          "model_module": "@jupyter-widgets/base",
          "model_name": "LayoutModel",
          "model_module_version": "1.2.0",
          "state": {
            "_model_module": "@jupyter-widgets/base",
            "_model_module_version": "1.2.0",
            "_model_name": "LayoutModel",
            "_view_count": null,
            "_view_module": "@jupyter-widgets/base",
            "_view_module_version": "1.2.0",
            "_view_name": "LayoutView",
            "align_content": null,
            "align_items": null,
            "align_self": null,
            "border": null,
            "bottom": null,
            "display": null,
            "flex": null,
            "flex_flow": null,
            "grid_area": null,
            "grid_auto_columns": null,
            "grid_auto_flow": null,
            "grid_auto_rows": null,
            "grid_column": null,
            "grid_gap": null,
            "grid_row": null,
            "grid_template_areas": null,
            "grid_template_columns": null,
            "grid_template_rows": null,
            "height": null,
            "justify_content": null,
            "justify_items": null,
            "left": null,
            "margin": null,
            "max_height": null,
            "max_width": null,
            "min_height": null,
            "min_width": null,
            "object_fit": null,
            "object_position": null,
            "order": null,
            "overflow": null,
            "overflow_x": null,
            "overflow_y": null,
            "padding": null,
            "right": null,
            "top": null,
            "visibility": null,
            "width": null
          }
        },
        "6cdb5f79d4cc400191c3448096c14d20": {
          "model_module": "@jupyter-widgets/controls",
          "model_name": "DescriptionStyleModel",
          "model_module_version": "1.5.0",
          "state": {
            "_model_module": "@jupyter-widgets/controls",
            "_model_module_version": "1.5.0",
            "_model_name": "DescriptionStyleModel",
            "_view_count": null,
            "_view_module": "@jupyter-widgets/base",
            "_view_module_version": "1.2.0",
            "_view_name": "StyleView",
            "description_width": ""
          }
        },
        "34cdfd6ecd834ec8855fa2f623f63e72": {
          "model_module": "@jupyter-widgets/base",
          "model_name": "LayoutModel",
          "model_module_version": "1.2.0",
          "state": {
            "_model_module": "@jupyter-widgets/base",
            "_model_module_version": "1.2.0",
            "_model_name": "LayoutModel",
            "_view_count": null,
            "_view_module": "@jupyter-widgets/base",
            "_view_module_version": "1.2.0",
            "_view_name": "LayoutView",
            "align_content": null,
            "align_items": null,
            "align_self": null,
            "border": null,
            "bottom": null,
            "display": null,
            "flex": null,
            "flex_flow": null,
            "grid_area": null,
            "grid_auto_columns": null,
            "grid_auto_flow": null,
            "grid_auto_rows": null,
            "grid_column": null,
            "grid_gap": null,
            "grid_row": null,
            "grid_template_areas": null,
            "grid_template_columns": null,
            "grid_template_rows": null,
            "height": null,
            "justify_content": null,
            "justify_items": null,
            "left": null,
            "margin": null,
            "max_height": null,
            "max_width": null,
            "min_height": null,
            "min_width": null,
            "object_fit": null,
            "object_position": null,
            "order": null,
            "overflow": null,
            "overflow_x": null,
            "overflow_y": null,
            "padding": null,
            "right": null,
            "top": null,
            "visibility": null,
            "width": null
          }
        },
        "b201ff3302874642abfd3d9f9cd3eb1a": {
          "model_module": "@jupyter-widgets/controls",
          "model_name": "ProgressStyleModel",
          "model_module_version": "1.5.0",
          "state": {
            "_model_module": "@jupyter-widgets/controls",
            "_model_module_version": "1.5.0",
            "_model_name": "ProgressStyleModel",
            "_view_count": null,
            "_view_module": "@jupyter-widgets/base",
            "_view_module_version": "1.2.0",
            "_view_name": "StyleView",
            "bar_color": null,
            "description_width": ""
          }
        },
        "a10cd469820e4b0199cd908792a5d8a3": {
          "model_module": "@jupyter-widgets/base",
          "model_name": "LayoutModel",
          "model_module_version": "1.2.0",
          "state": {
            "_model_module": "@jupyter-widgets/base",
            "_model_module_version": "1.2.0",
            "_model_name": "LayoutModel",
            "_view_count": null,
            "_view_module": "@jupyter-widgets/base",
            "_view_module_version": "1.2.0",
            "_view_name": "LayoutView",
            "align_content": null,
            "align_items": null,
            "align_self": null,
            "border": null,
            "bottom": null,
            "display": null,
            "flex": null,
            "flex_flow": null,
            "grid_area": null,
            "grid_auto_columns": null,
            "grid_auto_flow": null,
            "grid_auto_rows": null,
            "grid_column": null,
            "grid_gap": null,
            "grid_row": null,
            "grid_template_areas": null,
            "grid_template_columns": null,
            "grid_template_rows": null,
            "height": null,
            "justify_content": null,
            "justify_items": null,
            "left": null,
            "margin": null,
            "max_height": null,
            "max_width": null,
            "min_height": null,
            "min_width": null,
            "object_fit": null,
            "object_position": null,
            "order": null,
            "overflow": null,
            "overflow_x": null,
            "overflow_y": null,
            "padding": null,
            "right": null,
            "top": null,
            "visibility": null,
            "width": null
          }
        },
        "46f28b8ad4614a86a66466f89444e9da": {
          "model_module": "@jupyter-widgets/controls",
          "model_name": "DescriptionStyleModel",
          "model_module_version": "1.5.0",
          "state": {
            "_model_module": "@jupyter-widgets/controls",
            "_model_module_version": "1.5.0",
            "_model_name": "DescriptionStyleModel",
            "_view_count": null,
            "_view_module": "@jupyter-widgets/base",
            "_view_module_version": "1.2.0",
            "_view_name": "StyleView",
            "description_width": ""
          }
        },
        "7fa04f26e3e44a87bfcb96d0f647889b": {
          "model_module": "@jupyter-widgets/controls",
          "model_name": "HBoxModel",
          "model_module_version": "1.5.0",
          "state": {
            "_dom_classes": [],
            "_model_module": "@jupyter-widgets/controls",
            "_model_module_version": "1.5.0",
            "_model_name": "HBoxModel",
            "_view_count": null,
            "_view_module": "@jupyter-widgets/controls",
            "_view_module_version": "1.5.0",
            "_view_name": "HBoxView",
            "box_style": "",
            "children": [
              "IPY_MODEL_63583216f75546e4a3debfa52522826c",
              "IPY_MODEL_561864079e45497c9e1d434d92cc2b54",
              "IPY_MODEL_27d58ead714d41f7b4c9d4e421174259"
            ],
            "layout": "IPY_MODEL_db0db23a73d246c28eff6ffbf836965d"
          }
        },
        "63583216f75546e4a3debfa52522826c": {
          "model_module": "@jupyter-widgets/controls",
          "model_name": "HTMLModel",
          "model_module_version": "1.5.0",
          "state": {
            "_dom_classes": [],
            "_model_module": "@jupyter-widgets/controls",
            "_model_module_version": "1.5.0",
            "_model_name": "HTMLModel",
            "_view_count": null,
            "_view_module": "@jupyter-widgets/controls",
            "_view_module_version": "1.5.0",
            "_view_name": "HTMLView",
            "description": "",
            "description_tooltip": null,
            "layout": "IPY_MODEL_e7f4240742064a3d9865e41b98ae9457",
            "placeholder": "​",
            "style": "IPY_MODEL_c508c9e0105c4c43ad569c3eacbdbe18",
            "value": "model.safetensors: 100%"
          }
        },
        "561864079e45497c9e1d434d92cc2b54": {
          "model_module": "@jupyter-widgets/controls",
          "model_name": "FloatProgressModel",
          "model_module_version": "1.5.0",
          "state": {
            "_dom_classes": [],
            "_model_module": "@jupyter-widgets/controls",
            "_model_module_version": "1.5.0",
            "_model_name": "FloatProgressModel",
            "_view_count": null,
            "_view_module": "@jupyter-widgets/controls",
            "_view_module_version": "1.5.0",
            "_view_name": "ProgressView",
            "bar_style": "success",
            "description": "",
            "description_tooltip": null,
            "layout": "IPY_MODEL_17aae75303af4059b47b5d2cc39be54a",
            "max": 46807446,
            "min": 0,
            "orientation": "horizontal",
            "style": "IPY_MODEL_38bc82f204f3438d9ff56d6a177486c7",
            "value": 46807446
          }
        },
        "27d58ead714d41f7b4c9d4e421174259": {
          "model_module": "@jupyter-widgets/controls",
          "model_name": "HTMLModel",
          "model_module_version": "1.5.0",
          "state": {
            "_dom_classes": [],
            "_model_module": "@jupyter-widgets/controls",
            "_model_module_version": "1.5.0",
            "_model_name": "HTMLModel",
            "_view_count": null,
            "_view_module": "@jupyter-widgets/controls",
            "_view_module_version": "1.5.0",
            "_view_name": "HTMLView",
            "description": "",
            "description_tooltip": null,
            "layout": "IPY_MODEL_608c2c1e4cfb4d0283133262f32c1280",
            "placeholder": "​",
            "style": "IPY_MODEL_f397e046ce064ea9b6cc20e973b1510c",
            "value": " 46.8M/46.8M [00:00&lt;00:00, 176MB/s]"
          }
        },
        "db0db23a73d246c28eff6ffbf836965d": {
          "model_module": "@jupyter-widgets/base",
          "model_name": "LayoutModel",
          "model_module_version": "1.2.0",
          "state": {
            "_model_module": "@jupyter-widgets/base",
            "_model_module_version": "1.2.0",
            "_model_name": "LayoutModel",
            "_view_count": null,
            "_view_module": "@jupyter-widgets/base",
            "_view_module_version": "1.2.0",
            "_view_name": "LayoutView",
            "align_content": null,
            "align_items": null,
            "align_self": null,
            "border": null,
            "bottom": null,
            "display": null,
            "flex": null,
            "flex_flow": null,
            "grid_area": null,
            "grid_auto_columns": null,
            "grid_auto_flow": null,
            "grid_auto_rows": null,
            "grid_column": null,
            "grid_gap": null,
            "grid_row": null,
            "grid_template_areas": null,
            "grid_template_columns": null,
            "grid_template_rows": null,
            "height": null,
            "justify_content": null,
            "justify_items": null,
            "left": null,
            "margin": null,
            "max_height": null,
            "max_width": null,
            "min_height": null,
            "min_width": null,
            "object_fit": null,
            "object_position": null,
            "order": null,
            "overflow": null,
            "overflow_x": null,
            "overflow_y": null,
            "padding": null,
            "right": null,
            "top": null,
            "visibility": null,
            "width": null
          }
        },
        "e7f4240742064a3d9865e41b98ae9457": {
          "model_module": "@jupyter-widgets/base",
          "model_name": "LayoutModel",
          "model_module_version": "1.2.0",
          "state": {
            "_model_module": "@jupyter-widgets/base",
            "_model_module_version": "1.2.0",
            "_model_name": "LayoutModel",
            "_view_count": null,
            "_view_module": "@jupyter-widgets/base",
            "_view_module_version": "1.2.0",
            "_view_name": "LayoutView",
            "align_content": null,
            "align_items": null,
            "align_self": null,
            "border": null,
            "bottom": null,
            "display": null,
            "flex": null,
            "flex_flow": null,
            "grid_area": null,
            "grid_auto_columns": null,
            "grid_auto_flow": null,
            "grid_auto_rows": null,
            "grid_column": null,
            "grid_gap": null,
            "grid_row": null,
            "grid_template_areas": null,
            "grid_template_columns": null,
            "grid_template_rows": null,
            "height": null,
            "justify_content": null,
            "justify_items": null,
            "left": null,
            "margin": null,
            "max_height": null,
            "max_width": null,
            "min_height": null,
            "min_width": null,
            "object_fit": null,
            "object_position": null,
            "order": null,
            "overflow": null,
            "overflow_x": null,
            "overflow_y": null,
            "padding": null,
            "right": null,
            "top": null,
            "visibility": null,
            "width": null
          }
        },
        "c508c9e0105c4c43ad569c3eacbdbe18": {
          "model_module": "@jupyter-widgets/controls",
          "model_name": "DescriptionStyleModel",
          "model_module_version": "1.5.0",
          "state": {
            "_model_module": "@jupyter-widgets/controls",
            "_model_module_version": "1.5.0",
            "_model_name": "DescriptionStyleModel",
            "_view_count": null,
            "_view_module": "@jupyter-widgets/base",
            "_view_module_version": "1.2.0",
            "_view_name": "StyleView",
            "description_width": ""
          }
        },
        "17aae75303af4059b47b5d2cc39be54a": {
          "model_module": "@jupyter-widgets/base",
          "model_name": "LayoutModel",
          "model_module_version": "1.2.0",
          "state": {
            "_model_module": "@jupyter-widgets/base",
            "_model_module_version": "1.2.0",
            "_model_name": "LayoutModel",
            "_view_count": null,
            "_view_module": "@jupyter-widgets/base",
            "_view_module_version": "1.2.0",
            "_view_name": "LayoutView",
            "align_content": null,
            "align_items": null,
            "align_self": null,
            "border": null,
            "bottom": null,
            "display": null,
            "flex": null,
            "flex_flow": null,
            "grid_area": null,
            "grid_auto_columns": null,
            "grid_auto_flow": null,
            "grid_auto_rows": null,
            "grid_column": null,
            "grid_gap": null,
            "grid_row": null,
            "grid_template_areas": null,
            "grid_template_columns": null,
            "grid_template_rows": null,
            "height": null,
            "justify_content": null,
            "justify_items": null,
            "left": null,
            "margin": null,
            "max_height": null,
            "max_width": null,
            "min_height": null,
            "min_width": null,
            "object_fit": null,
            "object_position": null,
            "order": null,
            "overflow": null,
            "overflow_x": null,
            "overflow_y": null,
            "padding": null,
            "right": null,
            "top": null,
            "visibility": null,
            "width": null
          }
        },
        "38bc82f204f3438d9ff56d6a177486c7": {
          "model_module": "@jupyter-widgets/controls",
          "model_name": "ProgressStyleModel",
          "model_module_version": "1.5.0",
          "state": {
            "_model_module": "@jupyter-widgets/controls",
            "_model_module_version": "1.5.0",
            "_model_name": "ProgressStyleModel",
            "_view_count": null,
            "_view_module": "@jupyter-widgets/base",
            "_view_module_version": "1.2.0",
            "_view_name": "StyleView",
            "bar_color": null,
            "description_width": ""
          }
        },
        "608c2c1e4cfb4d0283133262f32c1280": {
          "model_module": "@jupyter-widgets/base",
          "model_name": "LayoutModel",
          "model_module_version": "1.2.0",
          "state": {
            "_model_module": "@jupyter-widgets/base",
            "_model_module_version": "1.2.0",
            "_model_name": "LayoutModel",
            "_view_count": null,
            "_view_module": "@jupyter-widgets/base",
            "_view_module_version": "1.2.0",
            "_view_name": "LayoutView",
            "align_content": null,
            "align_items": null,
            "align_self": null,
            "border": null,
            "bottom": null,
            "display": null,
            "flex": null,
            "flex_flow": null,
            "grid_area": null,
            "grid_auto_columns": null,
            "grid_auto_flow": null,
            "grid_auto_rows": null,
            "grid_column": null,
            "grid_gap": null,
            "grid_row": null,
            "grid_template_areas": null,
            "grid_template_columns": null,
            "grid_template_rows": null,
            "height": null,
            "justify_content": null,
            "justify_items": null,
            "left": null,
            "margin": null,
            "max_height": null,
            "max_width": null,
            "min_height": null,
            "min_width": null,
            "object_fit": null,
            "object_position": null,
            "order": null,
            "overflow": null,
            "overflow_x": null,
            "overflow_y": null,
            "padding": null,
            "right": null,
            "top": null,
            "visibility": null,
            "width": null
          }
        },
        "f397e046ce064ea9b6cc20e973b1510c": {
          "model_module": "@jupyter-widgets/controls",
          "model_name": "DescriptionStyleModel",
          "model_module_version": "1.5.0",
          "state": {
            "_model_module": "@jupyter-widgets/controls",
            "_model_module_version": "1.5.0",
            "_model_name": "DescriptionStyleModel",
            "_view_count": null,
            "_view_module": "@jupyter-widgets/base",
            "_view_module_version": "1.2.0",
            "_view_name": "StyleView",
            "description_width": ""
          }
        }
      }
    }
  },
  "nbformat": 4,
  "nbformat_minor": 0
}