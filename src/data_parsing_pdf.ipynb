{
  "cells": [
    {
      "cell_type": "markdown",
      "metadata": {
        "id": "AgWD97afy4u9"
      },
      "source": [
        "# Data Parsing | PDF | Practice"
      ]
    },
    {
      "cell_type": "code",
      "source": [
        "!pip install \"unstructured[all-docs]\""
      ],
      "metadata": {
        "id": "XY7v0yCTzRfx",
        "outputId": "d31b53ef-3f63-48e1-d323-5eba4a81635f",
        "colab": {
          "base_uri": "https://localhost:8080/"
        }
      },
      "execution_count": 72,
      "outputs": [
        {
          "output_type": "stream",
          "name": "stdout",
          "text": [
            "Requirement already satisfied: unstructured[all-docs] in /usr/local/lib/python3.10/dist-packages (0.16.11)\n",
            "Requirement already satisfied: chardet in /usr/local/lib/python3.10/dist-packages (from unstructured[all-docs]) (5.2.0)\n",
            "Requirement already satisfied: filetype in /usr/local/lib/python3.10/dist-packages (from unstructured[all-docs]) (1.2.0)\n",
            "Requirement already satisfied: python-magic in /usr/local/lib/python3.10/dist-packages (from unstructured[all-docs]) (0.4.27)\n",
            "Requirement already satisfied: lxml in /usr/local/lib/python3.10/dist-packages (from unstructured[all-docs]) (5.3.0)\n",
            "Requirement already satisfied: nltk in /usr/local/lib/python3.10/dist-packages (from unstructured[all-docs]) (3.9.1)\n",
            "Requirement already satisfied: requests in /usr/local/lib/python3.10/dist-packages (from unstructured[all-docs]) (2.32.3)\n",
            "Requirement already satisfied: beautifulsoup4 in /usr/local/lib/python3.10/dist-packages (from unstructured[all-docs]) (4.12.3)\n",
            "Requirement already satisfied: emoji in /usr/local/lib/python3.10/dist-packages (from unstructured[all-docs]) (2.14.0)\n",
            "Requirement already satisfied: dataclasses-json in /usr/local/lib/python3.10/dist-packages (from unstructured[all-docs]) (0.6.7)\n",
            "Requirement already satisfied: python-iso639 in /usr/local/lib/python3.10/dist-packages (from unstructured[all-docs]) (2024.10.22)\n",
            "Requirement already satisfied: langdetect in /usr/local/lib/python3.10/dist-packages (from unstructured[all-docs]) (1.0.9)\n",
            "Requirement already satisfied: numpy<2 in /usr/local/lib/python3.10/dist-packages (from unstructured[all-docs]) (1.26.4)\n",
            "Requirement already satisfied: rapidfuzz in /usr/local/lib/python3.10/dist-packages (from unstructured[all-docs]) (3.11.0)\n",
            "Requirement already satisfied: backoff in /usr/local/lib/python3.10/dist-packages (from unstructured[all-docs]) (2.2.1)\n",
            "Requirement already satisfied: typing-extensions in /usr/local/lib/python3.10/dist-packages (from unstructured[all-docs]) (4.12.2)\n",
            "Requirement already satisfied: unstructured-client in /usr/local/lib/python3.10/dist-packages (from unstructured[all-docs]) (0.28.1)\n",
            "Requirement already satisfied: wrapt in /usr/local/lib/python3.10/dist-packages (from unstructured[all-docs]) (1.17.0)\n",
            "Requirement already satisfied: tqdm in /usr/local/lib/python3.10/dist-packages (from unstructured[all-docs]) (4.67.1)\n",
            "Requirement already satisfied: psutil in /usr/local/lib/python3.10/dist-packages (from unstructured[all-docs]) (5.9.5)\n",
            "Requirement already satisfied: python-oxmsg in /usr/local/lib/python3.10/dist-packages (from unstructured[all-docs]) (0.0.1)\n",
            "Requirement already satisfied: html5lib in /usr/local/lib/python3.10/dist-packages (from unstructured[all-docs]) (1.1)\n",
            "Requirement already satisfied: networkx in /usr/local/lib/python3.10/dist-packages (from unstructured[all-docs]) (3.4.2)\n",
            "Requirement already satisfied: unstructured-inference==0.8.1 in /usr/local/lib/python3.10/dist-packages (from unstructured[all-docs]) (0.8.1)\n",
            "Requirement already satisfied: google-cloud-vision in /usr/local/lib/python3.10/dist-packages (from unstructured[all-docs]) (3.9.0)\n",
            "Requirement already satisfied: pi-heif in /usr/local/lib/python3.10/dist-packages (from unstructured[all-docs]) (0.21.0)\n",
            "Requirement already satisfied: python-pptx>=1.0.1 in /usr/local/lib/python3.10/dist-packages (from unstructured[all-docs]) (1.0.2)\n",
            "Requirement already satisfied: pikepdf in /usr/local/lib/python3.10/dist-packages (from unstructured[all-docs]) (9.4.2)\n",
            "Requirement already satisfied: markdown in /usr/local/lib/python3.10/dist-packages (from unstructured[all-docs]) (3.7)\n",
            "Requirement already satisfied: pandas in /usr/local/lib/python3.10/dist-packages (from unstructured[all-docs]) (2.2.2)\n",
            "Requirement already satisfied: pypdf in /usr/local/lib/python3.10/dist-packages (from unstructured[all-docs]) (5.1.0)\n",
            "Requirement already satisfied: openpyxl in /usr/local/lib/python3.10/dist-packages (from unstructured[all-docs]) (3.1.5)\n",
            "Requirement already satisfied: pdfminer.six in /usr/local/lib/python3.10/dist-packages (from unstructured[all-docs]) (20231228)\n",
            "Requirement already satisfied: pdf2image in /usr/local/lib/python3.10/dist-packages (from unstructured[all-docs]) (1.17.0)\n",
            "Requirement already satisfied: effdet in /usr/local/lib/python3.10/dist-packages (from unstructured[all-docs]) (0.4.1)\n",
            "Requirement already satisfied: xlrd in /usr/local/lib/python3.10/dist-packages (from unstructured[all-docs]) (2.0.1)\n",
            "Requirement already satisfied: onnx in /usr/local/lib/python3.10/dist-packages (from unstructured[all-docs]) (1.17.0)\n",
            "Requirement already satisfied: pypandoc in /usr/local/lib/python3.10/dist-packages (from unstructured[all-docs]) (1.14)\n",
            "Requirement already satisfied: python-docx>=1.1.2 in /usr/local/lib/python3.10/dist-packages (from unstructured[all-docs]) (1.1.2)\n",
            "Requirement already satisfied: unstructured.pytesseract>=0.3.12 in /usr/local/lib/python3.10/dist-packages (from unstructured[all-docs]) (0.3.13)\n",
            "Requirement already satisfied: layoutparser in /usr/local/lib/python3.10/dist-packages (from unstructured-inference==0.8.1->unstructured[all-docs]) (0.3.4)\n",
            "Requirement already satisfied: python-multipart in /usr/local/lib/python3.10/dist-packages (from unstructured-inference==0.8.1->unstructured[all-docs]) (0.0.20)\n",
            "Requirement already satisfied: huggingface-hub in /usr/local/lib/python3.10/dist-packages (from unstructured-inference==0.8.1->unstructured[all-docs]) (0.27.0)\n",
            "Requirement already satisfied: opencv-python!=4.7.0.68 in /usr/local/lib/python3.10/dist-packages (from unstructured-inference==0.8.1->unstructured[all-docs]) (4.10.0.84)\n",
            "Requirement already satisfied: onnxruntime>=1.17.0 in /usr/local/lib/python3.10/dist-packages (from unstructured-inference==0.8.1->unstructured[all-docs]) (1.20.1)\n",
            "Requirement already satisfied: matplotlib in /usr/local/lib/python3.10/dist-packages (from unstructured-inference==0.8.1->unstructured[all-docs]) (3.8.0)\n",
            "Requirement already satisfied: torch in /usr/local/lib/python3.10/dist-packages (from unstructured-inference==0.8.1->unstructured[all-docs]) (2.5.1+cu121)\n",
            "Requirement already satisfied: timm in /usr/local/lib/python3.10/dist-packages (from unstructured-inference==0.8.1->unstructured[all-docs]) (1.0.12)\n",
            "Requirement already satisfied: transformers>=4.25.1 in /usr/local/lib/python3.10/dist-packages (from unstructured-inference==0.8.1->unstructured[all-docs]) (4.47.1)\n",
            "Requirement already satisfied: Pillow>=3.3.2 in /usr/local/lib/python3.10/dist-packages (from python-pptx>=1.0.1->unstructured[all-docs]) (11.0.0)\n",
            "Requirement already satisfied: XlsxWriter>=0.5.7 in /usr/local/lib/python3.10/dist-packages (from python-pptx>=1.0.1->unstructured[all-docs]) (3.2.0)\n",
            "Requirement already satisfied: packaging>=21.3 in /usr/local/lib/python3.10/dist-packages (from unstructured.pytesseract>=0.3.12->unstructured[all-docs]) (24.2)\n",
            "Requirement already satisfied: soupsieve>1.2 in /usr/local/lib/python3.10/dist-packages (from beautifulsoup4->unstructured[all-docs]) (2.6)\n",
            "Requirement already satisfied: marshmallow<4.0.0,>=3.18.0 in /usr/local/lib/python3.10/dist-packages (from dataclasses-json->unstructured[all-docs]) (3.23.2)\n",
            "Requirement already satisfied: typing-inspect<1,>=0.4.0 in /usr/local/lib/python3.10/dist-packages (from dataclasses-json->unstructured[all-docs]) (0.9.0)\n",
            "Requirement already satisfied: torchvision in /usr/local/lib/python3.10/dist-packages (from effdet->unstructured[all-docs]) (0.20.1+cu121)\n",
            "Requirement already satisfied: pycocotools>=2.0.2 in /usr/local/lib/python3.10/dist-packages (from effdet->unstructured[all-docs]) (2.0.8)\n",
            "Requirement already satisfied: omegaconf>=2.0 in /usr/local/lib/python3.10/dist-packages (from effdet->unstructured[all-docs]) (2.3.0)\n",
            "Requirement already satisfied: google-api-core!=2.0.*,!=2.1.*,!=2.10.*,!=2.2.*,!=2.3.*,!=2.4.*,!=2.5.*,!=2.6.*,!=2.7.*,!=2.8.*,!=2.9.*,<3.0.0dev,>=1.34.1 in /usr/local/lib/python3.10/dist-packages (from google-api-core[grpc]!=2.0.*,!=2.1.*,!=2.10.*,!=2.2.*,!=2.3.*,!=2.4.*,!=2.5.*,!=2.6.*,!=2.7.*,!=2.8.*,!=2.9.*,<3.0.0dev,>=1.34.1->google-cloud-vision->unstructured[all-docs]) (2.19.2)\n",
            "Requirement already satisfied: google-auth!=2.24.0,!=2.25.0,<3.0.0dev,>=2.14.1 in /usr/local/lib/python3.10/dist-packages (from google-cloud-vision->unstructured[all-docs]) (2.27.0)\n",
            "Requirement already satisfied: proto-plus<2.0.0dev,>=1.22.3 in /usr/local/lib/python3.10/dist-packages (from google-cloud-vision->unstructured[all-docs]) (1.25.0)\n",
            "Requirement already satisfied: protobuf!=4.21.0,!=4.21.1,!=4.21.2,!=4.21.3,!=4.21.4,!=4.21.5,<6.0.0dev,>=3.20.2 in /usr/local/lib/python3.10/dist-packages (from google-cloud-vision->unstructured[all-docs]) (4.25.5)\n",
            "Requirement already satisfied: six>=1.9 in /usr/local/lib/python3.10/dist-packages (from html5lib->unstructured[all-docs]) (1.17.0)\n",
            "Requirement already satisfied: webencodings in /usr/local/lib/python3.10/dist-packages (from html5lib->unstructured[all-docs]) (0.5.1)\n",
            "Requirement already satisfied: click in /usr/local/lib/python3.10/dist-packages (from nltk->unstructured[all-docs]) (8.1.7)\n",
            "Requirement already satisfied: joblib in /usr/local/lib/python3.10/dist-packages (from nltk->unstructured[all-docs]) (1.4.2)\n",
            "Requirement already satisfied: regex>=2021.8.3 in /usr/local/lib/python3.10/dist-packages (from nltk->unstructured[all-docs]) (2024.11.6)\n",
            "Requirement already satisfied: et-xmlfile in /usr/local/lib/python3.10/dist-packages (from openpyxl->unstructured[all-docs]) (2.0.0)\n",
            "Requirement already satisfied: python-dateutil>=2.8.2 in /usr/local/lib/python3.10/dist-packages (from pandas->unstructured[all-docs]) (2.8.2)\n",
            "Requirement already satisfied: pytz>=2020.1 in /usr/local/lib/python3.10/dist-packages (from pandas->unstructured[all-docs]) (2024.2)\n",
            "Requirement already satisfied: tzdata>=2022.7 in /usr/local/lib/python3.10/dist-packages (from pandas->unstructured[all-docs]) (2024.2)\n",
            "Requirement already satisfied: charset-normalizer>=2.0.0 in /usr/local/lib/python3.10/dist-packages (from pdfminer.six->unstructured[all-docs]) (3.4.0)\n",
            "Requirement already satisfied: cryptography>=36.0.0 in /usr/local/lib/python3.10/dist-packages (from pdfminer.six->unstructured[all-docs]) (43.0.3)\n",
            "Requirement already satisfied: Deprecated in /usr/local/lib/python3.10/dist-packages (from pikepdf->unstructured[all-docs]) (1.2.15)\n",
            "Requirement already satisfied: olefile in /usr/local/lib/python3.10/dist-packages (from python-oxmsg->unstructured[all-docs]) (0.47)\n",
            "Requirement already satisfied: idna<4,>=2.5 in /usr/local/lib/python3.10/dist-packages (from requests->unstructured[all-docs]) (3.10)\n",
            "Requirement already satisfied: urllib3<3,>=1.21.1 in /usr/local/lib/python3.10/dist-packages (from requests->unstructured[all-docs]) (2.2.3)\n",
            "Requirement already satisfied: certifi>=2017.4.17 in /usr/local/lib/python3.10/dist-packages (from requests->unstructured[all-docs]) (2024.12.14)\n",
            "Requirement already satisfied: aiofiles>=24.1.0 in /usr/local/lib/python3.10/dist-packages (from unstructured-client->unstructured[all-docs]) (24.1.0)\n",
            "Requirement already satisfied: eval-type-backport<0.3.0,>=0.2.0 in /usr/local/lib/python3.10/dist-packages (from unstructured-client->unstructured[all-docs]) (0.2.0)\n",
            "Requirement already satisfied: httpx>=0.27.0 in /usr/local/lib/python3.10/dist-packages (from unstructured-client->unstructured[all-docs]) (0.28.1)\n",
            "Requirement already satisfied: jsonpath-python<2.0.0,>=1.0.6 in /usr/local/lib/python3.10/dist-packages (from unstructured-client->unstructured[all-docs]) (1.0.6)\n",
            "Requirement already satisfied: nest-asyncio>=1.6.0 in /usr/local/lib/python3.10/dist-packages (from unstructured-client->unstructured[all-docs]) (1.6.0)\n",
            "Requirement already satisfied: pydantic<2.10.0,>=2.9.2 in /usr/local/lib/python3.10/dist-packages (from unstructured-client->unstructured[all-docs]) (2.9.2)\n",
            "Requirement already satisfied: requests-toolbelt>=1.0.0 in /usr/local/lib/python3.10/dist-packages (from unstructured-client->unstructured[all-docs]) (1.0.0)\n",
            "Requirement already satisfied: cffi>=1.12 in /usr/local/lib/python3.10/dist-packages (from cryptography>=36.0.0->pdfminer.six->unstructured[all-docs]) (1.17.1)\n",
            "Requirement already satisfied: googleapis-common-protos<2.0.dev0,>=1.56.2 in /usr/local/lib/python3.10/dist-packages (from google-api-core!=2.0.*,!=2.1.*,!=2.10.*,!=2.2.*,!=2.3.*,!=2.4.*,!=2.5.*,!=2.6.*,!=2.7.*,!=2.8.*,!=2.9.*,<3.0.0dev,>=1.34.1->google-api-core[grpc]!=2.0.*,!=2.1.*,!=2.10.*,!=2.2.*,!=2.3.*,!=2.4.*,!=2.5.*,!=2.6.*,!=2.7.*,!=2.8.*,!=2.9.*,<3.0.0dev,>=1.34.1->google-cloud-vision->unstructured[all-docs]) (1.66.0)\n",
            "Requirement already satisfied: grpcio<2.0dev,>=1.33.2 in /usr/local/lib/python3.10/dist-packages (from google-api-core[grpc]!=2.0.*,!=2.1.*,!=2.10.*,!=2.2.*,!=2.3.*,!=2.4.*,!=2.5.*,!=2.6.*,!=2.7.*,!=2.8.*,!=2.9.*,<3.0.0dev,>=1.34.1->google-cloud-vision->unstructured[all-docs]) (1.68.1)\n",
            "Requirement already satisfied: grpcio-status<2.0.dev0,>=1.33.2 in /usr/local/lib/python3.10/dist-packages (from google-api-core[grpc]!=2.0.*,!=2.1.*,!=2.10.*,!=2.2.*,!=2.3.*,!=2.4.*,!=2.5.*,!=2.6.*,!=2.7.*,!=2.8.*,!=2.9.*,<3.0.0dev,>=1.34.1->google-cloud-vision->unstructured[all-docs]) (1.62.3)\n",
            "Requirement already satisfied: cachetools<6.0,>=2.0.0 in /usr/local/lib/python3.10/dist-packages (from google-auth!=2.24.0,!=2.25.0,<3.0.0dev,>=2.14.1->google-cloud-vision->unstructured[all-docs]) (5.5.0)\n",
            "Requirement already satisfied: pyasn1-modules>=0.2.1 in /usr/local/lib/python3.10/dist-packages (from google-auth!=2.24.0,!=2.25.0,<3.0.0dev,>=2.14.1->google-cloud-vision->unstructured[all-docs]) (0.4.1)\n",
            "Requirement already satisfied: rsa<5,>=3.1.4 in /usr/local/lib/python3.10/dist-packages (from google-auth!=2.24.0,!=2.25.0,<3.0.0dev,>=2.14.1->google-cloud-vision->unstructured[all-docs]) (4.9)\n",
            "Requirement already satisfied: anyio in /usr/local/lib/python3.10/dist-packages (from httpx>=0.27.0->unstructured-client->unstructured[all-docs]) (3.7.1)\n",
            "Requirement already satisfied: httpcore==1.* in /usr/local/lib/python3.10/dist-packages (from httpx>=0.27.0->unstructured-client->unstructured[all-docs]) (1.0.7)\n",
            "Requirement already satisfied: h11<0.15,>=0.13 in /usr/local/lib/python3.10/dist-packages (from httpcore==1.*->httpx>=0.27.0->unstructured-client->unstructured[all-docs]) (0.14.0)\n",
            "Requirement already satisfied: antlr4-python3-runtime==4.9.* in /usr/local/lib/python3.10/dist-packages (from omegaconf>=2.0->effdet->unstructured[all-docs]) (4.9.3)\n",
            "Requirement already satisfied: PyYAML>=5.1.0 in /usr/local/lib/python3.10/dist-packages (from omegaconf>=2.0->effdet->unstructured[all-docs]) (6.0.2)\n",
            "Requirement already satisfied: coloredlogs in /usr/local/lib/python3.10/dist-packages (from onnxruntime>=1.17.0->unstructured-inference==0.8.1->unstructured[all-docs]) (15.0.1)\n",
            "Requirement already satisfied: flatbuffers in /usr/local/lib/python3.10/dist-packages (from onnxruntime>=1.17.0->unstructured-inference==0.8.1->unstructured[all-docs]) (24.3.25)\n",
            "Requirement already satisfied: sympy in /usr/local/lib/python3.10/dist-packages (from onnxruntime>=1.17.0->unstructured-inference==0.8.1->unstructured[all-docs]) (1.13.1)\n",
            "Requirement already satisfied: contourpy>=1.0.1 in /usr/local/lib/python3.10/dist-packages (from matplotlib->unstructured-inference==0.8.1->unstructured[all-docs]) (1.3.1)\n",
            "Requirement already satisfied: cycler>=0.10 in /usr/local/lib/python3.10/dist-packages (from matplotlib->unstructured-inference==0.8.1->unstructured[all-docs]) (0.12.1)\n",
            "Requirement already satisfied: fonttools>=4.22.0 in /usr/local/lib/python3.10/dist-packages (from matplotlib->unstructured-inference==0.8.1->unstructured[all-docs]) (4.55.3)\n",
            "Requirement already satisfied: kiwisolver>=1.0.1 in /usr/local/lib/python3.10/dist-packages (from matplotlib->unstructured-inference==0.8.1->unstructured[all-docs]) (1.4.7)\n",
            "Requirement already satisfied: pyparsing>=2.3.1 in /usr/local/lib/python3.10/dist-packages (from matplotlib->unstructured-inference==0.8.1->unstructured[all-docs]) (3.2.0)\n",
            "Requirement already satisfied: annotated-types>=0.6.0 in /usr/local/lib/python3.10/dist-packages (from pydantic<2.10.0,>=2.9.2->unstructured-client->unstructured[all-docs]) (0.7.0)\n",
            "Requirement already satisfied: pydantic-core==2.23.4 in /usr/local/lib/python3.10/dist-packages (from pydantic<2.10.0,>=2.9.2->unstructured-client->unstructured[all-docs]) (2.23.4)\n",
            "Requirement already satisfied: safetensors in /usr/local/lib/python3.10/dist-packages (from timm->unstructured-inference==0.8.1->unstructured[all-docs]) (0.4.5)\n",
            "Requirement already satisfied: filelock in /usr/local/lib/python3.10/dist-packages (from torch->unstructured-inference==0.8.1->unstructured[all-docs]) (3.16.1)\n",
            "Requirement already satisfied: jinja2 in /usr/local/lib/python3.10/dist-packages (from torch->unstructured-inference==0.8.1->unstructured[all-docs]) (3.1.4)\n",
            "Requirement already satisfied: fsspec in /usr/local/lib/python3.10/dist-packages (from torch->unstructured-inference==0.8.1->unstructured[all-docs]) (2024.10.0)\n",
            "Requirement already satisfied: mpmath<1.4,>=1.1.0 in /usr/local/lib/python3.10/dist-packages (from sympy->onnxruntime>=1.17.0->unstructured-inference==0.8.1->unstructured[all-docs]) (1.3.0)\n",
            "Requirement already satisfied: tokenizers<0.22,>=0.21 in /usr/local/lib/python3.10/dist-packages (from transformers>=4.25.1->unstructured-inference==0.8.1->unstructured[all-docs]) (0.21.0)\n",
            "Requirement already satisfied: mypy-extensions>=0.3.0 in /usr/local/lib/python3.10/dist-packages (from typing-inspect<1,>=0.4.0->dataclasses-json->unstructured[all-docs]) (1.0.0)\n",
            "Requirement already satisfied: scipy in /usr/local/lib/python3.10/dist-packages (from layoutparser->unstructured-inference==0.8.1->unstructured[all-docs]) (1.13.1)\n",
            "Requirement already satisfied: iopath in /usr/local/lib/python3.10/dist-packages (from layoutparser->unstructured-inference==0.8.1->unstructured[all-docs]) (0.1.10)\n",
            "Requirement already satisfied: pdfplumber in /usr/local/lib/python3.10/dist-packages (from layoutparser->unstructured-inference==0.8.1->unstructured[all-docs]) (0.11.4)\n",
            "Requirement already satisfied: pycparser in /usr/local/lib/python3.10/dist-packages (from cffi>=1.12->cryptography>=36.0.0->pdfminer.six->unstructured[all-docs]) (2.22)\n",
            "Requirement already satisfied: pyasn1<0.7.0,>=0.4.6 in /usr/local/lib/python3.10/dist-packages (from pyasn1-modules>=0.2.1->google-auth!=2.24.0,!=2.25.0,<3.0.0dev,>=2.14.1->google-cloud-vision->unstructured[all-docs]) (0.6.1)\n",
            "Requirement already satisfied: sniffio>=1.1 in /usr/local/lib/python3.10/dist-packages (from anyio->httpx>=0.27.0->unstructured-client->unstructured[all-docs]) (1.3.1)\n",
            "Requirement already satisfied: exceptiongroup in /usr/local/lib/python3.10/dist-packages (from anyio->httpx>=0.27.0->unstructured-client->unstructured[all-docs]) (1.2.2)\n",
            "Requirement already satisfied: humanfriendly>=9.1 in /usr/local/lib/python3.10/dist-packages (from coloredlogs->onnxruntime>=1.17.0->unstructured-inference==0.8.1->unstructured[all-docs]) (10.0)\n",
            "Requirement already satisfied: portalocker in /usr/local/lib/python3.10/dist-packages (from iopath->layoutparser->unstructured-inference==0.8.1->unstructured[all-docs]) (3.0.0)\n",
            "Requirement already satisfied: MarkupSafe>=2.0 in /usr/local/lib/python3.10/dist-packages (from jinja2->torch->unstructured-inference==0.8.1->unstructured[all-docs]) (3.0.2)\n",
            "Requirement already satisfied: pypdfium2>=4.18.0 in /usr/local/lib/python3.10/dist-packages (from pdfplumber->layoutparser->unstructured-inference==0.8.1->unstructured[all-docs]) (4.30.1)\n"
          ]
        }
      ]
    },
    {
      "cell_type": "code",
      "source": [
        "import pdfplumber"
      ],
      "metadata": {
        "id": "5VG3c4Y538xX"
      },
      "execution_count": 73,
      "outputs": []
    },
    {
      "cell_type": "code",
      "source": [
        "from unstructured.partition.pdf import partition_pdf"
      ],
      "metadata": {
        "id": "Qp4Qu99KzXrH"
      },
      "execution_count": 74,
      "outputs": []
    },
    {
      "cell_type": "code",
      "source": [
        "elements = partition_pdf(\"/content/What is finance.pdf\")\n",
        "len(elements)"
      ],
      "metadata": {
        "id": "DC7EKy_Mz0L6",
        "outputId": "5a40d394-ca3f-46d2-c6c7-6037b38f8397",
        "colab": {
          "base_uri": "https://localhost:8080/"
        }
      },
      "execution_count": 75,
      "outputs": [
        {
          "output_type": "execute_result",
          "data": {
            "text/plain": [
              "54"
            ]
          },
          "metadata": {},
          "execution_count": 75
        }
      ]
    },
    {
      "cell_type": "code",
      "source": [
        "vars(elements[0])"
      ],
      "metadata": {
        "id": "AQfktkRm1JlE",
        "outputId": "51cce199-ac6a-4a57-9a6a-43c445613910",
        "colab": {
          "base_uri": "https://localhost:8080/"
        }
      },
      "execution_count": 76,
      "outputs": [
        {
          "output_type": "execute_result",
          "data": {
            "text/plain": [
              "{'text': 'T H E U N I V E R S I T Y O F T E X A S A T E L P A S O',\n",
              " 'embeddings': None,\n",
              " '_element_id': 'f886687e389e8e47a366cecd7986ddd8',\n",
              " 'metadata': <unstructured.documents.elements.ElementMetadata at 0x7d0fef4c3850>}"
            ]
          },
          "metadata": {},
          "execution_count": 76
        }
      ]
    },
    {
      "cell_type": "code",
      "source": [
        "vars(elements[0].metadata)"
      ],
      "metadata": {
        "id": "el2Y319009XO",
        "outputId": "9052a07b-05d2-4abc-e112-78f16dd4ce8a",
        "colab": {
          "base_uri": "https://localhost:8080/"
        }
      },
      "execution_count": 77,
      "outputs": [
        {
          "output_type": "execute_result",
          "data": {
            "text/plain": [
              "{'coordinates': CoordinatesMetadata(points=((100.39, 91.84868), (100.39, 111.88868000000002), (619.49252, 111.88868000000002), (619.49252, 91.84868)), system=<unstructured.documents.coordinates.PixelSpace object at 0x7d0fef4c09d0>),\n",
              " 'file_directory': '/content',\n",
              " 'filename': 'What is finance.pdf',\n",
              " 'languages': ['eng'],\n",
              " 'last_modified': '2024-12-29T05:05:18',\n",
              " 'links': [],\n",
              " 'page_number': 1,\n",
              " '_known_field_names': frozenset({'attached_to_filename',\n",
              "            'bcc_recipient',\n",
              "            'category_depth',\n",
              "            'cc_recipient',\n",
              "            'coordinates',\n",
              "            'data_source',\n",
              "            'detection_class_prob',\n",
              "            'detection_origin',\n",
              "            'email_message_id',\n",
              "            'emphasized_text_contents',\n",
              "            'emphasized_text_tags',\n",
              "            'file_directory',\n",
              "            'filename',\n",
              "            'filetype',\n",
              "            'header_footer_type',\n",
              "            'image_base64',\n",
              "            'image_mime_type',\n",
              "            'image_path',\n",
              "            'is_continuation',\n",
              "            'key_value_pairs',\n",
              "            'languages',\n",
              "            'last_modified',\n",
              "            'link_start_indexes',\n",
              "            'link_texts',\n",
              "            'link_urls',\n",
              "            'links',\n",
              "            'orig_elements',\n",
              "            'page_name',\n",
              "            'page_number',\n",
              "            'parent_id',\n",
              "            'sent_from',\n",
              "            'sent_to',\n",
              "            'signature',\n",
              "            'subject',\n",
              "            'table_as_cells',\n",
              "            'text_as_html',\n",
              "            'url'}),\n",
              " 'filetype': 'application/pdf'}"
            ]
          },
          "metadata": {},
          "execution_count": 77
        }
      ]
    },
    {
      "cell_type": "code",
      "source": [
        "for element in elements:\n",
        "  print(element)"
      ],
      "metadata": {
        "id": "gbKv9FZnz2V1",
        "outputId": "73dd623d-1f50-4d27-d96e-a5d4c92270dd",
        "colab": {
          "base_uri": "https://localhost:8080/"
        }
      },
      "execution_count": 78,
      "outputs": [
        {
          "output_type": "stream",
          "name": "stdout",
          "text": [
            "T H E U N I V E R S I T Y O F T E X A S A T E L P A S O\n",
            "College of Business Administration\n",
            "FINANCE\n",
            "What is Finance?\n",
            "\"Finance\" is a broad term that describes two related activities: the study of how money is managed and the actual process of acquiring needed funds.\n",
            "Because individuals, businesses and government entities all need funding to operate, the field is often separated into three sub-categories: personal finance, corporate finance and public finance.\n",
            "www.investopedia.com\n",
            "What does a Finance major actually Do?\n",
            "Research and recommend investments • Manage clients’ portfolios • Provide strategic and financial advice to clients\n",
            "Analyze and prepare financial statements • Analyze market/economic trends\n",
            "Finance majors (usually….)\n",
            "Finance majors usually have:\n",
            "▫ Attention to detail ▫ Teamwork skills ▫ Strong math skills\n",
            "Finance majors usually are:\n",
            "▫ Self-driven ▫ Highly analytical ▫ Goal-oriented\n",
            "Financial Analyst VS General Finance\n",
            "Financial Analyst: Financial analysts help businesses and individuals decide how to invest their money. Financial analysts assess the performance of stocks, bonds, and other types of investments. Financial analysts study the financial statements of a company and analyze sales, costs, tax rates and other date in order to determine a company’s value by projecting its future earnings.\n",
            "General Finance: The Finance major provides students with the theoretical framework and analytical tools and techniques to handle a variety of finance and business functions. The program is designed to prepare a student for financial positions with non-financial corporations, the financial services industry, energy companies, small businesses, and real estate firms.\n",
            "Career Paths in Finance\n",
            "Investment Banking • Personal Finance • Asset Management • Sales and Trading • Investment Research • Financial Advisory • Portfolio Management • Corporate Finance • Insurance\n",
            "Work Environment\n",
            "Financial analysts held about 253,000 jobs in 2012. They work primarily in offices, but travel frequently to visit companies or potential investors. ▫ Many financial analysts work at large financial institutions based\n",
            "in New York City or other major financial centers.\n",
            "▫ In 2012, about 45 percent of financial analysts worked in finance and insurance industries. They worked primarily for security and commodity brokerages, banks and credit institutions, and insurance carriers. Others worked throughout private industry and for government.\n",
            "Financial managers held about 532,100 jobs in 2012. They work in many industries, including banks and insurance companies. They work closely with top executives and with departments that develop the data financial managers need.\n",
            "www.bls.gov\n",
            "Major Requirements at UTEP’s COBA\n",
            "In addition to core business courses, Finance majors are also required to take:\n",
            "General Finance\n",
            "FIN 3315 FIN 4310 Managerial Finance\n",
            "Investments\n",
            "6 FIN Electives\n",
            "Financial Analysts\n",
            "FIN 4315 Portfolio Analysis FIN 4316 Analysis of Derivatives FIN 4318 Financial Analysis of the Firm and Its Valuation FIN 4325 International Finance\n",
            "4 FIN Electives 1 Business Elective Upper Division\n",
            "SEE ONLINE CATALOG FOR COURSE DESCRIPTION: degreeplans.utep.edu\n",
            "Sample Job Titles\n",
            "Personal Financial Planner • Commercial Bank Management • Savings and Loan Management • • Sales & Trading • Stock Brokerage • • Security Analysis • Trust Management Insurance\n",
            "Investment Banking\n",
            "Job Outlook for Finance\n",
            "Employment of financial analysts is projected to grow 16% from 2012 to 2022, faster than the average for all occupations. A growing range of financial products and the need for in-depth knowledge of geographic regions are expected to lead to strong employment growth.\n",
            "Employment of financial examiners is projected to grow 6% percent from 2012 to 2022, slower than the average for all occupations. New regulations will likely create a need for more examiners, though declining employment in federal government will slow growth for these workers. www.bls.gov\n",
            "Internship Opportunities\n",
            "Lockheed Martin • Bank of America • Census Bureau • JPMorgan Chase • IBM • Goldman Sachs • Johnson & Johnson\n",
            "Top Hiring Companies at UTEP\n",
            "Lockheed Martin • Edward Jones • Vanguard • El Paso Electric Company • Wells Fargo\n",
            "Collegiate Student Organizations at UTEP\n",
            "Financial Management Association Mission-Statement: To act as a liaison between students and the business community; provide opportunities for leadership, professional training, employment, and other professional development activities.\n",
            "Association of Latino Professionals in Finance and Accounting Mission-Statement: To create opportunities, add value, build relationships for its members, the community and its business partners while expanding Latino Leadership in the global workforce.\n",
            "Financial Management Association (FMA) and Association of Latino Professionals in Finance and Accounting (ALPFA)\n",
            "10 Reasons Why You Should Join a Student Organization\n",
            "Meet business professionals • Build leadership and business skills • Make friends with common career goals • Go on company tours • Attend social networking events • Make a difference in your community • Compete in national conferences/competitions • Travel!!! • Internship opportunities • Secure your dream job\n",
            "Department Contact Information\n",
            "Economics and Finance Department Business Room 236 Phone: (915)-747-5245 Dr. Tim Roth, Department Chair Nancy Vigil, Administrative Assistant\n"
          ]
        }
      ]
    },
    {
      "cell_type": "markdown",
      "source": [
        "# *Error: Why did it omit the images present in PDF? (group images & logo)*"
      ],
      "metadata": {
        "id": "CXRPtoPA1oi1"
      }
    },
    {
      "cell_type": "markdown",
      "source": [
        "# Continue | Table not showing: Solved by using `hi_res` startegy"
      ],
      "metadata": {
        "id": "SC3le28P1x3y"
      }
    },
    {
      "cell_type": "code",
      "source": [
        "elements = partition_pdf(\"/content/keip107.pdf\")\n",
        "len(elements)"
      ],
      "metadata": {
        "id": "R6Go5vZa06jM",
        "outputId": "972f707a-cf48-4a0c-bee3-223a4203dd35",
        "colab": {
          "base_uri": "https://localhost:8080/"
        }
      },
      "execution_count": 79,
      "outputs": [
        {
          "output_type": "execute_result",
          "data": {
            "text/plain": [
              "759"
            ]
          },
          "metadata": {},
          "execution_count": 79
        }
      ]
    },
    {
      "cell_type": "code",
      "source": [
        "for element in elements[:100]:\n",
        "  print(type(element))\n",
        "  print(element)"
      ],
      "metadata": {
        "id": "Tynyv3va2TCo",
        "outputId": "299597ed-0c9a-4050-8bea-45e210e59877",
        "colab": {
          "base_uri": "https://localhost:8080/"
        }
      },
      "execution_count": 80,
      "outputs": [
        {
          "output_type": "stream",
          "name": "stdout",
          "text": [
            "<class 'unstructured.documents.elements.Footer'>\n",
            "Chap 7.indd 123\n",
            "<class 'unstructured.documents.elements.Title'>\n",
            "Database Concepts\n",
            "<class 'unstructured.documents.elements.Title'>\n",
            "Chapter\n",
            "<class 'unstructured.documents.elements.Text'>\n",
            "7\n",
            "<class 'unstructured.documents.elements.Title'>\n",
            "In this chapter\n",
            "<class 'unstructured.documents.elements.NarrativeText'>\n",
            "“Inconsistency of your mind… Can damage your memory… Remove the inconsistent data… And keep the original one !!!”\n",
            "<class 'unstructured.documents.elements.Title'>\n",
            "» Introduction » File System » Database Management\n",
            "<class 'unstructured.documents.elements.Title'>\n",
            "System\n",
            "<class 'unstructured.documents.elements.Title'>\n",
            "» Relational Data Model » Keys in a Relational\n",
            "<class 'unstructured.documents.elements.Title'>\n",
            "Database\n",
            "<class 'unstructured.documents.elements.Title'>\n",
            "— Nisarga Jain\n",
            "<class 'unstructured.documents.elements.NarrativeText'>\n",
            "7.1 IntroductIon After learning about importance of data in the previous chapter, we need to explore the methods to store and manage data electronically. Let us take an example of a school that maintains data about its students, along with their attendance record and guardian details.\n",
            "<class 'unstructured.documents.elements.NarrativeText'>\n",
            "The class teacher marks daily attendance of the students in the attendance register. The teacher records ‘P’ for present or ‘A’ for absent against each student’s roll number on each working day. If class strength is 50 and total working days in\n",
            "<class 'unstructured.documents.elements.Footer'>\n",
            "19-Jul-19 3:45:07 PM\n",
            "<class 'unstructured.documents.elements.Header'>\n",
            "InformatIcs PractIces – class XI\n",
            "<class 'unstructured.documents.elements.Text'>\n",
            "124\n",
            "<class 'unstructured.documents.elements.NarrativeText'>\n",
            "a month are 26, the teacher needs to record 50 × 26 records manually in the register every month. As the volume of data increases, manual data entry becomes tedious. Following are some of the limitations of manual record keeping in this example:\n",
            "<class 'unstructured.documents.elements.ListItem'>\n",
            "1) Entry of student details (Roll number and name) in the new attendance register when the student is promoted to the next class.\n",
            "<class 'unstructured.documents.elements.Title'>\n",
            "Activity 7.1\n",
            "<class 'unstructured.documents.elements.NarrativeText'>\n",
            "Visit a few shops where records are maintained manually and identify a few limitations of manual record keeping faced by them.\n",
            "<class 'unstructured.documents.elements.ListItem'>\n",
            "2) Writing student details on each month’s attendance page where inconsistency may happen due to incorrectly written names, skipped student records, etc.\n",
            "<class 'unstructured.documents.elements.ListItem'>\n",
            "3) Loss of data in case attendance register is lost or damaged. 4) Erroneous\n",
            "<class 'unstructured.documents.elements.Title'>\n",
            "calculation while\n",
            "<class 'unstructured.documents.elements.NarrativeText'>\n",
            "consolidating\n",
            "<class 'unstructured.documents.elements.NarrativeText'>\n",
            "attendance record manually. The office staff also manually maintain Student details viz. Roll Number, Name and Date of Birth with respective guardian details viz. Guardian name, Contact Number and Address. This is required for correspondence with guardian regarding student attendance and result.\n",
            "<class 'unstructured.documents.elements.NarrativeText'>\n",
            "Finding information from a huge volume of papers or deleting/modifying an entry is a difficult task in pen and paper based approach. To overcome the hassles faced in manual record keeping, it is desirable to store attendance record and student details on separate data files on a computerized system, so that office staff and teachers can:\n",
            "<class 'unstructured.documents.elements.ListItem'>\n",
            "1) Simply copy the student details to the new attendance file from the old attendance file when students are promoted to next class.\n",
            "<class 'unstructured.documents.elements.ListItem'>\n",
            "2) Find any data about student or guardian. 3) Add more details to existing data whenever a new student joins the school.\n",
            "<class 'unstructured.documents.elements.ListItem'>\n",
            "4) Modify stored data like details of student or guardian whenever required.\n",
            "<class 'unstructured.documents.elements.ListItem'>\n",
            "5) Remove/delete data whenever a student leaves the school.\n",
            "<class 'unstructured.documents.elements.NarrativeText'>\n",
            "7.2 FIle SyStem A file can be understood as a container to store data in a computer. Files can be stored on the storage device of a computer system. Contents of a file can be texts, computer program code, comma separated values\n",
            "<class 'unstructured.documents.elements.Footer'>\n",
            "2024-25\n",
            "<class 'unstructured.documents.elements.Footer'>\n",
            "Chap 7.indd 124\n",
            "<class 'unstructured.documents.elements.Footer'>\n",
            "19-Jul-19 3:45:07 PM\n",
            "<class 'unstructured.documents.elements.Header'>\n",
            "Database ConCepts\n",
            "<class 'unstructured.documents.elements.Text'>\n",
            "125\n",
            "<class 'unstructured.documents.elements.NarrativeText'>\n",
            "(CSV), etc. Likewise, pictures, audios/videos, web pages are also files.\n",
            "<class 'unstructured.documents.elements.NarrativeText'>\n",
            "Files stored on a computer can be accessed directly and searched for desired data. But to access data of a file through software, for example, to display monthly attendance report on school website, one has to write computer programs to access data from files.\n",
            "<class 'unstructured.documents.elements.NarrativeText'>\n",
            "Continuing the example of attendance at school, we need to store data about students and attendance in two separate files. Table 7.1 shows the contents of STUDENT file which has six columns, as detailed below:\n",
            "<class 'unstructured.documents.elements.Title'>\n",
            "RollNumber – Roll number of the student\n",
            "<class 'unstructured.documents.elements.Title'>\n",
            "SName\n",
            "<class 'unstructured.documents.elements.Title'>\n",
            "– Name of the student\n",
            "<class 'unstructured.documents.elements.Title'>\n",
            "SDateofBirth – Date of birth of the student\n",
            "<class 'unstructured.documents.elements.Title'>\n",
            "GName\n",
            "<class 'unstructured.documents.elements.Title'>\n",
            "– Name of the guardian\n",
            "<class 'unstructured.documents.elements.Title'>\n",
            "GPhone\n",
            "<class 'unstructured.documents.elements.Title'>\n",
            "– Phone number of the student guardian\n",
            "<class 'unstructured.documents.elements.Title'>\n",
            "GAddress\n",
            "<class 'unstructured.documents.elements.Title'>\n",
            "– Address of the guardian of the student\n",
            "<class 'unstructured.documents.elements.NarrativeText'>\n",
            "Table 7.1 STUDENT file maintained by office staff\n",
            "<class 'unstructured.documents.elements.Title'>\n",
            "Roll Number\n",
            "<class 'unstructured.documents.elements.Title'>\n",
            "SDateof Birth\n",
            "<class 'unstructured.documents.elements.Title'>\n",
            "SName\n",
            "<class 'unstructured.documents.elements.Title'>\n",
            "GName\n",
            "<class 'unstructured.documents.elements.Title'>\n",
            "GPhone\n",
            "<class 'unstructured.documents.elements.Title'>\n",
            "GAddress\n",
            "<class 'unstructured.documents.elements.Text'>\n",
            "1\n",
            "<class 'unstructured.documents.elements.Title'>\n",
            "Atharv Ahuja\n",
            "<class 'unstructured.documents.elements.Text'>\n",
            "2003-05-15\n",
            "<class 'unstructured.documents.elements.Title'>\n",
            "Amit Ahuja\n",
            "<class 'unstructured.documents.elements.Text'>\n",
            "5711492685 G-35, Ashok Vihar,\n",
            "<class 'unstructured.documents.elements.Title'>\n",
            "Delhi\n",
            "<class 'unstructured.documents.elements.Text'>\n",
            "2\n",
            "<class 'unstructured.documents.elements.Title'>\n",
            "Daizy Bhutia\n",
            "<class 'unstructured.documents.elements.Text'>\n",
            "2002-02-28\n",
            "<class 'unstructured.documents.elements.Title'>\n",
            "Baichung Bhutia\n",
            "<class 'unstructured.documents.elements.Title'>\n",
            "3612967082 Flat no. 5, Darjeeling\n",
            "<class 'unstructured.documents.elements.Title'>\n",
            "Appt., Shimla\n",
            "<class 'unstructured.documents.elements.Text'>\n",
            "3\n",
            "<class 'unstructured.documents.elements.Title'>\n",
            "Taleem Shah\n",
            "<class 'unstructured.documents.elements.Text'>\n",
            "2002-02-28 Himanshu Shah 4726309212 26/77, West\n",
            "<class 'unstructured.documents.elements.Title'>\n",
            "Patel\n",
            "<class 'unstructured.documents.elements.Title'>\n",
            "Nagar, Ahmedabad\n",
            "<class 'unstructured.documents.elements.Text'>\n",
            "4\n",
            "<class 'unstructured.documents.elements.Title'>\n",
            "John Dsouza\n",
            "<class 'unstructured.documents.elements.Text'>\n",
            "2003-08-18\n",
            "<class 'unstructured.documents.elements.Title'>\n",
            "Danny Dsouza\n",
            "<class 'unstructured.documents.elements.Title'>\n",
            "S -13, Ashok Village, Daman\n",
            "<class 'unstructured.documents.elements.Text'>\n",
            "5\n",
            "<class 'unstructured.documents.elements.Title'>\n",
            "Ali Shah\n",
            "<class 'unstructured.documents.elements.Text'>\n",
            "2003-07-05 Himanshu Shah 4726309212 26/77, West\n",
            "<class 'unstructured.documents.elements.Title'>\n",
            "Patel\n",
            "<class 'unstructured.documents.elements.Title'>\n",
            "Nagar, Ahmedabad\n",
            "<class 'unstructured.documents.elements.Text'>\n",
            "6\n",
            "<class 'unstructured.documents.elements.Title'>\n",
            "Manika P.\n",
            "<class 'unstructured.documents.elements.Text'>\n",
            "2002-03-10\n",
            "<class 'unstructured.documents.elements.Title'>\n",
            "Sujata P.\n",
            "<class 'unstructured.documents.elements.Text'>\n",
            "3801923168 HNO-13, B- block, Preet\n",
            "<class 'unstructured.documents.elements.Title'>\n",
            "Vihar, Madurai\n",
            "<class 'unstructured.documents.elements.NarrativeText'>\n",
            "Table 7.2 shows another file called ATTENDANCE\n",
            "<class 'unstructured.documents.elements.NarrativeText'>\n",
            "which has four columns, as detailed below:\n",
            "<class 'unstructured.documents.elements.NarrativeText'>\n",
            "AttendanceDate – Date for which attendance was\n",
            "<class 'unstructured.documents.elements.Title'>\n",
            "marked\n",
            "<class 'unstructured.documents.elements.Title'>\n",
            "RollNumber\n",
            "<class 'unstructured.documents.elements.Title'>\n",
            "– Roll number of the student\n",
            "<class 'unstructured.documents.elements.Title'>\n",
            "SName\n",
            "<class 'unstructured.documents.elements.Title'>\n",
            "– Name of the student\n",
            "<class 'unstructured.documents.elements.Title'>\n",
            "AttendanceStatus – Marked as P (present) or A (absent)\n",
            "<class 'unstructured.documents.elements.Footer'>\n",
            "2024-25\n",
            "<class 'unstructured.documents.elements.Footer'>\n",
            "Chap 7.indd 125\n"
          ]
        }
      ]
    },
    {
      "cell_type": "code",
      "source": [
        "!apt-get update\n",
        "!apt-get install -y tesseract-ocr"
      ],
      "metadata": {
        "id": "4DxF1azE_euO",
        "outputId": "58c79cc5-d5cd-4709-de96-a99c0f894582",
        "colab": {
          "base_uri": "https://localhost:8080/"
        }
      },
      "execution_count": 81,
      "outputs": [
        {
          "output_type": "stream",
          "name": "stdout",
          "text": [
            "\r0% [Working]\r            \rHit:1 https://cloud.r-project.org/bin/linux/ubuntu jammy-cran40/ InRelease\n",
            "Hit:2 https://developer.download.nvidia.com/compute/cuda/repos/ubuntu2204/x86_64  InRelease\n",
            "Get:3 http://security.ubuntu.com/ubuntu jammy-security InRelease [129 kB]\n",
            "Hit:4 http://archive.ubuntu.com/ubuntu jammy InRelease\n",
            "Get:5 http://archive.ubuntu.com/ubuntu jammy-updates InRelease [128 kB]\n",
            "Hit:6 https://r2u.stat.illinois.edu/ubuntu jammy InRelease\n",
            "Hit:7 https://ppa.launchpadcontent.net/deadsnakes/ppa/ubuntu jammy InRelease\n",
            "Hit:8 http://archive.ubuntu.com/ubuntu jammy-backports InRelease\n",
            "Hit:9 https://ppa.launchpadcontent.net/graphics-drivers/ppa/ubuntu jammy InRelease\n",
            "Hit:10 https://ppa.launchpadcontent.net/ubuntugis/ppa/ubuntu jammy InRelease\n",
            "Fetched 257 kB in 2s (106 kB/s)\n",
            "Reading package lists... Done\n",
            "W: Skipping acquire of configured file 'main/source/Sources' as repository 'https://r2u.stat.illinois.edu/ubuntu jammy InRelease' does not seem to provide it (sources.list entry misspelt?)\n",
            "Reading package lists... Done\n",
            "Building dependency tree... Done\n",
            "Reading state information... Done\n",
            "tesseract-ocr is already the newest version (4.1.1-2.1build1).\n",
            "0 upgraded, 0 newly installed, 0 to remove and 50 not upgraded.\n"
          ]
        }
      ]
    },
    {
      "cell_type": "code",
      "source": [
        "!pip install pytesseract"
      ],
      "metadata": {
        "id": "LPnNPNmO-Pg4",
        "outputId": "d7a4aa4f-37c4-4451-8709-00aa62cec155",
        "colab": {
          "base_uri": "https://localhost:8080/"
        }
      },
      "execution_count": 82,
      "outputs": [
        {
          "output_type": "stream",
          "name": "stdout",
          "text": [
            "Requirement already satisfied: pytesseract in /usr/local/lib/python3.10/dist-packages (0.3.13)\n",
            "Requirement already satisfied: packaging>=21.3 in /usr/local/lib/python3.10/dist-packages (from pytesseract) (24.2)\n",
            "Requirement already satisfied: Pillow>=8.0.0 in /usr/local/lib/python3.10/dist-packages (from pytesseract) (11.0.0)\n"
          ]
        }
      ]
    },
    {
      "cell_type": "code",
      "source": [
        "# Install poppler-utils\n",
        "!apt-get install -y poppler-utils\n",
        "\n",
        "# Verify installation\n",
        "!poppler-utils --version    # This might not work as expected\n",
        "\n",
        "# Alternative verification\n",
        "!pdfinfo -v    # This should show poppler version"
      ],
      "metadata": {
        "id": "deNF-wCi98mo",
        "outputId": "6f098834-3ee3-4555-95d6-5bfb686c7c22",
        "colab": {
          "base_uri": "https://localhost:8080/"
        }
      },
      "execution_count": 83,
      "outputs": [
        {
          "output_type": "stream",
          "name": "stdout",
          "text": [
            "Reading package lists... Done\n",
            "Building dependency tree... Done\n",
            "Reading state information... Done\n",
            "poppler-utils is already the newest version (22.02.0-2ubuntu0.5).\n",
            "0 upgraded, 0 newly installed, 0 to remove and 50 not upgraded.\n",
            "/bin/bash: line 1: poppler-utils: command not found\n",
            "pdfinfo version 22.02.0\n",
            "Copyright 2005-2022 The Poppler Developers - http://poppler.freedesktop.org\n",
            "Copyright 1996-2011 Glyph & Cog, LLC\n"
          ]
        }
      ]
    },
    {
      "cell_type": "code",
      "source": [
        "import pytesseract\n",
        "\n",
        "# Set the tesseract command path (Colab installs it in /usr/bin/tesseract)\n",
        "pytesseract.pytesseract.tesseract_cmd = \"/usr/bin/tesseract\""
      ],
      "metadata": {
        "id": "yp2rs0M5_p68"
      },
      "execution_count": 84,
      "outputs": []
    },
    {
      "cell_type": "code",
      "source": [
        "elements = partition_pdf(filename = \"/content/Convert_activities_to_steps.pdf\",\n",
        "                         infer_table_structure = True,\n",
        "                         strategy = 'hi_res')\n",
        "len(elements)"
      ],
      "metadata": {
        "id": "1s3JaHf42Yri",
        "outputId": "1ad1e55b-2cc6-474a-e65d-5a139de3336a",
        "colab": {
          "base_uri": "https://localhost:8080/"
        }
      },
      "execution_count": 85,
      "outputs": [
        {
          "output_type": "execute_result",
          "data": {
            "text/plain": [
              "38"
            ]
          },
          "metadata": {},
          "execution_count": 85
        }
      ]
    },
    {
      "cell_type": "code",
      "source": [
        "for element in elements[:100]:\n",
        "  print(type(element))\n",
        "  print(element)"
      ],
      "metadata": {
        "id": "ExjpW9QY4wuc",
        "outputId": "b8db0a1e-67fb-4354-a0f9-061e9cfcece1",
        "colab": {
          "base_uri": "https://localhost:8080/"
        }
      },
      "execution_count": 86,
      "outputs": [
        {
          "output_type": "stream",
          "name": "stdout",
          "text": [
            "<class 'unstructured.documents.elements.Title'>\n",
            "Convert Activities to Steps\n",
            "<class 'unstructured.documents.elements.NarrativeText'>\n",
            "Multiply the number of minutes of the activity by the number of equivalent steps per minute. For example, if you bicycled at a leisurely pace for 30 minutes,\n",
            "<class 'unstructured.documents.elements.Title'>\n",
            "multiply 116 X 30 to come up with 3,480 steps.\n",
            "<class 'unstructured.documents.elements.Title'>\n",
            "Activity\n",
            "<class 'unstructured.documents.elements.Title'>\n",
            "Steps per\n",
            "<class 'unstructured.documents.elements.Table'>\n",
            "Minute Aerobic Dance Class 127 Aerobic Fitness Class 181 Aerobics, low impact 125 Aerobics, step 153 Auto Repair (light to 71–91 moderate) Backpacking 195 Badminton (casual to 131–203 competitive) Ballet 120 Baseball 111 Basketball (shooting baskets) 174 Basketball Game 242 Basketball (playing by 164 wheelchair) Bicycling, leisurely 116 Bicycling, easy pace 130 Bicycling, moderate pace 170 Bicycling, vigorous pace 200 Bowling 87 Boxing, non-competitive 131 Boxing, competitive 222 Calisthenics 106 Canoe (light to moderate) 87–106 Circuit Training 232 Climbing (rock/mountain) 270 Croquet 76 Cross-Country Skiing 232 Curling (sweeping) 125\n",
            "<class 'unstructured.documents.elements.Table'>\n",
            "Activity Steps per Minute Downhill Skiing 174 Elliptical Trainer 203 Fencing 182 Firewood Carrying/Stacking 145 Fishing 91 Football 199–260 Frisbee 91 Gardening (light to heavy) 116–174 Golfing (no cart, 18 holes) 131 Grocery Shopping 67 Handball 348 Hanging Laundry on Line 72 Hiking (general) 172 Hockey (field, ice) 260 Horseback Riding 116 Horseshoes 71 House cleaning 101 Ice Skating (slow) 84 Ice Skating (moderate) 122 Ice Skating (fast) 203 Judo/Karate 236 Jumping Rope (moderate) 250 Jumping Rope (fast) 300 Kayaking 152 Kickboxing 290 Lacrosse 242 Miniature Golf 91 Mopping 60\n",
            "<class 'unstructured.documents.elements.Title'>\n",
            "Mowing Lawn (push) —small\n",
            "<class 'unstructured.documents.elements.Text'>\n",
            "160–242\n",
            "<class 'unstructured.documents.elements.Title'>\n",
            "Dancing (light to lively)\n",
            "<class 'unstructured.documents.elements.Text'>\n",
            "109–131\n",
            "<class 'unstructured.documents.elements.Title'>\n",
            "to large lot\n",
            "<class 'unstructured.documents.elements.Table'>\n",
            "Activity Orienteering Painting a wall or room Pilates Ping Pong Pool/Billiards Punching Bag Racquetball (casual) Racquetball (competitive) Raking Leaves Rock Climbing Roller-skating/Rollerblading Rowing (light) Rowing (moderate) Rowing (competitive) Running (5mph, 12 minute/mile) Running (6mph, 10 minute/mile) Running (8mph, 7.5 minute/mile) Running (10mph, 6 minute/mile) Sailing Scrub Floors Scuba Diving Shopping (mall) Skateboarding Skeeball Skiing (light to moderate) Steps per Minute 260 78–131 101 116 76 180 181 254 125 244 203 101 147 203 232 290 391 463 91 71 203 71 152 52 109\n",
            "<class 'unstructured.documents.elements.Title'>\n",
            "Skiing (cross-country)\n",
            "<class 'unstructured.documents.elements.Text'>\n",
            "114\n",
            "<class 'unstructured.documents.elements.Title'>\n",
            "Sledding\n",
            "<class 'unstructured.documents.elements.Title'>\n",
            "Sledding\n",
            "<class 'unstructured.documents.elements.Text'>\n",
            "158\n",
            "<class 'unstructured.documents.elements.Title'>\n",
            "Snow Shoveling\n",
            "<class 'unstructured.documents.elements.Text'>\n",
            "174\n",
            "<class 'unstructured.documents.elements.Title'>\n",
            "Snowboarding Snowshoeing\n",
            "<class 'unstructured.documents.elements.Title'>\n",
            "Snowboarding\n",
            "<class 'unstructured.documents.elements.Text'>\n",
            "182\n",
            "<class 'unstructured.documents.elements.Text'>\n",
            "181\n",
            "<class 'unstructured.documents.elements.Table'>\n",
            "Activity Soccer (competitive) Soccer (recreational) Softball Spinning Squash Stair Climbing (downstairs) Stair Climbing (upstairs) Stair Climbing (machine) Stretching Surfing Swimming (backstroke) Swimming (butterfly) Swimming (freestyle) Swimming (leisure) Swimming (treading water) Tae Bo Tae Kwon Do Tai Chi Tennis Trampoline Trim Trees/Shrubs (manually) Vacuuming House Volleyball (light to moderate) Walking (slow) Walking (moderate) Walking (fast) Steps per Minute 200 145 145 200 348 71 181 200 15 91 181 272 181 174 116 250 290 40 232 101 116 94 87–121 68 122 197\n",
            "<class 'unstructured.documents.elements.Title'>\n",
            "Wash car (small to truck)\n",
            "<class 'unstructured.documents.elements.Text'>\n",
            "71–87\n",
            "<class 'unstructured.documents.elements.Title'>\n",
            "Wash Windows (manually)\n",
            "<class 'unstructured.documents.elements.Text'>\n",
            "87\n",
            "<class 'unstructured.documents.elements.Title'>\n",
            "Wash/Dry Dishes by Hand\n",
            "<class 'unstructured.documents.elements.Text'>\n",
            "72\n",
            "<class 'unstructured.documents.elements.Title'>\n",
            "Water Aerobics\n",
            "<class 'unstructured.documents.elements.Text'>\n",
            "116\n",
            "<class 'unstructured.documents.elements.Title'>\n",
            "Water Skiing\n",
            "<class 'unstructured.documents.elements.Text'>\n",
            "174\n",
            "<class 'unstructured.documents.elements.Table'>\n",
            "Activity Steps per Minute Waxing Car 80 Weight Lifting (light) 67 Weight Lifting (moderate) 87 Weight Lifting (vigorous) 174 Wheelchair Use (manual) 101\n",
            "<class 'unstructured.documents.elements.Table'>\n",
            "Activity Yard Work (light to moderate) Yoga (light to moderate) Zumba Steps per Minute 89–145 45–72 148\n",
            "<class 'unstructured.documents.elements.Image'>\n",
            "Mit | 7 getfit\n"
          ]
        }
      ]
    },
    {
      "cell_type": "code",
      "source": [
        "tables = [element for element in elements if element.category == \"Table\"]\n",
        "len(tables)"
      ],
      "metadata": {
        "id": "FO4XwKG14z78",
        "outputId": "19dca293-26fb-42b1-c494-b72f49c32e65",
        "colab": {
          "base_uri": "https://localhost:8080/"
        }
      },
      "execution_count": 87,
      "outputs": [
        {
          "output_type": "execute_result",
          "data": {
            "text/plain": [
              "6"
            ]
          },
          "metadata": {},
          "execution_count": 87
        }
      ]
    },
    {
      "cell_type": "code",
      "source": [
        "print(tables[0].text)"
      ],
      "metadata": {
        "id": "aMnfPKpWAgRA",
        "outputId": "c9ce4c4d-a846-4273-8f8c-a114da3d3f30",
        "colab": {
          "base_uri": "https://localhost:8080/"
        }
      },
      "execution_count": 88,
      "outputs": [
        {
          "output_type": "stream",
          "name": "stdout",
          "text": [
            "Minute Aerobic Dance Class 127 Aerobic Fitness Class 181 Aerobics, low impact 125 Aerobics, step 153 Auto Repair (light to 71–91 moderate) Backpacking 195 Badminton (casual to 131–203 competitive) Ballet 120 Baseball 111 Basketball (shooting baskets) 174 Basketball Game 242 Basketball (playing by 164 wheelchair) Bicycling, leisurely 116 Bicycling, easy pace 130 Bicycling, moderate pace 170 Bicycling, vigorous pace 200 Bowling 87 Boxing, non-competitive 131 Boxing, competitive 222 Calisthenics 106 Canoe (light to moderate) 87–106 Circuit Training 232 Climbing (rock/mountain) 270 Croquet 76 Cross-Country Skiing 232 Curling (sweeping) 125\n"
          ]
        }
      ]
    },
    {
      "cell_type": "code",
      "source": [
        "from IPython.display import HTML\n",
        "HTML(tables[0].metadata.text_as_html)"
      ],
      "metadata": {
        "id": "MXEpOAzeA89o",
        "outputId": "185669c9-b41c-41c9-d260-c9f837c1a4d0",
        "colab": {
          "base_uri": "https://localhost:8080/",
          "height": 602
        }
      },
      "execution_count": 89,
      "outputs": [
        {
          "output_type": "execute_result",
          "data": {
            "text/plain": [
              "<IPython.core.display.HTML object>"
            ],
            "text/html": [
              "<table><thead><tr><th>Aerobic Dance Class</th><th>127</th></tr></thead><tbody><tr><td>Aerobic Fitness Class</td><td>181</td></tr><tr><td>Aerobics, low impact</td><td>125</td></tr><tr><td>Aerobics, step</td><td>153</td></tr><tr><td>Auto Repair (light to moderate)</td><td>71-91</td></tr><tr><td>Backpacking</td><td>195</td></tr><tr><td>Badminton (casual to</td><td>131-203</td></tr><tr><td>competitive)</td><td></td></tr><tr><td>Ballet</td><td>120</td></tr><tr><td>Baseball</td><td>111</td></tr><tr><td>Basketball (shooting baskets)</td><td>174</td></tr><tr><td>Basketball Game</td><td>242</td></tr><tr><td>Basketball (playing by</td><td>164</td></tr><tr><td>wheelchair)</td><td></td></tr><tr><td>Bicycling, leisurely</td><td>116</td></tr><tr><td>Bicycling, easy pace</td><td>130</td></tr><tr><td>Bicycling, moderate pace</td><td>170</td></tr><tr><td>Bicycling, vigorous pace</td><td>200</td></tr><tr><td>Bowling</td><td>87</td></tr><tr><td>Boxing, non-competitive</td><td>131</td></tr><tr><td>Boxing, competitive</td><td>222</td></tr><tr><td>Calisthenics</td><td>106</td></tr><tr><td>Canoe (light to moderate)</td><td>87-106</td></tr><tr><td>Circuit Training</td><td>232</td></tr><tr><td>Climbing (rock/mountain)</td><td>270</td></tr><tr><td>Croquet</td><td>76</td></tr><tr><td>Cross-Country Skiing</td><td>232</td></tr><tr><td>Curling (sweeping)</td><td>125</td></tr></tbody></table>"
            ]
          },
          "metadata": {},
          "execution_count": 89
        }
      ]
    },
    {
      "cell_type": "markdown",
      "source": [
        "### Using PDFPlumber"
      ],
      "metadata": {
        "id": "CjRb_fydA_cw"
      }
    },
    {
      "cell_type": "code",
      "source": [
        "with pdfplumber.open(\"/content/Convert_activities_to_steps.pdf\") as pdf:\n",
        "  page = pdf.pages[0]\n",
        "  tables = page.extract_tables()"
      ],
      "metadata": {
        "id": "d_YJ0xj6Bij-"
      },
      "execution_count": 90,
      "outputs": []
    },
    {
      "cell_type": "code",
      "source": [
        "import pandas as pd"
      ],
      "metadata": {
        "id": "pVos97XYECYV"
      },
      "execution_count": 91,
      "outputs": []
    },
    {
      "cell_type": "code",
      "source": [
        "df = pd.DataFrame(tables[0])"
      ],
      "metadata": {
        "id": "I4Fkl3hwCpoZ"
      },
      "execution_count": 92,
      "outputs": []
    },
    {
      "cell_type": "code",
      "source": [
        "df"
      ],
      "metadata": {
        "id": "XoSYM3j4C6-H",
        "outputId": "21198c0e-37ff-4d3b-9560-4126de6ab27d",
        "colab": {
          "base_uri": "https://localhost:8080/",
          "height": 927
        }
      },
      "execution_count": 93,
      "outputs": [
        {
          "output_type": "execute_result",
          "data": {
            "text/plain": [
              "                                      0                  1\n",
              "0                              Activity  Steps per\\nMinute\n",
              "1                   Aerobic Dance Class                127\n",
              "2                 Aerobic Fitness Class                181\n",
              "3                  Aerobics, low impact                125\n",
              "4                        Aerobics, step                153\n",
              "5      Auto Repair (light to\\nmoderate)              71–91\n",
              "6                           Backpacking                195\n",
              "7    Badminton (casual to\\ncompetitive)            131–203\n",
              "8                                Ballet                120\n",
              "9                              Baseball                111\n",
              "10        Basketball (shooting baskets)                174\n",
              "11                      Basketball Game                242\n",
              "12  Basketball (playing by\\nwheelchair)                164\n",
              "13                 Bicycling, leisurely                116\n",
              "14                 Bicycling, easy pace                130\n",
              "15             Bicycling, moderate pace                170\n",
              "16             Bicycling, vigorous pace                200\n",
              "17                              Bowling                 87\n",
              "18              Boxing, non-competitive                131\n",
              "19                  Boxing, competitive                222\n",
              "20                         Calisthenics                106\n",
              "21            Canoe (light to moderate)             87–106\n",
              "22                     Circuit Training                232\n",
              "23             Climbing (rock/mountain)                270\n",
              "24                              Croquet                 76\n",
              "25                 Cross-Country Skiing                232\n",
              "26                   Curling (sweeping)                125\n",
              "27            Dancing (light to lively)            109–131"
            ],
            "text/html": [
              "\n",
              "  <div id=\"df-501d8f7d-97cc-485a-bd60-0029d50f545a\" class=\"colab-df-container\">\n",
              "    <div>\n",
              "<style scoped>\n",
              "    .dataframe tbody tr th:only-of-type {\n",
              "        vertical-align: middle;\n",
              "    }\n",
              "\n",
              "    .dataframe tbody tr th {\n",
              "        vertical-align: top;\n",
              "    }\n",
              "\n",
              "    .dataframe thead th {\n",
              "        text-align: right;\n",
              "    }\n",
              "</style>\n",
              "<table border=\"1\" class=\"dataframe\">\n",
              "  <thead>\n",
              "    <tr style=\"text-align: right;\">\n",
              "      <th></th>\n",
              "      <th>0</th>\n",
              "      <th>1</th>\n",
              "    </tr>\n",
              "  </thead>\n",
              "  <tbody>\n",
              "    <tr>\n",
              "      <th>0</th>\n",
              "      <td>Activity</td>\n",
              "      <td>Steps per\\nMinute</td>\n",
              "    </tr>\n",
              "    <tr>\n",
              "      <th>1</th>\n",
              "      <td>Aerobic Dance Class</td>\n",
              "      <td>127</td>\n",
              "    </tr>\n",
              "    <tr>\n",
              "      <th>2</th>\n",
              "      <td>Aerobic Fitness Class</td>\n",
              "      <td>181</td>\n",
              "    </tr>\n",
              "    <tr>\n",
              "      <th>3</th>\n",
              "      <td>Aerobics, low impact</td>\n",
              "      <td>125</td>\n",
              "    </tr>\n",
              "    <tr>\n",
              "      <th>4</th>\n",
              "      <td>Aerobics, step</td>\n",
              "      <td>153</td>\n",
              "    </tr>\n",
              "    <tr>\n",
              "      <th>5</th>\n",
              "      <td>Auto Repair (light to\\nmoderate)</td>\n",
              "      <td>71–91</td>\n",
              "    </tr>\n",
              "    <tr>\n",
              "      <th>6</th>\n",
              "      <td>Backpacking</td>\n",
              "      <td>195</td>\n",
              "    </tr>\n",
              "    <tr>\n",
              "      <th>7</th>\n",
              "      <td>Badminton (casual to\\ncompetitive)</td>\n",
              "      <td>131–203</td>\n",
              "    </tr>\n",
              "    <tr>\n",
              "      <th>8</th>\n",
              "      <td>Ballet</td>\n",
              "      <td>120</td>\n",
              "    </tr>\n",
              "    <tr>\n",
              "      <th>9</th>\n",
              "      <td>Baseball</td>\n",
              "      <td>111</td>\n",
              "    </tr>\n",
              "    <tr>\n",
              "      <th>10</th>\n",
              "      <td>Basketball (shooting baskets)</td>\n",
              "      <td>174</td>\n",
              "    </tr>\n",
              "    <tr>\n",
              "      <th>11</th>\n",
              "      <td>Basketball Game</td>\n",
              "      <td>242</td>\n",
              "    </tr>\n",
              "    <tr>\n",
              "      <th>12</th>\n",
              "      <td>Basketball (playing by\\nwheelchair)</td>\n",
              "      <td>164</td>\n",
              "    </tr>\n",
              "    <tr>\n",
              "      <th>13</th>\n",
              "      <td>Bicycling, leisurely</td>\n",
              "      <td>116</td>\n",
              "    </tr>\n",
              "    <tr>\n",
              "      <th>14</th>\n",
              "      <td>Bicycling, easy pace</td>\n",
              "      <td>130</td>\n",
              "    </tr>\n",
              "    <tr>\n",
              "      <th>15</th>\n",
              "      <td>Bicycling, moderate pace</td>\n",
              "      <td>170</td>\n",
              "    </tr>\n",
              "    <tr>\n",
              "      <th>16</th>\n",
              "      <td>Bicycling, vigorous pace</td>\n",
              "      <td>200</td>\n",
              "    </tr>\n",
              "    <tr>\n",
              "      <th>17</th>\n",
              "      <td>Bowling</td>\n",
              "      <td>87</td>\n",
              "    </tr>\n",
              "    <tr>\n",
              "      <th>18</th>\n",
              "      <td>Boxing, non-competitive</td>\n",
              "      <td>131</td>\n",
              "    </tr>\n",
              "    <tr>\n",
              "      <th>19</th>\n",
              "      <td>Boxing, competitive</td>\n",
              "      <td>222</td>\n",
              "    </tr>\n",
              "    <tr>\n",
              "      <th>20</th>\n",
              "      <td>Calisthenics</td>\n",
              "      <td>106</td>\n",
              "    </tr>\n",
              "    <tr>\n",
              "      <th>21</th>\n",
              "      <td>Canoe (light to moderate)</td>\n",
              "      <td>87–106</td>\n",
              "    </tr>\n",
              "    <tr>\n",
              "      <th>22</th>\n",
              "      <td>Circuit Training</td>\n",
              "      <td>232</td>\n",
              "    </tr>\n",
              "    <tr>\n",
              "      <th>23</th>\n",
              "      <td>Climbing (rock/mountain)</td>\n",
              "      <td>270</td>\n",
              "    </tr>\n",
              "    <tr>\n",
              "      <th>24</th>\n",
              "      <td>Croquet</td>\n",
              "      <td>76</td>\n",
              "    </tr>\n",
              "    <tr>\n",
              "      <th>25</th>\n",
              "      <td>Cross-Country Skiing</td>\n",
              "      <td>232</td>\n",
              "    </tr>\n",
              "    <tr>\n",
              "      <th>26</th>\n",
              "      <td>Curling (sweeping)</td>\n",
              "      <td>125</td>\n",
              "    </tr>\n",
              "    <tr>\n",
              "      <th>27</th>\n",
              "      <td>Dancing (light to lively)</td>\n",
              "      <td>109–131</td>\n",
              "    </tr>\n",
              "  </tbody>\n",
              "</table>\n",
              "</div>\n",
              "    <div class=\"colab-df-buttons\">\n",
              "\n",
              "  <div class=\"colab-df-container\">\n",
              "    <button class=\"colab-df-convert\" onclick=\"convertToInteractive('df-501d8f7d-97cc-485a-bd60-0029d50f545a')\"\n",
              "            title=\"Convert this dataframe to an interactive table.\"\n",
              "            style=\"display:none;\">\n",
              "\n",
              "  <svg xmlns=\"http://www.w3.org/2000/svg\" height=\"24px\" viewBox=\"0 -960 960 960\">\n",
              "    <path d=\"M120-120v-720h720v720H120Zm60-500h600v-160H180v160Zm220 220h160v-160H400v160Zm0 220h160v-160H400v160ZM180-400h160v-160H180v160Zm440 0h160v-160H620v160ZM180-180h160v-160H180v160Zm440 0h160v-160H620v160Z\"/>\n",
              "  </svg>\n",
              "    </button>\n",
              "\n",
              "  <style>\n",
              "    .colab-df-container {\n",
              "      display:flex;\n",
              "      gap: 12px;\n",
              "    }\n",
              "\n",
              "    .colab-df-convert {\n",
              "      background-color: #E8F0FE;\n",
              "      border: none;\n",
              "      border-radius: 50%;\n",
              "      cursor: pointer;\n",
              "      display: none;\n",
              "      fill: #1967D2;\n",
              "      height: 32px;\n",
              "      padding: 0 0 0 0;\n",
              "      width: 32px;\n",
              "    }\n",
              "\n",
              "    .colab-df-convert:hover {\n",
              "      background-color: #E2EBFA;\n",
              "      box-shadow: 0px 1px 2px rgba(60, 64, 67, 0.3), 0px 1px 3px 1px rgba(60, 64, 67, 0.15);\n",
              "      fill: #174EA6;\n",
              "    }\n",
              "\n",
              "    .colab-df-buttons div {\n",
              "      margin-bottom: 4px;\n",
              "    }\n",
              "\n",
              "    [theme=dark] .colab-df-convert {\n",
              "      background-color: #3B4455;\n",
              "      fill: #D2E3FC;\n",
              "    }\n",
              "\n",
              "    [theme=dark] .colab-df-convert:hover {\n",
              "      background-color: #434B5C;\n",
              "      box-shadow: 0px 1px 3px 1px rgba(0, 0, 0, 0.15);\n",
              "      filter: drop-shadow(0px 1px 2px rgba(0, 0, 0, 0.3));\n",
              "      fill: #FFFFFF;\n",
              "    }\n",
              "  </style>\n",
              "\n",
              "    <script>\n",
              "      const buttonEl =\n",
              "        document.querySelector('#df-501d8f7d-97cc-485a-bd60-0029d50f545a button.colab-df-convert');\n",
              "      buttonEl.style.display =\n",
              "        google.colab.kernel.accessAllowed ? 'block' : 'none';\n",
              "\n",
              "      async function convertToInteractive(key) {\n",
              "        const element = document.querySelector('#df-501d8f7d-97cc-485a-bd60-0029d50f545a');\n",
              "        const dataTable =\n",
              "          await google.colab.kernel.invokeFunction('convertToInteractive',\n",
              "                                                    [key], {});\n",
              "        if (!dataTable) return;\n",
              "\n",
              "        const docLinkHtml = 'Like what you see? Visit the ' +\n",
              "          '<a target=\"_blank\" href=https://colab.research.google.com/notebooks/data_table.ipynb>data table notebook</a>'\n",
              "          + ' to learn more about interactive tables.';\n",
              "        element.innerHTML = '';\n",
              "        dataTable['output_type'] = 'display_data';\n",
              "        await google.colab.output.renderOutput(dataTable, element);\n",
              "        const docLink = document.createElement('div');\n",
              "        docLink.innerHTML = docLinkHtml;\n",
              "        element.appendChild(docLink);\n",
              "      }\n",
              "    </script>\n",
              "  </div>\n",
              "\n",
              "\n",
              "<div id=\"df-160b29c1-a8c5-4945-91a9-b14570d86385\">\n",
              "  <button class=\"colab-df-quickchart\" onclick=\"quickchart('df-160b29c1-a8c5-4945-91a9-b14570d86385')\"\n",
              "            title=\"Suggest charts\"\n",
              "            style=\"display:none;\">\n",
              "\n",
              "<svg xmlns=\"http://www.w3.org/2000/svg\" height=\"24px\"viewBox=\"0 0 24 24\"\n",
              "     width=\"24px\">\n",
              "    <g>\n",
              "        <path d=\"M19 3H5c-1.1 0-2 .9-2 2v14c0 1.1.9 2 2 2h14c1.1 0 2-.9 2-2V5c0-1.1-.9-2-2-2zM9 17H7v-7h2v7zm4 0h-2V7h2v10zm4 0h-2v-4h2v4z\"/>\n",
              "    </g>\n",
              "</svg>\n",
              "  </button>\n",
              "\n",
              "<style>\n",
              "  .colab-df-quickchart {\n",
              "      --bg-color: #E8F0FE;\n",
              "      --fill-color: #1967D2;\n",
              "      --hover-bg-color: #E2EBFA;\n",
              "      --hover-fill-color: #174EA6;\n",
              "      --disabled-fill-color: #AAA;\n",
              "      --disabled-bg-color: #DDD;\n",
              "  }\n",
              "\n",
              "  [theme=dark] .colab-df-quickchart {\n",
              "      --bg-color: #3B4455;\n",
              "      --fill-color: #D2E3FC;\n",
              "      --hover-bg-color: #434B5C;\n",
              "      --hover-fill-color: #FFFFFF;\n",
              "      --disabled-bg-color: #3B4455;\n",
              "      --disabled-fill-color: #666;\n",
              "  }\n",
              "\n",
              "  .colab-df-quickchart {\n",
              "    background-color: var(--bg-color);\n",
              "    border: none;\n",
              "    border-radius: 50%;\n",
              "    cursor: pointer;\n",
              "    display: none;\n",
              "    fill: var(--fill-color);\n",
              "    height: 32px;\n",
              "    padding: 0;\n",
              "    width: 32px;\n",
              "  }\n",
              "\n",
              "  .colab-df-quickchart:hover {\n",
              "    background-color: var(--hover-bg-color);\n",
              "    box-shadow: 0 1px 2px rgba(60, 64, 67, 0.3), 0 1px 3px 1px rgba(60, 64, 67, 0.15);\n",
              "    fill: var(--button-hover-fill-color);\n",
              "  }\n",
              "\n",
              "  .colab-df-quickchart-complete:disabled,\n",
              "  .colab-df-quickchart-complete:disabled:hover {\n",
              "    background-color: var(--disabled-bg-color);\n",
              "    fill: var(--disabled-fill-color);\n",
              "    box-shadow: none;\n",
              "  }\n",
              "\n",
              "  .colab-df-spinner {\n",
              "    border: 2px solid var(--fill-color);\n",
              "    border-color: transparent;\n",
              "    border-bottom-color: var(--fill-color);\n",
              "    animation:\n",
              "      spin 1s steps(1) infinite;\n",
              "  }\n",
              "\n",
              "  @keyframes spin {\n",
              "    0% {\n",
              "      border-color: transparent;\n",
              "      border-bottom-color: var(--fill-color);\n",
              "      border-left-color: var(--fill-color);\n",
              "    }\n",
              "    20% {\n",
              "      border-color: transparent;\n",
              "      border-left-color: var(--fill-color);\n",
              "      border-top-color: var(--fill-color);\n",
              "    }\n",
              "    30% {\n",
              "      border-color: transparent;\n",
              "      border-left-color: var(--fill-color);\n",
              "      border-top-color: var(--fill-color);\n",
              "      border-right-color: var(--fill-color);\n",
              "    }\n",
              "    40% {\n",
              "      border-color: transparent;\n",
              "      border-right-color: var(--fill-color);\n",
              "      border-top-color: var(--fill-color);\n",
              "    }\n",
              "    60% {\n",
              "      border-color: transparent;\n",
              "      border-right-color: var(--fill-color);\n",
              "    }\n",
              "    80% {\n",
              "      border-color: transparent;\n",
              "      border-right-color: var(--fill-color);\n",
              "      border-bottom-color: var(--fill-color);\n",
              "    }\n",
              "    90% {\n",
              "      border-color: transparent;\n",
              "      border-bottom-color: var(--fill-color);\n",
              "    }\n",
              "  }\n",
              "</style>\n",
              "\n",
              "  <script>\n",
              "    async function quickchart(key) {\n",
              "      const quickchartButtonEl =\n",
              "        document.querySelector('#' + key + ' button');\n",
              "      quickchartButtonEl.disabled = true;  // To prevent multiple clicks.\n",
              "      quickchartButtonEl.classList.add('colab-df-spinner');\n",
              "      try {\n",
              "        const charts = await google.colab.kernel.invokeFunction(\n",
              "            'suggestCharts', [key], {});\n",
              "      } catch (error) {\n",
              "        console.error('Error during call to suggestCharts:', error);\n",
              "      }\n",
              "      quickchartButtonEl.classList.remove('colab-df-spinner');\n",
              "      quickchartButtonEl.classList.add('colab-df-quickchart-complete');\n",
              "    }\n",
              "    (() => {\n",
              "      let quickchartButtonEl =\n",
              "        document.querySelector('#df-160b29c1-a8c5-4945-91a9-b14570d86385 button');\n",
              "      quickchartButtonEl.style.display =\n",
              "        google.colab.kernel.accessAllowed ? 'block' : 'none';\n",
              "    })();\n",
              "  </script>\n",
              "</div>\n",
              "\n",
              "  <div id=\"id_54b7cae8-8dde-4868-8fc0-2a008ae44f3f\">\n",
              "    <style>\n",
              "      .colab-df-generate {\n",
              "        background-color: #E8F0FE;\n",
              "        border: none;\n",
              "        border-radius: 50%;\n",
              "        cursor: pointer;\n",
              "        display: none;\n",
              "        fill: #1967D2;\n",
              "        height: 32px;\n",
              "        padding: 0 0 0 0;\n",
              "        width: 32px;\n",
              "      }\n",
              "\n",
              "      .colab-df-generate:hover {\n",
              "        background-color: #E2EBFA;\n",
              "        box-shadow: 0px 1px 2px rgba(60, 64, 67, 0.3), 0px 1px 3px 1px rgba(60, 64, 67, 0.15);\n",
              "        fill: #174EA6;\n",
              "      }\n",
              "\n",
              "      [theme=dark] .colab-df-generate {\n",
              "        background-color: #3B4455;\n",
              "        fill: #D2E3FC;\n",
              "      }\n",
              "\n",
              "      [theme=dark] .colab-df-generate:hover {\n",
              "        background-color: #434B5C;\n",
              "        box-shadow: 0px 1px 3px 1px rgba(0, 0, 0, 0.15);\n",
              "        filter: drop-shadow(0px 1px 2px rgba(0, 0, 0, 0.3));\n",
              "        fill: #FFFFFF;\n",
              "      }\n",
              "    </style>\n",
              "    <button class=\"colab-df-generate\" onclick=\"generateWithVariable('df')\"\n",
              "            title=\"Generate code using this dataframe.\"\n",
              "            style=\"display:none;\">\n",
              "\n",
              "  <svg xmlns=\"http://www.w3.org/2000/svg\" height=\"24px\"viewBox=\"0 0 24 24\"\n",
              "       width=\"24px\">\n",
              "    <path d=\"M7,19H8.4L18.45,9,17,7.55,7,17.6ZM5,21V16.75L18.45,3.32a2,2,0,0,1,2.83,0l1.4,1.43a1.91,1.91,0,0,1,.58,1.4,1.91,1.91,0,0,1-.58,1.4L9.25,21ZM18.45,9,17,7.55Zm-12,3A5.31,5.31,0,0,0,4.9,8.1,5.31,5.31,0,0,0,1,6.5,5.31,5.31,0,0,0,4.9,4.9,5.31,5.31,0,0,0,6.5,1,5.31,5.31,0,0,0,8.1,4.9,5.31,5.31,0,0,0,12,6.5,5.46,5.46,0,0,0,6.5,12Z\"/>\n",
              "  </svg>\n",
              "    </button>\n",
              "    <script>\n",
              "      (() => {\n",
              "      const buttonEl =\n",
              "        document.querySelector('#id_54b7cae8-8dde-4868-8fc0-2a008ae44f3f button.colab-df-generate');\n",
              "      buttonEl.style.display =\n",
              "        google.colab.kernel.accessAllowed ? 'block' : 'none';\n",
              "\n",
              "      buttonEl.onclick = () => {\n",
              "        google.colab.notebook.generateWithVariable('df');\n",
              "      }\n",
              "      })();\n",
              "    </script>\n",
              "  </div>\n",
              "\n",
              "    </div>\n",
              "  </div>\n"
            ],
            "application/vnd.google.colaboratory.intrinsic+json": {
              "type": "dataframe",
              "variable_name": "df",
              "summary": "{\n  \"name\": \"df\",\n  \"rows\": 28,\n  \"fields\": [\n    {\n      \"column\": 0,\n      \"properties\": {\n        \"dtype\": \"string\",\n        \"num_unique_values\": 28,\n        \"samples\": [\n          \"Baseball\",\n          \"Cross-Country Skiing\",\n          \"Ballet\"\n        ],\n        \"semantic_type\": \"\",\n        \"description\": \"\"\n      }\n    },\n    {\n      \"column\": 1,\n      \"properties\": {\n        \"dtype\": \"string\",\n        \"num_unique_values\": 26,\n        \"samples\": [\n          \"120\",\n          \"200\",\n          \"Steps per\\nMinute\"\n        ],\n        \"semantic_type\": \"\",\n        \"description\": \"\"\n      }\n    }\n  ]\n}"
            }
          },
          "metadata": {},
          "execution_count": 93
        }
      ]
    },
    {
      "cell_type": "markdown",
      "source": [
        "## Doing OCR Thing"
      ],
      "metadata": {
        "id": "664_FxiZEFgK"
      }
    },
    {
      "cell_type": "code",
      "source": [
        "elements = partition_pdf(filename = '/content/CompulsoryGuidelinesForSafeTravel.pdf',\n",
        "                         strategy = 'ocr_only')"
      ],
      "metadata": {
        "id": "xQunIHVdEOK5"
      },
      "execution_count": 94,
      "outputs": []
    },
    {
      "cell_type": "code",
      "source": [
        "for element in elements:\n",
        "  print(type(element))\n",
        "  print(element.text)"
      ],
      "metadata": {
        "id": "EamGUCwOEf-m",
        "outputId": "67c91b6a-d23e-43c1-b718-53bb92d45b07",
        "colab": {
          "base_uri": "https://localhost:8080/"
        }
      },
      "execution_count": 95,
      "outputs": [
        {
          "output_type": "stream",
          "name": "stdout",
          "text": [
            "<class 'unstructured.documents.elements.Text'>\n",
            "\"GOV FROM ORIGIN TO AIRPORT - DO’S 2)\n",
            "<class 'unstructured.documents.elements.Title'>\n",
            "FOLLOW THE NORMS\n",
            "<class 'unstructured.documents.elements.Title'>\n",
            "Social distancing and minimum touch\n",
            "<class 'unstructured.documents.elements.NarrativeText'>\n",
            "Agreeing to the self declaration form & Registering on Aarogya Setu App\n",
            "<class 'unstructured.documents.elements.Title'>\n",
            "r Digital payments & use of Authorized taxis\n",
            "<class 'unstructured.documents.elements.NarrativeText'>\n",
            "Baggage limitations - Only one check-in bag and one cabin bag allowed\n",
            "<class 'unstructured.documents.elements.NarrativeText'>\n",
            "Vulnerable persons such as very elderly, pregnant ladies, passengers with ailments are advised to avoid air travel\n",
            "<class 'unstructured.documents.elements.Title'>\n",
            "\"GOV AR UHR\n",
            "<class 'unstructured.documents.elements.Text'>\n",
            "FROM ORIGIN TO AIRPORT - DO’S (2/3)\n",
            "<class 'unstructured.documents.elements.Text'>\n",
            "~ —\n",
            "<class 'unstructured.documents.elements.NarrativeText'>\n",
            "Ensure Web Check-in and obtain a boarding pass\n",
            "<class 'unstructured.documents.elements.NarrativeText'>\n",
            "Passenger to download the baggage tag/baggage identification number, print it and affix it on the bag at a prominent place\n",
            "<class 'unstructured.documents.elements.NarrativeText'>\n",
            "In case the passenger is not able to print the baggage tag, then he/she should mention the PNR number and his/her name on a thick piece of paper and affix it / tag it witha strong string\n",
            "<class 'unstructured.documents.elements.Title'>\n",
            "FROM ORIGIN TO AIRPORT - DO’S 7/3\n",
            "<class 'unstructured.documents.elements.NarrativeText'>\n",
            "Before entering the terminal, passenger to ensure that he/she is wearing a mask\n",
            "<class 'unstructured.documents.elements.NarrativeText'>\n",
            "Passenger to report at the airport as per revised reporting time I.e. D - 2 hours\n",
            "<class 'unstructured.documents.elements.NarrativeText'>\n",
            "Passenger to travel in an authorized taxi/personal vehicle following the norms specified by MHA\n",
            "<class 'unstructured.documents.elements.NarrativeText'>\n",
            "During transit to airport, the passenger should take all precautions to prevent infection\n",
            "<class 'unstructured.documents.elements.NarrativeText'>\n",
            "Passenger to certify the status of his/her health through the Aarogya Setu App ora self-declaration form\n",
            "<class 'unstructured.documents.elements.Title'>\n",
            "FROM ORIGIN TO AIRPORT - DON’TS\n",
            "<class 'unstructured.documents.elements.Title'>\n",
            "Q, rene\n",
            "<class 'unstructured.documents.elements.NarrativeText'>\n",
            "Passenger should not reach the airoort late\n",
            "<class 'unstructured.documents.elements.NarrativeText'>\n",
            "Passenger should not travel if he/she is staying in a containment zone\n",
            "<class 'unstructured.documents.elements.NarrativeText'>\n",
            "Passenger should not travel if he/she has been tested positive for COVID-19\n",
            "<class 'unstructured.documents.elements.Title'>\n",
            "\"GOV\n",
            "<class 'unstructured.documents.elements.Title'>\n",
            "AR GRHIR\n",
            "<class 'unstructured.documents.elements.Title'>\n",
            "FROM ORIGIN TO AIRPORT / i _\n",
            "<class 'unstructured.documents.elements.NarrativeText'>\n",
            "If a passenger who is not permitted to fly, undertakes an air journey he/she shall be liable for penal action\n",
            "<class 'unstructured.documents.elements.NarrativeText'>\n",
            "The passenger shall give a declaration to the following\n",
            "<class 'unstructured.documents.elements.NarrativeText'>\n",
            "|/we am/are not residing in any containment zone.\n",
            "<class 'unstructured.documents.elements.NarrativeText'>\n",
            "|/we am/are not suffering from any fever/cough/any respiratory distress. |/we am are not under quarantine.\n",
            "<class 'unstructured.documents.elements.NarrativeText'>\n",
            "If |Awe develop any of the above mentioned symptoms | shall contact the concerned health authorities, immediately.\n",
            "<class 'unstructured.documents.elements.NarrativeText'>\n",
            "I/we have not tested COVID-19 positive.\n",
            "<class 'unstructured.documents.elements.NarrativeText'>\n",
            "|/we am eligible to travel as per the extant norms.\n",
            "<class 'unstructured.documents.elements.NarrativeText'>\n",
            "| shall make my mobile number / contact details available to the\n",
            "<class 'unstructured.documents.elements.NarrativeText'>\n",
            "airlines whenever required by them\n",
            "<class 'unstructured.documents.elements.NarrativeText'>\n",
            "| understand that if | undertake the air journey without meeting the eligibility criteria, | would be liable to penal action\n",
            "<class 'unstructured.documents.elements.NarrativeText'>\n",
            "|/We undertake to adhere to the Health Protocol prescribed by the Destination State / UT\n",
            "<class 'unstructured.documents.elements.NarrativeText'>\n",
            "The airlines shall ensure that the boarding pass is issued only after the passenger confirms to the above declaration\n",
            "<class 'unstructured.documents.elements.NarrativeText'>\n",
            "In case of a PNR having more than one passenger, the declaration would be deemed to be covering all the passengers mentioned in the PNR\n",
            "<class 'unstructured.documents.elements.Title'>\n",
            "AT THE AIRPORT «1/2\n",
            "<class 'unstructured.documents.elements.NarrativeText'>\n",
            "Passengers should continue to wear mask throughout the journey\n",
            "<class 'unstructured.documents.elements.NarrativeText'>\n",
            "Passenger to get down from the vehicle with the face mask on and with required documents / e-documents\n",
            "<class 'unstructured.documents.elements.NarrativeText'>\n",
            "Passenger to arrive at the thermal screening facility near the entry gate\n",
            "<class 'unstructured.documents.elements.NarrativeText'>\n",
            "Passenger to get himself/herself checked for temperature and display the status of Aarogya Setu App to the Staff at the entry gate\n",
            "<class 'unstructured.documents.elements.NarrativeText'>\n",
            "In case of non-availability of Aarogya Setu, passenger should be facilitated to go to a counter provided by the airport where Aarogya Setu App can be downloaded =\n",
            "<class 'unstructured.documents.elements.Title'>\n",
            "\"GOV Rt\n",
            "<class 'unstructured.documents.elements.Title'>\n",
            "Ed sipastinces | Al AT THE AIRPORT ©2)\n",
            "<class 'unstructured.documents.elements.Title'>\n",
            "= & P at ah.\n",
            "<class 'unstructured.documents.elements.NarrativeText'>\n",
            "Passenger to show his/her identity card, the boarding pass/e-boarding pass to the CISF staff at the Entry Gate\n",
            "<class 'unstructured.documents.elements.NarrativeText'>\n",
            "Passenger to proceed to the baggage drop counter and show his/her PNR to the staff. Avoid using baggage trolley, as far as possible\n",
            "<class 'unstructured.documents.elements.NarrativeText'>\n",
            "An electronic receipt shall be sent to the passenger\n",
            "<class 'unstructured.documents.elements.NarrativeText'>\n",
            "Passenger to adhere to the social distancing which would be specified at the Airports through markings like circle, square or tensor barrier\n",
            "<class 'unstructured.documents.elements.NarrativeText'>\n",
            "Passenger to complete the check-in procedure and baggage drop at least 60 minutes before departure\n",
            "<class 'unstructured.documents.elements.Title'>\n",
            "Eid sivvastences 71 AT SECURITY CHECK-IN\n",
            "<class 'unstructured.documents.elements.NarrativeText'>\n",
            "Arrangements have been made at airports to guide passengers to walk through the pre-embarkation security screening\n",
            "<class 'unstructured.documents.elements.NarrativeText'>\n",
            "Passenger to follow the directions as announced by the authorities and divest of all metal on the body to facilitate the security screening\n",
            "<class 'unstructured.documents.elements.NarrativeText'>\n",
            "Passenger to bring only one hand luggage as per specified size allowed by the airlines\n",
            "<class 'unstructured.documents.elements.NarrativeText'>\n",
            "Passenger to cooperate with security staff by following the instructions for his/her own safety and security\n",
            "<class 'unstructured.documents.elements.Title'>\n",
            "\"GOV SECURITY HOLD AREA\n",
            "<class 'unstructured.documents.elements.Text'>\n",
            "1\n",
            "<class 'unstructured.documents.elements.NarrativeText'>\n",
            "Passenger to proceed to security hold area after security screening\n",
            "<class 'unstructured.documents.elements.NarrativeText'>\n",
            "While waiting in the security hold area, passenger to maintain social distancing and sanitization protocols\n",
            "<class 'unstructured.documents.elements.NarrativeText'>\n",
            "Chairs marked ‘Not For Use’ should not be occupied\n",
            "<class 'unstructured.documents.elements.NarrativeText'>\n",
            "While going around F&B, retail outlets, etc, passenger should be aware of the social distancing and maintain hygiene. Also, he/she should be aware of the locations where sanitizers would be made available\n",
            "<class 'unstructured.documents.elements.NarrativeText'>\n",
            "Passenger to dispose of all the bio hazardous material like used masks, gloves, tissues etc. in the yellow-colored disposable bins/bags placed at strategic locations at the airport\n",
            "<class 'unstructured.documents.elements.ListItem'>\n",
            "eeccece\n",
            "<class 'unstructured.documents.elements.NarrativeText'>\n",
            "Passengers to be attentive towards various communication material displayed at the airport about various health advisories relating to pre-boarding and during the flight precautions\n",
            "<class 'unstructured.documents.elements.NarrativeText'>\n",
            "Passengers to collect the safety kit (three layered surgical mask and sanitizer) from the airlines near the boarding gate\n",
            "<class 'unstructured.documents.elements.NarrativeText'>\n",
            "Passengers to wear mask and sanitize his/her hands before proceeding to the boarding gate for scanning of the boarding pass\n",
            "<class 'unstructured.documents.elements.NarrativeText'>\n",
            "Passengers to be attentive towards boarding announcements and reach the boarding queue by following social distancing\n",
            "<class 'unstructured.documents.elements.NarrativeText'>\n",
            "Display of identity cards by passengers is a must & Check-in of the boarding pass would be done by the passenger by self-scanning of e-boarding pass\n",
            "<class 'unstructured.documents.elements.NarrativeText'>\n",
            "INSIDE THE AIRCRAFT #—-_ fa During the flight, passengers to strictly follow hygiene and sanitation. Face to face interaction to be minimized\n",
            "<class 'unstructured.documents.elements.NarrativeText'>\n",
            "Passenger to minimize the use of toilets and avoid any non-essential movement in the aisles\n",
            "<class 'unstructured.documents.elements.NarrativeText'>\n",
            "No queuing at the toilets and only one companion for children and the elderly would be allowed\n",
            "<class 'unstructured.documents.elements.NarrativeText'>\n",
            "No meal service in the aircraft. Water bottle to be made available in the galley area or on the seats. Eatables not to be consumed during the flight\n",
            "<class 'unstructured.documents.elements.NarrativeText'>\n",
            "No newspaper / magazine will be available, no onboard sale of any item\n",
            "<class 'unstructured.documents.elements.NarrativeText'>\n",
            "If the passenger feels uncomfortable, fatigued or has respiratory distress, it should be brought to the immediate notice of the crew W\n",
            "<class 'unstructured.documents.elements.Title'>\n",
            "‘GOV\n",
            "<class 'unstructured.documents.elements.Title'>\n",
            "AIRPORT TO DESTINATION (2\n",
            "<class 'unstructured.documents.elements.Title'>\n",
            "dee sae\n",
            "<class 'unstructured.documents.elements.NarrativeText'>\n",
            "The disembarkation from the airlines would be sequential\n",
            "<class 'unstructured.documents.elements.NarrativeText'>\n",
            "To disembark, passengers to strictly follow the instructions of the crew\n",
            "<class 'unstructured.documents.elements.NarrativeText'>\n",
            "Trolleys in the arrival area to be used sparingly\n",
            "<class 'unstructured.documents.elements.NarrativeText'>\n",
            "Social distance / sanitation should be maintained at the arrival gate, aerobridges, coaches, jet ladders, ramps etc\n",
            "<class 'unstructured.documents.elements.Title'>\n",
            "\"GOV AR UHR\n",
            "<class 'unstructured.documents.elements.Title'>\n",
            "AIRPORT TO DESTINATION (2/23) of\n",
            "<class 'unstructured.documents.elements.Title'>\n",
            "BAGGAGE COLLECTION\n",
            "<class 'unstructured.documents.elements.NarrativeText'>\n",
            "Passenger to wait at the baggage hold area till the baggage arrives in\n",
            "<class 'unstructured.documents.elements.Title'>\n",
            "batches\n",
            "<class 'unstructured.documents.elements.NarrativeText'>\n",
            "Transit passengers will not be allowed to come out of the transit area\n",
            "<class 'unstructured.documents.elements.NarrativeText'>\n",
            "ee be pad SRRRERREee\n",
            "<class 'unstructured.documents.elements.Title'>\n",
            "\"GOV AN Gra\n",
            "<class 'unstructured.documents.elements.Title'>\n",
            "AIRPORT TO ae ORS DESTINATION (2/2) |\n",
            "<class 'unstructured.documents.elements.Title'>\n",
            "EXIT FROM AIRPORT\n",
            "<class 'unstructured.documents.elements.NarrativeText'>\n",
            "Passengers to hire only authorized taxis from the\n",
            "<class 'unstructured.documents.elements.NarrativeText'>\n",
            "Passengers to follow social distancing and hygiene while travelling in any mode of transportation\n",
            "<class 'unstructured.documents.elements.NarrativeText'>\n",
            "On arrival at the destination, passengers to adhere to health protocols as prescribed by the destination\n",
            "<class 'unstructured.documents.elements.Title'>\n",
            "State/ UT\n",
            "<class 'unstructured.documents.elements.NarrativeText'>\n",
            "For any queries, please refer to https:/www.civilaviation.gov.in/ , https://mohfw.gov.in or Helpline 1075 (Toll Free)\n",
            "<class 'unstructured.documents.elements.Title'>\n",
            "More details at https://corona.mygov.in\n"
          ]
        }
      ]
    },
    {
      "cell_type": "markdown",
      "source": [
        "## Using `pymupdf`"
      ],
      "metadata": {
        "id": "a5fpGmmREjA0"
      }
    },
    {
      "cell_type": "code",
      "source": [
        "!pip install pymupdf"
      ],
      "metadata": {
        "id": "QdGv29MiGayQ",
        "outputId": "572cba99-af4d-47bd-fc4e-543a2614224a",
        "colab": {
          "base_uri": "https://localhost:8080/"
        }
      },
      "execution_count": 96,
      "outputs": [
        {
          "output_type": "stream",
          "name": "stdout",
          "text": [
            "Requirement already satisfied: pymupdf in /usr/local/lib/python3.10/dist-packages (1.25.1)\n"
          ]
        }
      ]
    },
    {
      "cell_type": "code",
      "source": [
        "import pymupdf\n",
        "import fitz"
      ],
      "metadata": {
        "id": "vQCHKpLKGUCV"
      },
      "execution_count": 97,
      "outputs": []
    },
    {
      "cell_type": "code",
      "source": [
        "doc = fitz.open(\"/content/CompulsoryGuidelinesForSafeTravel.pdf\")"
      ],
      "metadata": {
        "id": "p6sWkPNjGZW6"
      },
      "execution_count": 98,
      "outputs": []
    },
    {
      "cell_type": "code",
      "source": [
        "doc.page_count"
      ],
      "metadata": {
        "id": "nxCxmhNkGhGk",
        "outputId": "407cffec-06c1-4226-9d4b-89542f2ac5e6",
        "colab": {
          "base_uri": "https://localhost:8080/"
        }
      },
      "execution_count": 99,
      "outputs": [
        {
          "output_type": "execute_result",
          "data": {
            "text/plain": [
              "14"
            ]
          },
          "metadata": {},
          "execution_count": 99
        }
      ]
    },
    {
      "cell_type": "code",
      "source": [
        "print(doc.metadata)"
      ],
      "metadata": {
        "id": "Pxirp8jEGn_M",
        "outputId": "9d7a211f-373e-47fe-9644-1a2aaf997e8b",
        "colab": {
          "base_uri": "https://localhost:8080/"
        }
      },
      "execution_count": 100,
      "outputs": [
        {
          "output_type": "stream",
          "name": "stdout",
          "text": [
            "{'format': 'PDF 1.5', 'title': 'Guidelines for Air Passengers_21May', 'author': '', 'subject': '', 'keywords': '', 'creator': 'Adobe Illustrator 24.0 (Macintosh)', 'producer': 'www.ilovepdf.com', 'creationDate': \"D:20200521115421+05'30'\", 'modDate': 'D:20200521065817Z', 'trapped': '', 'encryption': None}\n"
          ]
        }
      ]
    },
    {
      "cell_type": "code",
      "source": [
        "doc.load_page(0).get_text()"
      ],
      "metadata": {
        "id": "tOTanfXuHGFs",
        "outputId": "154ef344-12e2-4ab3-a72c-81cd0d9a0108",
        "colab": {
          "base_uri": "https://localhost:8080/",
          "height": 36
        }
      },
      "execution_count": 101,
      "outputs": [
        {
          "output_type": "execute_result",
          "data": {
            "text/plain": [
              "''"
            ],
            "application/vnd.google.colaboratory.intrinsic+json": {
              "type": "string"
            }
          },
          "metadata": {},
          "execution_count": 101
        }
      ]
    },
    {
      "cell_type": "markdown",
      "source": [
        "The result is empty text because it's a scanned image and hence, only solution is OCR"
      ],
      "metadata": {
        "id": "GDVT2-EWHJ4z"
      }
    },
    {
      "cell_type": "code",
      "source": [
        "doc = fitz.open(\"/content/Finance - Salomon Smith Barney Introductory Guide to Equity Options (1998).pdf\")"
      ],
      "metadata": {
        "id": "OuJeZNvQGpsg"
      },
      "execution_count": 102,
      "outputs": []
    },
    {
      "cell_type": "code",
      "source": [
        "doc.metadata"
      ],
      "metadata": {
        "id": "zEni1n3tGzby",
        "outputId": "773e25f3-6363-438e-9183-60da930a8abb",
        "colab": {
          "base_uri": "https://localhost:8080/"
        }
      },
      "execution_count": 103,
      "outputs": [
        {
          "output_type": "execute_result",
          "data": {
            "text/plain": [
              "{'format': 'PDF 1.1',\n",
              " 'title': 'Microsoft Word - Sf04f117.doc',\n",
              " 'author': '',\n",
              " 'subject': '',\n",
              " 'keywords': '',\n",
              " 'creator': 'Windows NT 4.0',\n",
              " 'producer': 'Acrobat Distiller 3.01 for Windows',\n",
              " 'creationDate': 'D:19980501151530',\n",
              " 'modDate': '',\n",
              " 'trapped': '',\n",
              " 'encryption': None}"
            ]
          },
          "metadata": {},
          "execution_count": 103
        }
      ]
    },
    {
      "cell_type": "code",
      "source": [
        "doc.load_page(0).get_text()"
      ],
      "metadata": {
        "id": "Uot0JsekG2kT",
        "outputId": "22be9420-380d-451c-e849-4d18f00938b5",
        "colab": {
          "base_uri": "https://localhost:8080/",
          "height": 162
        }
      },
      "execution_count": 104,
      "outputs": [
        {
          "output_type": "execute_result",
          "data": {
            "text/plain": [
              "'Salomon Smith Barney is a service mark of Smith Barney Inc.  Smith Barney Inc. and Salomon\\nBrothers Inc. are affiliated but separately registered broker/dealers under common control of\\nSalomon Smith Barney Holdings Inc.  Salomon Brothers Inc. and Salomon Smith Barney\\nHoldings Inc. have been licensed to use the Salomon Smith Barney service mark.  This report\\nwas produced jointly by Smith Barney Inc. and Salomon Brothers Inc. and/or their affiliates.\\nThis report may be distributed only to persons who have received\\na copy of the booklet \"Characteristics and Risks of Standardized\\nOptions,\" published by the Options Clearing Corporation.\\nGLOBAL EQUITY RESEARCH:  Equity Options\\nApril 1998\\nEric H. Sorensen, Ph.D.  (212) 783-7813\\nesorensen@zip.sbi.com\\nKeith L. Miller  (212) 783-5497\\nkmiller@zip.sbi.com\\nDaniel E. Cox, Ph.D.  (212) 783-6651\\ndcox@zip.sbi.com\\nThe Salomon Smith Barney\\nIntroductory Guide to\\nEquity Options\\n'"
            ],
            "application/vnd.google.colaboratory.intrinsic+json": {
              "type": "string"
            }
          },
          "metadata": {},
          "execution_count": 104
        }
      ]
    },
    {
      "cell_type": "markdown",
      "source": [
        "## Working on Images"
      ],
      "metadata": {
        "id": "NP3LynpFJm7b"
      }
    },
    {
      "cell_type": "code",
      "source": [
        "pdf_file = fitz.open(\"/content/codeofconduct_ppt.pdf\")\n",
        "\n",
        "# Iterate through the pages\n",
        "for page_num in range(len(pdf_file)):\n",
        "    page = pdf_file.load_page(page_num)\n",
        "\n",
        "    # Extract images from the page\n",
        "    img_list = page.get_images(full=True)\n",
        "\n",
        "    for img in img_list:\n",
        "        xref = img[0]\n",
        "        image = pdf_file.extract_image(xref)\n",
        "        image_bytes = image[\"image\"]  # Image bytes\n",
        "        image_filename = f\"image_page{page_num + 1}_xref{xref}.png\"\n",
        "\n",
        "        # Save the image\n",
        "        with open(image_filename, \"wb\") as img_file:\n",
        "            img_file.write(image_bytes)\n",
        "\n",
        "print(\"Images extracted successfully.\")\n"
      ],
      "metadata": {
        "id": "Rp7KZ-CUJoxM",
        "outputId": "5eb34964-33cb-4bfa-fba2-b29c9730f40a",
        "colab": {
          "base_uri": "https://localhost:8080/"
        }
      },
      "execution_count": 105,
      "outputs": [
        {
          "output_type": "stream",
          "name": "stdout",
          "text": [
            "Images extracted successfully.\n"
          ]
        }
      ]
    }
  ],
  "metadata": {
    "language_info": {
      "name": "python"
    },
    "colab": {
      "provenance": []
    },
    "kernelspec": {
      "name": "python3",
      "display_name": "Python 3"
    }
  },
  "nbformat": 4,
  "nbformat_minor": 0
}