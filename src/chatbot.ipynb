{
  "cells": [
    {
      "cell_type": "markdown",
      "source": [
        "# Chatbot | OpenAI API"
      ],
      "metadata": {
        "id": "XvP1TInFl0kB"
      },
      "id": "XvP1TInFl0kB"
    },
    {
      "cell_type": "markdown",
      "source": [
        "Importing required libraries"
      ],
      "metadata": {
        "id": "yDADciewbXBp"
      },
      "id": "yDADciewbXBp"
    },
    {
      "cell_type": "code",
      "execution_count": 1,
      "id": "2cc84122",
      "metadata": {
        "height": 30,
        "id": "2cc84122"
      },
      "outputs": [],
      "source": [
        "import os\n",
        "from openai import OpenAI"
      ]
    },
    {
      "cell_type": "markdown",
      "source": [
        "Loading OpenAI API key, from colab env variables into local variable"
      ],
      "metadata": {
        "id": "iKS6mKJum6tL"
      },
      "id": "iKS6mKJum6tL"
    },
    {
      "cell_type": "code",
      "source": [
        "from google.colab import userdata\n",
        "OPENAI_API_KEY = userdata.get('OPENAI_API_KEY')"
      ],
      "metadata": {
        "id": "p2058GcQmvV9"
      },
      "id": "p2058GcQmvV9",
      "execution_count": 2,
      "outputs": []
    },
    {
      "cell_type": "markdown",
      "source": [
        "## Testing API"
      ],
      "metadata": {
        "id": "mmuxYuXvmiCx"
      },
      "id": "mmuxYuXvmiCx"
    },
    {
      "cell_type": "code",
      "source": [
        "client = OpenAI(api_key = OPENAI_API_KEY)\n",
        "prompt = 'What is AI. Write short description within 50 words.'"
      ],
      "metadata": {
        "id": "Mh0-eUAzbiMr"
      },
      "id": "Mh0-eUAzbiMr",
      "execution_count": 3,
      "outputs": []
    },
    {
      "cell_type": "code",
      "source": [
        "def get_test_response(prompt, model=\"gpt-3.5-turbo\"):\n",
        "    messages = [\n",
        "          {\"role\": \"system\", \"content\": \"You are a helpful assistant.\"},\n",
        "          {\"role\": \"user\", \"content\": prompt}\n",
        "        ]\n",
        "    response = client.chat.completions.create(\n",
        "        model=model,\n",
        "        messages=messages,\n",
        "        temperature=0,\n",
        "    )\n",
        "    return response.choices[0].message.content"
      ],
      "metadata": {
        "id": "soWSDzBwnqL4"
      },
      "id": "soWSDzBwnqL4",
      "execution_count": 4,
      "outputs": []
    },
    {
      "cell_type": "code",
      "source": [
        "get_test_response(prompt)"
      ],
      "metadata": {
        "id": "SoUw0AqmbkDz",
        "outputId": "5aa88d48-a666-4764-be02-80c6e7426f8c",
        "colab": {
          "base_uri": "https://localhost:8080/",
          "height": 70
        }
      },
      "id": "SoUw0AqmbkDz",
      "execution_count": 5,
      "outputs": [
        {
          "output_type": "execute_result",
          "data": {
            "text/plain": [
              "'AI, or artificial intelligence, is the simulation of human intelligence processes by machines, especially computer systems. It involves tasks such as learning, reasoning, problem-solving, perception, and language understanding. AI is used in various applications like virtual assistants, autonomous vehicles, and medical diagnosis.'"
            ],
            "application/vnd.google.colaboratory.intrinsic+json": {
              "type": "string"
            }
          },
          "metadata": {},
          "execution_count": 5
        }
      ]
    },
    {
      "cell_type": "markdown",
      "source": [
        "## Chatbot"
      ],
      "metadata": {
        "id": "MdOVIoPyqq5o"
      },
      "id": "MdOVIoPyqq5o"
    },
    {
      "cell_type": "markdown",
      "source": [
        "Setup API key, create an OpenAI object"
      ],
      "metadata": {
        "id": "YDcSGaG3rDwi"
      },
      "id": "YDcSGaG3rDwi"
    },
    {
      "cell_type": "code",
      "source": [
        "client = OpenAI(api_key=OPENAI_API_KEY)"
      ],
      "metadata": {
        "id": "zkI6LLBTq8sw"
      },
      "id": "zkI6LLBTq8sw",
      "execution_count": 6,
      "outputs": []
    },
    {
      "cell_type": "markdown",
      "source": [
        "Create a context history (`list`) to track all messages"
      ],
      "metadata": {
        "id": "eSterzHBrPJ2"
      },
      "id": "eSterzHBrPJ2"
    },
    {
      "cell_type": "code",
      "source": [
        "msg_history = [{\"role\": \"system\", \"content\": \"You are a helpful assistant.\"}]"
      ],
      "metadata": {
        "id": "Qd5TCT0YrNPV"
      },
      "id": "Qd5TCT0YrNPV",
      "execution_count": 7,
      "outputs": []
    },
    {
      "cell_type": "code",
      "source": [
        "def update_msg_history(msg_history, role, content):\n",
        "    msg_history.append({\"role\": role, \"content\": content})"
      ],
      "metadata": {
        "id": "-7XZxWviZB3T"
      },
      "id": "-7XZxWviZB3T",
      "execution_count": 8,
      "outputs": []
    },
    {
      "cell_type": "markdown",
      "source": [
        "Function to get response & update the context history of the chatbot"
      ],
      "metadata": {
        "id": "2fKVRMenbEsA"
      },
      "id": "2fKVRMenbEsA"
    },
    {
      "cell_type": "code",
      "source": [
        "def get_response(prompt, model=\"gpt-3.5-turbo\"):\n",
        "    update_msg_history(msg_history, \"user\", prompt)\n",
        "    response = client.chat.completions.create(\n",
        "        model=model,\n",
        "        messages=msg_history,\n",
        "        temperature=0,\n",
        "    )\n",
        "    ai_msg = response.choices[0].message.content\n",
        "    update_msg_history(msg_history, \"assistant\", ai_msg)\n",
        "    return ai_msg"
      ],
      "metadata": {
        "id": "Oage7JY4qyLj"
      },
      "id": "Oage7JY4qyLj",
      "execution_count": 9,
      "outputs": []
    },
    {
      "cell_type": "code",
      "source": [
        "# testing chatbot\n",
        "# prompt1 = \"My name is John Doe. Did you get that?\"\n",
        "# get_response(prompt1)"
      ],
      "metadata": {
        "id": "36N-Cxz-aJLM"
      },
      "id": "36N-Cxz-aJLM",
      "execution_count": 10,
      "outputs": []
    },
    {
      "cell_type": "code",
      "source": [
        "# testing chatbot\n",
        "# prompt2 = \"What is my name?\"\n",
        "# get_response(prompt2)"
      ],
      "metadata": {
        "id": "yepN9WBkZw7X"
      },
      "id": "yepN9WBkZw7X",
      "execution_count": 11,
      "outputs": []
    },
    {
      "cell_type": "markdown",
      "source": [
        "Function to start chatting."
      ],
      "metadata": {
        "id": "sEYHynH1gBB9"
      },
      "id": "sEYHynH1gBB9"
    },
    {
      "cell_type": "code",
      "source": [
        "def chat():\n",
        "  prompt = input()\n",
        "  get_response(prompt)\n",
        "  print(f\"\\nLast Input: {prompt}\\n\")\n",
        "  print(\"--\" * 32)\n",
        "  for item in msg_history:\n",
        "    if item[\"role\"] == \"user\":\n",
        "      print(f\"User: {item['content']}\")\n",
        "    elif item[\"role\"] != \"system\":\n",
        "      print(f\"Botboi: {item['content']}\")"
      ],
      "metadata": {
        "id": "sDG1xidicmtD"
      },
      "id": "sDG1xidicmtD",
      "execution_count": 12,
      "outputs": []
    },
    {
      "cell_type": "markdown",
      "source": [
        "Function to clear/forget user data or message history."
      ],
      "metadata": {
        "id": "YyiorulcgIhL"
      },
      "id": "YyiorulcgIhL"
    },
    {
      "cell_type": "code",
      "source": [
        "def delete_msg_history():\n",
        "  msg_history.clear()"
      ],
      "metadata": {
        "id": "gnKuyAUyd9IV"
      },
      "id": "gnKuyAUyd9IV",
      "execution_count": 13,
      "outputs": []
    },
    {
      "cell_type": "markdown",
      "source": [
        "======== | Chat with Botboi | ========"
      ],
      "metadata": {
        "id": "taLfje7ygQkJ"
      },
      "id": "taLfje7ygQkJ"
    },
    {
      "cell_type": "code",
      "source": [
        "chat()"
      ],
      "metadata": {
        "id": "myYDSf0hdnvy",
        "outputId": "0091b8f1-a04b-4cc3-b073-25c257cf9315",
        "colab": {
          "base_uri": "https://localhost:8080/"
        }
      },
      "id": "myYDSf0hdnvy",
      "execution_count": 14,
      "outputs": [
        {
          "output_type": "stream",
          "name": "stdout",
          "text": [
            "Hi, I am Eren Yeager. I hate, secretly love Mikasa.\n",
            "\n",
            "Last Input: Hi, I am Eren Yeager. I hate, secretly love Mikasa.\n",
            "\n",
            "----------------------------------------------------------------\n",
            "User: Hi, I am Eren Yeager. I hate, secretly love Mikasa.\n",
            "Botboi: Hello Eren! It's okay to have complex feelings towards someone. It's important to acknowledge and understand your emotions. If you need any advice or support, feel free to ask.\n"
          ]
        }
      ]
    },
    {
      "cell_type": "code",
      "source": [
        "chat()"
      ],
      "metadata": {
        "id": "O9Jvc__kej7r",
        "outputId": "4c9140f6-d446-462f-bde6-9b265ce6281c",
        "colab": {
          "base_uri": "https://localhost:8080/"
        }
      },
      "id": "O9Jvc__kej7r",
      "execution_count": 15,
      "outputs": [
        {
          "output_type": "stream",
          "name": "stdout",
          "text": [
            "Did you remember my name and who I love?\n",
            "\n",
            "Last Input: Did you remember my name and who I love?\n",
            "\n",
            "----------------------------------------------------------------\n",
            "User: Hi, I am Eren Yeager. I hate, secretly love Mikasa.\n",
            "Botboi: Hello Eren! It's okay to have complex feelings towards someone. It's important to acknowledge and understand your emotions. If you need any advice or support, feel free to ask.\n",
            "User: Did you remember my name and who I love?\n",
            "Botboi: Yes, you mentioned that your name is Eren Yeager and that you have conflicting feelings towards Mikasa. If you have any more questions or thoughts you'd like to share, feel free to do so.\n"
          ]
        }
      ]
    },
    {
      "cell_type": "markdown",
      "source": [
        "**As we can see our chatbot remembers previous conversation. Hence, message history updated successfully.**"
      ],
      "metadata": {
        "id": "WdSllPcziKWW"
      },
      "id": "WdSllPcziKWW"
    },
    {
      "cell_type": "code",
      "source": [
        "delete_msg_history()"
      ],
      "metadata": {
        "id": "6WF2ag-weGKP"
      },
      "id": "6WF2ag-weGKP",
      "execution_count": 16,
      "outputs": []
    },
    {
      "cell_type": "code",
      "source": [
        "chat()"
      ],
      "metadata": {
        "id": "KxGp7K7HeHKi",
        "outputId": "0186d147-d3a5-4188-91f4-743b538fde2c",
        "colab": {
          "base_uri": "https://localhost:8080/"
        }
      },
      "id": "KxGp7K7HeHKi",
      "execution_count": 17,
      "outputs": [
        {
          "output_type": "stream",
          "name": "stdout",
          "text": [
            "what's my name?\n",
            "\n",
            "Last Input: what's my name?\n",
            "\n",
            "----------------------------------------------------------------\n",
            "User: what's my name?\n",
            "Botboi: I'm sorry, I do not have access to that information. Can you please provide me with your name?\n"
          ]
        }
      ]
    },
    {
      "cell_type": "markdown",
      "source": [
        "**It also deletes the user's message history successfully.**"
      ],
      "metadata": {
        "id": "UKJ2hWvjbokZ"
      },
      "id": "UKJ2hWvjbokZ"
    }
  ],
  "metadata": {
    "kernelspec": {
      "display_name": "Python 3 (ipykernel)",
      "language": "python",
      "name": "python3"
    },
    "language_info": {
      "codemirror_mode": {
        "name": "ipython",
        "version": 3
      },
      "file_extension": ".py",
      "mimetype": "text/x-python",
      "name": "python",
      "nbconvert_exporter": "python",
      "pygments_lexer": "ipython3",
      "version": "3.9.19"
    },
    "colab": {
      "provenance": []
    }
  },
  "nbformat": 4,
  "nbformat_minor": 5
}