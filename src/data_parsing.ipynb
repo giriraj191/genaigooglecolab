{
  "cells": [
    {
      "cell_type": "markdown",
      "metadata": {
        "id": "GbQmAZXFHUDh"
      },
      "source": [
        "# Data Parsing | Practice"
      ]
    },
    {
      "cell_type": "markdown",
      "source": [
        "Installing required libraries"
      ],
      "metadata": {
        "id": "BPJCbvjGMMlN"
      }
    },
    {
      "cell_type": "code",
      "source": [
        "!pip install langchain-community\n",
        "!pip install openai\n",
        "!pip install python-dotenv"
      ],
      "metadata": {
        "id": "Ts6z2nuPMMWy"
      },
      "execution_count": null,
      "outputs": []
    },
    {
      "cell_type": "code",
      "source": [
        "!pip install \"unstructured[all-docs]\""
      ],
      "metadata": {
        "id": "PLCvqHK80_UW"
      },
      "execution_count": null,
      "outputs": []
    },
    {
      "cell_type": "code",
      "source": [
        "!pip install jq"
      ],
      "metadata": {
        "id": "rInx1QCbBbdf"
      },
      "execution_count": null,
      "outputs": []
    },
    {
      "cell_type": "markdown",
      "source": [
        "Importing required libraries"
      ],
      "metadata": {
        "id": "EL4WekPdL9aE"
      }
    },
    {
      "cell_type": "code",
      "source": [
        "import pandas as pd\n",
        "import numpy as np\n",
        "import requests\n",
        "import json"
      ],
      "metadata": {
        "id": "I3tQwgpML8nu"
      },
      "execution_count": 92,
      "outputs": []
    },
    {
      "cell_type": "code",
      "source": [
        "from itertools import islice\n",
        "from PIL import Image\n",
        "from io import BytesIO\n",
        "from langchain.document_loaders import CSVLoader, TextLoader, JSONLoader\n",
        "from unstructured.partition.csv import partition_csv\n",
        "from unstructured.partition.json import partition_json\n",
        "from unstructured.partition.text import partition_text\n",
        "from IPython.core.display import display, HTML"
      ],
      "metadata": {
        "id": "OozUFbxpRAav"
      },
      "execution_count": 42,
      "outputs": []
    },
    {
      "cell_type": "markdown",
      "source": [
        "## CSV / EXCEL"
      ],
      "metadata": {
        "id": "hmCUZTkPHXJ7"
      }
    },
    {
      "cell_type": "markdown",
      "source": [
        "### A. pandas - `read_csv()`"
      ],
      "metadata": {
        "id": "zwljeLSMJfY6"
      }
    },
    {
      "cell_type": "code",
      "source": [
        "FILE_PATH = '/content/csv/customers-100.csv'"
      ],
      "metadata": {
        "id": "ycWpbDbSNuKF"
      },
      "execution_count": 3,
      "outputs": []
    },
    {
      "cell_type": "code",
      "source": [
        "df = pd.read_csv(FILE_PATH)\n",
        "df.head(3)"
      ],
      "metadata": {
        "colab": {
          "base_uri": "https://localhost:8080/",
          "height": 250
        },
        "id": "2sKB5DfVO1VS",
        "outputId": "c16b536e-5cf8-4187-98a9-eb2051e525ac"
      },
      "execution_count": 4,
      "outputs": [
        {
          "output_type": "execute_result",
          "data": {
            "text/plain": [
              "   Index      Customer Id First Name Last Name          Company  \\\n",
              "0      1  DD37Cf93aecA6Dc     Sheryl    Baxter  Rasmussen Group   \n",
              "1      2  1Ef7b82A4CAAD10    Preston    Lozano      Vega-Gentry   \n",
              "2      3  6F94879bDAfE5a6        Roy     Berry    Murillo-Perry   \n",
              "\n",
              "                City              Country          Phone 1  \\\n",
              "0       East Leonard                Chile     229.077.5154   \n",
              "1  East Jimmychester             Djibouti       5153435776   \n",
              "2      Isabelborough  Antigua and Barbuda  +1-539-402-0259   \n",
              "\n",
              "               Phone 2                     Email Subscription Date  \\\n",
              "0     397.884.0519x718  zunigavanessa@smith.info        2020-08-24   \n",
              "1     686-620-1820x944           vmata@colon.com        2021-04-23   \n",
              "2  (496)978-3969x58947       beckycarr@hogan.com        2020-03-25   \n",
              "\n",
              "                      Website  \n",
              "0  http://www.stephenson.com/  \n",
              "1       http://www.hobbs.com/  \n",
              "2    http://www.lawrence.com/  "
            ],
            "text/html": [
              "\n",
              "  <div id=\"df-c5bc51d8-1d53-478d-aea3-f3cb22e67897\" class=\"colab-df-container\">\n",
              "    <div>\n",
              "<style scoped>\n",
              "    .dataframe tbody tr th:only-of-type {\n",
              "        vertical-align: middle;\n",
              "    }\n",
              "\n",
              "    .dataframe tbody tr th {\n",
              "        vertical-align: top;\n",
              "    }\n",
              "\n",
              "    .dataframe thead th {\n",
              "        text-align: right;\n",
              "    }\n",
              "</style>\n",
              "<table border=\"1\" class=\"dataframe\">\n",
              "  <thead>\n",
              "    <tr style=\"text-align: right;\">\n",
              "      <th></th>\n",
              "      <th>Index</th>\n",
              "      <th>Customer Id</th>\n",
              "      <th>First Name</th>\n",
              "      <th>Last Name</th>\n",
              "      <th>Company</th>\n",
              "      <th>City</th>\n",
              "      <th>Country</th>\n",
              "      <th>Phone 1</th>\n",
              "      <th>Phone 2</th>\n",
              "      <th>Email</th>\n",
              "      <th>Subscription Date</th>\n",
              "      <th>Website</th>\n",
              "    </tr>\n",
              "  </thead>\n",
              "  <tbody>\n",
              "    <tr>\n",
              "      <th>0</th>\n",
              "      <td>1</td>\n",
              "      <td>DD37Cf93aecA6Dc</td>\n",
              "      <td>Sheryl</td>\n",
              "      <td>Baxter</td>\n",
              "      <td>Rasmussen Group</td>\n",
              "      <td>East Leonard</td>\n",
              "      <td>Chile</td>\n",
              "      <td>229.077.5154</td>\n",
              "      <td>397.884.0519x718</td>\n",
              "      <td>zunigavanessa@smith.info</td>\n",
              "      <td>2020-08-24</td>\n",
              "      <td>http://www.stephenson.com/</td>\n",
              "    </tr>\n",
              "    <tr>\n",
              "      <th>1</th>\n",
              "      <td>2</td>\n",
              "      <td>1Ef7b82A4CAAD10</td>\n",
              "      <td>Preston</td>\n",
              "      <td>Lozano</td>\n",
              "      <td>Vega-Gentry</td>\n",
              "      <td>East Jimmychester</td>\n",
              "      <td>Djibouti</td>\n",
              "      <td>5153435776</td>\n",
              "      <td>686-620-1820x944</td>\n",
              "      <td>vmata@colon.com</td>\n",
              "      <td>2021-04-23</td>\n",
              "      <td>http://www.hobbs.com/</td>\n",
              "    </tr>\n",
              "    <tr>\n",
              "      <th>2</th>\n",
              "      <td>3</td>\n",
              "      <td>6F94879bDAfE5a6</td>\n",
              "      <td>Roy</td>\n",
              "      <td>Berry</td>\n",
              "      <td>Murillo-Perry</td>\n",
              "      <td>Isabelborough</td>\n",
              "      <td>Antigua and Barbuda</td>\n",
              "      <td>+1-539-402-0259</td>\n",
              "      <td>(496)978-3969x58947</td>\n",
              "      <td>beckycarr@hogan.com</td>\n",
              "      <td>2020-03-25</td>\n",
              "      <td>http://www.lawrence.com/</td>\n",
              "    </tr>\n",
              "  </tbody>\n",
              "</table>\n",
              "</div>\n",
              "    <div class=\"colab-df-buttons\">\n",
              "\n",
              "  <div class=\"colab-df-container\">\n",
              "    <button class=\"colab-df-convert\" onclick=\"convertToInteractive('df-c5bc51d8-1d53-478d-aea3-f3cb22e67897')\"\n",
              "            title=\"Convert this dataframe to an interactive table.\"\n",
              "            style=\"display:none;\">\n",
              "\n",
              "  <svg xmlns=\"http://www.w3.org/2000/svg\" height=\"24px\" viewBox=\"0 -960 960 960\">\n",
              "    <path d=\"M120-120v-720h720v720H120Zm60-500h600v-160H180v160Zm220 220h160v-160H400v160Zm0 220h160v-160H400v160ZM180-400h160v-160H180v160Zm440 0h160v-160H620v160ZM180-180h160v-160H180v160Zm440 0h160v-160H620v160Z\"/>\n",
              "  </svg>\n",
              "    </button>\n",
              "\n",
              "  <style>\n",
              "    .colab-df-container {\n",
              "      display:flex;\n",
              "      gap: 12px;\n",
              "    }\n",
              "\n",
              "    .colab-df-convert {\n",
              "      background-color: #E8F0FE;\n",
              "      border: none;\n",
              "      border-radius: 50%;\n",
              "      cursor: pointer;\n",
              "      display: none;\n",
              "      fill: #1967D2;\n",
              "      height: 32px;\n",
              "      padding: 0 0 0 0;\n",
              "      width: 32px;\n",
              "    }\n",
              "\n",
              "    .colab-df-convert:hover {\n",
              "      background-color: #E2EBFA;\n",
              "      box-shadow: 0px 1px 2px rgba(60, 64, 67, 0.3), 0px 1px 3px 1px rgba(60, 64, 67, 0.15);\n",
              "      fill: #174EA6;\n",
              "    }\n",
              "\n",
              "    .colab-df-buttons div {\n",
              "      margin-bottom: 4px;\n",
              "    }\n",
              "\n",
              "    [theme=dark] .colab-df-convert {\n",
              "      background-color: #3B4455;\n",
              "      fill: #D2E3FC;\n",
              "    }\n",
              "\n",
              "    [theme=dark] .colab-df-convert:hover {\n",
              "      background-color: #434B5C;\n",
              "      box-shadow: 0px 1px 3px 1px rgba(0, 0, 0, 0.15);\n",
              "      filter: drop-shadow(0px 1px 2px rgba(0, 0, 0, 0.3));\n",
              "      fill: #FFFFFF;\n",
              "    }\n",
              "  </style>\n",
              "\n",
              "    <script>\n",
              "      const buttonEl =\n",
              "        document.querySelector('#df-c5bc51d8-1d53-478d-aea3-f3cb22e67897 button.colab-df-convert');\n",
              "      buttonEl.style.display =\n",
              "        google.colab.kernel.accessAllowed ? 'block' : 'none';\n",
              "\n",
              "      async function convertToInteractive(key) {\n",
              "        const element = document.querySelector('#df-c5bc51d8-1d53-478d-aea3-f3cb22e67897');\n",
              "        const dataTable =\n",
              "          await google.colab.kernel.invokeFunction('convertToInteractive',\n",
              "                                                    [key], {});\n",
              "        if (!dataTable) return;\n",
              "\n",
              "        const docLinkHtml = 'Like what you see? Visit the ' +\n",
              "          '<a target=\"_blank\" href=https://colab.research.google.com/notebooks/data_table.ipynb>data table notebook</a>'\n",
              "          + ' to learn more about interactive tables.';\n",
              "        element.innerHTML = '';\n",
              "        dataTable['output_type'] = 'display_data';\n",
              "        await google.colab.output.renderOutput(dataTable, element);\n",
              "        const docLink = document.createElement('div');\n",
              "        docLink.innerHTML = docLinkHtml;\n",
              "        element.appendChild(docLink);\n",
              "      }\n",
              "    </script>\n",
              "  </div>\n",
              "\n",
              "\n",
              "<div id=\"df-af852e5f-e740-4236-9030-c8bca0cb075e\">\n",
              "  <button class=\"colab-df-quickchart\" onclick=\"quickchart('df-af852e5f-e740-4236-9030-c8bca0cb075e')\"\n",
              "            title=\"Suggest charts\"\n",
              "            style=\"display:none;\">\n",
              "\n",
              "<svg xmlns=\"http://www.w3.org/2000/svg\" height=\"24px\"viewBox=\"0 0 24 24\"\n",
              "     width=\"24px\">\n",
              "    <g>\n",
              "        <path d=\"M19 3H5c-1.1 0-2 .9-2 2v14c0 1.1.9 2 2 2h14c1.1 0 2-.9 2-2V5c0-1.1-.9-2-2-2zM9 17H7v-7h2v7zm4 0h-2V7h2v10zm4 0h-2v-4h2v4z\"/>\n",
              "    </g>\n",
              "</svg>\n",
              "  </button>\n",
              "\n",
              "<style>\n",
              "  .colab-df-quickchart {\n",
              "      --bg-color: #E8F0FE;\n",
              "      --fill-color: #1967D2;\n",
              "      --hover-bg-color: #E2EBFA;\n",
              "      --hover-fill-color: #174EA6;\n",
              "      --disabled-fill-color: #AAA;\n",
              "      --disabled-bg-color: #DDD;\n",
              "  }\n",
              "\n",
              "  [theme=dark] .colab-df-quickchart {\n",
              "      --bg-color: #3B4455;\n",
              "      --fill-color: #D2E3FC;\n",
              "      --hover-bg-color: #434B5C;\n",
              "      --hover-fill-color: #FFFFFF;\n",
              "      --disabled-bg-color: #3B4455;\n",
              "      --disabled-fill-color: #666;\n",
              "  }\n",
              "\n",
              "  .colab-df-quickchart {\n",
              "    background-color: var(--bg-color);\n",
              "    border: none;\n",
              "    border-radius: 50%;\n",
              "    cursor: pointer;\n",
              "    display: none;\n",
              "    fill: var(--fill-color);\n",
              "    height: 32px;\n",
              "    padding: 0;\n",
              "    width: 32px;\n",
              "  }\n",
              "\n",
              "  .colab-df-quickchart:hover {\n",
              "    background-color: var(--hover-bg-color);\n",
              "    box-shadow: 0 1px 2px rgba(60, 64, 67, 0.3), 0 1px 3px 1px rgba(60, 64, 67, 0.15);\n",
              "    fill: var(--button-hover-fill-color);\n",
              "  }\n",
              "\n",
              "  .colab-df-quickchart-complete:disabled,\n",
              "  .colab-df-quickchart-complete:disabled:hover {\n",
              "    background-color: var(--disabled-bg-color);\n",
              "    fill: var(--disabled-fill-color);\n",
              "    box-shadow: none;\n",
              "  }\n",
              "\n",
              "  .colab-df-spinner {\n",
              "    border: 2px solid var(--fill-color);\n",
              "    border-color: transparent;\n",
              "    border-bottom-color: var(--fill-color);\n",
              "    animation:\n",
              "      spin 1s steps(1) infinite;\n",
              "  }\n",
              "\n",
              "  @keyframes spin {\n",
              "    0% {\n",
              "      border-color: transparent;\n",
              "      border-bottom-color: var(--fill-color);\n",
              "      border-left-color: var(--fill-color);\n",
              "    }\n",
              "    20% {\n",
              "      border-color: transparent;\n",
              "      border-left-color: var(--fill-color);\n",
              "      border-top-color: var(--fill-color);\n",
              "    }\n",
              "    30% {\n",
              "      border-color: transparent;\n",
              "      border-left-color: var(--fill-color);\n",
              "      border-top-color: var(--fill-color);\n",
              "      border-right-color: var(--fill-color);\n",
              "    }\n",
              "    40% {\n",
              "      border-color: transparent;\n",
              "      border-right-color: var(--fill-color);\n",
              "      border-top-color: var(--fill-color);\n",
              "    }\n",
              "    60% {\n",
              "      border-color: transparent;\n",
              "      border-right-color: var(--fill-color);\n",
              "    }\n",
              "    80% {\n",
              "      border-color: transparent;\n",
              "      border-right-color: var(--fill-color);\n",
              "      border-bottom-color: var(--fill-color);\n",
              "    }\n",
              "    90% {\n",
              "      border-color: transparent;\n",
              "      border-bottom-color: var(--fill-color);\n",
              "    }\n",
              "  }\n",
              "</style>\n",
              "\n",
              "  <script>\n",
              "    async function quickchart(key) {\n",
              "      const quickchartButtonEl =\n",
              "        document.querySelector('#' + key + ' button');\n",
              "      quickchartButtonEl.disabled = true;  // To prevent multiple clicks.\n",
              "      quickchartButtonEl.classList.add('colab-df-spinner');\n",
              "      try {\n",
              "        const charts = await google.colab.kernel.invokeFunction(\n",
              "            'suggestCharts', [key], {});\n",
              "      } catch (error) {\n",
              "        console.error('Error during call to suggestCharts:', error);\n",
              "      }\n",
              "      quickchartButtonEl.classList.remove('colab-df-spinner');\n",
              "      quickchartButtonEl.classList.add('colab-df-quickchart-complete');\n",
              "    }\n",
              "    (() => {\n",
              "      let quickchartButtonEl =\n",
              "        document.querySelector('#df-af852e5f-e740-4236-9030-c8bca0cb075e button');\n",
              "      quickchartButtonEl.style.display =\n",
              "        google.colab.kernel.accessAllowed ? 'block' : 'none';\n",
              "    })();\n",
              "  </script>\n",
              "</div>\n",
              "\n",
              "    </div>\n",
              "  </div>\n"
            ],
            "application/vnd.google.colaboratory.intrinsic+json": {
              "type": "dataframe",
              "variable_name": "df",
              "summary": "{\n  \"name\": \"df\",\n  \"rows\": 100,\n  \"fields\": [\n    {\n      \"column\": \"Index\",\n      \"properties\": {\n        \"dtype\": \"number\",\n        \"std\": 29,\n        \"min\": 1,\n        \"max\": 100,\n        \"num_unique_values\": 100,\n        \"samples\": [\n          84,\n          54,\n          71\n        ],\n        \"semantic_type\": \"\",\n        \"description\": \"\"\n      }\n    },\n    {\n      \"column\": \"Customer Id\",\n      \"properties\": {\n        \"dtype\": \"string\",\n        \"num_unique_values\": 100,\n        \"samples\": [\n          \"78C06E9b6B3DF20\",\n          \"c09952De6Cda8aA\",\n          \"CBCd2Ac8E3eBDF9\"\n        ],\n        \"semantic_type\": \"\",\n        \"description\": \"\"\n      }\n    },\n    {\n      \"column\": \"First Name\",\n      \"properties\": {\n        \"dtype\": \"string\",\n        \"num_unique_values\": 93,\n        \"samples\": [\n          \"Luis\",\n          \"Shane\",\n          \"Kathy\"\n        ],\n        \"semantic_type\": \"\",\n        \"description\": \"\"\n      }\n    },\n    {\n      \"column\": \"Last Name\",\n      \"properties\": {\n        \"dtype\": \"string\",\n        \"num_unique_values\": 97,\n        \"samples\": [\n          \"Hutchinson\",\n          \"Dunn\",\n          \"Atkinson\"\n        ],\n        \"semantic_type\": \"\",\n        \"description\": \"\"\n      }\n    },\n    {\n      \"column\": \"Company\",\n      \"properties\": {\n        \"dtype\": \"string\",\n        \"num_unique_values\": 99,\n        \"samples\": [\n          \"Caldwell Group\",\n          \"Monroe PLC\",\n          \"Ware, Burns and Oneal\"\n        ],\n        \"semantic_type\": \"\",\n        \"description\": \"\"\n      }\n    },\n    {\n      \"column\": \"City\",\n      \"properties\": {\n        \"dtype\": \"string\",\n        \"num_unique_values\": 100,\n        \"samples\": [\n          \"South Joshuashire\",\n          \"New Deborah\",\n          \"Nicolasfort\"\n        ],\n        \"semantic_type\": \"\",\n        \"description\": \"\"\n      }\n    },\n    {\n      \"column\": \"Country\",\n      \"properties\": {\n        \"dtype\": \"string\",\n        \"num_unique_values\": 85,\n        \"samples\": [\n          \"Bhutan\",\n          \"Chile\",\n          \"Dominica\"\n        ],\n        \"semantic_type\": \"\",\n        \"description\": \"\"\n      }\n    },\n    {\n      \"column\": \"Phone 1\",\n      \"properties\": {\n        \"dtype\": \"string\",\n        \"num_unique_values\": 100,\n        \"samples\": [\n          \"8275702958\",\n          \"001-622-948-3641x24810\",\n          \"078-900-4760x76668\"\n        ],\n        \"semantic_type\": \"\",\n        \"description\": \"\"\n      }\n    },\n    {\n      \"column\": \"Phone 2\",\n      \"properties\": {\n        \"dtype\": \"string\",\n        \"num_unique_values\": 100,\n        \"samples\": [\n          \"(804)842-4715\",\n          \"001-731-168-2893x8891\",\n          \"414-112-8700x68751\"\n        ],\n        \"semantic_type\": \"\",\n        \"description\": \"\"\n      }\n    },\n    {\n      \"column\": \"Email\",\n      \"properties\": {\n        \"dtype\": \"string\",\n        \"num_unique_values\": 100,\n        \"samples\": [\n          \"justinwalters@jimenez.com\",\n          \"clinton85@colon-arias.org\",\n          \"lee48@manning.com\"\n        ],\n        \"semantic_type\": \"\",\n        \"description\": \"\"\n      }\n    },\n    {\n      \"column\": \"Subscription Date\",\n      \"properties\": {\n        \"dtype\": \"object\",\n        \"num_unique_values\": 96,\n        \"samples\": [\n          \"2020-02-18\",\n          \"2021-09-12\",\n          \"2020-10-21\"\n        ],\n        \"semantic_type\": \"\",\n        \"description\": \"\"\n      }\n    },\n    {\n      \"column\": \"Website\",\n      \"properties\": {\n        \"dtype\": \"string\",\n        \"num_unique_values\": 100,\n        \"samples\": [\n          \"http://www.garner-oliver.com/\",\n          \"https://kim.com/\",\n          \"https://ramsey.org/\"\n        ],\n        \"semantic_type\": \"\",\n        \"description\": \"\"\n      }\n    }\n  ]\n}"
            }
          },
          "metadata": {},
          "execution_count": 4
        }
      ]
    },
    {
      "cell_type": "code",
      "source": [
        "URL = df.Website[2]\n",
        "\n",
        "try:\n",
        "  response = requests.get(URL)\n",
        "  print(response)\n",
        "except:\n",
        "  print(\"Failed to get response!\")"
      ],
      "metadata": {
        "colab": {
          "base_uri": "https://localhost:8080/"
        },
        "id": "9kzXiUkzO4oj",
        "outputId": "0933136f-3d5f-488a-f336-bc41364c6944"
      },
      "execution_count": 5,
      "outputs": [
        {
          "output_type": "stream",
          "name": "stdout",
          "text": [
            "<Response [200]>\n"
          ]
        }
      ]
    },
    {
      "cell_type": "markdown",
      "source": [
        "### B. LangChain - `CSVLoader()`"
      ],
      "metadata": {
        "id": "BZISGGeVP7q-"
      }
    },
    {
      "cell_type": "code",
      "source": [
        "FILE_PATH = '/content/csv/imdb_top_1000.csv'"
      ],
      "metadata": {
        "id": "SC6rJVcMRkRO"
      },
      "execution_count": 6,
      "outputs": []
    },
    {
      "cell_type": "code",
      "source": [
        "loader = CSVLoader(FILE_PATH)\n",
        "docs = loader.load()\n",
        "print(type(docs))\n",
        "print(len(docs))\n",
        "\n",
        "for doc in docs[:15]:\n",
        "  print(doc.page_content[:15]) # all column-value as single line text\n",
        "  print(doc.metadata)"
      ],
      "metadata": {
        "colab": {
          "base_uri": "https://localhost:8080/"
        },
        "id": "w0AYFibKPVml",
        "outputId": "54f4119d-a692-4783-c461-a94c38b616f5"
      },
      "execution_count": 7,
      "outputs": [
        {
          "output_type": "stream",
          "name": "stdout",
          "text": [
            "<class 'list'>\n",
            "1000\n",
            "Poster_Link: ht\n",
            "{'source': '/content/csv/imdb_top_1000.csv', 'row': 0}\n",
            "Poster_Link: ht\n",
            "{'source': '/content/csv/imdb_top_1000.csv', 'row': 1}\n",
            "Poster_Link: ht\n",
            "{'source': '/content/csv/imdb_top_1000.csv', 'row': 2}\n",
            "Poster_Link: ht\n",
            "{'source': '/content/csv/imdb_top_1000.csv', 'row': 3}\n",
            "Poster_Link: ht\n",
            "{'source': '/content/csv/imdb_top_1000.csv', 'row': 4}\n",
            "Poster_Link: ht\n",
            "{'source': '/content/csv/imdb_top_1000.csv', 'row': 5}\n",
            "Poster_Link: ht\n",
            "{'source': '/content/csv/imdb_top_1000.csv', 'row': 6}\n",
            "Poster_Link: ht\n",
            "{'source': '/content/csv/imdb_top_1000.csv', 'row': 7}\n",
            "Poster_Link: ht\n",
            "{'source': '/content/csv/imdb_top_1000.csv', 'row': 8}\n",
            "Poster_Link: ht\n",
            "{'source': '/content/csv/imdb_top_1000.csv', 'row': 9}\n",
            "Poster_Link: ht\n",
            "{'source': '/content/csv/imdb_top_1000.csv', 'row': 10}\n",
            "Poster_Link: ht\n",
            "{'source': '/content/csv/imdb_top_1000.csv', 'row': 11}\n",
            "Poster_Link: ht\n",
            "{'source': '/content/csv/imdb_top_1000.csv', 'row': 12}\n",
            "Poster_Link: ht\n",
            "{'source': '/content/csv/imdb_top_1000.csv', 'row': 13}\n",
            "Poster_Link: ht\n",
            "{'source': '/content/csv/imdb_top_1000.csv', 'row': 14}\n"
          ]
        }
      ]
    },
    {
      "cell_type": "markdown",
      "source": [
        "**Using `lazy_loader()` - returns a generator, saves memory : )**"
      ],
      "metadata": {
        "id": "S-eWVTIhR3wt"
      }
    },
    {
      "cell_type": "code",
      "source": [
        "loader = CSVLoader(\n",
        "              FILE_PATH,\n",
        "              csv_args = {'delimiter': ','}\n",
        "            )\n",
        "docs = loader.lazy_load()"
      ],
      "metadata": {
        "id": "_BLga9piTyaa"
      },
      "execution_count": 8,
      "outputs": []
    },
    {
      "cell_type": "code",
      "source": [
        "print(type(docs))\n",
        "\n",
        "for i, _ in enumerate(islice(docs, 15)):\n",
        "  doc = next(docs) # because docs is a generator object\n",
        "  print(doc.page_content[:15]) # all column-value as single line text\n",
        "  print(doc.metadata)"
      ],
      "metadata": {
        "colab": {
          "base_uri": "https://localhost:8080/"
        },
        "id": "lgHhf6sYT62e",
        "outputId": "0b13aec0-567b-479a-9af4-268af0159650"
      },
      "execution_count": 9,
      "outputs": [
        {
          "output_type": "stream",
          "name": "stdout",
          "text": [
            "<class 'generator'>\n",
            "Poster_Link: ht\n",
            "{'source': '/content/csv/imdb_top_1000.csv', 'row': 1}\n",
            "Poster_Link: ht\n",
            "{'source': '/content/csv/imdb_top_1000.csv', 'row': 3}\n",
            "Poster_Link: ht\n",
            "{'source': '/content/csv/imdb_top_1000.csv', 'row': 5}\n",
            "Poster_Link: ht\n",
            "{'source': '/content/csv/imdb_top_1000.csv', 'row': 7}\n",
            "Poster_Link: ht\n",
            "{'source': '/content/csv/imdb_top_1000.csv', 'row': 9}\n",
            "Poster_Link: ht\n",
            "{'source': '/content/csv/imdb_top_1000.csv', 'row': 11}\n",
            "Poster_Link: ht\n",
            "{'source': '/content/csv/imdb_top_1000.csv', 'row': 13}\n",
            "Poster_Link: ht\n",
            "{'source': '/content/csv/imdb_top_1000.csv', 'row': 15}\n",
            "Poster_Link: ht\n",
            "{'source': '/content/csv/imdb_top_1000.csv', 'row': 17}\n",
            "Poster_Link: ht\n",
            "{'source': '/content/csv/imdb_top_1000.csv', 'row': 19}\n",
            "Poster_Link: ht\n",
            "{'source': '/content/csv/imdb_top_1000.csv', 'row': 21}\n",
            "Poster_Link: ht\n",
            "{'source': '/content/csv/imdb_top_1000.csv', 'row': 23}\n",
            "Poster_Link: ht\n",
            "{'source': '/content/csv/imdb_top_1000.csv', 'row': 25}\n",
            "Poster_Link: ht\n",
            "{'source': '/content/csv/imdb_top_1000.csv', 'row': 27}\n",
            "Poster_Link: ht\n",
            "{'source': '/content/csv/imdb_top_1000.csv', 'row': 29}\n"
          ]
        }
      ]
    },
    {
      "cell_type": "markdown",
      "source": [
        "**Showing Images from Links**   "
      ],
      "metadata": {
        "id": "x9RJk1HVVIo7"
      }
    },
    {
      "cell_type": "code",
      "source": [
        "loader = CSVLoader(FILE_PATH)\n",
        "docs = loader.load()"
      ],
      "metadata": {
        "id": "syiEYwHqaIJ4"
      },
      "execution_count": 10,
      "outputs": []
    },
    {
      "cell_type": "code",
      "source": [
        "column_name = \"Poster_Link\"  # Replace with your column name\n",
        "cnt = 1\n",
        "for doc in docs[:5]:\n",
        "    lines = doc.page_content.split(\"\\n\")\n",
        "    for line in lines:\n",
        "        if line.startswith(f\"{column_name}:\"):\n",
        "            image_link = line.split(\": \", 1)[1].strip()  # Extract the value and strip spaces\n",
        "            try:\n",
        "                response = requests.get(image_link)\n",
        "                if response.status_code != 200:\n",
        "                    print(f\"HTTP Error {response.status_code} for {image_link}\")\n",
        "                    continue\n",
        "                if 'image' not in response.headers.get('Content-Type', ''):\n",
        "                    print(f\"Not an image URL: {image_link}\")\n",
        "                    continue\n",
        "                image = Image.open(BytesIO(response.content))\n",
        "\n",
        "                # image.show() # not working so, saving instead\n",
        "                # image.save(f\"{image_link.split('/')[-1]}.jpg\")\n",
        "\n",
        "                image.save(f\"{cnt}.jpg\")\n",
        "                cnt += 1\n",
        "\n",
        "            except Exception as e:\n",
        "                print(f\"Failed to load image: {image_link}, Error: {e}\")\n"
      ],
      "metadata": {
        "id": "wG_JyQtrbaE2"
      },
      "execution_count": 11,
      "outputs": []
    },
    {
      "cell_type": "markdown",
      "source": [
        "### C. Unstructured - `partition_csv()`"
      ],
      "metadata": {
        "id": "lARu25CK0jfH"
      }
    },
    {
      "cell_type": "code",
      "source": [
        "elements = partition_csv(filename=\"/content/csv/people-100.csv\")\n",
        "print(type(elements), len(elements))\n",
        "\n",
        "elements[0].metadata\n",
        "print(vars(elements[0].metadata))"
      ],
      "metadata": {
        "colab": {
          "base_uri": "https://localhost:8080/"
        },
        "id": "AwjWjNLf0xur",
        "outputId": "c53c0e37-a431-4f8e-d58b-6998cfd278ba"
      },
      "execution_count": 26,
      "outputs": [
        {
          "output_type": "stream",
          "name": "stdout",
          "text": [
            "<class 'list'> 1\n",
            "{'file_directory': '/content/csv', 'filename': 'people-100.csv', 'last_modified': '2024-12-27T03:48:29', 'text_as_html': '<table><tr><td>Index</td><td>User Id</td><td>First Name</td><td>Last Name</td><td>Sex</td><td>Email</td><td>Phone</td><td>Date of birth</td><td>Job Title</td></tr><tr><td>1</td><td>88F7B33d2bcf9f5</td><td>Shelby</td><td>Terrell</td><td>Male</td><td>elijah57@example.net</td><td>001-084-906-7849x73518</td><td>1945-10-26</td><td>Games developer</td></tr><tr><td>2</td><td>f90cD3E76f1A9b9</td><td>Phillip</td><td>Summers</td><td>Female</td><td>bethany14@example.com</td><td>214.112.6044x4913</td><td>1910-03-24</td><td>Phytotherapist</td></tr><tr><td>3</td><td>DbeAb8CcdfeFC2c</td><td>Kristine</td><td>Travis</td><td>Male</td><td>bthompson@example.com</td><td>277.609.7938</td><td>1992-07-02</td><td>Homeopath</td></tr><tr><td>4</td><td>A31Bee3c201ef58</td><td>Yesenia</td><td>Martinez</td><td>Male</td><td>kaitlinkaiser@example.com</td><td>584.094.6111</td><td>2017-08-03</td><td>Market researcher</td></tr><tr><td>5</td><td>1bA7A3dc874da3c</td><td>Lori</td><td>Todd</td><td>Male</td><td>buchananmanuel@example.net</td><td>689-207-3558x7233</td><td>1938-12-01</td><td>Veterinary surgeon</td></tr><tr><td>6</td><td>bfDD7CDEF5D865B</td><td>Erin</td><td>Day</td><td>Male</td><td>tconner@example.org</td><td>001-171-649-9856x5553</td><td>2015-10-28</td><td>Waste management officer</td></tr><tr><td>7</td><td>bE9EEf34cB72AF7</td><td>Katherine</td><td>Buck</td><td>Female</td><td>conniecowan@example.com</td><td>+1-773-151-6685x49162</td><td>1989-01-22</td><td>Intelligence analyst</td></tr><tr><td>8</td><td>2EFC6A4e77FaEaC</td><td>Ricardo</td><td>Hinton</td><td>Male</td><td>wyattbishop@example.com</td><td>001-447-699-7998x88612</td><td>1924-03-26</td><td>Hydrogeologist</td></tr><tr><td>9</td><td>baDcC4DeefD8dEB</td><td>Dave</td><td>Farrell</td><td>Male</td><td>nmccann@example.net</td><td>603-428-2429x27392</td><td>2018-10-06</td><td>Lawyer</td></tr><tr><td>10</td><td>8e4FB470FE19bF0</td><td>Isaiah</td><td>Downs</td><td>Male</td><td>virginiaterrell@example.org</td><td>+1-511-372-1544x8206</td><td>1964-09-20</td><td>Engineer, site</td></tr><tr><td>11</td><td>BF0BbA03C29Bb3b</td><td>Sheila</td><td>Ross</td><td>Female</td><td>huangcathy@example.com</td><td>895.881.4746</td><td>2008-03-20</td><td>Advertising account executive</td></tr><tr><td>12</td><td>F738c69fB34E62E</td><td>Stacy</td><td>Newton</td><td>Male</td><td>rayleroy@example.org</td><td>710.673.3213x80335</td><td>1980-10-20</td><td>Warden/ranger</td></tr><tr><td>13</td><td>C03fDADdAadAdCe</td><td>Mandy</td><td>Blake</td><td>Male</td><td>jefferynoble@example.org</td><td>(992)466-1305x4947</td><td>2007-12-08</td><td>Scientist, clinical (histocompatibility and immunogenetics)</td></tr><tr><td>14</td><td>b759b74BD1dE80d</td><td>Bridget</td><td>Nash</td><td>Female</td><td>mercedes44@example.com</td><td>(216)627-8359</td><td>2004-06-28</td><td>Social worker</td></tr><tr><td>15</td><td>1F0B7D65A00DAF9</td><td>Crystal</td><td>Farmer</td><td>Male</td><td>pmiranda@example.org</td><td>+1-024-377-5391</td><td>1992-03-09</td><td>Agricultural consultant</td></tr><tr><td>16</td><td>50Bb061cB30B461</td><td>Thomas</td><td>Knight</td><td>Female</td><td>braunpriscilla@example.net</td><td>+1-360-880-0766</td><td>2006-02-18</td><td>Sport and exercise psychologist</td></tr><tr><td>17</td><td>D6dbA5308fEC4BC</td><td>Maurice</td><td>Rangel</td><td>Male</td><td>sheenabanks@example.com</td><td>(246)187-4969</td><td>2004-08-20</td><td>Secretary/administrator</td></tr><tr><td>18</td><td>311D775990f066d</td><td>Frank</td><td>Meadows</td><td>Male</td><td>gbrewer@example.org</td><td>429.965.3902x4447</td><td>2008-09-16</td><td>Audiological scientist</td></tr><tr><td>19</td><td>7F7E1BAcb0C9AFf</td><td>Alvin</td><td>Paul</td><td>Male</td><td>gilbertdonaldson@example.com</td><td>219.436.0887x07551</td><td>1949-05-12</td><td>Teacher, adult education</td></tr><tr><td>20</td><td>88473e15D5c3cD0</td><td>Jared</td><td>Mitchell</td><td>Female</td><td>jcortez@example.com</td><td>+1-958-849-6781</td><td>1921-01-18</td><td>Paediatric nurse</td></tr><tr><td>21</td><td>b31D271F8c200AB</td><td>Jacqueline</td><td>Norton</td><td>Female</td><td>carias@example.net</td><td>819.309.7679x59173</td><td>1952-10-09</td><td>Scientist, marine</td></tr><tr><td>22</td><td>42F4BdA841aBadC</td><td>Colleen</td><td>Hatfield</td><td>Female</td><td>fknox@example.org</td><td>638.584.1090</td><td>1949-10-14</td><td>Commercial horticulturist</td></tr><tr><td>23</td><td>cBbBcA0FCA3C4Bc</td><td>Randy</td><td>Barnes</td><td>Male</td><td>huangbill@example.org</td><td>001-960-629-7164x67214</td><td>1947-12-30</td><td>Outdoor activities/education manager</td></tr><tr><td>24</td><td>f1f89173353aD90</td><td>Janice</td><td>Rhodes</td><td>Female</td><td>juarezdominique@example.net</td><td>001-249-314-9742x6996</td><td>1999-11-01</td><td>Drilling engineer</td></tr><tr><td>25</td><td>c5B09fb33e8bA0A</td><td>Alfred</td><td>Mcneil</td><td>Female</td><td>cassandramorris@example.com</td><td>(468)276-9509x53058</td><td>1993-05-28</td><td>Systems analyst</td></tr><tr><td>26</td><td>c9F2282C40BEC1E</td><td>Sean</td><td>Levine</td><td>Male</td><td>sallymiller@example.net</td><td>4915828504</td><td>2010-10-09</td><td>Conservation officer, nature</td></tr><tr><td>27</td><td>9c1bc7EC53Fb7cE</td><td>Louis</td><td>Payne</td><td>Male</td><td>bsullivan@example.net</td><td>6232695307</td><td>1916-01-29</td><td>Counsellor</td></tr><tr><td>28</td><td>ddEc50e2A2e3a2B</td><td>Brittney</td><td>Vega</td><td>Female</td><td>ayalajose@example.net</td><td>945-739-8686</td><td>1932-10-31</td><td>Recycling officer</td></tr><tr><td>29</td><td>66F096D36Ebae11</td><td>Judy</td><td>Buckley</td><td>Male</td><td>irosales@example.net</td><td>001-654-208-1241x52830</td><td>1963-07-28</td><td>Art gallery manager</td></tr><tr><td>30</td><td>F0fE2faAd78F8b5</td><td>Norman</td><td>Weber</td><td>Male</td><td>mconrad@example.com</td><td>223.002.0429</td><td>1957-05-21</td><td>Gaffer</td></tr><tr><td>31</td><td>5d2feAfbdCAA6B5</td><td>Isaiah</td><td>Camacho</td><td>Female</td><td>jimblake@example.org</td><td>001-536-544-3367</td><td>1966-04-07</td><td>Food technologist</td></tr><tr><td>32</td><td>cDa5F303fCd6dEa</td><td>Jacqueline</td><td>Gallagher</td><td>Male</td><td>nsampson@example.net</td><td>(247)762-8934</td><td>1999-02-25</td><td>Building services engineer</td></tr><tr><td>33</td><td>8Ef7DBfcaB02b6B</td><td>Bonnie</td><td>Andrews</td><td>Female</td><td>caitlin24@example.net</td><td>+1-253-987-2776x9161</td><td>1953-12-21</td><td>Seismic interpreter</td></tr><tr><td>34</td><td>6Dec5b5542F8ed8</td><td>Brandon</td><td>Schmidt</td><td>Female</td><td>mconley@example.net</td><td>+1-386-673-1465x006</td><td>1931-05-12</td><td>Engineer, biomedical</td></tr><tr><td>35</td><td>3Fb8a7f68e12784</td><td>Jackson</td><td>Sparks</td><td>Female</td><td>reynoldsdarryl@example.net</td><td>(137)908-3129x65035</td><td>1980-11-18</td><td>Set designer</td></tr><tr><td>36</td><td>035eff50B9A0F24</td><td>Melody</td><td>Cook</td><td>Male</td><td>jeannovak@example.org</td><td>(826)792-7381</td><td>1963-06-25</td><td>Research scientist (life sciences)</td></tr><tr><td>37</td><td>aa614aAE4B7Cf0C</td><td>Leonard</td><td>Hurst</td><td>Male</td><td>clinton78@example.org</td><td>941-038-0427x38800</td><td>1938-03-13</td><td>Accountant, chartered management</td></tr><tr><td>38</td><td>ACcde95AAe3e6cC</td><td>Gene</td><td>Rich</td><td>Female</td><td>luisdeleon@example.org</td><td>+1-356-818-6604x89537</td><td>1946-08-22</td><td>Surveyor, quantity</td></tr><tr><td>39</td><td>b6a35de5CB6fc25</td><td>Cynthia</td><td>Wiggins</td><td>Female</td><td>rosariodave@example.org</td><td>(110)858-2437x70190</td><td>1984-01-27</td><td>Outdoor activities/education manager</td></tr><tr><td>40</td><td>e92A191E345fA3A</td><td>Tanya</td><td>Mckinney</td><td>Female</td><td>vickihouston@example.com</td><td>(830)774-9002x086</td><td>2003-03-12</td><td>Information systems manager</td></tr><tr><td>41</td><td>7D0AcBF6CCac3fd</td><td>Matthew</td><td>Stone</td><td>Female</td><td>evelyn31@example.org</td><td>952-381-6360</td><td>2017-08-23</td><td>Scientist, clinical (histocompatibility and immunogenetics)</td></tr><tr><td>42</td><td>CEFA7BBCef013AE</td><td>Kirk</td><td>Walsh</td><td>Female</td><td>stephenfuller@example.org</td><td>001-826-496-5529x8661</td><td>2009-04-08</td><td>Accounting technician</td></tr><tr><td>43</td><td>9edBC94aE7cA22a</td><td>Willie</td><td>Vang</td><td>Female</td><td>haleymathews@example.net</td><td>741.168.6854x067</td><td>1978-02-02</td><td>Management consultant</td></tr><tr><td>44</td><td>fFe7BAA737aDbe2</td><td>Miguel</td><td>Hill</td><td>Female</td><td>tyrone56@example.org</td><td>5247842945</td><td>1930-08-26</td><td>Make</td></tr><tr><td>45</td><td>5F2f3fAca8B0946</td><td>Darren</td><td>Andrews</td><td>Male</td><td>lhernandez@example.com</td><td>(975)799-4261</td><td>1997-10-04</td><td>Retail banker</td></tr><tr><td>46</td><td>6bFcfc3cc1BC6B4</td><td>Haley</td><td>Pugh</td><td>Female</td><td>molly03@example.org</td><td>(746)182-6137x2453</td><td>1980-09-16</td><td>Commissioning editor</td></tr><tr><td>47</td><td>f3BD2cBF7eEb6df</td><td>Danielle</td><td>Estrada</td><td>Female</td><td>jvang@example.org</td><td>(890)374-9518x772</td><td>1930-07-09</td><td>Accountant, chartered management</td></tr><tr><td>48</td><td>Ee4eB129dC7913A</td><td>Becky</td><td>Brady</td><td>Male</td><td>erikmueller@example.org</td><td>(390)002-0863</td><td>1957-06-27</td><td>Seismic interpreter</td></tr><tr><td>49</td><td>dBCEf340C3657Eb</td><td>Caitlyn</td><td>Frey</td><td>Male</td><td>rivasdominique@example.org</td><td>805-021-3965x46344</td><td>1968-01-26</td><td>Jewellery designer</td></tr><tr><td>50</td><td>E47FB71DD9ACCd9</td><td>Joshua</td><td>Sweeney</td><td>Male</td><td>daisymcgee@example.net</td><td>875.994.2100x535</td><td>1954-07-28</td><td>Education officer, museum</td></tr><tr><td>51</td><td>eA3fDd79BE9f0E7</td><td>Heidi</td><td>Escobar</td><td>Female</td><td>staffordtravis@example.net</td><td>601-155-3065x1131</td><td>1931-09-25</td><td>Estate manager/land agent</td></tr><tr><td>52</td><td>aF0eE4547Bc025c</td><td>Brian</td><td>Oconnell</td><td>Female</td><td>saralong@example.net</td><td>952-283-1423x733</td><td>1911-10-23</td><td>Physiotherapist</td></tr><tr><td>53</td><td>9F5DeD7aD228F5a</td><td>Beverly</td><td>Esparza</td><td>Female</td><td>iphelps@example.net</td><td>+1-327-578-8754x6771</td><td>1930-12-09</td><td>Passenger transport manager</td></tr><tr><td>54</td><td>D3Fa0220dDE4d36</td><td>Nathaniel</td><td>Rivas</td><td>Female</td><td>roberto29@example.com</td><td>(655)887-2040x37888</td><td>1908-11-17</td><td>Call centre manager</td></tr><tr><td>55</td><td>60FdBFd5e7BE8fF</td><td>Debra</td><td>Payne</td><td>Female</td><td>yolanda07@example.org</td><td>001-731-525-8400x52593</td><td>1927-08-20</td><td>Special educational needs teacher</td></tr><tr><td>56</td><td>D8bF5Ab2b98caff</td><td>Mackenzie</td><td>Rocha</td><td>Female</td><td>abbottyvette@example.net</td><td>4225525458</td><td>1980-10-21</td><td>Museum/gallery exhibitions officer</td></tr><tr><td>57</td><td>CD8d33aA25bc8BB</td><td>Courtney</td><td>Watkins</td><td>Female</td><td>ochang@example.org</td><td>210.683.2761x5883</td><td>2003-12-07</td><td>Pension scheme manager</td></tr><tr><td>58</td><td>Fac3BfFf0A3d03c</td><td>Fred</td><td>Olsen</td><td>Female</td><td>amyanderson@example.com</td><td>497-774-3053</td><td>1910-04-10</td><td>Archaeologist</td></tr><tr><td>59</td><td>e552D7ddafe1FFb</td><td>Ryan</td><td>Nelson</td><td>Female</td><td>qnorman@example.org</td><td>956.330.2951</td><td>1924-05-02</td><td>Historic buildings inspector/conservation officer</td></tr><tr><td>60</td><td>0f8deedb629A5f6</td><td>Grace</td><td>Phelps</td><td>Male</td><td>clarkeangela@example.net</td><td>(034)867-8827x6777</td><td>1909-10-15</td><td>Petroleum engineer</td></tr><tr><td>61</td><td>bB9e49E506F65ed</td><td>Shari</td><td>Daugherty</td><td>Male</td><td>kalvarado@example.org</td><td>001-951-655-4798x6124</td><td>1944-11-24</td><td>Curator</td></tr><tr><td>62</td><td>Ed724605A403D91</td><td>Kelli</td><td>Garner</td><td>Male</td><td>jodyvincent@example.org</td><td>995.000.4213x0982</td><td>2010-01-17</td><td>Retail banker</td></tr><tr><td>63</td><td>0aBE5ACb18E0c10</td><td>Jackie</td><td>Bennett</td><td>Male</td><td>hutchinsonkirk@example.com</td><td>001-740-937-0846x0087</td><td>1915-11-11</td><td>Neurosurgeon</td></tr><tr><td>64</td><td>5D2cb63CaAF53f6</td><td>Leslie</td><td>Conway</td><td>Female</td><td>floreschristina@example.org</td><td>795.782.4384x555</td><td>1983-11-06</td><td>Chiropractor</td></tr><tr><td>65</td><td>Ee6974f90eeCe18</td><td>Harold</td><td>Barnett</td><td>Female</td><td>nathan65@example.org</td><td>+1-026-265-6392</td><td>1943-03-15</td><td>Biochemist, clinical</td></tr><tr><td>66</td><td>cEf02C076afa07f</td><td>Larry</td><td>Harper</td><td>Male</td><td>maria32@example.org</td><td>+1-244-630-3792x4121</td><td>2021-05-05</td><td>Scientist, water quality</td></tr><tr><td>67</td><td>9Df5Ba591bF3EFf</td><td>Mike</td><td>Ward</td><td>Female</td><td>imccullough@example.com</td><td>116-729-5046</td><td>1967-11-09</td><td>Hydrologist</td></tr><tr><td>68</td><td>3faB1CBfEFBDdD4</td><td>Brittney</td><td>Rubio</td><td>Female</td><td>corey92@example.com</td><td>593.976.2528</td><td>1959-12-24</td><td>Biochemist, clinical</td></tr><tr><td>69</td><td>Ebcefdf75eCb0a9</td><td>Frank</td><td>Pineda</td><td>Male</td><td>daltoncalvin@example.net</td><td>(035)961-5060x9182</td><td>1926-03-10</td><td>Hospital pharmacist</td></tr><tr><td>70</td><td>e75e5DBfcb68887</td><td>Sandra</td><td>Wu</td><td>Male</td><td>ubanks@example.com</td><td>+1-096-606-6454x067</td><td>1925-04-28</td><td>Warehouse manager</td></tr><tr><td>71</td><td>6a53a8D41dDF6de</td><td>Ryan</td><td>Benton</td><td>Male</td><td>lopezdebbie@example.org</td><td>+1-695-557-9948x485</td><td>2020-10-06</td><td>Physiological scientist</td></tr><tr><td>72</td><td>F0d3bD1aaf9E3Bc</td><td>Tamara</td><td>Hull</td><td>Male</td><td>meagan39@example.net</td><td>017.665.3744x7944</td><td>1933-01-31</td><td>English as a second language teacher</td></tr><tr><td>73</td><td>5bC87340799FBD0</td><td>Jean</td><td>Ritter</td><td>Female</td><td>kristina76@example.com</td><td>(954)060-1066</td><td>1985-08-06</td><td>Financial trader</td></tr><tr><td>74</td><td>dBfA17Aaf16b4ab</td><td>Veronica</td><td>Briggs</td><td>Female</td><td>weissbridget@example.com</td><td>+1-521-589-2387x48490</td><td>1974-06-08</td><td>Structural engineer</td></tr><tr><td>75</td><td>c935b7Eb6FA0B0F</td><td>Kim</td><td>Andrews</td><td>Female</td><td>wpetersen@example.org</td><td>7677125383</td><td>1990-11-15</td><td>Biochemist, clinical</td></tr><tr><td>76</td><td>b3e15e65Ca2CcBf</td><td>Tina</td><td>Cunningham</td><td>Male</td><td>wongmary@example.org</td><td>079-907-5051</td><td>1956-11-29</td><td>Race relations officer</td></tr><tr><td>77</td><td>dade3452F0c32FD</td><td>Jonathon</td><td>Atkinson</td><td>Male</td><td>gailfrench@example.net</td><td>874-037-2032x932</td><td>2011-07-19</td><td>Psychologist, forensic</td></tr><tr><td>78</td><td>AdEd6cfD85DeC46</td><td>Jermaine</td><td>Reid</td><td>Female</td><td>vpaul@example.com</td><td>(742)214-8691</td><td>1974-08-18</td><td>Newspaper journalist</td></tr><tr><td>79</td><td>DAf111987098ae4</td><td>Regina</td><td>Stevens</td><td>Male</td><td>xpoole@example.net</td><td>891-359-2684</td><td>2011-11-28</td><td>Public house manager</td></tr><tr><td>80</td><td>6e6a5b885F6496d</td><td>Terrence</td><td>Huff</td><td>Male</td><td>cassandra80@example.org</td><td>221.800.6408x5416</td><td>1944-02-27</td><td>Careers information officer</td></tr><tr><td>81</td><td>12DCb4ED8E01D5C</td><td>Tyler</td><td>Foley</td><td>Female</td><td>johnathan72@example.org</td><td>001-386-469-3075x8030</td><td>1908-09-19</td><td>Economist</td></tr><tr><td>82</td><td>E1cB5cA8CA7CC0a</td><td>Andrew</td><td>Waters</td><td>Male</td><td>nhall@example.net</td><td>+1-376-865-2765x3351</td><td>1948-05-14</td><td>Jewellery designer</td></tr><tr><td>83</td><td>AedDfaE8Cf49F07</td><td>Reginald</td><td>Stephenson</td><td>Male</td><td>erikaball@example.net</td><td>+1-832-500-6044x475</td><td>2010-02-08</td><td>Contracting civil engineer</td></tr><tr><td>84</td><td>bff9853aFAeF772</td><td>Douglas</td><td>Reese</td><td>Female</td><td>nixonvanessa@example.net</td><td>001-834-660-8312x9864</td><td>1961-11-11</td><td>Higher education lecturer</td></tr><tr><td>85</td><td>E883773cA5219Be</td><td>Helen</td><td>Williamson</td><td>Female</td><td>melvin08@example.net</td><td>001-377-726-4229</td><td>1911-08-11</td><td>Lecturer, further education</td></tr><tr><td>86</td><td>CB19EafEbBfF9eC</td><td>Mario</td><td>Vaughn</td><td>Male</td><td>oblake@example.com</td><td>160-144-5039x12276</td><td>1990-07-08</td><td>Research scientist (life sciences)</td></tr><tr><td>87</td><td>5834700fbEd2771</td><td>Chelsea</td><td>Dickson</td><td>Male</td><td>johnnyhendricks@example.net</td><td>001-698-651-0138x18588</td><td>1958-05-13</td><td>Teacher, early years/pre</td></tr><tr><td>88</td><td>2b0Ab1Dc9E01D7E</td><td>Dustin</td><td>Bailey</td><td>Male</td><td>pbarron@example.net</td><td>+1-965-621-1157x345</td><td>1908-08-22</td><td>Travel agency manager</td></tr><tr><td>89</td><td>3f3a3D89ad042Dd</td><td>Harry</td><td>Medina</td><td>Female</td><td>olsenmalik@example.net</td><td>+1-451-099-5805</td><td>1947-08-24</td><td>Technical sales engineer</td></tr><tr><td>90</td><td>9425E2F38C408ef</td><td>Kathy</td><td>Haney</td><td>Female</td><td>teresa37@example.com</td><td>(164)105-8456</td><td>1955-09-02</td><td>Charity fundraiser</td></tr><tr><td>91</td><td>F0aeC9c2759F3C6</td><td>Alison</td><td>Nixon</td><td>Female</td><td>zmiles@example.net</td><td>3506680871</td><td>1941-07-10</td><td>Patent attorney</td></tr><tr><td>92</td><td>d6EA619A7C4aA95</td><td>Jamie</td><td>Hardy</td><td>Female</td><td>sheenadouglas@example.com</td><td>(900)803-9295x11533</td><td>1994-07-17</td><td>Conservator, furniture</td></tr><tr><td>93</td><td>2A33E7Cad1bb0F5</td><td>Melody</td><td>Cox</td><td>Female</td><td>evan90@example.org</td><td>(626)520-5080x3511</td><td>1974-07-30</td><td>Dance movement psychotherapist</td></tr><tr><td>94</td><td>d181FFB7d3E68bb</td><td>Xavier</td><td>Cole</td><td>Male</td><td>nicolas90@example.org</td><td>8164259975</td><td>1938-11-29</td><td>Financial planner</td></tr><tr><td>95</td><td>feaBf8dAE0C0d6F</td><td>Dillon</td><td>Guzman</td><td>Female</td><td>angelanavarro@example.net</td><td>971-992-4521</td><td>1942-04-01</td><td>Air broker</td></tr><tr><td>96</td><td>5eFda7caAeB260E</td><td>Dennis</td><td>Barnes</td><td>Female</td><td>bmartin@example.org</td><td>001-095-524-2112x257</td><td>1954-07-30</td><td>Software engineer</td></tr><tr><td>97</td><td>CCbFce93d3720bE</td><td>Steve</td><td>Patterson</td><td>Female</td><td>latasha46@example.net</td><td>001-865-478-5157</td><td>1932-04-29</td><td>Barrister</td></tr><tr><td>98</td><td>2fEc528aFAF0b69</td><td>Wesley</td><td>Bray</td><td>Male</td><td>regina11@example.org</td><td>995-542-3004x76800</td><td>1994-12-28</td><td>Police officer</td></tr><tr><td>99</td><td>Adc7ad9B6e4A1Fe</td><td>Summer</td><td>Oconnell</td><td>Female</td><td>alexiscantrell@example.org</td><td>001-273-685-6932x092</td><td>2012-04-12</td><td>Broadcast journalist</td></tr><tr><td>100</td><td>b8D0aD3490FC7e1</td><td>Mariah</td><td>Bernard</td><td>Male</td><td>pcopeland@example.org</td><td>(341)594-6554x44657</td><td>2016-11-15</td><td>IT sales professional</td></tr></table>', 'languages': ['eng'], '_known_field_names': frozenset({'detection_origin', 'parent_id', 'image_path', 'subject', 'cc_recipient', 'image_base64', 'category_depth', 'key_value_pairs', 'coordinates', 'attached_to_filename', 'text_as_html', 'data_source', 'filetype', 'table_as_cells', 'page_name', 'url', 'orig_elements', 'sent_to', 'email_message_id', 'emphasized_text_contents', 'link_texts', 'link_urls', 'last_modified', 'header_footer_type', 'bcc_recipient', 'emphasized_text_tags', 'link_start_indexes', 'page_number', 'filename', 'links', 'image_mime_type', 'detection_class_prob', 'signature', 'sent_from', 'languages', 'file_directory', 'is_continuation'}), 'filetype': 'text/csv'}\n"
          ]
        }
      ]
    },
    {
      "cell_type": "code",
      "source": [
        "html_content = elements[0].metadata.text_as_html\n",
        "display(HTML(html_content))"
      ],
      "metadata": {
        "colab": {
          "base_uri": "https://localhost:8080/",
          "height": 1000
        },
        "id": "SIxnHhUx2sQa",
        "outputId": "01f48e97-bc6f-4b1b-b62a-c54b770e7f41"
      },
      "execution_count": 27,
      "outputs": [
        {
          "output_type": "display_data",
          "data": {
            "text/plain": [
              "<IPython.core.display.HTML object>"
            ],
            "text/html": [
              "<table><tr><td>Index</td><td>User Id</td><td>First Name</td><td>Last Name</td><td>Sex</td><td>Email</td><td>Phone</td><td>Date of birth</td><td>Job Title</td></tr><tr><td>1</td><td>88F7B33d2bcf9f5</td><td>Shelby</td><td>Terrell</td><td>Male</td><td>elijah57@example.net</td><td>001-084-906-7849x73518</td><td>1945-10-26</td><td>Games developer</td></tr><tr><td>2</td><td>f90cD3E76f1A9b9</td><td>Phillip</td><td>Summers</td><td>Female</td><td>bethany14@example.com</td><td>214.112.6044x4913</td><td>1910-03-24</td><td>Phytotherapist</td></tr><tr><td>3</td><td>DbeAb8CcdfeFC2c</td><td>Kristine</td><td>Travis</td><td>Male</td><td>bthompson@example.com</td><td>277.609.7938</td><td>1992-07-02</td><td>Homeopath</td></tr><tr><td>4</td><td>A31Bee3c201ef58</td><td>Yesenia</td><td>Martinez</td><td>Male</td><td>kaitlinkaiser@example.com</td><td>584.094.6111</td><td>2017-08-03</td><td>Market researcher</td></tr><tr><td>5</td><td>1bA7A3dc874da3c</td><td>Lori</td><td>Todd</td><td>Male</td><td>buchananmanuel@example.net</td><td>689-207-3558x7233</td><td>1938-12-01</td><td>Veterinary surgeon</td></tr><tr><td>6</td><td>bfDD7CDEF5D865B</td><td>Erin</td><td>Day</td><td>Male</td><td>tconner@example.org</td><td>001-171-649-9856x5553</td><td>2015-10-28</td><td>Waste management officer</td></tr><tr><td>7</td><td>bE9EEf34cB72AF7</td><td>Katherine</td><td>Buck</td><td>Female</td><td>conniecowan@example.com</td><td>+1-773-151-6685x49162</td><td>1989-01-22</td><td>Intelligence analyst</td></tr><tr><td>8</td><td>2EFC6A4e77FaEaC</td><td>Ricardo</td><td>Hinton</td><td>Male</td><td>wyattbishop@example.com</td><td>001-447-699-7998x88612</td><td>1924-03-26</td><td>Hydrogeologist</td></tr><tr><td>9</td><td>baDcC4DeefD8dEB</td><td>Dave</td><td>Farrell</td><td>Male</td><td>nmccann@example.net</td><td>603-428-2429x27392</td><td>2018-10-06</td><td>Lawyer</td></tr><tr><td>10</td><td>8e4FB470FE19bF0</td><td>Isaiah</td><td>Downs</td><td>Male</td><td>virginiaterrell@example.org</td><td>+1-511-372-1544x8206</td><td>1964-09-20</td><td>Engineer, site</td></tr><tr><td>11</td><td>BF0BbA03C29Bb3b</td><td>Sheila</td><td>Ross</td><td>Female</td><td>huangcathy@example.com</td><td>895.881.4746</td><td>2008-03-20</td><td>Advertising account executive</td></tr><tr><td>12</td><td>F738c69fB34E62E</td><td>Stacy</td><td>Newton</td><td>Male</td><td>rayleroy@example.org</td><td>710.673.3213x80335</td><td>1980-10-20</td><td>Warden/ranger</td></tr><tr><td>13</td><td>C03fDADdAadAdCe</td><td>Mandy</td><td>Blake</td><td>Male</td><td>jefferynoble@example.org</td><td>(992)466-1305x4947</td><td>2007-12-08</td><td>Scientist, clinical (histocompatibility and immunogenetics)</td></tr><tr><td>14</td><td>b759b74BD1dE80d</td><td>Bridget</td><td>Nash</td><td>Female</td><td>mercedes44@example.com</td><td>(216)627-8359</td><td>2004-06-28</td><td>Social worker</td></tr><tr><td>15</td><td>1F0B7D65A00DAF9</td><td>Crystal</td><td>Farmer</td><td>Male</td><td>pmiranda@example.org</td><td>+1-024-377-5391</td><td>1992-03-09</td><td>Agricultural consultant</td></tr><tr><td>16</td><td>50Bb061cB30B461</td><td>Thomas</td><td>Knight</td><td>Female</td><td>braunpriscilla@example.net</td><td>+1-360-880-0766</td><td>2006-02-18</td><td>Sport and exercise psychologist</td></tr><tr><td>17</td><td>D6dbA5308fEC4BC</td><td>Maurice</td><td>Rangel</td><td>Male</td><td>sheenabanks@example.com</td><td>(246)187-4969</td><td>2004-08-20</td><td>Secretary/administrator</td></tr><tr><td>18</td><td>311D775990f066d</td><td>Frank</td><td>Meadows</td><td>Male</td><td>gbrewer@example.org</td><td>429.965.3902x4447</td><td>2008-09-16</td><td>Audiological scientist</td></tr><tr><td>19</td><td>7F7E1BAcb0C9AFf</td><td>Alvin</td><td>Paul</td><td>Male</td><td>gilbertdonaldson@example.com</td><td>219.436.0887x07551</td><td>1949-05-12</td><td>Teacher, adult education</td></tr><tr><td>20</td><td>88473e15D5c3cD0</td><td>Jared</td><td>Mitchell</td><td>Female</td><td>jcortez@example.com</td><td>+1-958-849-6781</td><td>1921-01-18</td><td>Paediatric nurse</td></tr><tr><td>21</td><td>b31D271F8c200AB</td><td>Jacqueline</td><td>Norton</td><td>Female</td><td>carias@example.net</td><td>819.309.7679x59173</td><td>1952-10-09</td><td>Scientist, marine</td></tr><tr><td>22</td><td>42F4BdA841aBadC</td><td>Colleen</td><td>Hatfield</td><td>Female</td><td>fknox@example.org</td><td>638.584.1090</td><td>1949-10-14</td><td>Commercial horticulturist</td></tr><tr><td>23</td><td>cBbBcA0FCA3C4Bc</td><td>Randy</td><td>Barnes</td><td>Male</td><td>huangbill@example.org</td><td>001-960-629-7164x67214</td><td>1947-12-30</td><td>Outdoor activities/education manager</td></tr><tr><td>24</td><td>f1f89173353aD90</td><td>Janice</td><td>Rhodes</td><td>Female</td><td>juarezdominique@example.net</td><td>001-249-314-9742x6996</td><td>1999-11-01</td><td>Drilling engineer</td></tr><tr><td>25</td><td>c5B09fb33e8bA0A</td><td>Alfred</td><td>Mcneil</td><td>Female</td><td>cassandramorris@example.com</td><td>(468)276-9509x53058</td><td>1993-05-28</td><td>Systems analyst</td></tr><tr><td>26</td><td>c9F2282C40BEC1E</td><td>Sean</td><td>Levine</td><td>Male</td><td>sallymiller@example.net</td><td>4915828504</td><td>2010-10-09</td><td>Conservation officer, nature</td></tr><tr><td>27</td><td>9c1bc7EC53Fb7cE</td><td>Louis</td><td>Payne</td><td>Male</td><td>bsullivan@example.net</td><td>6232695307</td><td>1916-01-29</td><td>Counsellor</td></tr><tr><td>28</td><td>ddEc50e2A2e3a2B</td><td>Brittney</td><td>Vega</td><td>Female</td><td>ayalajose@example.net</td><td>945-739-8686</td><td>1932-10-31</td><td>Recycling officer</td></tr><tr><td>29</td><td>66F096D36Ebae11</td><td>Judy</td><td>Buckley</td><td>Male</td><td>irosales@example.net</td><td>001-654-208-1241x52830</td><td>1963-07-28</td><td>Art gallery manager</td></tr><tr><td>30</td><td>F0fE2faAd78F8b5</td><td>Norman</td><td>Weber</td><td>Male</td><td>mconrad@example.com</td><td>223.002.0429</td><td>1957-05-21</td><td>Gaffer</td></tr><tr><td>31</td><td>5d2feAfbdCAA6B5</td><td>Isaiah</td><td>Camacho</td><td>Female</td><td>jimblake@example.org</td><td>001-536-544-3367</td><td>1966-04-07</td><td>Food technologist</td></tr><tr><td>32</td><td>cDa5F303fCd6dEa</td><td>Jacqueline</td><td>Gallagher</td><td>Male</td><td>nsampson@example.net</td><td>(247)762-8934</td><td>1999-02-25</td><td>Building services engineer</td></tr><tr><td>33</td><td>8Ef7DBfcaB02b6B</td><td>Bonnie</td><td>Andrews</td><td>Female</td><td>caitlin24@example.net</td><td>+1-253-987-2776x9161</td><td>1953-12-21</td><td>Seismic interpreter</td></tr><tr><td>34</td><td>6Dec5b5542F8ed8</td><td>Brandon</td><td>Schmidt</td><td>Female</td><td>mconley@example.net</td><td>+1-386-673-1465x006</td><td>1931-05-12</td><td>Engineer, biomedical</td></tr><tr><td>35</td><td>3Fb8a7f68e12784</td><td>Jackson</td><td>Sparks</td><td>Female</td><td>reynoldsdarryl@example.net</td><td>(137)908-3129x65035</td><td>1980-11-18</td><td>Set designer</td></tr><tr><td>36</td><td>035eff50B9A0F24</td><td>Melody</td><td>Cook</td><td>Male</td><td>jeannovak@example.org</td><td>(826)792-7381</td><td>1963-06-25</td><td>Research scientist (life sciences)</td></tr><tr><td>37</td><td>aa614aAE4B7Cf0C</td><td>Leonard</td><td>Hurst</td><td>Male</td><td>clinton78@example.org</td><td>941-038-0427x38800</td><td>1938-03-13</td><td>Accountant, chartered management</td></tr><tr><td>38</td><td>ACcde95AAe3e6cC</td><td>Gene</td><td>Rich</td><td>Female</td><td>luisdeleon@example.org</td><td>+1-356-818-6604x89537</td><td>1946-08-22</td><td>Surveyor, quantity</td></tr><tr><td>39</td><td>b6a35de5CB6fc25</td><td>Cynthia</td><td>Wiggins</td><td>Female</td><td>rosariodave@example.org</td><td>(110)858-2437x70190</td><td>1984-01-27</td><td>Outdoor activities/education manager</td></tr><tr><td>40</td><td>e92A191E345fA3A</td><td>Tanya</td><td>Mckinney</td><td>Female</td><td>vickihouston@example.com</td><td>(830)774-9002x086</td><td>2003-03-12</td><td>Information systems manager</td></tr><tr><td>41</td><td>7D0AcBF6CCac3fd</td><td>Matthew</td><td>Stone</td><td>Female</td><td>evelyn31@example.org</td><td>952-381-6360</td><td>2017-08-23</td><td>Scientist, clinical (histocompatibility and immunogenetics)</td></tr><tr><td>42</td><td>CEFA7BBCef013AE</td><td>Kirk</td><td>Walsh</td><td>Female</td><td>stephenfuller@example.org</td><td>001-826-496-5529x8661</td><td>2009-04-08</td><td>Accounting technician</td></tr><tr><td>43</td><td>9edBC94aE7cA22a</td><td>Willie</td><td>Vang</td><td>Female</td><td>haleymathews@example.net</td><td>741.168.6854x067</td><td>1978-02-02</td><td>Management consultant</td></tr><tr><td>44</td><td>fFe7BAA737aDbe2</td><td>Miguel</td><td>Hill</td><td>Female</td><td>tyrone56@example.org</td><td>5247842945</td><td>1930-08-26</td><td>Make</td></tr><tr><td>45</td><td>5F2f3fAca8B0946</td><td>Darren</td><td>Andrews</td><td>Male</td><td>lhernandez@example.com</td><td>(975)799-4261</td><td>1997-10-04</td><td>Retail banker</td></tr><tr><td>46</td><td>6bFcfc3cc1BC6B4</td><td>Haley</td><td>Pugh</td><td>Female</td><td>molly03@example.org</td><td>(746)182-6137x2453</td><td>1980-09-16</td><td>Commissioning editor</td></tr><tr><td>47</td><td>f3BD2cBF7eEb6df</td><td>Danielle</td><td>Estrada</td><td>Female</td><td>jvang@example.org</td><td>(890)374-9518x772</td><td>1930-07-09</td><td>Accountant, chartered management</td></tr><tr><td>48</td><td>Ee4eB129dC7913A</td><td>Becky</td><td>Brady</td><td>Male</td><td>erikmueller@example.org</td><td>(390)002-0863</td><td>1957-06-27</td><td>Seismic interpreter</td></tr><tr><td>49</td><td>dBCEf340C3657Eb</td><td>Caitlyn</td><td>Frey</td><td>Male</td><td>rivasdominique@example.org</td><td>805-021-3965x46344</td><td>1968-01-26</td><td>Jewellery designer</td></tr><tr><td>50</td><td>E47FB71DD9ACCd9</td><td>Joshua</td><td>Sweeney</td><td>Male</td><td>daisymcgee@example.net</td><td>875.994.2100x535</td><td>1954-07-28</td><td>Education officer, museum</td></tr><tr><td>51</td><td>eA3fDd79BE9f0E7</td><td>Heidi</td><td>Escobar</td><td>Female</td><td>staffordtravis@example.net</td><td>601-155-3065x1131</td><td>1931-09-25</td><td>Estate manager/land agent</td></tr><tr><td>52</td><td>aF0eE4547Bc025c</td><td>Brian</td><td>Oconnell</td><td>Female</td><td>saralong@example.net</td><td>952-283-1423x733</td><td>1911-10-23</td><td>Physiotherapist</td></tr><tr><td>53</td><td>9F5DeD7aD228F5a</td><td>Beverly</td><td>Esparza</td><td>Female</td><td>iphelps@example.net</td><td>+1-327-578-8754x6771</td><td>1930-12-09</td><td>Passenger transport manager</td></tr><tr><td>54</td><td>D3Fa0220dDE4d36</td><td>Nathaniel</td><td>Rivas</td><td>Female</td><td>roberto29@example.com</td><td>(655)887-2040x37888</td><td>1908-11-17</td><td>Call centre manager</td></tr><tr><td>55</td><td>60FdBFd5e7BE8fF</td><td>Debra</td><td>Payne</td><td>Female</td><td>yolanda07@example.org</td><td>001-731-525-8400x52593</td><td>1927-08-20</td><td>Special educational needs teacher</td></tr><tr><td>56</td><td>D8bF5Ab2b98caff</td><td>Mackenzie</td><td>Rocha</td><td>Female</td><td>abbottyvette@example.net</td><td>4225525458</td><td>1980-10-21</td><td>Museum/gallery exhibitions officer</td></tr><tr><td>57</td><td>CD8d33aA25bc8BB</td><td>Courtney</td><td>Watkins</td><td>Female</td><td>ochang@example.org</td><td>210.683.2761x5883</td><td>2003-12-07</td><td>Pension scheme manager</td></tr><tr><td>58</td><td>Fac3BfFf0A3d03c</td><td>Fred</td><td>Olsen</td><td>Female</td><td>amyanderson@example.com</td><td>497-774-3053</td><td>1910-04-10</td><td>Archaeologist</td></tr><tr><td>59</td><td>e552D7ddafe1FFb</td><td>Ryan</td><td>Nelson</td><td>Female</td><td>qnorman@example.org</td><td>956.330.2951</td><td>1924-05-02</td><td>Historic buildings inspector/conservation officer</td></tr><tr><td>60</td><td>0f8deedb629A5f6</td><td>Grace</td><td>Phelps</td><td>Male</td><td>clarkeangela@example.net</td><td>(034)867-8827x6777</td><td>1909-10-15</td><td>Petroleum engineer</td></tr><tr><td>61</td><td>bB9e49E506F65ed</td><td>Shari</td><td>Daugherty</td><td>Male</td><td>kalvarado@example.org</td><td>001-951-655-4798x6124</td><td>1944-11-24</td><td>Curator</td></tr><tr><td>62</td><td>Ed724605A403D91</td><td>Kelli</td><td>Garner</td><td>Male</td><td>jodyvincent@example.org</td><td>995.000.4213x0982</td><td>2010-01-17</td><td>Retail banker</td></tr><tr><td>63</td><td>0aBE5ACb18E0c10</td><td>Jackie</td><td>Bennett</td><td>Male</td><td>hutchinsonkirk@example.com</td><td>001-740-937-0846x0087</td><td>1915-11-11</td><td>Neurosurgeon</td></tr><tr><td>64</td><td>5D2cb63CaAF53f6</td><td>Leslie</td><td>Conway</td><td>Female</td><td>floreschristina@example.org</td><td>795.782.4384x555</td><td>1983-11-06</td><td>Chiropractor</td></tr><tr><td>65</td><td>Ee6974f90eeCe18</td><td>Harold</td><td>Barnett</td><td>Female</td><td>nathan65@example.org</td><td>+1-026-265-6392</td><td>1943-03-15</td><td>Biochemist, clinical</td></tr><tr><td>66</td><td>cEf02C076afa07f</td><td>Larry</td><td>Harper</td><td>Male</td><td>maria32@example.org</td><td>+1-244-630-3792x4121</td><td>2021-05-05</td><td>Scientist, water quality</td></tr><tr><td>67</td><td>9Df5Ba591bF3EFf</td><td>Mike</td><td>Ward</td><td>Female</td><td>imccullough@example.com</td><td>116-729-5046</td><td>1967-11-09</td><td>Hydrologist</td></tr><tr><td>68</td><td>3faB1CBfEFBDdD4</td><td>Brittney</td><td>Rubio</td><td>Female</td><td>corey92@example.com</td><td>593.976.2528</td><td>1959-12-24</td><td>Biochemist, clinical</td></tr><tr><td>69</td><td>Ebcefdf75eCb0a9</td><td>Frank</td><td>Pineda</td><td>Male</td><td>daltoncalvin@example.net</td><td>(035)961-5060x9182</td><td>1926-03-10</td><td>Hospital pharmacist</td></tr><tr><td>70</td><td>e75e5DBfcb68887</td><td>Sandra</td><td>Wu</td><td>Male</td><td>ubanks@example.com</td><td>+1-096-606-6454x067</td><td>1925-04-28</td><td>Warehouse manager</td></tr><tr><td>71</td><td>6a53a8D41dDF6de</td><td>Ryan</td><td>Benton</td><td>Male</td><td>lopezdebbie@example.org</td><td>+1-695-557-9948x485</td><td>2020-10-06</td><td>Physiological scientist</td></tr><tr><td>72</td><td>F0d3bD1aaf9E3Bc</td><td>Tamara</td><td>Hull</td><td>Male</td><td>meagan39@example.net</td><td>017.665.3744x7944</td><td>1933-01-31</td><td>English as a second language teacher</td></tr><tr><td>73</td><td>5bC87340799FBD0</td><td>Jean</td><td>Ritter</td><td>Female</td><td>kristina76@example.com</td><td>(954)060-1066</td><td>1985-08-06</td><td>Financial trader</td></tr><tr><td>74</td><td>dBfA17Aaf16b4ab</td><td>Veronica</td><td>Briggs</td><td>Female</td><td>weissbridget@example.com</td><td>+1-521-589-2387x48490</td><td>1974-06-08</td><td>Structural engineer</td></tr><tr><td>75</td><td>c935b7Eb6FA0B0F</td><td>Kim</td><td>Andrews</td><td>Female</td><td>wpetersen@example.org</td><td>7677125383</td><td>1990-11-15</td><td>Biochemist, clinical</td></tr><tr><td>76</td><td>b3e15e65Ca2CcBf</td><td>Tina</td><td>Cunningham</td><td>Male</td><td>wongmary@example.org</td><td>079-907-5051</td><td>1956-11-29</td><td>Race relations officer</td></tr><tr><td>77</td><td>dade3452F0c32FD</td><td>Jonathon</td><td>Atkinson</td><td>Male</td><td>gailfrench@example.net</td><td>874-037-2032x932</td><td>2011-07-19</td><td>Psychologist, forensic</td></tr><tr><td>78</td><td>AdEd6cfD85DeC46</td><td>Jermaine</td><td>Reid</td><td>Female</td><td>vpaul@example.com</td><td>(742)214-8691</td><td>1974-08-18</td><td>Newspaper journalist</td></tr><tr><td>79</td><td>DAf111987098ae4</td><td>Regina</td><td>Stevens</td><td>Male</td><td>xpoole@example.net</td><td>891-359-2684</td><td>2011-11-28</td><td>Public house manager</td></tr><tr><td>80</td><td>6e6a5b885F6496d</td><td>Terrence</td><td>Huff</td><td>Male</td><td>cassandra80@example.org</td><td>221.800.6408x5416</td><td>1944-02-27</td><td>Careers information officer</td></tr><tr><td>81</td><td>12DCb4ED8E01D5C</td><td>Tyler</td><td>Foley</td><td>Female</td><td>johnathan72@example.org</td><td>001-386-469-3075x8030</td><td>1908-09-19</td><td>Economist</td></tr><tr><td>82</td><td>E1cB5cA8CA7CC0a</td><td>Andrew</td><td>Waters</td><td>Male</td><td>nhall@example.net</td><td>+1-376-865-2765x3351</td><td>1948-05-14</td><td>Jewellery designer</td></tr><tr><td>83</td><td>AedDfaE8Cf49F07</td><td>Reginald</td><td>Stephenson</td><td>Male</td><td>erikaball@example.net</td><td>+1-832-500-6044x475</td><td>2010-02-08</td><td>Contracting civil engineer</td></tr><tr><td>84</td><td>bff9853aFAeF772</td><td>Douglas</td><td>Reese</td><td>Female</td><td>nixonvanessa@example.net</td><td>001-834-660-8312x9864</td><td>1961-11-11</td><td>Higher education lecturer</td></tr><tr><td>85</td><td>E883773cA5219Be</td><td>Helen</td><td>Williamson</td><td>Female</td><td>melvin08@example.net</td><td>001-377-726-4229</td><td>1911-08-11</td><td>Lecturer, further education</td></tr><tr><td>86</td><td>CB19EafEbBfF9eC</td><td>Mario</td><td>Vaughn</td><td>Male</td><td>oblake@example.com</td><td>160-144-5039x12276</td><td>1990-07-08</td><td>Research scientist (life sciences)</td></tr><tr><td>87</td><td>5834700fbEd2771</td><td>Chelsea</td><td>Dickson</td><td>Male</td><td>johnnyhendricks@example.net</td><td>001-698-651-0138x18588</td><td>1958-05-13</td><td>Teacher, early years/pre</td></tr><tr><td>88</td><td>2b0Ab1Dc9E01D7E</td><td>Dustin</td><td>Bailey</td><td>Male</td><td>pbarron@example.net</td><td>+1-965-621-1157x345</td><td>1908-08-22</td><td>Travel agency manager</td></tr><tr><td>89</td><td>3f3a3D89ad042Dd</td><td>Harry</td><td>Medina</td><td>Female</td><td>olsenmalik@example.net</td><td>+1-451-099-5805</td><td>1947-08-24</td><td>Technical sales engineer</td></tr><tr><td>90</td><td>9425E2F38C408ef</td><td>Kathy</td><td>Haney</td><td>Female</td><td>teresa37@example.com</td><td>(164)105-8456</td><td>1955-09-02</td><td>Charity fundraiser</td></tr><tr><td>91</td><td>F0aeC9c2759F3C6</td><td>Alison</td><td>Nixon</td><td>Female</td><td>zmiles@example.net</td><td>3506680871</td><td>1941-07-10</td><td>Patent attorney</td></tr><tr><td>92</td><td>d6EA619A7C4aA95</td><td>Jamie</td><td>Hardy</td><td>Female</td><td>sheenadouglas@example.com</td><td>(900)803-9295x11533</td><td>1994-07-17</td><td>Conservator, furniture</td></tr><tr><td>93</td><td>2A33E7Cad1bb0F5</td><td>Melody</td><td>Cox</td><td>Female</td><td>evan90@example.org</td><td>(626)520-5080x3511</td><td>1974-07-30</td><td>Dance movement psychotherapist</td></tr><tr><td>94</td><td>d181FFB7d3E68bb</td><td>Xavier</td><td>Cole</td><td>Male</td><td>nicolas90@example.org</td><td>8164259975</td><td>1938-11-29</td><td>Financial planner</td></tr><tr><td>95</td><td>feaBf8dAE0C0d6F</td><td>Dillon</td><td>Guzman</td><td>Female</td><td>angelanavarro@example.net</td><td>971-992-4521</td><td>1942-04-01</td><td>Air broker</td></tr><tr><td>96</td><td>5eFda7caAeB260E</td><td>Dennis</td><td>Barnes</td><td>Female</td><td>bmartin@example.org</td><td>001-095-524-2112x257</td><td>1954-07-30</td><td>Software engineer</td></tr><tr><td>97</td><td>CCbFce93d3720bE</td><td>Steve</td><td>Patterson</td><td>Female</td><td>latasha46@example.net</td><td>001-865-478-5157</td><td>1932-04-29</td><td>Barrister</td></tr><tr><td>98</td><td>2fEc528aFAF0b69</td><td>Wesley</td><td>Bray</td><td>Male</td><td>regina11@example.org</td><td>995-542-3004x76800</td><td>1994-12-28</td><td>Police officer</td></tr><tr><td>99</td><td>Adc7ad9B6e4A1Fe</td><td>Summer</td><td>Oconnell</td><td>Female</td><td>alexiscantrell@example.org</td><td>001-273-685-6932x092</td><td>2012-04-12</td><td>Broadcast journalist</td></tr><tr><td>100</td><td>b8D0aD3490FC7e1</td><td>Mariah</td><td>Bernard</td><td>Male</td><td>pcopeland@example.org</td><td>(341)594-6554x44657</td><td>2016-11-15</td><td>IT sales professional</td></tr></table>"
            ]
          },
          "metadata": {}
        }
      ]
    },
    {
      "cell_type": "markdown",
      "source": [
        "## TXT"
      ],
      "metadata": {
        "id": "hkVBSt2HbevN"
      }
    },
    {
      "cell_type": "markdown",
      "source": [
        "### A. LangChain - `TextLoader()`"
      ],
      "metadata": {
        "id": "ewW8kb_HdWvu"
      }
    },
    {
      "cell_type": "code",
      "source": [
        "txt_loader = TextLoader(\"/content/txt/guidetoinvestors.txt\")\n",
        "txt_docs = txt_loader.load()\n",
        "type(txt_docs), len(txt_docs)"
      ],
      "metadata": {
        "colab": {
          "base_uri": "https://localhost:8080/"
        },
        "id": "LCzVas-85MhR",
        "outputId": "204f8bdf-065b-4de6-e5e9-45865d42f87d"
      },
      "execution_count": 29,
      "outputs": [
        {
          "output_type": "execute_result",
          "data": {
            "text/plain": [
              "(list, 1)"
            ]
          },
          "metadata": {},
          "execution_count": 29
        }
      ]
    },
    {
      "cell_type": "code",
      "source": [
        "# dir(txt_docs[0])\n",
        "type(txt_docs[0])\n",
        "vars(txt_docs[0])"
      ],
      "metadata": {
        "id": "oC8t7YBX5qwp"
      },
      "execution_count": null,
      "outputs": []
    },
    {
      "cell_type": "code",
      "source": [
        "lines = txt_docs[0].page_content.split(\"\\n\")\n",
        "for line in lines[:15]:\n",
        "  print(line)"
      ],
      "metadata": {
        "colab": {
          "base_uri": "https://localhost:8080/"
        },
        "id": "1y7k3as35b_i",
        "outputId": "0f488fa7-0c89-4321-c266-4c714db0b81a"
      },
      "execution_count": 31,
      "outputs": [
        {
          "output_type": "stream",
          "name": "stdout",
          "text": [
            "April 2007(This essay is derived from a keynote talk at the 2007 ASES Summit\n",
            "at Stanford.)The world of investors is a foreign one to most hackers—partly\n",
            "because investors are so unlike hackers, and partly because they\n",
            "tend to operate in secret.  I've been dealing with this world for\n",
            "many years, both as a founder and an investor, and I still don't\n",
            "fully understand it.In this essay I'm going to list some of the more surprising things\n",
            "I've learned about investors.  Some I only learned in the past year.Teaching hackers how to deal with investors is probably the second\n",
            "most important thing we do at Y Combinator.  The most important\n",
            "thing for a startup is to make something good.  But everyone knows\n",
            "that's important.  The dangerous thing about investors is that\n",
            "hackers don't know how little they know about this strange world.1. The investors are what make a startup hub.About a year ago I tried to figure out what you'd need to reproduce\n",
            "Silicon Valley.  I decided the \n",
            "critical ingredients were rich people\n",
            "and nerds—investors and founders.  People are all you need to\n",
            "make technology, and all the other people will move.If I had to narrow that down, I'd say investors are the limiting\n"
          ]
        }
      ]
    },
    {
      "cell_type": "markdown",
      "source": [
        "### B. Unstructured - `partition_text()`"
      ],
      "metadata": {
        "id": "6t3KAAXo5eF0"
      }
    },
    {
      "cell_type": "code",
      "source": [
        "txt_docs = partition_text(filename=\"/content/txt/nike_2023_annual_report.txt\")\n",
        "type(txt_docs), len(txt_docs)"
      ],
      "metadata": {
        "colab": {
          "base_uri": "https://localhost:8080/"
        },
        "id": "bYZxua5C7ZUQ",
        "outputId": "db00dab8-f57e-439b-9b10-54c5d3a3c48c"
      },
      "execution_count": 43,
      "outputs": [
        {
          "output_type": "execute_result",
          "data": {
            "text/plain": [
              "(list, 4321)"
            ]
          },
          "metadata": {},
          "execution_count": 43
        }
      ]
    },
    {
      "cell_type": "code",
      "source": [
        "vars(txt_docs[0])"
      ],
      "metadata": {
        "colab": {
          "base_uri": "https://localhost:8080/"
        },
        "id": "rkUIlozP8t2V",
        "outputId": "fc0445c1-bdd5-4473-add2-2932409ee709"
      },
      "execution_count": 45,
      "outputs": [
        {
          "output_type": "execute_result",
          "data": {
            "text/plain": [
              "{'text': 'FORM 10-K FORM 10-KUNITED STATES',\n",
              " 'embeddings': None,\n",
              " '_element_id': '2f8520361729ee18412fc10b012c0e55',\n",
              " 'metadata': <unstructured.documents.elements.ElementMetadata at 0x798dc46b4d00>}"
            ]
          },
          "metadata": {},
          "execution_count": 45
        }
      ]
    },
    {
      "cell_type": "code",
      "source": [
        "text = \"\\n\".join([doc.text for doc in txt_docs])\n",
        "print(text[:500])"
      ],
      "metadata": {
        "colab": {
          "base_uri": "https://localhost:8080/"
        },
        "id": "aLP6e9eX7pqE",
        "outputId": "b524f761-c555-4271-a7c3-a3b7072374b3"
      },
      "execution_count": 47,
      "outputs": [
        {
          "output_type": "stream",
          "name": "stdout",
          "text": [
            "FORM 10-K FORM 10-KUNITED STATES\n",
            "SECURITIES AND EXCHANGE COMMISSION\n",
            "Washington, D.C. 20549\n",
            "FORM 10-K\n",
            "(Mark One)\n",
            "☑ ANNUAL REPORT PURSUANT TO SECTION 13 OR 15(D) OF THE SECURITIES EXCHANGE ACT OF 1934\n",
            "FOR THE FISCAL YEAR ENDED MAY 31, 2023\n",
            "OR\n",
            "☐TRANSITION REPORT PURSUANT TO SECTION 13 OR 15(D) OF THE SECURITIES EXCHANGE ACT OF 1934\n",
            "FOR THE TRANSITION PERIOD FROM TO .\n",
            "Commission File No. 1-10635\n",
            "NIKE, Inc.\n",
            "(Exact name of Registrant as specified in its charter)\n",
            "Oregon 93-0584541\n",
            "(State or other juris\n"
          ]
        }
      ]
    },
    {
      "cell_type": "markdown",
      "source": [
        "## JSON"
      ],
      "metadata": {
        "id": "YiDE7aaB-nWQ"
      }
    },
    {
      "cell_type": "markdown",
      "source": [
        "### A. LangChain - `JSONLoader()`"
      ],
      "metadata": {
        "id": "pB6WFnRN-rbc"
      }
    },
    {
      "cell_type": "code",
      "source": [
        "jq_schema = \".[].question\""
      ],
      "metadata": {
        "id": "_Tfk6oO3CnzD"
      },
      "execution_count": 75,
      "outputs": []
    },
    {
      "cell_type": "code",
      "source": [
        "json_loader = JSONLoader(\"/content/json/q_a.json\", jq_schema)\n",
        "json_docs = json_loader.load()"
      ],
      "metadata": {
        "id": "yUwq1mdM_T1j"
      },
      "execution_count": 76,
      "outputs": []
    },
    {
      "cell_type": "code",
      "source": [
        "for doc in json_docs[:5]:\n",
        "  print(doc.page_content)\n",
        "  print(doc.metadata)"
      ],
      "metadata": {
        "id": "PjrPjJHHES6w",
        "outputId": "35540c6d-0704-400d-b9f5-ef902825e5c9",
        "colab": {
          "base_uri": "https://localhost:8080/"
        }
      },
      "execution_count": 78,
      "outputs": [
        {
          "output_type": "stream",
          "name": "stdout",
          "text": [
            "What does climate change refer to?\n",
            "{'source': '/content/json/q_a.json', 'seq_num': 1}\n",
            "What encompasses the planet's overall weather patterns?\n",
            "{'source': '/content/json/q_a.json', 'seq_num': 2}\n",
            "What activities have significantly contributed to climate change over the past century?\n",
            "{'source': '/content/json/q_a.json', 'seq_num': 3}\n",
            "How many cycles of glacial advance and retreat have occurred over the past 650,000 years?\n",
            "{'source': '/content/json/q_a.json', 'seq_num': 4}\n",
            "What marked the beginning of the modern climate era and human civilization?\n",
            "{'source': '/content/json/q_a.json', 'seq_num': 5}\n"
          ]
        }
      ]
    },
    {
      "cell_type": "markdown",
      "source": [
        "### Using JSON library"
      ],
      "metadata": {
        "id": "e1i6Y7rJFlyT"
      }
    },
    {
      "cell_type": "code",
      "source": [
        "json_docs = json.load(open('/content/json/ChatEval_raw_messages.json'))\n",
        "type(json_docs), len(json_docs)\n",
        "print(json_docs[0].keys())"
      ],
      "metadata": {
        "id": "GRH8g1rfIBhR",
        "outputId": "5b42592d-12e5-40c1-f6b2-2079703df2a1",
        "colab": {
          "base_uri": "https://localhost:8080/"
        }
      },
      "execution_count": 96,
      "outputs": [
        {
          "output_type": "stream",
          "name": "stdout",
          "text": [
            "dict_keys(['msg_id', 'user', 'text', 'ts', 'reply_to'])\n"
          ]
        }
      ]
    }
  ],
  "metadata": {
    "language_info": {
      "name": "python"
    },
    "colab": {
      "provenance": []
    },
    "kernelspec": {
      "name": "python3",
      "display_name": "Python 3"
    }
  },
  "nbformat": 4,
  "nbformat_minor": 0
}