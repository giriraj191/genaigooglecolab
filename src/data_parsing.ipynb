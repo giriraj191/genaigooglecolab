{
  "cells": [
    {
      "cell_type": "markdown",
      "metadata": {
        "id": "GbQmAZXFHUDh"
      },
      "source": [
        "# Data Parsing | Practice"
      ]
    },
    {
      "cell_type": "markdown",
      "source": [
        "Installing required libraries"
      ],
      "metadata": {
        "id": "BPJCbvjGMMlN"
      }
    },
    {
      "cell_type": "code",
      "source": [
        "!pip install langchain-community\n",
        "!pip install openai\n",
        "!pip install python-dotenv"
      ],
      "metadata": {
        "id": "Ts6z2nuPMMWy"
      },
      "execution_count": null,
      "outputs": []
    },
    {
      "cell_type": "markdown",
      "source": [
        "Importing required libraries"
      ],
      "metadata": {
        "id": "EL4WekPdL9aE"
      }
    },
    {
      "cell_type": "code",
      "source": [
        "import pandas as pd\n",
        "import numpy as np\n",
        "import requests"
      ],
      "metadata": {
        "id": "I3tQwgpML8nu"
      },
      "execution_count": 14,
      "outputs": []
    },
    {
      "cell_type": "code",
      "source": [
        "from itertools import islice\n",
        "from PIL import Image\n",
        "from io import BytesIO\n",
        "from langchain.document_loaders import CSVLoader"
      ],
      "metadata": {
        "id": "OozUFbxpRAav"
      },
      "execution_count": 44,
      "outputs": []
    },
    {
      "cell_type": "markdown",
      "source": [
        "## CSV / EXCEL"
      ],
      "metadata": {
        "id": "hmCUZTkPHXJ7"
      }
    },
    {
      "cell_type": "markdown",
      "source": [
        "### A. pandas - `read_csv()`"
      ],
      "metadata": {
        "id": "zwljeLSMJfY6"
      }
    },
    {
      "cell_type": "code",
      "source": [
        "FILE_PATH = '/content/csv/customers-100.csv'"
      ],
      "metadata": {
        "id": "ycWpbDbSNuKF"
      },
      "execution_count": 18,
      "outputs": []
    },
    {
      "cell_type": "code",
      "source": [
        "df = pd.read_csv(FILE_PATH)\n",
        "df.head(3)"
      ],
      "metadata": {
        "id": "2sKB5DfVO1VS",
        "outputId": "d2048091-17e7-4f98-8f22-75f208a5201f",
        "colab": {
          "base_uri": "https://localhost:8080/",
          "height": 250
        }
      },
      "execution_count": 19,
      "outputs": [
        {
          "output_type": "execute_result",
          "data": {
            "text/plain": [
              "   Index      Customer Id First Name Last Name          Company  \\\n",
              "0      1  DD37Cf93aecA6Dc     Sheryl    Baxter  Rasmussen Group   \n",
              "1      2  1Ef7b82A4CAAD10    Preston    Lozano      Vega-Gentry   \n",
              "2      3  6F94879bDAfE5a6        Roy     Berry    Murillo-Perry   \n",
              "\n",
              "                City              Country          Phone 1  \\\n",
              "0       East Leonard                Chile     229.077.5154   \n",
              "1  East Jimmychester             Djibouti       5153435776   \n",
              "2      Isabelborough  Antigua and Barbuda  +1-539-402-0259   \n",
              "\n",
              "               Phone 2                     Email Subscription Date  \\\n",
              "0     397.884.0519x718  zunigavanessa@smith.info        2020-08-24   \n",
              "1     686-620-1820x944           vmata@colon.com        2021-04-23   \n",
              "2  (496)978-3969x58947       beckycarr@hogan.com        2020-03-25   \n",
              "\n",
              "                      Website  \n",
              "0  http://www.stephenson.com/  \n",
              "1       http://www.hobbs.com/  \n",
              "2    http://www.lawrence.com/  "
            ],
            "text/html": [
              "\n",
              "  <div id=\"df-0b5f1e8b-abd3-4ffe-ba50-6b04e9f2eb74\" class=\"colab-df-container\">\n",
              "    <div>\n",
              "<style scoped>\n",
              "    .dataframe tbody tr th:only-of-type {\n",
              "        vertical-align: middle;\n",
              "    }\n",
              "\n",
              "    .dataframe tbody tr th {\n",
              "        vertical-align: top;\n",
              "    }\n",
              "\n",
              "    .dataframe thead th {\n",
              "        text-align: right;\n",
              "    }\n",
              "</style>\n",
              "<table border=\"1\" class=\"dataframe\">\n",
              "  <thead>\n",
              "    <tr style=\"text-align: right;\">\n",
              "      <th></th>\n",
              "      <th>Index</th>\n",
              "      <th>Customer Id</th>\n",
              "      <th>First Name</th>\n",
              "      <th>Last Name</th>\n",
              "      <th>Company</th>\n",
              "      <th>City</th>\n",
              "      <th>Country</th>\n",
              "      <th>Phone 1</th>\n",
              "      <th>Phone 2</th>\n",
              "      <th>Email</th>\n",
              "      <th>Subscription Date</th>\n",
              "      <th>Website</th>\n",
              "    </tr>\n",
              "  </thead>\n",
              "  <tbody>\n",
              "    <tr>\n",
              "      <th>0</th>\n",
              "      <td>1</td>\n",
              "      <td>DD37Cf93aecA6Dc</td>\n",
              "      <td>Sheryl</td>\n",
              "      <td>Baxter</td>\n",
              "      <td>Rasmussen Group</td>\n",
              "      <td>East Leonard</td>\n",
              "      <td>Chile</td>\n",
              "      <td>229.077.5154</td>\n",
              "      <td>397.884.0519x718</td>\n",
              "      <td>zunigavanessa@smith.info</td>\n",
              "      <td>2020-08-24</td>\n",
              "      <td>http://www.stephenson.com/</td>\n",
              "    </tr>\n",
              "    <tr>\n",
              "      <th>1</th>\n",
              "      <td>2</td>\n",
              "      <td>1Ef7b82A4CAAD10</td>\n",
              "      <td>Preston</td>\n",
              "      <td>Lozano</td>\n",
              "      <td>Vega-Gentry</td>\n",
              "      <td>East Jimmychester</td>\n",
              "      <td>Djibouti</td>\n",
              "      <td>5153435776</td>\n",
              "      <td>686-620-1820x944</td>\n",
              "      <td>vmata@colon.com</td>\n",
              "      <td>2021-04-23</td>\n",
              "      <td>http://www.hobbs.com/</td>\n",
              "    </tr>\n",
              "    <tr>\n",
              "      <th>2</th>\n",
              "      <td>3</td>\n",
              "      <td>6F94879bDAfE5a6</td>\n",
              "      <td>Roy</td>\n",
              "      <td>Berry</td>\n",
              "      <td>Murillo-Perry</td>\n",
              "      <td>Isabelborough</td>\n",
              "      <td>Antigua and Barbuda</td>\n",
              "      <td>+1-539-402-0259</td>\n",
              "      <td>(496)978-3969x58947</td>\n",
              "      <td>beckycarr@hogan.com</td>\n",
              "      <td>2020-03-25</td>\n",
              "      <td>http://www.lawrence.com/</td>\n",
              "    </tr>\n",
              "  </tbody>\n",
              "</table>\n",
              "</div>\n",
              "    <div class=\"colab-df-buttons\">\n",
              "\n",
              "  <div class=\"colab-df-container\">\n",
              "    <button class=\"colab-df-convert\" onclick=\"convertToInteractive('df-0b5f1e8b-abd3-4ffe-ba50-6b04e9f2eb74')\"\n",
              "            title=\"Convert this dataframe to an interactive table.\"\n",
              "            style=\"display:none;\">\n",
              "\n",
              "  <svg xmlns=\"http://www.w3.org/2000/svg\" height=\"24px\" viewBox=\"0 -960 960 960\">\n",
              "    <path d=\"M120-120v-720h720v720H120Zm60-500h600v-160H180v160Zm220 220h160v-160H400v160Zm0 220h160v-160H400v160ZM180-400h160v-160H180v160Zm440 0h160v-160H620v160ZM180-180h160v-160H180v160Zm440 0h160v-160H620v160Z\"/>\n",
              "  </svg>\n",
              "    </button>\n",
              "\n",
              "  <style>\n",
              "    .colab-df-container {\n",
              "      display:flex;\n",
              "      gap: 12px;\n",
              "    }\n",
              "\n",
              "    .colab-df-convert {\n",
              "      background-color: #E8F0FE;\n",
              "      border: none;\n",
              "      border-radius: 50%;\n",
              "      cursor: pointer;\n",
              "      display: none;\n",
              "      fill: #1967D2;\n",
              "      height: 32px;\n",
              "      padding: 0 0 0 0;\n",
              "      width: 32px;\n",
              "    }\n",
              "\n",
              "    .colab-df-convert:hover {\n",
              "      background-color: #E2EBFA;\n",
              "      box-shadow: 0px 1px 2px rgba(60, 64, 67, 0.3), 0px 1px 3px 1px rgba(60, 64, 67, 0.15);\n",
              "      fill: #174EA6;\n",
              "    }\n",
              "\n",
              "    .colab-df-buttons div {\n",
              "      margin-bottom: 4px;\n",
              "    }\n",
              "\n",
              "    [theme=dark] .colab-df-convert {\n",
              "      background-color: #3B4455;\n",
              "      fill: #D2E3FC;\n",
              "    }\n",
              "\n",
              "    [theme=dark] .colab-df-convert:hover {\n",
              "      background-color: #434B5C;\n",
              "      box-shadow: 0px 1px 3px 1px rgba(0, 0, 0, 0.15);\n",
              "      filter: drop-shadow(0px 1px 2px rgba(0, 0, 0, 0.3));\n",
              "      fill: #FFFFFF;\n",
              "    }\n",
              "  </style>\n",
              "\n",
              "    <script>\n",
              "      const buttonEl =\n",
              "        document.querySelector('#df-0b5f1e8b-abd3-4ffe-ba50-6b04e9f2eb74 button.colab-df-convert');\n",
              "      buttonEl.style.display =\n",
              "        google.colab.kernel.accessAllowed ? 'block' : 'none';\n",
              "\n",
              "      async function convertToInteractive(key) {\n",
              "        const element = document.querySelector('#df-0b5f1e8b-abd3-4ffe-ba50-6b04e9f2eb74');\n",
              "        const dataTable =\n",
              "          await google.colab.kernel.invokeFunction('convertToInteractive',\n",
              "                                                    [key], {});\n",
              "        if (!dataTable) return;\n",
              "\n",
              "        const docLinkHtml = 'Like what you see? Visit the ' +\n",
              "          '<a target=\"_blank\" href=https://colab.research.google.com/notebooks/data_table.ipynb>data table notebook</a>'\n",
              "          + ' to learn more about interactive tables.';\n",
              "        element.innerHTML = '';\n",
              "        dataTable['output_type'] = 'display_data';\n",
              "        await google.colab.output.renderOutput(dataTable, element);\n",
              "        const docLink = document.createElement('div');\n",
              "        docLink.innerHTML = docLinkHtml;\n",
              "        element.appendChild(docLink);\n",
              "      }\n",
              "    </script>\n",
              "  </div>\n",
              "\n",
              "\n",
              "<div id=\"df-f908886b-d0f9-4df6-ba0a-fe426972e2b9\">\n",
              "  <button class=\"colab-df-quickchart\" onclick=\"quickchart('df-f908886b-d0f9-4df6-ba0a-fe426972e2b9')\"\n",
              "            title=\"Suggest charts\"\n",
              "            style=\"display:none;\">\n",
              "\n",
              "<svg xmlns=\"http://www.w3.org/2000/svg\" height=\"24px\"viewBox=\"0 0 24 24\"\n",
              "     width=\"24px\">\n",
              "    <g>\n",
              "        <path d=\"M19 3H5c-1.1 0-2 .9-2 2v14c0 1.1.9 2 2 2h14c1.1 0 2-.9 2-2V5c0-1.1-.9-2-2-2zM9 17H7v-7h2v7zm4 0h-2V7h2v10zm4 0h-2v-4h2v4z\"/>\n",
              "    </g>\n",
              "</svg>\n",
              "  </button>\n",
              "\n",
              "<style>\n",
              "  .colab-df-quickchart {\n",
              "      --bg-color: #E8F0FE;\n",
              "      --fill-color: #1967D2;\n",
              "      --hover-bg-color: #E2EBFA;\n",
              "      --hover-fill-color: #174EA6;\n",
              "      --disabled-fill-color: #AAA;\n",
              "      --disabled-bg-color: #DDD;\n",
              "  }\n",
              "\n",
              "  [theme=dark] .colab-df-quickchart {\n",
              "      --bg-color: #3B4455;\n",
              "      --fill-color: #D2E3FC;\n",
              "      --hover-bg-color: #434B5C;\n",
              "      --hover-fill-color: #FFFFFF;\n",
              "      --disabled-bg-color: #3B4455;\n",
              "      --disabled-fill-color: #666;\n",
              "  }\n",
              "\n",
              "  .colab-df-quickchart {\n",
              "    background-color: var(--bg-color);\n",
              "    border: none;\n",
              "    border-radius: 50%;\n",
              "    cursor: pointer;\n",
              "    display: none;\n",
              "    fill: var(--fill-color);\n",
              "    height: 32px;\n",
              "    padding: 0;\n",
              "    width: 32px;\n",
              "  }\n",
              "\n",
              "  .colab-df-quickchart:hover {\n",
              "    background-color: var(--hover-bg-color);\n",
              "    box-shadow: 0 1px 2px rgba(60, 64, 67, 0.3), 0 1px 3px 1px rgba(60, 64, 67, 0.15);\n",
              "    fill: var(--button-hover-fill-color);\n",
              "  }\n",
              "\n",
              "  .colab-df-quickchart-complete:disabled,\n",
              "  .colab-df-quickchart-complete:disabled:hover {\n",
              "    background-color: var(--disabled-bg-color);\n",
              "    fill: var(--disabled-fill-color);\n",
              "    box-shadow: none;\n",
              "  }\n",
              "\n",
              "  .colab-df-spinner {\n",
              "    border: 2px solid var(--fill-color);\n",
              "    border-color: transparent;\n",
              "    border-bottom-color: var(--fill-color);\n",
              "    animation:\n",
              "      spin 1s steps(1) infinite;\n",
              "  }\n",
              "\n",
              "  @keyframes spin {\n",
              "    0% {\n",
              "      border-color: transparent;\n",
              "      border-bottom-color: var(--fill-color);\n",
              "      border-left-color: var(--fill-color);\n",
              "    }\n",
              "    20% {\n",
              "      border-color: transparent;\n",
              "      border-left-color: var(--fill-color);\n",
              "      border-top-color: var(--fill-color);\n",
              "    }\n",
              "    30% {\n",
              "      border-color: transparent;\n",
              "      border-left-color: var(--fill-color);\n",
              "      border-top-color: var(--fill-color);\n",
              "      border-right-color: var(--fill-color);\n",
              "    }\n",
              "    40% {\n",
              "      border-color: transparent;\n",
              "      border-right-color: var(--fill-color);\n",
              "      border-top-color: var(--fill-color);\n",
              "    }\n",
              "    60% {\n",
              "      border-color: transparent;\n",
              "      border-right-color: var(--fill-color);\n",
              "    }\n",
              "    80% {\n",
              "      border-color: transparent;\n",
              "      border-right-color: var(--fill-color);\n",
              "      border-bottom-color: var(--fill-color);\n",
              "    }\n",
              "    90% {\n",
              "      border-color: transparent;\n",
              "      border-bottom-color: var(--fill-color);\n",
              "    }\n",
              "  }\n",
              "</style>\n",
              "\n",
              "  <script>\n",
              "    async function quickchart(key) {\n",
              "      const quickchartButtonEl =\n",
              "        document.querySelector('#' + key + ' button');\n",
              "      quickchartButtonEl.disabled = true;  // To prevent multiple clicks.\n",
              "      quickchartButtonEl.classList.add('colab-df-spinner');\n",
              "      try {\n",
              "        const charts = await google.colab.kernel.invokeFunction(\n",
              "            'suggestCharts', [key], {});\n",
              "      } catch (error) {\n",
              "        console.error('Error during call to suggestCharts:', error);\n",
              "      }\n",
              "      quickchartButtonEl.classList.remove('colab-df-spinner');\n",
              "      quickchartButtonEl.classList.add('colab-df-quickchart-complete');\n",
              "    }\n",
              "    (() => {\n",
              "      let quickchartButtonEl =\n",
              "        document.querySelector('#df-f908886b-d0f9-4df6-ba0a-fe426972e2b9 button');\n",
              "      quickchartButtonEl.style.display =\n",
              "        google.colab.kernel.accessAllowed ? 'block' : 'none';\n",
              "    })();\n",
              "  </script>\n",
              "</div>\n",
              "\n",
              "    </div>\n",
              "  </div>\n"
            ],
            "application/vnd.google.colaboratory.intrinsic+json": {
              "type": "dataframe",
              "variable_name": "df",
              "summary": "{\n  \"name\": \"df\",\n  \"rows\": 100,\n  \"fields\": [\n    {\n      \"column\": \"Index\",\n      \"properties\": {\n        \"dtype\": \"number\",\n        \"std\": 29,\n        \"min\": 1,\n        \"max\": 100,\n        \"num_unique_values\": 100,\n        \"samples\": [\n          84,\n          54,\n          71\n        ],\n        \"semantic_type\": \"\",\n        \"description\": \"\"\n      }\n    },\n    {\n      \"column\": \"Customer Id\",\n      \"properties\": {\n        \"dtype\": \"string\",\n        \"num_unique_values\": 100,\n        \"samples\": [\n          \"78C06E9b6B3DF20\",\n          \"c09952De6Cda8aA\",\n          \"CBCd2Ac8E3eBDF9\"\n        ],\n        \"semantic_type\": \"\",\n        \"description\": \"\"\n      }\n    },\n    {\n      \"column\": \"First Name\",\n      \"properties\": {\n        \"dtype\": \"string\",\n        \"num_unique_values\": 93,\n        \"samples\": [\n          \"Luis\",\n          \"Shane\",\n          \"Kathy\"\n        ],\n        \"semantic_type\": \"\",\n        \"description\": \"\"\n      }\n    },\n    {\n      \"column\": \"Last Name\",\n      \"properties\": {\n        \"dtype\": \"string\",\n        \"num_unique_values\": 97,\n        \"samples\": [\n          \"Hutchinson\",\n          \"Dunn\",\n          \"Atkinson\"\n        ],\n        \"semantic_type\": \"\",\n        \"description\": \"\"\n      }\n    },\n    {\n      \"column\": \"Company\",\n      \"properties\": {\n        \"dtype\": \"string\",\n        \"num_unique_values\": 99,\n        \"samples\": [\n          \"Caldwell Group\",\n          \"Monroe PLC\",\n          \"Ware, Burns and Oneal\"\n        ],\n        \"semantic_type\": \"\",\n        \"description\": \"\"\n      }\n    },\n    {\n      \"column\": \"City\",\n      \"properties\": {\n        \"dtype\": \"string\",\n        \"num_unique_values\": 100,\n        \"samples\": [\n          \"South Joshuashire\",\n          \"New Deborah\",\n          \"Nicolasfort\"\n        ],\n        \"semantic_type\": \"\",\n        \"description\": \"\"\n      }\n    },\n    {\n      \"column\": \"Country\",\n      \"properties\": {\n        \"dtype\": \"string\",\n        \"num_unique_values\": 85,\n        \"samples\": [\n          \"Bhutan\",\n          \"Chile\",\n          \"Dominica\"\n        ],\n        \"semantic_type\": \"\",\n        \"description\": \"\"\n      }\n    },\n    {\n      \"column\": \"Phone 1\",\n      \"properties\": {\n        \"dtype\": \"string\",\n        \"num_unique_values\": 100,\n        \"samples\": [\n          \"8275702958\",\n          \"001-622-948-3641x24810\",\n          \"078-900-4760x76668\"\n        ],\n        \"semantic_type\": \"\",\n        \"description\": \"\"\n      }\n    },\n    {\n      \"column\": \"Phone 2\",\n      \"properties\": {\n        \"dtype\": \"string\",\n        \"num_unique_values\": 100,\n        \"samples\": [\n          \"(804)842-4715\",\n          \"001-731-168-2893x8891\",\n          \"414-112-8700x68751\"\n        ],\n        \"semantic_type\": \"\",\n        \"description\": \"\"\n      }\n    },\n    {\n      \"column\": \"Email\",\n      \"properties\": {\n        \"dtype\": \"string\",\n        \"num_unique_values\": 100,\n        \"samples\": [\n          \"justinwalters@jimenez.com\",\n          \"clinton85@colon-arias.org\",\n          \"lee48@manning.com\"\n        ],\n        \"semantic_type\": \"\",\n        \"description\": \"\"\n      }\n    },\n    {\n      \"column\": \"Subscription Date\",\n      \"properties\": {\n        \"dtype\": \"object\",\n        \"num_unique_values\": 96,\n        \"samples\": [\n          \"2020-02-18\",\n          \"2021-09-12\",\n          \"2020-10-21\"\n        ],\n        \"semantic_type\": \"\",\n        \"description\": \"\"\n      }\n    },\n    {\n      \"column\": \"Website\",\n      \"properties\": {\n        \"dtype\": \"string\",\n        \"num_unique_values\": 100,\n        \"samples\": [\n          \"http://www.garner-oliver.com/\",\n          \"https://kim.com/\",\n          \"https://ramsey.org/\"\n        ],\n        \"semantic_type\": \"\",\n        \"description\": \"\"\n      }\n    }\n  ]\n}"
            }
          },
          "metadata": {},
          "execution_count": 19
        }
      ]
    },
    {
      "cell_type": "code",
      "source": [
        "URL = df.Website[2]\n",
        "\n",
        "try:\n",
        "  response = requests.get(URL)\n",
        "  print(response)\n",
        "except:\n",
        "  print(\"Failed to get response!\")"
      ],
      "metadata": {
        "id": "9kzXiUkzO4oj",
        "outputId": "cfa1a425-b7ce-489f-ebfe-bb74f65878c6",
        "colab": {
          "base_uri": "https://localhost:8080/"
        }
      },
      "execution_count": 20,
      "outputs": [
        {
          "output_type": "stream",
          "name": "stdout",
          "text": [
            "<Response [200]>\n"
          ]
        }
      ]
    },
    {
      "cell_type": "markdown",
      "source": [
        "### B. LangChain - `CSVLoader()`"
      ],
      "metadata": {
        "id": "BZISGGeVP7q-"
      }
    },
    {
      "cell_type": "code",
      "source": [
        "FILE_PATH = '/content/csv/imdb_top_1000.csv'"
      ],
      "metadata": {
        "id": "SC6rJVcMRkRO"
      },
      "execution_count": 21,
      "outputs": []
    },
    {
      "cell_type": "code",
      "source": [
        "loader = CSVLoader(FILE_PATH)\n",
        "docs = loader.load()\n",
        "print(type(docs))\n",
        "print(len(docs))\n",
        "\n",
        "for doc in docs[:15]:\n",
        "  print(doc.page_content[:15]) # all column-value as single line text\n",
        "  print(doc.metadata)"
      ],
      "metadata": {
        "id": "w0AYFibKPVml",
        "outputId": "7274d191-5783-443b-cdd8-6bd8c9496d07",
        "colab": {
          "base_uri": "https://localhost:8080/"
        }
      },
      "execution_count": 30,
      "outputs": [
        {
          "output_type": "stream",
          "name": "stdout",
          "text": [
            "<class 'list'>\n",
            "1000\n",
            "Poster_Link: ht\n",
            "{'source': '/content/csv/imdb_top_1000.csv', 'row': 0}\n",
            "Poster_Link: ht\n",
            "{'source': '/content/csv/imdb_top_1000.csv', 'row': 1}\n",
            "Poster_Link: ht\n",
            "{'source': '/content/csv/imdb_top_1000.csv', 'row': 2}\n",
            "Poster_Link: ht\n",
            "{'source': '/content/csv/imdb_top_1000.csv', 'row': 3}\n",
            "Poster_Link: ht\n",
            "{'source': '/content/csv/imdb_top_1000.csv', 'row': 4}\n",
            "Poster_Link: ht\n",
            "{'source': '/content/csv/imdb_top_1000.csv', 'row': 5}\n",
            "Poster_Link: ht\n",
            "{'source': '/content/csv/imdb_top_1000.csv', 'row': 6}\n",
            "Poster_Link: ht\n",
            "{'source': '/content/csv/imdb_top_1000.csv', 'row': 7}\n",
            "Poster_Link: ht\n",
            "{'source': '/content/csv/imdb_top_1000.csv', 'row': 8}\n",
            "Poster_Link: ht\n",
            "{'source': '/content/csv/imdb_top_1000.csv', 'row': 9}\n",
            "Poster_Link: ht\n",
            "{'source': '/content/csv/imdb_top_1000.csv', 'row': 10}\n",
            "Poster_Link: ht\n",
            "{'source': '/content/csv/imdb_top_1000.csv', 'row': 11}\n",
            "Poster_Link: ht\n",
            "{'source': '/content/csv/imdb_top_1000.csv', 'row': 12}\n",
            "Poster_Link: ht\n",
            "{'source': '/content/csv/imdb_top_1000.csv', 'row': 13}\n",
            "Poster_Link: ht\n",
            "{'source': '/content/csv/imdb_top_1000.csv', 'row': 14}\n"
          ]
        }
      ]
    },
    {
      "cell_type": "markdown",
      "source": [
        "**Using `lazy_loader()` - returns a generator, saves memory : )**"
      ],
      "metadata": {
        "id": "S-eWVTIhR3wt"
      }
    },
    {
      "cell_type": "code",
      "source": [
        "loader = CSVLoader(\n",
        "              FILE_PATH,\n",
        "              csv_args = {'delimiter': ','}\n",
        "            )\n",
        "docs = loader.lazy_load()"
      ],
      "metadata": {
        "id": "_BLga9piTyaa"
      },
      "execution_count": 32,
      "outputs": []
    },
    {
      "cell_type": "code",
      "source": [
        "print(type(docs))\n",
        "\n",
        "for i, _ in enumerate(islice(docs, 15)):\n",
        "  doc = next(docs) # because docs is a generator object\n",
        "  print(doc.page_content[:15]) # all column-value as single line text\n",
        "  print(doc.metadata)"
      ],
      "metadata": {
        "id": "lgHhf6sYT62e",
        "outputId": "41a88bdd-7dee-4f70-c77e-27514f736041",
        "colab": {
          "base_uri": "https://localhost:8080/"
        }
      },
      "execution_count": 40,
      "outputs": [
        {
          "output_type": "stream",
          "name": "stdout",
          "text": [
            "<class 'generator'>\n",
            "Poster_Link: ht\n",
            "{'source': '/content/csv/imdb_top_1000.csv', 'row': 92}\n",
            "Poster_Link: ht\n",
            "{'source': '/content/csv/imdb_top_1000.csv', 'row': 94}\n",
            "Poster_Link: ht\n",
            "{'source': '/content/csv/imdb_top_1000.csv', 'row': 96}\n",
            "Poster_Link: ht\n",
            "{'source': '/content/csv/imdb_top_1000.csv', 'row': 98}\n",
            "Poster_Link: ht\n",
            "{'source': '/content/csv/imdb_top_1000.csv', 'row': 100}\n",
            "Poster_Link: ht\n",
            "{'source': '/content/csv/imdb_top_1000.csv', 'row': 102}\n",
            "Poster_Link: ht\n",
            "{'source': '/content/csv/imdb_top_1000.csv', 'row': 104}\n",
            "Poster_Link: ht\n",
            "{'source': '/content/csv/imdb_top_1000.csv', 'row': 106}\n",
            "Poster_Link: ht\n",
            "{'source': '/content/csv/imdb_top_1000.csv', 'row': 108}\n",
            "Poster_Link: ht\n",
            "{'source': '/content/csv/imdb_top_1000.csv', 'row': 110}\n",
            "Poster_Link: ht\n",
            "{'source': '/content/csv/imdb_top_1000.csv', 'row': 112}\n",
            "Poster_Link: ht\n",
            "{'source': '/content/csv/imdb_top_1000.csv', 'row': 114}\n",
            "Poster_Link: ht\n",
            "{'source': '/content/csv/imdb_top_1000.csv', 'row': 116}\n",
            "Poster_Link: ht\n",
            "{'source': '/content/csv/imdb_top_1000.csv', 'row': 118}\n",
            "Poster_Link: ht\n",
            "{'source': '/content/csv/imdb_top_1000.csv', 'row': 120}\n"
          ]
        }
      ]
    },
    {
      "cell_type": "markdown",
      "source": [
        "**Showing Images from Links**   "
      ],
      "metadata": {
        "id": "x9RJk1HVVIo7"
      }
    },
    {
      "cell_type": "code",
      "source": [
        "loader = CSVLoader(FILE_PATH)\n",
        "docs = loader.load()"
      ],
      "metadata": {
        "id": "syiEYwHqaIJ4"
      },
      "execution_count": 41,
      "outputs": []
    },
    {
      "cell_type": "code",
      "source": [
        "column_name = \"Poster_Link\"  # Replace with your column name\n",
        "cnt = 1\n",
        "for doc in docs[:5]:\n",
        "    lines = doc.page_content.split(\"\\n\")\n",
        "    for line in lines:\n",
        "        if line.startswith(f\"{column_name}:\"):\n",
        "            image_link = line.split(\": \", 1)[1].strip()  # Extract the value and strip spaces\n",
        "            try:\n",
        "                response = requests.get(image_link)\n",
        "                if response.status_code != 200:\n",
        "                    print(f\"HTTP Error {response.status_code} for {image_link}\")\n",
        "                    continue\n",
        "                if 'image' not in response.headers.get('Content-Type', ''):\n",
        "                    print(f\"Not an image URL: {image_link}\")\n",
        "                    continue\n",
        "                image = Image.open(BytesIO(response.content))\n",
        "\n",
        "                # image.show() # not working so, saving instead\n",
        "                # image.save(f\"{image_link.split('/')[-1]}.jpg\")\n",
        "\n",
        "                image.save(f\"{cnt}.jpg\")\n",
        "                cnt += 1\n",
        "\n",
        "            except Exception as e:\n",
        "                print(f\"Failed to load image: {image_link}, Error: {e}\")\n"
      ],
      "metadata": {
        "id": "wG_JyQtrbaE2"
      },
      "execution_count": 47,
      "outputs": []
    },
    {
      "cell_type": "code",
      "source": [],
      "metadata": {
        "id": "hkVBSt2HbevN"
      },
      "execution_count": null,
      "outputs": []
    }
  ],
  "metadata": {
    "language_info": {
      "name": "python"
    },
    "colab": {
      "provenance": []
    },
    "kernelspec": {
      "name": "python3",
      "display_name": "Python 3"
    }
  },
  "nbformat": 4,
  "nbformat_minor": 0
}