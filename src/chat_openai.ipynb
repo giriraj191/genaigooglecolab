{
  "cells": [
    {
      "cell_type": "markdown",
      "source": [
        "# OpenAI Chat | Testing"
      ],
      "metadata": {
        "id": "XBoYFDS9m1f8"
      }
    },
    {
      "cell_type": "markdown",
      "source": [
        "Importing basic libraries"
      ],
      "metadata": {
        "id": "9mndZ2kpnJfX"
      }
    },
    {
      "cell_type": "code",
      "source": [
        "import pandas as pd\n",
        "import numpy as np\n",
        "import sys"
      ],
      "metadata": {
        "id": "3btGBOzDLhYN"
      },
      "execution_count": null,
      "outputs": []
    },
    {
      "cell_type": "markdown",
      "source": [
        "Importing OpenAI libraries"
      ],
      "metadata": {
        "id": "HuIxrR_DLvHP"
      }
    },
    {
      "cell_type": "code",
      "source": [
        "!pip install python-dotenv"
      ],
      "metadata": {
        "id": "2riE3wsppfJ1"
      },
      "execution_count": null,
      "outputs": []
    },
    {
      "cell_type": "code",
      "source": [
        "import openai\n",
        "import os\n",
        "from google.colab import userdata"
      ],
      "metadata": {
        "id": "AxW3u98BoUK_"
      },
      "execution_count": null,
      "outputs": []
    },
    {
      "cell_type": "markdown",
      "source": [
        "Loading OpenAI API key"
      ],
      "metadata": {
        "id": "88Ahi3KsqAV4"
      }
    },
    {
      "cell_type": "code",
      "source": [
        "OPENAI_API_KEY = userdata.get('OPENAI_API_KEY')\n",
        "openai.api_key = os.get_env('OPENAI_API_KEY')"
      ],
      "metadata": {
        "id": "V_vdy8_QKxh3"
      },
      "execution_count": null,
      "outputs": []
    },
    {
      "cell_type": "markdown",
      "source": [
        "Basic Chat App | Model as Assistant"
      ],
      "metadata": {
        "id": "yNC1U3SVqISz"
      }
    },
    {
      "cell_type": "code",
      "source": [
        "def get_chatgpt_response(prompt):\n",
        "    try:\n",
        "        response = openai.ChatCompletion.create(\n",
        "            model=\"gpt-3.5-turbo\",\n",
        "            messages=[\n",
        "                {\"role\": \"system\", \"content\": \"You are a helpful assistant.\"},\n",
        "                {\"role\": \"user\", \"content\": prompt}\n",
        "            ],\n",
        "            max_tokens=150,\n",
        "            temperature=0.7\n",
        "        )\n",
        "        return response['choices'][0]['message']['content'].strip()\n",
        "\n",
        "    except Exception as e:\n",
        "        return f\"An error occurred: {str(e)}\""
      ],
      "metadata": {
        "id": "nt6J2jQIoojR"
      },
      "execution_count": null,
      "outputs": []
    },
    {
      "cell_type": "markdown",
      "source": [
        "Testing Chat App"
      ],
      "metadata": {
        "id": "zQ1_At8IqWxh"
      }
    },
    {
      "cell_type": "code",
      "source": [
        "user_prompt = input(\"Enter your prompt: \")\n",
        "print(\"ChatGPT's response:\")\n",
        "print(get_chatgpt_response(user_prompt))"
      ],
      "metadata": {
        "id": "fYsBnWGUpvVT"
      },
      "execution_count": null,
      "outputs": []
    }
  ],
  "metadata": {
    "language_info": {
      "name": "python"
    },
    "colab": {
      "provenance": []
    },
    "kernelspec": {
      "name": "python3",
      "display_name": "Python 3"
    }
  },
  "nbformat": 4,
  "nbformat_minor": 0
}